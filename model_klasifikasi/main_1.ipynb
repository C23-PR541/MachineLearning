{
 "cells": [
  {
   "cell_type": "markdown",
   "metadata": {
    "id": "0MqdvFhq7OcX"
   },
   "source": [
    "## Import Libraries"
   ]
  },
  {
   "cell_type": "code",
   "execution_count": 17,
   "metadata": {
    "vscode": {
     "languageId": "plaintext"
    }
   },
   "outputs": [],
   "source": [
    "import tensorflow as tf\n",
    "import numpy as np\n",
    "import pandas as pd\n",
    "import seaborn as sns\n",
    "from tensorflow.keras.layers import IntegerLookup\n",
    "from tensorflow.keras.layers import Normalization\n",
    "from tensorflow.keras.layers import StringLookup\n",
    "import tensorflow.keras as keras"
   ]
  },
  {
   "cell_type": "markdown",
   "metadata": {},
   "source": [
    "## Load The Data to DataFrame"
   ]
  },
  {
   "cell_type": "code",
   "execution_count": 4,
   "metadata": {},
   "outputs": [],
   "source": [
    "df = pd.read_csv('cleaned_data.csv')"
   ]
  },
  {
   "cell_type": "markdown",
   "metadata": {},
   "source": [
    "## Check the Columns' Data Type"
   ]
  },
  {
   "cell_type": "code",
   "execution_count": 5,
   "metadata": {},
   "outputs": [
    {
     "data": {
      "text/plain": [
       "gender                int64\n",
       "age                   int64\n",
       "workout_experience    int64\n",
       "workout_time          int64\n",
       "weight                int64\n",
       "height                int64\n",
       "fitness_goal          int64\n",
       "dtype: object"
      ]
     },
     "execution_count": 5,
     "metadata": {},
     "output_type": "execute_result"
    }
   ],
   "source": [
    "df.dtypes"
   ]
  },
  {
   "cell_type": "markdown",
   "metadata": {},
   "source": [
    "## Split Data for Training and Validation\n"
   ]
  },
  {
   "cell_type": "code",
   "execution_count": 8,
   "metadata": {},
   "outputs": [],
   "source": [
    "from sklearn.model_selection import train_test_split\n",
    "\n",
    "train_df, val_df = train_test_split(df, test_size = 0.2, random_state=42)"
   ]
  },
  {
   "cell_type": "markdown",
   "metadata": {},
   "source": [
    "## The training and validation set size"
   ]
  },
  {
   "cell_type": "code",
   "execution_count": 9,
   "metadata": {},
   "outputs": [
    {
     "name": "stdout",
     "output_type": "stream",
     "text": [
      "training :  723  | validation :  181\n"
     ]
    }
   ],
   "source": [
    "print('training : ',train_df.shape[0], \" | validation : \", val_df.shape[0])"
   ]
  },
  {
   "cell_type": "markdown",
   "metadata": {},
   "source": [
    "## Function Transform Dataframe into Tensor Dataset"
   ]
  },
  {
   "cell_type": "code",
   "execution_count": 10,
   "metadata": {},
   "outputs": [],
   "source": [
    "def dataframe_transform(df, label):\n",
    "\n",
    "    labels = df.pop(label)\n",
    "    ds = tf.data.Dataset.from_tensor_slices((dict(df), labels))\n",
    "    ds = ds.shuffle(buffer_size = len(df))\n",
    "\n",
    "    return ds"
   ]
  },
  {
   "cell_type": "markdown",
   "metadata": {},
   "source": [
    "## Transform Training and Validation Dataframe into Tensor Dataset"
   ]
  },
  {
   "cell_type": "code",
   "execution_count": 11,
   "metadata": {},
   "outputs": [],
   "source": [
    "train_ds = dataframe_transform(train_df, 'fitness_goal')\n",
    "val_ds   = dataframe_transform(val_df, 'fitness_goal')"
   ]
  },
  {
   "cell_type": "markdown",
   "metadata": {},
   "source": [
    "## Batching the Dataset"
   ]
  },
  {
   "cell_type": "code",
   "execution_count": 12,
   "metadata": {},
   "outputs": [],
   "source": [
    "train_ds = train_ds.batch(20)\n",
    "val_ds   = val_ds.batch(20)"
   ]
  },
  {
   "cell_type": "markdown",
   "metadata": {},
   "source": [
    "## Function to Encode Categorical Column"
   ]
  },
  {
   "cell_type": "code",
   "execution_count": 14,
   "metadata": {},
   "outputs": [],
   "source": [
    "def encode_categorical_feature(column, name, dataset):\n",
    "\n",
    "    lookup_class = IntegerLookup\n",
    "    lookup = lookup_class(output_mode = \"binary\")\n",
    "\n",
    "    column_ds = dataset.map(lambda x, y: x[name])\n",
    "    column_ds = column_ds.map(lambda x: tf.expand_dims(x, -1))\n",
    "\n",
    "    lookup.adapt(column_ds)\n",
    "    encoded_column = lookup(column)\n",
    "\n",
    "    return encoded_column"
   ]
  },
  {
   "cell_type": "markdown",
   "metadata": {},
   "source": [
    "## Function to Encode Numerical Column"
   ]
  },
  {
   "cell_type": "code",
   "execution_count": 15,
   "metadata": {},
   "outputs": [],
   "source": [
    "def encode_numerical_feature(column, name, dataset):\n",
    "\n",
    "    normalizer = Normalization()\n",
    "    column_ds = dataset.map(lambda x, y: x[name])\n",
    "    column_ds = column_ds.map(lambda x: tf.expand_dims(x, -1))\n",
    "\n",
    "    normalizer.adapt(column_ds)\n",
    "    encoded_column = normalizer(column)\n",
    "\n",
    "    return encoded_column"
   ]
  },
  {
   "cell_type": "markdown",
   "metadata": {},
   "source": [
    "## Creating Tensor object from the column"
   ]
  },
  {
   "cell_type": "code",
   "execution_count": 18,
   "metadata": {},
   "outputs": [],
   "source": [
    "gender = keras.Input(shape = (1,), name = 'gender', dtype = 'int64')\n",
    "age    = keras.Input(shape = (1,), name = 'age')\n",
    "workout_experience = keras.Input(shape = (1, ), name = 'workout_experience')\n",
    "workout_time = keras.Input(shape = (1,), name = 'workout_time')\n",
    "weight       = keras.Input(shape = (1,), name = 'weight')\n",
    "height       = keras.Input(shape = (1,), name = 'height')"
   ]
  },
  {
   "cell_type": "markdown",
   "metadata": {},
   "source": [
    "## Encode columns based on their data type"
   ]
  },
  {
   "cell_type": "code",
   "execution_count": 20,
   "metadata": {},
   "outputs": [],
   "source": [
    "gender_encoded = encode_categorical_feature(gender, 'gender', train_ds)\n",
    "age_encoded = encode_numerical_feature(age, 'age', train_ds)\n",
    "workout_experience_encoded = encode_numerical_feature(workout_experience, 'workout_experience', train_ds)\n",
    "workout_time_encoded = encode_numerical_feature(workout_time, 'workout_time', train_ds)\n",
    "weight_encoded = encode_numerical_feature(weight, 'weight', train_ds)\n",
    "height_encoded = encode_numerical_feature(height, 'height', train_ds)\n"
   ]
  },
  {
   "cell_type": "code",
   "execution_count": null,
   "metadata": {},
   "outputs": [],
   "source": []
  }
 ],
 "metadata": {
  "colab": {
   "authorship_tag": "ABX9TyOpKk+85qYG42HGf+43aaAb",
   "provenance": []
  },
  "kernelspec": {
   "display_name": "Python 3 (ipykernel)",
   "language": "python",
   "name": "python3"
  },
  "language_info": {
   "codemirror_mode": {
    "name": "ipython",
    "version": 3
   },
   "file_extension": ".py",
   "mimetype": "text/x-python",
   "name": "python",
   "nbconvert_exporter": "python",
   "pygments_lexer": "ipython3",
   "version": "3.9.4"
  }
 },
 "nbformat": 4,
 "nbformat_minor": 1
}
