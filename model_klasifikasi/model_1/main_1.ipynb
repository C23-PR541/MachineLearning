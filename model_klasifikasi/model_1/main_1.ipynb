{
 "cells": [
  {
   "cell_type": "markdown",
   "metadata": {},
   "source": [
    "# Model using Neural Network"
   ]
  },
  {
   "cell_type": "markdown",
   "metadata": {
    "id": "0MqdvFhq7OcX"
   },
   "source": [
    "## Import Libraries"
   ]
  },
  {
   "cell_type": "code",
   "execution_count": 1,
   "metadata": {
    "vscode": {
     "languageId": "plaintext"
    }
   },
   "outputs": [],
   "source": [
    "import tensorflow as tf\n",
    "import numpy as np\n",
    "import pandas as pd\n",
    "import seaborn as sns\n",
    "from tensorflow.keras.layers import IntegerLookup\n",
    "from tensorflow.keras.layers import Normalization\n",
    "from tensorflow.keras.layers import StringLookup\n",
    "import tensorflow.keras as keras"
   ]
  },
  {
   "cell_type": "markdown",
   "metadata": {},
   "source": [
    "## Load The Data to DataFrame"
   ]
  },
  {
   "cell_type": "code",
   "execution_count": 2,
   "metadata": {},
   "outputs": [],
   "source": [
    "df = pd.read_csv('cleaned_data_v2.csv')"
   ]
  },
  {
   "cell_type": "markdown",
   "metadata": {},
   "source": [
    "## Check the Columns' Data Type"
   ]
  },
  {
   "cell_type": "code",
   "execution_count": 3,
   "metadata": {},
   "outputs": [
    {
     "data": {
      "text/plain": [
       "Index(['gender', 'age', 'workout_experience', 'workout_time', 'weight',\n",
       "       'height', 'bmi', 'fitness_goal'],\n",
       "      dtype='object')"
      ]
     },
     "execution_count": 3,
     "metadata": {},
     "output_type": "execute_result"
    }
   ],
   "source": [
    "df.columns"
   ]
  },
  {
   "cell_type": "code",
   "execution_count": 6,
   "metadata": {},
   "outputs": [],
   "source": [
    "from sklearn.utils import shuffle\n",
    "\n",
    "\n",
    "shuffled_df = shuffle(df, random_state = 60)"
   ]
  },
  {
   "cell_type": "markdown",
   "metadata": {},
   "source": [
    "## Split Data for Training and Validation\n"
   ]
  },
  {
   "cell_type": "code",
   "execution_count": 7,
   "metadata": {},
   "outputs": [],
   "source": [
    "from sklearn.model_selection import train_test_split\n",
    "\n",
    "train_df, val_df = train_test_split(shuffled_df, test_size = 0.2, random_state = 42)"
   ]
  },
  {
   "cell_type": "markdown",
   "metadata": {},
   "source": [
    "## The training and validation set size"
   ]
  },
  {
   "cell_type": "code",
   "execution_count": 8,
   "metadata": {},
   "outputs": [
    {
     "name": "stdout",
     "output_type": "stream",
     "text": [
      "training :  723  | validation :  181\n"
     ]
    }
   ],
   "source": [
    "print('training : ', train_df.shape[0], \" | validation : \", val_df.shape[0])"
   ]
  },
  {
   "cell_type": "markdown",
   "metadata": {},
   "source": [
    "\n",
    "## Function Transform Dataframe into Tensor Dataset"
   ]
  },
  {
   "cell_type": "code",
   "execution_count": 9,
   "metadata": {},
   "outputs": [],
   "source": [
    "def dataframe_transform(df, label):\n",
    "\n",
    "    labels = df.pop(label)\n",
    "    ds = tf.data.Dataset.from_tensor_slices((dict(df), labels))\n",
    "    ds = ds.shuffle(buffer_size = len(df))\n",
    "\n",
    "    return ds"
   ]
  },
  {
   "cell_type": "markdown",
   "metadata": {},
   "source": [
    "\n",
    "## Transform Training and Validation Dataframe into Tensor Dataset"
   ]
  },
  {
   "cell_type": "code",
   "execution_count": 10,
   "metadata": {},
   "outputs": [],
   "source": [
    "train_ds = dataframe_transform(train_df, 'fitness_goal')\n",
    "val_ds   = dataframe_transform(val_df, 'fitness_goal')"
   ]
  },
  {
   "cell_type": "markdown",
   "metadata": {},
   "source": [
    "## Batching the Dataset"
   ]
  },
  {
   "cell_type": "code",
   "execution_count": 11,
   "metadata": {},
   "outputs": [],
   "source": [
    "train_ds = train_ds.batch(20)\n",
    "val_ds   = val_ds.batch(20)"
   ]
  },
  {
   "cell_type": "markdown",
   "metadata": {},
   "source": [
    "## Function to Encode Categorical Column"
   ]
  },
  {
   "cell_type": "code",
   "execution_count": 12,
   "metadata": {},
   "outputs": [],
   "source": [
    "def encode_categorical_feature(column, name, dataset):\n",
    "\n",
    "    lookup_class = IntegerLookup\n",
    "    lookup = lookup_class(output_mode = \"binary\")\n",
    "\n",
    "    column_ds = dataset.map(lambda x, y: x[name])\n",
    "    column_ds = column_ds.map(lambda x: tf.expand_dims(x, -1))\n",
    "\n",
    "    lookup.adapt(column_ds)\n",
    "    encoded_column = lookup(column)\n",
    "\n",
    "    return encoded_column"
   ]
  },
  {
   "cell_type": "markdown",
   "metadata": {},
   "source": [
    "## Function to Encode Numerical Column"
   ]
  },
  {
   "cell_type": "code",
   "execution_count": 13,
   "metadata": {},
   "outputs": [],
   "source": [
    "def encode_numerical_feature(column, name, dataset):\n",
    "\n",
    "    normalizer = Normalization()\n",
    "    column_ds = dataset.map(lambda x, y: x[name])\n",
    "    column_ds = column_ds.map(lambda x: tf.expand_dims(x, -1))\n",
    "\n",
    "    normalizer.adapt(column_ds)\n",
    "    encoded_column = normalizer(column)\n",
    "\n",
    "    return encoded_column"
   ]
  },
  {
   "cell_type": "markdown",
   "metadata": {},
   "source": [
    "## Creating Tensor object from the column"
   ]
  },
  {
   "cell_type": "code",
   "execution_count": 14,
   "metadata": {},
   "outputs": [],
   "source": [
    "gender = keras.Input(shape = (1,), name = 'gender', dtype = 'int64')\n",
    "age    = keras.Input(shape = (1,), name = 'age')\n",
    "workout_experience = keras.Input(shape = (1, ), name = 'workout_experience')\n",
    "workout_time = keras.Input(shape = (1,), name = 'workout_time')\n",
    "weight       = keras.Input(shape = (1,), name = 'weight')\n",
    "height       = keras.Input(shape = (1,), name = 'height')\n",
    "bmi          = keras.Input(shape = (1,), name = 'bmi')"
   ]
  },
  {
   "cell_type": "code",
   "execution_count": 15,
   "metadata": {},
   "outputs": [],
   "source": [
    "all_columns = [ gender, age, workout_experience, workout_time, height, weight, bmi ]"
   ]
  },
  {
   "cell_type": "markdown",
   "metadata": {},
   "source": [
    "## Encode columns based on their data type"
   ]
  },
  {
   "cell_type": "code",
   "execution_count": 16,
   "metadata": {},
   "outputs": [],
   "source": [
    "gender_encoded = encode_categorical_feature(gender, 'gender', train_ds)\n",
    "age_encoded = encode_numerical_feature(age, 'age', train_ds)\n",
    "workout_experience_encoded = encode_numerical_feature(workout_experience, 'workout_experience', train_ds)\n",
    "workout_time_encoded = encode_numerical_feature(workout_time, 'workout_time', train_ds)\n",
    "weight_encoded = encode_numerical_feature(weight, 'weight', train_ds)\n",
    "height_encoded = encode_numerical_feature(height, 'height', train_ds)\n",
    "bmi_encoded = encode_numerical_feature(bmi, 'bmi', train_ds)"
   ]
  },
  {
   "cell_type": "code",
   "execution_count": 17,
   "metadata": {},
   "outputs": [],
   "source": [
    "all_features = keras.layers.concatenate([gender_encoded, age_encoded, workout_experience_encoded, workout_time_encoded, height_encoded, weight_encoded, bmi_encoded])"
   ]
  },
  {
   "cell_type": "markdown",
   "metadata": {},
   "source": [
    "## Build the model architecture"
   ]
  },
  {
   "cell_type": "code",
   "execution_count": 18,
   "metadata": {},
   "outputs": [],
   "source": [
    "x = keras.layers.Dense(30, activation = 'relu')(all_features)\n",
    "x = keras.layers.Dense(20, activation = 'relu')(x)\n",
    "x = keras.layers.Dense(10, activation = 'relu')(x)\n",
    "x = keras.layers.Dropout(0.7)(x)\n",
    "\n",
    "output = keras.layers.Dense(1, activation = 'sigmoid')(x)"
   ]
  },
  {
   "cell_type": "code",
   "execution_count": 19,
   "metadata": {},
   "outputs": [],
   "source": [
    "model  = keras.Model(all_columns, output)\n",
    "model.compile(optimizer = 'rmsprop', loss = 'binary_crossentropy', metrics = ['accuracy'])"
   ]
  },
  {
   "cell_type": "markdown",
   "metadata": {},
   "source": [
    "## Train the model"
   ]
  },
  {
   "cell_type": "code",
   "execution_count": 20,
   "metadata": {
    "scrolled": false
   },
   "outputs": [
    {
     "data": {
      "text/html": [
       "<style>pre { white-space: pre !important; }</style>"
      ],
      "text/plain": [
       "<IPython.core.display.HTML object>"
      ]
     },
     "metadata": {},
     "output_type": "display_data"
    },
    {
     "name": "stdout",
     "output_type": "stream",
     "text": [
      "Epoch 1/300\n",
      "37/37 [==============================] - 6s 32ms/step - loss: 0.7176 - accuracy: 0.5187 - val_loss: 0.6990 - val_accuracy: 0.4807\n",
      "Epoch 2/300\n",
      "37/37 [==============================] - 0s 8ms/step - loss: 0.7045 - accuracy: 0.5118 - val_loss: 0.6998 - val_accuracy: 0.4530\n",
      "Epoch 3/300\n",
      "37/37 [==============================] - 0s 7ms/step - loss: 0.7083 - accuracy: 0.4841 - val_loss: 0.6986 - val_accuracy: 0.4807\n",
      "Epoch 4/300\n",
      "37/37 [==============================] - 1s 16ms/step - loss: 0.6900 - accuracy: 0.5477 - val_loss: 0.6990 - val_accuracy: 0.4696\n",
      "Epoch 5/300\n",
      "37/37 [==============================] - 0s 8ms/step - loss: 0.6912 - accuracy: 0.5131 - val_loss: 0.6976 - val_accuracy: 0.5304\n",
      "Epoch 6/300\n",
      "37/37 [==============================] - 0s 7ms/step - loss: 0.6935 - accuracy: 0.5353 - val_loss: 0.7014 - val_accuracy: 0.4696\n",
      "Epoch 7/300\n",
      "37/37 [==============================] - 0s 7ms/step - loss: 0.6846 - accuracy: 0.5450 - val_loss: 0.6993 - val_accuracy: 0.5249\n",
      "Epoch 8/300\n",
      "37/37 [==============================] - 0s 7ms/step - loss: 0.6876 - accuracy: 0.5657 - val_loss: 0.7003 - val_accuracy: 0.5083\n",
      "Epoch 9/300\n",
      "37/37 [==============================] - 0s 7ms/step - loss: 0.6811 - accuracy: 0.5878 - val_loss: 0.7005 - val_accuracy: 0.5249\n",
      "Epoch 10/300\n",
      "37/37 [==============================] - 0s 7ms/step - loss: 0.6868 - accuracy: 0.5491 - val_loss: 0.6995 - val_accuracy: 0.5193\n",
      "Epoch 11/300\n",
      "37/37 [==============================] - 0s 7ms/step - loss: 0.6846 - accuracy: 0.5643 - val_loss: 0.6983 - val_accuracy: 0.5414\n",
      "Epoch 12/300\n",
      "37/37 [==============================] - 0s 7ms/step - loss: 0.6814 - accuracy: 0.5823 - val_loss: 0.7011 - val_accuracy: 0.5359\n",
      "Epoch 13/300\n",
      "37/37 [==============================] - 0s 7ms/step - loss: 0.6847 - accuracy: 0.5560 - val_loss: 0.7024 - val_accuracy: 0.5138\n",
      "Epoch 14/300\n",
      "37/37 [==============================] - 0s 7ms/step - loss: 0.6809 - accuracy: 0.5546 - val_loss: 0.7010 - val_accuracy: 0.5470\n",
      "Epoch 15/300\n",
      "37/37 [==============================] - 0s 8ms/step - loss: 0.6833 - accuracy: 0.5698 - val_loss: 0.6964 - val_accuracy: 0.5414\n",
      "Epoch 16/300\n",
      "37/37 [==============================] - 0s 8ms/step - loss: 0.6780 - accuracy: 0.5615 - val_loss: 0.6987 - val_accuracy: 0.5414\n",
      "Epoch 17/300\n",
      "37/37 [==============================] - 0s 7ms/step - loss: 0.6806 - accuracy: 0.5671 - val_loss: 0.7032 - val_accuracy: 0.5525\n",
      "Epoch 18/300\n",
      "37/37 [==============================] - 0s 7ms/step - loss: 0.6797 - accuracy: 0.5657 - val_loss: 0.7017 - val_accuracy: 0.5470\n",
      "Epoch 19/300\n",
      "37/37 [==============================] - 0s 7ms/step - loss: 0.6841 - accuracy: 0.5533 - val_loss: 0.7034 - val_accuracy: 0.5470\n",
      "Epoch 20/300\n",
      "37/37 [==============================] - 0s 7ms/step - loss: 0.6717 - accuracy: 0.5768 - val_loss: 0.7043 - val_accuracy: 0.5359\n",
      "Epoch 21/300\n",
      "37/37 [==============================] - 0s 7ms/step - loss: 0.6734 - accuracy: 0.5823 - val_loss: 0.7033 - val_accuracy: 0.5580\n",
      "Epoch 22/300\n",
      "37/37 [==============================] - 0s 7ms/step - loss: 0.6789 - accuracy: 0.5712 - val_loss: 0.7070 - val_accuracy: 0.5635\n",
      "Epoch 23/300\n",
      "37/37 [==============================] - 0s 6ms/step - loss: 0.6757 - accuracy: 0.5823 - val_loss: 0.7051 - val_accuracy: 0.5359\n",
      "Epoch 24/300\n",
      "37/37 [==============================] - 0s 7ms/step - loss: 0.6669 - accuracy: 0.5712 - val_loss: 0.7092 - val_accuracy: 0.5414\n",
      "Epoch 25/300\n",
      "37/37 [==============================] - 0s 7ms/step - loss: 0.6716 - accuracy: 0.5781 - val_loss: 0.7082 - val_accuracy: 0.5414\n",
      "Epoch 26/300\n",
      "37/37 [==============================] - 0s 7ms/step - loss: 0.6760 - accuracy: 0.5546 - val_loss: 0.7050 - val_accuracy: 0.5249\n",
      "Epoch 27/300\n",
      "37/37 [==============================] - 0s 7ms/step - loss: 0.6710 - accuracy: 0.5920 - val_loss: 0.7076 - val_accuracy: 0.5359\n",
      "Epoch 28/300\n",
      "37/37 [==============================] - 0s 7ms/step - loss: 0.6748 - accuracy: 0.5892 - val_loss: 0.7053 - val_accuracy: 0.5304\n",
      "Epoch 29/300\n",
      "37/37 [==============================] - 0s 7ms/step - loss: 0.6797 - accuracy: 0.5795 - val_loss: 0.7082 - val_accuracy: 0.5359\n",
      "Epoch 30/300\n",
      "37/37 [==============================] - 0s 7ms/step - loss: 0.6703 - accuracy: 0.5837 - val_loss: 0.7063 - val_accuracy: 0.5359\n",
      "Epoch 31/300\n",
      "37/37 [==============================] - 0s 7ms/step - loss: 0.6695 - accuracy: 0.5892 - val_loss: 0.7057 - val_accuracy: 0.5414\n",
      "Epoch 32/300\n",
      "37/37 [==============================] - 0s 7ms/step - loss: 0.6744 - accuracy: 0.5823 - val_loss: 0.7105 - val_accuracy: 0.5359\n",
      "Epoch 33/300\n",
      "37/37 [==============================] - 0s 7ms/step - loss: 0.6666 - accuracy: 0.5768 - val_loss: 0.7105 - val_accuracy: 0.5304\n",
      "Epoch 34/300\n",
      "37/37 [==============================] - 0s 7ms/step - loss: 0.6767 - accuracy: 0.5781 - val_loss: 0.7106 - val_accuracy: 0.5304\n",
      "Epoch 35/300\n",
      "37/37 [==============================] - 0s 7ms/step - loss: 0.6748 - accuracy: 0.5823 - val_loss: 0.7124 - val_accuracy: 0.5028\n",
      "Epoch 36/300\n",
      "37/37 [==============================] - 0s 7ms/step - loss: 0.6702 - accuracy: 0.5795 - val_loss: 0.7117 - val_accuracy: 0.5414\n",
      "Epoch 37/300\n",
      "37/37 [==============================] - 0s 7ms/step - loss: 0.6664 - accuracy: 0.5781 - val_loss: 0.7142 - val_accuracy: 0.5138\n",
      "Epoch 38/300\n",
      "37/37 [==============================] - 0s 7ms/step - loss: 0.6727 - accuracy: 0.5989 - val_loss: 0.7140 - val_accuracy: 0.5193\n",
      "Epoch 39/300\n",
      "37/37 [==============================] - 0s 7ms/step - loss: 0.6715 - accuracy: 0.5781 - val_loss: 0.7070 - val_accuracy: 0.5304\n",
      "Epoch 40/300\n",
      "37/37 [==============================] - 0s 7ms/step - loss: 0.6718 - accuracy: 0.6003 - val_loss: 0.7099 - val_accuracy: 0.5304\n",
      "Epoch 41/300\n",
      "37/37 [==============================] - 0s 7ms/step - loss: 0.6697 - accuracy: 0.5851 - val_loss: 0.7048 - val_accuracy: 0.5193\n",
      "Epoch 42/300\n",
      "37/37 [==============================] - 0s 7ms/step - loss: 0.6669 - accuracy: 0.5989 - val_loss: 0.7047 - val_accuracy: 0.5138\n",
      "Epoch 43/300\n",
      "37/37 [==============================] - 0s 7ms/step - loss: 0.6689 - accuracy: 0.5906 - val_loss: 0.7046 - val_accuracy: 0.5193\n",
      "Epoch 44/300\n",
      "37/37 [==============================] - 0s 7ms/step - loss: 0.6684 - accuracy: 0.5809 - val_loss: 0.7068 - val_accuracy: 0.5138\n",
      "Epoch 45/300\n",
      "37/37 [==============================] - 0s 7ms/step - loss: 0.6666 - accuracy: 0.5768 - val_loss: 0.7136 - val_accuracy: 0.5028\n",
      "Epoch 46/300\n",
      "37/37 [==============================] - 0s 7ms/step - loss: 0.6641 - accuracy: 0.5975 - val_loss: 0.7148 - val_accuracy: 0.4972\n",
      "Epoch 47/300\n",
      "37/37 [==============================] - 0s 7ms/step - loss: 0.6715 - accuracy: 0.5961 - val_loss: 0.7105 - val_accuracy: 0.5138\n",
      "Epoch 48/300\n",
      "37/37 [==============================] - 0s 7ms/step - loss: 0.6509 - accuracy: 0.6058 - val_loss: 0.7153 - val_accuracy: 0.5138\n",
      "Epoch 49/300\n",
      "37/37 [==============================] - 0s 7ms/step - loss: 0.6710 - accuracy: 0.5712 - val_loss: 0.7167 - val_accuracy: 0.5138\n",
      "Epoch 50/300\n",
      "37/37 [==============================] - 0s 6ms/step - loss: 0.6702 - accuracy: 0.5878 - val_loss: 0.7073 - val_accuracy: 0.5359\n",
      "Epoch 51/300\n",
      "37/37 [==============================] - 0s 7ms/step - loss: 0.6594 - accuracy: 0.5961 - val_loss: 0.7098 - val_accuracy: 0.5249\n",
      "Epoch 52/300\n",
      "37/37 [==============================] - 0s 7ms/step - loss: 0.6646 - accuracy: 0.6058 - val_loss: 0.7127 - val_accuracy: 0.5083\n",
      "Epoch 53/300\n",
      "37/37 [==============================] - 0s 7ms/step - loss: 0.6596 - accuracy: 0.6017 - val_loss: 0.7136 - val_accuracy: 0.5249\n",
      "Epoch 54/300\n",
      "37/37 [==============================] - 0s 7ms/step - loss: 0.6536 - accuracy: 0.5920 - val_loss: 0.7113 - val_accuracy: 0.5028\n",
      "Epoch 55/300\n",
      "37/37 [==============================] - 0s 7ms/step - loss: 0.6619 - accuracy: 0.5892 - val_loss: 0.7182 - val_accuracy: 0.4917\n",
      "Epoch 56/300\n",
      "37/37 [==============================] - 0s 7ms/step - loss: 0.6513 - accuracy: 0.6058 - val_loss: 0.7138 - val_accuracy: 0.5138\n",
      "Epoch 57/300\n",
      "37/37 [==============================] - 0s 7ms/step - loss: 0.6701 - accuracy: 0.5920 - val_loss: 0.7105 - val_accuracy: 0.5193\n",
      "Epoch 58/300\n",
      "37/37 [==============================] - 0s 7ms/step - loss: 0.6529 - accuracy: 0.6086 - val_loss: 0.7192 - val_accuracy: 0.4972\n"
     ]
    },
    {
     "name": "stdout",
     "output_type": "stream",
     "text": [
      "Epoch 59/300\n",
      "37/37 [==============================] - 0s 7ms/step - loss: 0.6600 - accuracy: 0.5878 - val_loss: 0.7109 - val_accuracy: 0.5028\n",
      "Epoch 60/300\n",
      "37/37 [==============================] - 0s 7ms/step - loss: 0.6646 - accuracy: 0.6072 - val_loss: 0.7179 - val_accuracy: 0.5470\n",
      "Epoch 61/300\n",
      "37/37 [==============================] - 0s 6ms/step - loss: 0.6559 - accuracy: 0.6030 - val_loss: 0.7166 - val_accuracy: 0.5083\n",
      "Epoch 62/300\n",
      "37/37 [==============================] - 0s 7ms/step - loss: 0.6622 - accuracy: 0.6086 - val_loss: 0.7179 - val_accuracy: 0.5138\n",
      "Epoch 63/300\n",
      "37/37 [==============================] - 0s 7ms/step - loss: 0.6579 - accuracy: 0.5947 - val_loss: 0.7195 - val_accuracy: 0.5193\n",
      "Epoch 64/300\n",
      "37/37 [==============================] - 0s 7ms/step - loss: 0.6527 - accuracy: 0.6072 - val_loss: 0.7159 - val_accuracy: 0.5083\n",
      "Epoch 65/300\n",
      "37/37 [==============================] - 0s 7ms/step - loss: 0.6553 - accuracy: 0.6100 - val_loss: 0.7191 - val_accuracy: 0.5083\n",
      "Epoch 66/300\n",
      "37/37 [==============================] - 0s 7ms/step - loss: 0.6616 - accuracy: 0.6003 - val_loss: 0.7240 - val_accuracy: 0.4917\n",
      "Epoch 67/300\n",
      "37/37 [==============================] - 0s 7ms/step - loss: 0.6597 - accuracy: 0.6141 - val_loss: 0.7313 - val_accuracy: 0.4917\n",
      "Epoch 68/300\n",
      "37/37 [==============================] - 0s 7ms/step - loss: 0.6629 - accuracy: 0.5892 - val_loss: 0.7187 - val_accuracy: 0.4972\n",
      "Epoch 69/300\n",
      "37/37 [==============================] - 0s 7ms/step - loss: 0.6516 - accuracy: 0.6113 - val_loss: 0.7191 - val_accuracy: 0.5028\n",
      "Epoch 70/300\n",
      "37/37 [==============================] - 0s 7ms/step - loss: 0.6551 - accuracy: 0.6058 - val_loss: 0.7235 - val_accuracy: 0.4751\n",
      "Epoch 71/300\n",
      "37/37 [==============================] - 0s 7ms/step - loss: 0.6613 - accuracy: 0.6030 - val_loss: 0.7189 - val_accuracy: 0.4972\n",
      "Epoch 72/300\n",
      "37/37 [==============================] - 0s 7ms/step - loss: 0.6574 - accuracy: 0.6086 - val_loss: 0.7221 - val_accuracy: 0.4862\n",
      "Epoch 73/300\n",
      "37/37 [==============================] - 0s 8ms/step - loss: 0.6560 - accuracy: 0.6044 - val_loss: 0.7172 - val_accuracy: 0.4972\n",
      "Epoch 74/300\n",
      "37/37 [==============================] - 0s 7ms/step - loss: 0.6542 - accuracy: 0.6030 - val_loss: 0.7258 - val_accuracy: 0.4807\n",
      "Epoch 75/300\n",
      "37/37 [==============================] - 0s 7ms/step - loss: 0.6429 - accuracy: 0.6030 - val_loss: 0.7273 - val_accuracy: 0.4807\n",
      "Epoch 76/300\n",
      "37/37 [==============================] - 0s 7ms/step - loss: 0.6596 - accuracy: 0.6113 - val_loss: 0.7214 - val_accuracy: 0.4917\n",
      "Epoch 77/300\n",
      "37/37 [==============================] - 0s 7ms/step - loss: 0.6544 - accuracy: 0.6086 - val_loss: 0.7299 - val_accuracy: 0.4696\n",
      "Epoch 78/300\n",
      "37/37 [==============================] - 0s 6ms/step - loss: 0.6533 - accuracy: 0.6279 - val_loss: 0.7262 - val_accuracy: 0.4972\n",
      "Epoch 79/300\n",
      "37/37 [==============================] - 0s 7ms/step - loss: 0.6629 - accuracy: 0.6058 - val_loss: 0.7255 - val_accuracy: 0.4641\n",
      "Epoch 80/300\n",
      "37/37 [==============================] - 0s 7ms/step - loss: 0.6435 - accuracy: 0.6307 - val_loss: 0.7208 - val_accuracy: 0.4917\n",
      "Epoch 81/300\n",
      "37/37 [==============================] - 0s 7ms/step - loss: 0.6480 - accuracy: 0.6113 - val_loss: 0.7232 - val_accuracy: 0.4917\n",
      "Epoch 82/300\n",
      "37/37 [==============================] - 0s 7ms/step - loss: 0.6437 - accuracy: 0.6141 - val_loss: 0.7369 - val_accuracy: 0.4862\n",
      "Epoch 83/300\n",
      "37/37 [==============================] - 0s 8ms/step - loss: 0.6542 - accuracy: 0.6030 - val_loss: 0.7292 - val_accuracy: 0.4917\n",
      "Epoch 84/300\n",
      "37/37 [==============================] - 0s 7ms/step - loss: 0.6642 - accuracy: 0.6113 - val_loss: 0.7259 - val_accuracy: 0.5028\n",
      "Epoch 85/300\n",
      "37/37 [==============================] - 0s 7ms/step - loss: 0.6501 - accuracy: 0.6155 - val_loss: 0.7344 - val_accuracy: 0.5138\n",
      "Epoch 86/300\n",
      "37/37 [==============================] - 0s 7ms/step - loss: 0.6549 - accuracy: 0.5920 - val_loss: 0.7272 - val_accuracy: 0.5138\n",
      "Epoch 87/300\n",
      "37/37 [==============================] - 0s 7ms/step - loss: 0.6533 - accuracy: 0.6017 - val_loss: 0.7323 - val_accuracy: 0.4751\n",
      "Epoch 88/300\n",
      "37/37 [==============================] - 0s 7ms/step - loss: 0.6360 - accuracy: 0.6293 - val_loss: 0.7414 - val_accuracy: 0.4807\n",
      "Epoch 89/300\n",
      "37/37 [==============================] - 0s 7ms/step - loss: 0.6505 - accuracy: 0.6100 - val_loss: 0.7287 - val_accuracy: 0.4862\n",
      "Epoch 90/300\n",
      "37/37 [==============================] - 0s 6ms/step - loss: 0.6555 - accuracy: 0.6072 - val_loss: 0.7352 - val_accuracy: 0.4586\n",
      "Epoch 91/300\n",
      "37/37 [==============================] - 0s 7ms/step - loss: 0.6470 - accuracy: 0.6044 - val_loss: 0.7413 - val_accuracy: 0.4696\n",
      "Epoch 92/300\n",
      "37/37 [==============================] - 0s 6ms/step - loss: 0.6489 - accuracy: 0.6003 - val_loss: 0.7387 - val_accuracy: 0.4530\n",
      "Epoch 93/300\n",
      "37/37 [==============================] - 0s 7ms/step - loss: 0.6515 - accuracy: 0.6072 - val_loss: 0.7304 - val_accuracy: 0.4751\n",
      "Epoch 94/300\n",
      "37/37 [==============================] - 0s 6ms/step - loss: 0.6372 - accuracy: 0.6210 - val_loss: 0.7423 - val_accuracy: 0.4917\n",
      "Epoch 95/300\n",
      "37/37 [==============================] - 0s 7ms/step - loss: 0.6372 - accuracy: 0.6335 - val_loss: 0.7488 - val_accuracy: 0.4696\n",
      "Epoch 96/300\n",
      "37/37 [==============================] - 0s 6ms/step - loss: 0.6354 - accuracy: 0.6127 - val_loss: 0.7472 - val_accuracy: 0.4807\n",
      "Epoch 97/300\n",
      "37/37 [==============================] - 0s 6ms/step - loss: 0.6439 - accuracy: 0.6210 - val_loss: 0.7391 - val_accuracy: 0.4751\n",
      "Epoch 98/300\n",
      "37/37 [==============================] - 0s 6ms/step - loss: 0.6361 - accuracy: 0.6113 - val_loss: 0.7507 - val_accuracy: 0.4751\n",
      "Epoch 99/300\n",
      "37/37 [==============================] - 0s 7ms/step - loss: 0.6460 - accuracy: 0.6141 - val_loss: 0.7530 - val_accuracy: 0.4365\n",
      "Epoch 100/300\n",
      "37/37 [==============================] - 0s 7ms/step - loss: 0.6424 - accuracy: 0.6307 - val_loss: 0.7482 - val_accuracy: 0.4696\n",
      "Epoch 101/300\n",
      "37/37 [==============================] - 0s 6ms/step - loss: 0.6309 - accuracy: 0.6293 - val_loss: 0.7478 - val_accuracy: 0.4807\n",
      "Epoch 102/300\n",
      "37/37 [==============================] - 0s 7ms/step - loss: 0.6385 - accuracy: 0.6266 - val_loss: 0.7478 - val_accuracy: 0.4696\n",
      "Epoch 103/300\n",
      "37/37 [==============================] - 0s 6ms/step - loss: 0.6385 - accuracy: 0.6127 - val_loss: 0.7425 - val_accuracy: 0.4917\n",
      "Epoch 104/300\n",
      "37/37 [==============================] - 0s 7ms/step - loss: 0.6315 - accuracy: 0.6127 - val_loss: 0.7544 - val_accuracy: 0.4751\n",
      "Epoch 105/300\n",
      "37/37 [==============================] - 0s 6ms/step - loss: 0.6287 - accuracy: 0.6376 - val_loss: 0.7503 - val_accuracy: 0.4751\n",
      "Epoch 106/300\n",
      "37/37 [==============================] - 0s 7ms/step - loss: 0.6364 - accuracy: 0.6017 - val_loss: 0.7438 - val_accuracy: 0.4807\n",
      "Epoch 107/300\n",
      "37/37 [==============================] - 0s 7ms/step - loss: 0.6447 - accuracy: 0.6210 - val_loss: 0.7652 - val_accuracy: 0.4420\n",
      "Epoch 108/300\n",
      "37/37 [==============================] - 0s 7ms/step - loss: 0.6366 - accuracy: 0.6252 - val_loss: 0.7547 - val_accuracy: 0.4586\n",
      "Epoch 109/300\n",
      "37/37 [==============================] - 0s 7ms/step - loss: 0.6299 - accuracy: 0.6335 - val_loss: 0.7599 - val_accuracy: 0.4475\n",
      "Epoch 110/300\n",
      "37/37 [==============================] - 0s 7ms/step - loss: 0.6161 - accuracy: 0.6307 - val_loss: 0.7665 - val_accuracy: 0.4475\n",
      "Epoch 111/300\n",
      "37/37 [==============================] - 0s 7ms/step - loss: 0.6306 - accuracy: 0.6349 - val_loss: 0.7712 - val_accuracy: 0.4696\n",
      "Epoch 112/300\n",
      "37/37 [==============================] - 0s 7ms/step - loss: 0.6370 - accuracy: 0.6349 - val_loss: 0.7644 - val_accuracy: 0.4641\n",
      "Epoch 113/300\n",
      "37/37 [==============================] - 0s 7ms/step - loss: 0.6251 - accuracy: 0.6390 - val_loss: 0.7576 - val_accuracy: 0.4972\n",
      "Epoch 114/300\n",
      "37/37 [==============================] - 0s 7ms/step - loss: 0.6366 - accuracy: 0.6376 - val_loss: 0.7553 - val_accuracy: 0.4696\n",
      "Epoch 115/300\n",
      "37/37 [==============================] - 0s 7ms/step - loss: 0.6375 - accuracy: 0.6113 - val_loss: 0.7494 - val_accuracy: 0.4641\n",
      "Epoch 116/300\n"
     ]
    },
    {
     "name": "stdout",
     "output_type": "stream",
     "text": [
      "37/37 [==============================] - 0s 7ms/step - loss: 0.6352 - accuracy: 0.6335 - val_loss: 0.7506 - val_accuracy: 0.4696\n",
      "Epoch 117/300\n",
      "37/37 [==============================] - 0s 7ms/step - loss: 0.6360 - accuracy: 0.6307 - val_loss: 0.7636 - val_accuracy: 0.4586\n",
      "Epoch 118/300\n",
      "37/37 [==============================] - 0s 7ms/step - loss: 0.6281 - accuracy: 0.6293 - val_loss: 0.7758 - val_accuracy: 0.4475\n",
      "Epoch 119/300\n",
      "37/37 [==============================] - 0s 7ms/step - loss: 0.6226 - accuracy: 0.6238 - val_loss: 0.7731 - val_accuracy: 0.4530\n",
      "Epoch 120/300\n",
      "37/37 [==============================] - 0s 7ms/step - loss: 0.6343 - accuracy: 0.6183 - val_loss: 0.7681 - val_accuracy: 0.4586\n",
      "Epoch 121/300\n",
      "37/37 [==============================] - 0s 7ms/step - loss: 0.6273 - accuracy: 0.6349 - val_loss: 0.7778 - val_accuracy: 0.4365\n",
      "Epoch 122/300\n",
      "37/37 [==============================] - 0s 7ms/step - loss: 0.6296 - accuracy: 0.6266 - val_loss: 0.7748 - val_accuracy: 0.4420\n",
      "Epoch 123/300\n",
      "37/37 [==============================] - 0s 6ms/step - loss: 0.6346 - accuracy: 0.6224 - val_loss: 0.7700 - val_accuracy: 0.4641\n",
      "Epoch 124/300\n",
      "37/37 [==============================] - 0s 7ms/step - loss: 0.6256 - accuracy: 0.6432 - val_loss: 0.7903 - val_accuracy: 0.4475\n",
      "Epoch 125/300\n",
      "37/37 [==============================] - 0s 6ms/step - loss: 0.6330 - accuracy: 0.6293 - val_loss: 0.7645 - val_accuracy: 0.4641\n",
      "Epoch 126/300\n",
      "37/37 [==============================] - 0s 6ms/step - loss: 0.6376 - accuracy: 0.6266 - val_loss: 0.7675 - val_accuracy: 0.4586\n",
      "Epoch 127/300\n",
      "37/37 [==============================] - 0s 7ms/step - loss: 0.6234 - accuracy: 0.6321 - val_loss: 0.7779 - val_accuracy: 0.4641\n",
      "Epoch 128/300\n",
      "37/37 [==============================] - 0s 7ms/step - loss: 0.6344 - accuracy: 0.6238 - val_loss: 0.7873 - val_accuracy: 0.4420\n",
      "Epoch 129/300\n",
      "37/37 [==============================] - 0s 7ms/step - loss: 0.6370 - accuracy: 0.6169 - val_loss: 0.7636 - val_accuracy: 0.4641\n",
      "Epoch 130/300\n",
      "37/37 [==============================] - 0s 6ms/step - loss: 0.6318 - accuracy: 0.6487 - val_loss: 0.7616 - val_accuracy: 0.4696\n",
      "Epoch 131/300\n",
      "37/37 [==============================] - 0s 7ms/step - loss: 0.6293 - accuracy: 0.6266 - val_loss: 0.7601 - val_accuracy: 0.4586\n",
      "Epoch 132/300\n",
      "37/37 [==============================] - 0s 7ms/step - loss: 0.6336 - accuracy: 0.6100 - val_loss: 0.7613 - val_accuracy: 0.4641\n",
      "Epoch 133/300\n",
      "37/37 [==============================] - 0s 7ms/step - loss: 0.6260 - accuracy: 0.6321 - val_loss: 0.7676 - val_accuracy: 0.4641\n",
      "Epoch 134/300\n",
      "37/37 [==============================] - 0s 7ms/step - loss: 0.6304 - accuracy: 0.6279 - val_loss: 0.8006 - val_accuracy: 0.4365\n",
      "Epoch 135/300\n",
      "37/37 [==============================] - 0s 6ms/step - loss: 0.6235 - accuracy: 0.6362 - val_loss: 0.7994 - val_accuracy: 0.4199\n",
      "Epoch 136/300\n",
      "37/37 [==============================] - 0s 7ms/step - loss: 0.6233 - accuracy: 0.6183 - val_loss: 0.7854 - val_accuracy: 0.4530\n",
      "Epoch 137/300\n",
      "37/37 [==============================] - 0s 6ms/step - loss: 0.6209 - accuracy: 0.6279 - val_loss: 0.8054 - val_accuracy: 0.4475\n",
      "Epoch 138/300\n",
      "37/37 [==============================] - 0s 7ms/step - loss: 0.6140 - accuracy: 0.6404 - val_loss: 0.7857 - val_accuracy: 0.4530\n",
      "Epoch 139/300\n",
      "37/37 [==============================] - 0s 7ms/step - loss: 0.6033 - accuracy: 0.6473 - val_loss: 0.8029 - val_accuracy: 0.4530\n",
      "Epoch 140/300\n",
      "37/37 [==============================] - 0s 6ms/step - loss: 0.6127 - accuracy: 0.6307 - val_loss: 0.8003 - val_accuracy: 0.4475\n",
      "Epoch 141/300\n",
      "37/37 [==============================] - 0s 6ms/step - loss: 0.6117 - accuracy: 0.6321 - val_loss: 0.8040 - val_accuracy: 0.4641\n",
      "Epoch 142/300\n",
      "37/37 [==============================] - 0s 6ms/step - loss: 0.6129 - accuracy: 0.6528 - val_loss: 0.8074 - val_accuracy: 0.4475\n",
      "Epoch 143/300\n",
      "37/37 [==============================] - 0s 7ms/step - loss: 0.6262 - accuracy: 0.6238 - val_loss: 0.7956 - val_accuracy: 0.4475\n",
      "Epoch 144/300\n",
      "37/37 [==============================] - 0s 7ms/step - loss: 0.6062 - accuracy: 0.6432 - val_loss: 0.8001 - val_accuracy: 0.4475\n",
      "Epoch 145/300\n",
      "37/37 [==============================] - 0s 6ms/step - loss: 0.6150 - accuracy: 0.6349 - val_loss: 0.7874 - val_accuracy: 0.4696\n",
      "Epoch 146/300\n",
      "37/37 [==============================] - 0s 7ms/step - loss: 0.6194 - accuracy: 0.6445 - val_loss: 0.8066 - val_accuracy: 0.4530\n",
      "Epoch 147/300\n",
      "37/37 [==============================] - 0s 7ms/step - loss: 0.6226 - accuracy: 0.6224 - val_loss: 0.7972 - val_accuracy: 0.4530\n",
      "Epoch 148/300\n",
      "37/37 [==============================] - 0s 6ms/step - loss: 0.6139 - accuracy: 0.6487 - val_loss: 0.7985 - val_accuracy: 0.4751\n",
      "Epoch 149/300\n",
      "37/37 [==============================] - 0s 7ms/step - loss: 0.6024 - accuracy: 0.6432 - val_loss: 0.8050 - val_accuracy: 0.4475\n",
      "Epoch 150/300\n",
      "37/37 [==============================] - 0s 6ms/step - loss: 0.6170 - accuracy: 0.6349 - val_loss: 0.8199 - val_accuracy: 0.4365\n",
      "Epoch 151/300\n",
      "37/37 [==============================] - 0s 7ms/step - loss: 0.6183 - accuracy: 0.6418 - val_loss: 0.8001 - val_accuracy: 0.4475\n",
      "Epoch 152/300\n",
      "37/37 [==============================] - 0s 7ms/step - loss: 0.6089 - accuracy: 0.6390 - val_loss: 0.8303 - val_accuracy: 0.4365\n",
      "Epoch 153/300\n",
      "37/37 [==============================] - 0s 7ms/step - loss: 0.6125 - accuracy: 0.6390 - val_loss: 0.8014 - val_accuracy: 0.4309\n",
      "Epoch 154/300\n",
      "37/37 [==============================] - 0s 7ms/step - loss: 0.6240 - accuracy: 0.6321 - val_loss: 0.8194 - val_accuracy: 0.4475\n",
      "Epoch 155/300\n",
      "37/37 [==============================] - 0s 7ms/step - loss: 0.6034 - accuracy: 0.6238 - val_loss: 0.8072 - val_accuracy: 0.4420\n",
      "Epoch 156/300\n",
      "37/37 [==============================] - 0s 7ms/step - loss: 0.6308 - accuracy: 0.6376 - val_loss: 0.8100 - val_accuracy: 0.4475\n",
      "Epoch 157/300\n",
      "37/37 [==============================] - 0s 6ms/step - loss: 0.6162 - accuracy: 0.6404 - val_loss: 0.8251 - val_accuracy: 0.4475\n",
      "Epoch 158/300\n",
      "37/37 [==============================] - 0s 6ms/step - loss: 0.6151 - accuracy: 0.6418 - val_loss: 0.8272 - val_accuracy: 0.4420\n",
      "Epoch 159/300\n",
      "37/37 [==============================] - 0s 6ms/step - loss: 0.6195 - accuracy: 0.6445 - val_loss: 0.7980 - val_accuracy: 0.4586\n",
      "Epoch 160/300\n",
      "37/37 [==============================] - 0s 6ms/step - loss: 0.6089 - accuracy: 0.6542 - val_loss: 0.8100 - val_accuracy: 0.4751\n",
      "Epoch 161/300\n",
      "37/37 [==============================] - 0s 6ms/step - loss: 0.6064 - accuracy: 0.6501 - val_loss: 0.8186 - val_accuracy: 0.4475\n",
      "Epoch 162/300\n",
      "37/37 [==============================] - 0s 7ms/step - loss: 0.5860 - accuracy: 0.6584 - val_loss: 0.8207 - val_accuracy: 0.4641\n",
      "Epoch 163/300\n",
      "37/37 [==============================] - 0s 7ms/step - loss: 0.6111 - accuracy: 0.6528 - val_loss: 0.8548 - val_accuracy: 0.4530\n",
      "Epoch 164/300\n",
      "37/37 [==============================] - 0s 6ms/step - loss: 0.6066 - accuracy: 0.6390 - val_loss: 0.8161 - val_accuracy: 0.4530\n",
      "Epoch 165/300\n",
      "37/37 [==============================] - 0s 6ms/step - loss: 0.6006 - accuracy: 0.6459 - val_loss: 0.8121 - val_accuracy: 0.4530\n",
      "Epoch 166/300\n",
      "37/37 [==============================] - 0s 7ms/step - loss: 0.5963 - accuracy: 0.6736 - val_loss: 0.8602 - val_accuracy: 0.4365\n",
      "Epoch 167/300\n",
      "37/37 [==============================] - 0s 7ms/step - loss: 0.6026 - accuracy: 0.6528 - val_loss: 0.8128 - val_accuracy: 0.4641\n",
      "Epoch 168/300\n",
      "37/37 [==============================] - 0s 7ms/step - loss: 0.5966 - accuracy: 0.6653 - val_loss: 0.8187 - val_accuracy: 0.4586\n",
      "Epoch 169/300\n",
      "37/37 [==============================] - 0s 7ms/step - loss: 0.5969 - accuracy: 0.6501 - val_loss: 0.8232 - val_accuracy: 0.4641\n",
      "Epoch 170/300\n",
      "37/37 [==============================] - 0s 6ms/step - loss: 0.6181 - accuracy: 0.6390 - val_loss: 0.8316 - val_accuracy: 0.4475\n",
      "Epoch 171/300\n",
      "37/37 [==============================] - 0s 7ms/step - loss: 0.5989 - accuracy: 0.6570 - val_loss: 0.8756 - val_accuracy: 0.4475\n",
      "Epoch 172/300\n",
      "37/37 [==============================] - 0s 7ms/step - loss: 0.6129 - accuracy: 0.6376 - val_loss: 0.8290 - val_accuracy: 0.4420\n",
      "Epoch 173/300\n"
     ]
    },
    {
     "name": "stdout",
     "output_type": "stream",
     "text": [
      "37/37 [==============================] - 0s 6ms/step - loss: 0.6199 - accuracy: 0.6473 - val_loss: 0.8265 - val_accuracy: 0.4530\n",
      "Epoch 174/300\n",
      "37/37 [==============================] - 0s 7ms/step - loss: 0.5998 - accuracy: 0.6556 - val_loss: 0.8582 - val_accuracy: 0.4586\n",
      "Epoch 175/300\n",
      "37/37 [==============================] - 0s 7ms/step - loss: 0.6071 - accuracy: 0.6528 - val_loss: 0.8215 - val_accuracy: 0.4475\n",
      "Epoch 176/300\n",
      "37/37 [==============================] - 0s 7ms/step - loss: 0.5932 - accuracy: 0.6639 - val_loss: 0.8573 - val_accuracy: 0.4586\n",
      "Epoch 177/300\n",
      "37/37 [==============================] - 0s 7ms/step - loss: 0.5931 - accuracy: 0.6584 - val_loss: 0.8249 - val_accuracy: 0.4475\n",
      "Epoch 178/300\n",
      "37/37 [==============================] - 0s 7ms/step - loss: 0.5911 - accuracy: 0.6556 - val_loss: 0.8619 - val_accuracy: 0.4420\n",
      "Epoch 179/300\n",
      "37/37 [==============================] - 0s 7ms/step - loss: 0.6198 - accuracy: 0.6432 - val_loss: 0.8486 - val_accuracy: 0.4254\n",
      "Epoch 180/300\n",
      "37/37 [==============================] - 0s 7ms/step - loss: 0.5903 - accuracy: 0.6501 - val_loss: 0.8335 - val_accuracy: 0.4586\n",
      "Epoch 181/300\n",
      "37/37 [==============================] - 0s 7ms/step - loss: 0.5987 - accuracy: 0.6515 - val_loss: 0.8459 - val_accuracy: 0.4641\n",
      "Epoch 182/300\n",
      "37/37 [==============================] - 0s 7ms/step - loss: 0.5991 - accuracy: 0.6501 - val_loss: 0.8450 - val_accuracy: 0.4696\n",
      "Epoch 183/300\n",
      "37/37 [==============================] - 0s 7ms/step - loss: 0.6039 - accuracy: 0.6570 - val_loss: 0.8614 - val_accuracy: 0.4420\n",
      "Epoch 184/300\n",
      "37/37 [==============================] - 0s 7ms/step - loss: 0.5847 - accuracy: 0.6653 - val_loss: 0.8239 - val_accuracy: 0.4420\n",
      "Epoch 185/300\n",
      "37/37 [==============================] - 0s 7ms/step - loss: 0.5958 - accuracy: 0.6722 - val_loss: 0.8481 - val_accuracy: 0.4475\n",
      "Epoch 186/300\n",
      "37/37 [==============================] - 0s 7ms/step - loss: 0.5905 - accuracy: 0.6777 - val_loss: 0.8642 - val_accuracy: 0.4365\n",
      "Epoch 187/300\n",
      "37/37 [==============================] - 0s 6ms/step - loss: 0.5991 - accuracy: 0.6528 - val_loss: 0.8336 - val_accuracy: 0.4475\n",
      "Epoch 188/300\n",
      "37/37 [==============================] - 0s 6ms/step - loss: 0.5970 - accuracy: 0.6680 - val_loss: 0.8439 - val_accuracy: 0.4641\n",
      "Epoch 189/300\n",
      "37/37 [==============================] - 0s 7ms/step - loss: 0.6041 - accuracy: 0.6570 - val_loss: 0.8272 - val_accuracy: 0.4586\n",
      "Epoch 190/300\n",
      "37/37 [==============================] - 0s 7ms/step - loss: 0.5857 - accuracy: 0.6777 - val_loss: 0.8501 - val_accuracy: 0.4530\n",
      "Epoch 191/300\n",
      "37/37 [==============================] - 0s 7ms/step - loss: 0.5903 - accuracy: 0.6584 - val_loss: 0.8925 - val_accuracy: 0.4530\n",
      "Epoch 192/300\n",
      "37/37 [==============================] - 0s 6ms/step - loss: 0.5878 - accuracy: 0.6556 - val_loss: 0.8707 - val_accuracy: 0.4420\n",
      "Epoch 193/300\n",
      "37/37 [==============================] - 0s 8ms/step - loss: 0.5640 - accuracy: 0.6846 - val_loss: 0.8619 - val_accuracy: 0.4641\n",
      "Epoch 194/300\n",
      "37/37 [==============================] - 0s 7ms/step - loss: 0.5848 - accuracy: 0.6625 - val_loss: 0.8874 - val_accuracy: 0.4309\n",
      "Epoch 195/300\n",
      "37/37 [==============================] - 0s 7ms/step - loss: 0.5953 - accuracy: 0.6680 - val_loss: 0.8438 - val_accuracy: 0.4365\n",
      "Epoch 196/300\n",
      "37/37 [==============================] - 0s 7ms/step - loss: 0.5951 - accuracy: 0.6639 - val_loss: 0.8622 - val_accuracy: 0.4475\n",
      "Epoch 197/300\n",
      "37/37 [==============================] - 0s 7ms/step - loss: 0.6036 - accuracy: 0.6542 - val_loss: 0.8825 - val_accuracy: 0.4641\n",
      "Epoch 198/300\n",
      "37/37 [==============================] - 0s 7ms/step - loss: 0.5868 - accuracy: 0.6598 - val_loss: 0.8714 - val_accuracy: 0.4586\n",
      "Epoch 199/300\n",
      "37/37 [==============================] - 0s 9ms/step - loss: 0.5807 - accuracy: 0.6736 - val_loss: 0.8965 - val_accuracy: 0.4641\n",
      "Epoch 200/300\n",
      "37/37 [==============================] - 0s 8ms/step - loss: 0.6004 - accuracy: 0.6556 - val_loss: 0.8468 - val_accuracy: 0.4696\n",
      "Epoch 201/300\n",
      "37/37 [==============================] - 0s 7ms/step - loss: 0.5951 - accuracy: 0.6763 - val_loss: 0.8852 - val_accuracy: 0.4365\n",
      "Epoch 202/300\n",
      "37/37 [==============================] - 0s 8ms/step - loss: 0.5828 - accuracy: 0.6473 - val_loss: 0.8550 - val_accuracy: 0.4475\n",
      "Epoch 203/300\n",
      "37/37 [==============================] - 0s 8ms/step - loss: 0.5897 - accuracy: 0.6611 - val_loss: 0.8905 - val_accuracy: 0.4420\n",
      "Epoch 204/300\n",
      "37/37 [==============================] - 0s 7ms/step - loss: 0.5888 - accuracy: 0.6680 - val_loss: 0.8818 - val_accuracy: 0.4365\n",
      "Epoch 205/300\n",
      "37/37 [==============================] - 0s 8ms/step - loss: 0.5867 - accuracy: 0.6611 - val_loss: 0.8773 - val_accuracy: 0.4586\n",
      "Epoch 206/300\n",
      "37/37 [==============================] - 0s 7ms/step - loss: 0.5753 - accuracy: 0.6680 - val_loss: 0.8854 - val_accuracy: 0.4420\n",
      "Epoch 207/300\n",
      "37/37 [==============================] - 0s 8ms/step - loss: 0.5914 - accuracy: 0.6667 - val_loss: 0.9030 - val_accuracy: 0.4420\n",
      "Epoch 208/300\n",
      "37/37 [==============================] - 0s 7ms/step - loss: 0.5887 - accuracy: 0.6708 - val_loss: 0.9125 - val_accuracy: 0.4475\n",
      "Epoch 209/300\n",
      "37/37 [==============================] - 0s 7ms/step - loss: 0.5951 - accuracy: 0.6639 - val_loss: 0.8391 - val_accuracy: 0.4365\n",
      "Epoch 210/300\n",
      "37/37 [==============================] - 0s 8ms/step - loss: 0.5982 - accuracy: 0.6639 - val_loss: 0.8769 - val_accuracy: 0.4530\n",
      "Epoch 211/300\n",
      "37/37 [==============================] - 0s 10ms/step - loss: 0.5795 - accuracy: 0.6584 - val_loss: 0.9022 - val_accuracy: 0.4365\n",
      "Epoch 212/300\n",
      "37/37 [==============================] - 0s 10ms/step - loss: 0.5723 - accuracy: 0.6694 - val_loss: 0.9167 - val_accuracy: 0.4420\n",
      "Epoch 213/300\n",
      "37/37 [==============================] - 0s 8ms/step - loss: 0.5959 - accuracy: 0.6611 - val_loss: 0.8593 - val_accuracy: 0.4420\n",
      "Epoch 214/300\n",
      "37/37 [==============================] - 0s 8ms/step - loss: 0.5680 - accuracy: 0.6777 - val_loss: 0.8987 - val_accuracy: 0.4641\n",
      "Epoch 215/300\n",
      "37/37 [==============================] - 0s 9ms/step - loss: 0.5779 - accuracy: 0.6556 - val_loss: 0.9098 - val_accuracy: 0.4530\n",
      "Epoch 216/300\n",
      "37/37 [==============================] - 0s 8ms/step - loss: 0.5685 - accuracy: 0.6708 - val_loss: 0.9239 - val_accuracy: 0.4530\n",
      "Epoch 217/300\n",
      "37/37 [==============================] - 0s 8ms/step - loss: 0.5759 - accuracy: 0.6777 - val_loss: 0.9209 - val_accuracy: 0.4530\n",
      "Epoch 218/300\n",
      "37/37 [==============================] - 0s 8ms/step - loss: 0.5690 - accuracy: 0.6763 - val_loss: 0.8891 - val_accuracy: 0.4586\n",
      "Epoch 219/300\n",
      "37/37 [==============================] - 0s 8ms/step - loss: 0.5825 - accuracy: 0.6750 - val_loss: 0.8947 - val_accuracy: 0.4530\n",
      "Epoch 220/300\n",
      "37/37 [==============================] - 0s 10ms/step - loss: 0.5820 - accuracy: 0.6584 - val_loss: 0.9209 - val_accuracy: 0.4530\n",
      "Epoch 221/300\n",
      "37/37 [==============================] - 0s 10ms/step - loss: 0.5713 - accuracy: 0.6667 - val_loss: 0.9346 - val_accuracy: 0.4475\n",
      "Epoch 222/300\n",
      "37/37 [==============================] - 0s 7ms/step - loss: 0.5933 - accuracy: 0.6777 - val_loss: 0.9976 - val_accuracy: 0.4420\n",
      "Epoch 223/300\n",
      "37/37 [==============================] - 0s 8ms/step - loss: 0.5922 - accuracy: 0.6625 - val_loss: 0.9246 - val_accuracy: 0.4475\n",
      "Epoch 224/300\n",
      "37/37 [==============================] - 0s 8ms/step - loss: 0.5746 - accuracy: 0.6791 - val_loss: 0.8924 - val_accuracy: 0.4586\n",
      "Epoch 225/300\n",
      "37/37 [==============================] - 0s 7ms/step - loss: 0.5666 - accuracy: 0.6777 - val_loss: 0.9401 - val_accuracy: 0.4365\n",
      "Epoch 226/300\n",
      "37/37 [==============================] - 0s 7ms/step - loss: 0.5837 - accuracy: 0.6639 - val_loss: 0.9026 - val_accuracy: 0.4475\n",
      "Epoch 227/300\n",
      "37/37 [==============================] - 0s 8ms/step - loss: 0.5694 - accuracy: 0.6736 - val_loss: 0.9067 - val_accuracy: 0.4475\n",
      "Epoch 228/300\n",
      "37/37 [==============================] - 0s 7ms/step - loss: 0.5810 - accuracy: 0.6584 - val_loss: 0.8742 - val_accuracy: 0.4309\n",
      "Epoch 229/300\n",
      "37/37 [==============================] - 0s 6ms/step - loss: 0.5673 - accuracy: 0.6750 - val_loss: 0.9730 - val_accuracy: 0.4365\n",
      "Epoch 230/300\n"
     ]
    },
    {
     "name": "stdout",
     "output_type": "stream",
     "text": [
      "37/37 [==============================] - 0s 7ms/step - loss: 0.5729 - accuracy: 0.6805 - val_loss: 0.9855 - val_accuracy: 0.4365\n",
      "Epoch 231/300\n",
      "37/37 [==============================] - 0s 7ms/step - loss: 0.5717 - accuracy: 0.6680 - val_loss: 0.9486 - val_accuracy: 0.4365\n",
      "Epoch 232/300\n",
      "37/37 [==============================] - 0s 6ms/step - loss: 0.5652 - accuracy: 0.6791 - val_loss: 0.9160 - val_accuracy: 0.4420\n",
      "Epoch 233/300\n",
      "37/37 [==============================] - 0s 6ms/step - loss: 0.5796 - accuracy: 0.6846 - val_loss: 0.9392 - val_accuracy: 0.4586\n",
      "Epoch 234/300\n",
      "37/37 [==============================] - 0s 7ms/step - loss: 0.5462 - accuracy: 0.6888 - val_loss: 0.9125 - val_accuracy: 0.4420\n",
      "Epoch 235/300\n",
      "37/37 [==============================] - 0s 7ms/step - loss: 0.5727 - accuracy: 0.6805 - val_loss: 0.9455 - val_accuracy: 0.4530\n",
      "Epoch 236/300\n",
      "37/37 [==============================] - 0s 7ms/step - loss: 0.5625 - accuracy: 0.6708 - val_loss: 0.9453 - val_accuracy: 0.4475\n",
      "Epoch 237/300\n",
      "37/37 [==============================] - 0s 7ms/step - loss: 0.5697 - accuracy: 0.6639 - val_loss: 0.9155 - val_accuracy: 0.4420\n",
      "Epoch 238/300\n",
      "37/37 [==============================] - 0s 7ms/step - loss: 0.5821 - accuracy: 0.6819 - val_loss: 0.9432 - val_accuracy: 0.4420\n",
      "Epoch 239/300\n",
      "37/37 [==============================] - 0s 7ms/step - loss: 0.5707 - accuracy: 0.6819 - val_loss: 0.9160 - val_accuracy: 0.4475\n",
      "Epoch 240/300\n",
      "37/37 [==============================] - 0s 6ms/step - loss: 0.5680 - accuracy: 0.6777 - val_loss: 0.9363 - val_accuracy: 0.4586\n",
      "Epoch 241/300\n",
      "37/37 [==============================] - 0s 7ms/step - loss: 0.5617 - accuracy: 0.6929 - val_loss: 0.9646 - val_accuracy: 0.4530\n",
      "Epoch 242/300\n",
      "37/37 [==============================] - 0s 7ms/step - loss: 0.5659 - accuracy: 0.6833 - val_loss: 0.9552 - val_accuracy: 0.4475\n",
      "Epoch 243/300\n",
      "37/37 [==============================] - 0s 7ms/step - loss: 0.5543 - accuracy: 0.6929 - val_loss: 0.9605 - val_accuracy: 0.4530\n",
      "Epoch 244/300\n",
      "37/37 [==============================] - 0s 7ms/step - loss: 0.5514 - accuracy: 0.6736 - val_loss: 0.9896 - val_accuracy: 0.4586\n",
      "Epoch 245/300\n",
      "37/37 [==============================] - 0s 6ms/step - loss: 0.5778 - accuracy: 0.6694 - val_loss: 0.9452 - val_accuracy: 0.4586\n",
      "Epoch 246/300\n",
      "37/37 [==============================] - 0s 7ms/step - loss: 0.5669 - accuracy: 0.6694 - val_loss: 0.9315 - val_accuracy: 0.4586\n",
      "Epoch 247/300\n",
      "37/37 [==============================] - 0s 8ms/step - loss: 0.5637 - accuracy: 0.6874 - val_loss: 0.9322 - val_accuracy: 0.4586\n",
      "Epoch 248/300\n",
      "37/37 [==============================] - 0s 8ms/step - loss: 0.5569 - accuracy: 0.6819 - val_loss: 0.9364 - val_accuracy: 0.4586\n",
      "Epoch 249/300\n",
      "37/37 [==============================] - 0s 8ms/step - loss: 0.5560 - accuracy: 0.7026 - val_loss: 1.0495 - val_accuracy: 0.4254\n",
      "Epoch 250/300\n",
      "37/37 [==============================] - 0s 8ms/step - loss: 0.5573 - accuracy: 0.6833 - val_loss: 0.9529 - val_accuracy: 0.4530\n",
      "Epoch 251/300\n",
      "37/37 [==============================] - 0s 8ms/step - loss: 0.5509 - accuracy: 0.6916 - val_loss: 0.9280 - val_accuracy: 0.4530\n",
      "Epoch 252/300\n",
      "37/37 [==============================] - 0s 7ms/step - loss: 0.5584 - accuracy: 0.6833 - val_loss: 0.9781 - val_accuracy: 0.4475\n",
      "Epoch 253/300\n",
      "37/37 [==============================] - 0s 7ms/step - loss: 0.5443 - accuracy: 0.6888 - val_loss: 0.9966 - val_accuracy: 0.4586\n",
      "Epoch 254/300\n",
      "37/37 [==============================] - 0s 8ms/step - loss: 0.5440 - accuracy: 0.6805 - val_loss: 0.9755 - val_accuracy: 0.4475\n",
      "Epoch 255/300\n",
      "37/37 [==============================] - 0s 7ms/step - loss: 0.5502 - accuracy: 0.6860 - val_loss: 0.9345 - val_accuracy: 0.4530\n",
      "Epoch 256/300\n",
      "37/37 [==============================] - 0s 7ms/step - loss: 0.5492 - accuracy: 0.6929 - val_loss: 0.9756 - val_accuracy: 0.4530\n",
      "Epoch 257/300\n",
      "37/37 [==============================] - 0s 7ms/step - loss: 0.5579 - accuracy: 0.6736 - val_loss: 0.9302 - val_accuracy: 0.4365\n",
      "Epoch 258/300\n",
      "37/37 [==============================] - 0s 6ms/step - loss: 0.5482 - accuracy: 0.7026 - val_loss: 1.0567 - val_accuracy: 0.4365\n",
      "Epoch 259/300\n",
      "37/37 [==============================] - 0s 7ms/step - loss: 0.5304 - accuracy: 0.7095 - val_loss: 1.0001 - val_accuracy: 0.4696\n",
      "Epoch 260/300\n",
      "37/37 [==============================] - 0s 6ms/step - loss: 0.5608 - accuracy: 0.6888 - val_loss: 1.0302 - val_accuracy: 0.4420\n",
      "Epoch 261/300\n",
      "37/37 [==============================] - 0s 7ms/step - loss: 0.5470 - accuracy: 0.6860 - val_loss: 0.9720 - val_accuracy: 0.4530\n",
      "Epoch 262/300\n",
      "37/37 [==============================] - 0s 7ms/step - loss: 0.5524 - accuracy: 0.6902 - val_loss: 0.9960 - val_accuracy: 0.4696\n",
      "Epoch 263/300\n",
      "37/37 [==============================] - 0s 7ms/step - loss: 0.5484 - accuracy: 0.6805 - val_loss: 1.0031 - val_accuracy: 0.4530\n",
      "Epoch 264/300\n",
      "37/37 [==============================] - 0s 7ms/step - loss: 0.5521 - accuracy: 0.6916 - val_loss: 1.0096 - val_accuracy: 0.4586\n",
      "Epoch 265/300\n",
      "37/37 [==============================] - 0s 7ms/step - loss: 0.5474 - accuracy: 0.6916 - val_loss: 0.9698 - val_accuracy: 0.4751\n",
      "Epoch 266/300\n",
      "37/37 [==============================] - 0s 7ms/step - loss: 0.5352 - accuracy: 0.6999 - val_loss: 1.0465 - val_accuracy: 0.4365\n",
      "Epoch 267/300\n",
      "37/37 [==============================] - 0s 7ms/step - loss: 0.5613 - accuracy: 0.6888 - val_loss: 1.0040 - val_accuracy: 0.4530\n",
      "Epoch 268/300\n",
      "37/37 [==============================] - 0s 7ms/step - loss: 0.5494 - accuracy: 0.6916 - val_loss: 1.0313 - val_accuracy: 0.4420\n",
      "Epoch 269/300\n",
      "37/37 [==============================] - 0s 7ms/step - loss: 0.5650 - accuracy: 0.6791 - val_loss: 0.9988 - val_accuracy: 0.4641\n",
      "Epoch 270/300\n",
      "37/37 [==============================] - 0s 7ms/step - loss: 0.5298 - accuracy: 0.6943 - val_loss: 1.0136 - val_accuracy: 0.4586\n",
      "Epoch 271/300\n",
      "37/37 [==============================] - 0s 7ms/step - loss: 0.5487 - accuracy: 0.6985 - val_loss: 0.9693 - val_accuracy: 0.4586\n",
      "Epoch 272/300\n",
      "37/37 [==============================] - 0s 7ms/step - loss: 0.5494 - accuracy: 0.6943 - val_loss: 1.0019 - val_accuracy: 0.4530\n",
      "Epoch 273/300\n",
      "37/37 [==============================] - 0s 6ms/step - loss: 0.5503 - accuracy: 0.7012 - val_loss: 1.0280 - val_accuracy: 0.4475\n",
      "Epoch 274/300\n",
      "37/37 [==============================] - 0s 8ms/step - loss: 0.5316 - accuracy: 0.6971 - val_loss: 1.0068 - val_accuracy: 0.4309\n",
      "Epoch 275/300\n",
      "37/37 [==============================] - 0s 7ms/step - loss: 0.5551 - accuracy: 0.6667 - val_loss: 0.9869 - val_accuracy: 0.4586\n",
      "Epoch 276/300\n",
      "37/37 [==============================] - 0s 7ms/step - loss: 0.5448 - accuracy: 0.6860 - val_loss: 1.0185 - val_accuracy: 0.4475\n",
      "Epoch 277/300\n",
      "37/37 [==============================] - 0s 7ms/step - loss: 0.5406 - accuracy: 0.6999 - val_loss: 1.0126 - val_accuracy: 0.4475\n",
      "Epoch 278/300\n",
      "37/37 [==============================] - 0s 7ms/step - loss: 0.5565 - accuracy: 0.6846 - val_loss: 0.9914 - val_accuracy: 0.4530\n",
      "Epoch 279/300\n",
      "37/37 [==============================] - 0s 6ms/step - loss: 0.5505 - accuracy: 0.6943 - val_loss: 1.0344 - val_accuracy: 0.4475\n",
      "Epoch 280/300\n",
      "37/37 [==============================] - 0s 7ms/step - loss: 0.5279 - accuracy: 0.7026 - val_loss: 1.0616 - val_accuracy: 0.4475\n",
      "Epoch 281/300\n",
      "37/37 [==============================] - 0s 7ms/step - loss: 0.5418 - accuracy: 0.6833 - val_loss: 1.0291 - val_accuracy: 0.4696\n",
      "Epoch 282/300\n",
      "37/37 [==============================] - 0s 7ms/step - loss: 0.5261 - accuracy: 0.6929 - val_loss: 1.0581 - val_accuracy: 0.4365\n",
      "Epoch 283/300\n",
      "37/37 [==============================] - 0s 6ms/step - loss: 0.5439 - accuracy: 0.6777 - val_loss: 1.0407 - val_accuracy: 0.4751\n",
      "Epoch 284/300\n",
      "37/37 [==============================] - 0s 7ms/step - loss: 0.5482 - accuracy: 0.6943 - val_loss: 1.0368 - val_accuracy: 0.4586\n",
      "Epoch 285/300\n",
      "37/37 [==============================] - 0s 7ms/step - loss: 0.5426 - accuracy: 0.7026 - val_loss: 1.1051 - val_accuracy: 0.4420\n",
      "Epoch 286/300\n",
      "37/37 [==============================] - 0s 7ms/step - loss: 0.5341 - accuracy: 0.7054 - val_loss: 1.0409 - val_accuracy: 0.4475\n",
      "Epoch 287/300\n"
     ]
    },
    {
     "name": "stdout",
     "output_type": "stream",
     "text": [
      "37/37 [==============================] - 0s 7ms/step - loss: 0.5527 - accuracy: 0.6805 - val_loss: 1.0235 - val_accuracy: 0.4586\n",
      "Epoch 288/300\n",
      "37/37 [==============================] - 0s 7ms/step - loss: 0.5352 - accuracy: 0.6916 - val_loss: 1.1238 - val_accuracy: 0.4254\n",
      "Epoch 289/300\n",
      "37/37 [==============================] - 0s 6ms/step - loss: 0.5351 - accuracy: 0.6874 - val_loss: 1.1513 - val_accuracy: 0.4088\n",
      "Epoch 290/300\n",
      "37/37 [==============================] - 0s 6ms/step - loss: 0.5323 - accuracy: 0.6888 - val_loss: 1.0715 - val_accuracy: 0.4696\n",
      "Epoch 291/300\n",
      "37/37 [==============================] - 0s 7ms/step - loss: 0.5480 - accuracy: 0.6971 - val_loss: 1.0835 - val_accuracy: 0.4530\n",
      "Epoch 292/300\n",
      "37/37 [==============================] - 0s 7ms/step - loss: 0.5350 - accuracy: 0.7012 - val_loss: 1.0641 - val_accuracy: 0.4254\n",
      "Epoch 293/300\n",
      "37/37 [==============================] - 0s 6ms/step - loss: 0.5154 - accuracy: 0.7082 - val_loss: 1.0923 - val_accuracy: 0.4475\n",
      "Epoch 294/300\n",
      "37/37 [==============================] - 0s 7ms/step - loss: 0.5388 - accuracy: 0.7082 - val_loss: 1.0811 - val_accuracy: 0.4420\n",
      "Epoch 295/300\n",
      "37/37 [==============================] - 0s 7ms/step - loss: 0.5276 - accuracy: 0.6957 - val_loss: 1.0690 - val_accuracy: 0.4420\n",
      "Epoch 296/300\n",
      "37/37 [==============================] - 0s 7ms/step - loss: 0.5325 - accuracy: 0.6943 - val_loss: 1.0842 - val_accuracy: 0.4309\n",
      "Epoch 297/300\n",
      "37/37 [==============================] - 0s 7ms/step - loss: 0.5567 - accuracy: 0.6916 - val_loss: 1.0375 - val_accuracy: 0.4420\n",
      "Epoch 298/300\n",
      "37/37 [==============================] - 0s 7ms/step - loss: 0.5263 - accuracy: 0.6860 - val_loss: 1.1296 - val_accuracy: 0.4309\n",
      "Epoch 299/300\n",
      "37/37 [==============================] - 0s 7ms/step - loss: 0.5411 - accuracy: 0.7068 - val_loss: 1.0942 - val_accuracy: 0.4420\n",
      "Epoch 300/300\n",
      "37/37 [==============================] - 0s 7ms/step - loss: 0.5249 - accuracy: 0.7054 - val_loss: 1.1096 - val_accuracy: 0.4365\n"
     ]
    },
    {
     "data": {
      "text/plain": [
       "<keras.callbacks.History at 0x214a8cd1100>"
      ]
     },
     "execution_count": 20,
     "metadata": {},
     "output_type": "execute_result"
    }
   ],
   "source": [
    "from IPython.core.display import display, HTML\n",
    "\n",
    "# Enable horizontal scrolling for output\n",
    "display(HTML(\"<style>pre { white-space: pre !important; }</style>\"))\n",
    "\n",
    "# Generate a long output\n",
    "long_output = \"A\" * 1000\n",
    "\n",
    "model.fit(train_ds, epochs=300, validation_data = val_ds)"
   ]
  },
  {
   "cell_type": "code",
   "execution_count": 21,
   "metadata": {},
   "outputs": [
    {
     "name": "stdout",
     "output_type": "stream",
     "text": [
      "<class 'pandas.core.frame.DataFrame'>\n",
      "RangeIndex: 904 entries, 0 to 903\n",
      "Data columns (total 8 columns):\n",
      " #   Column              Non-Null Count  Dtype  \n",
      "---  ------              --------------  -----  \n",
      " 0   gender              904 non-null    int64  \n",
      " 1   age                 904 non-null    int64  \n",
      " 2   workout_experience  904 non-null    int64  \n",
      " 3   workout_time        904 non-null    int64  \n",
      " 4   weight              904 non-null    int64  \n",
      " 5   height              904 non-null    int64  \n",
      " 6   bmi                 904 non-null    float64\n",
      " 7   fitness_goal        904 non-null    int64  \n",
      "dtypes: float64(1), int64(7)\n",
      "memory usage: 56.6 KB\n"
     ]
    }
   ],
   "source": [
    "df.info()"
   ]
  },
  {
   "cell_type": "code",
   "execution_count": 28,
   "metadata": {},
   "outputs": [],
   "source": [
    "input_data = {\n",
    "    'gender' : 1,\n",
    "    'age'    :21,\n",
    "    'workout_experience' : 0,\n",
    "    'workout_time' : 60,\n",
    "    'weight' : 65,\n",
    "    'height' : 170,\n",
    "    'bmi' : 29\n",
    "}"
   ]
  },
  {
   "cell_type": "code",
   "execution_count": 29,
   "metadata": {},
   "outputs": [],
   "source": [
    "input_dict = {}"
   ]
  },
  {
   "cell_type": "code",
   "execution_count": 30,
   "metadata": {},
   "outputs": [],
   "source": [
    "for feature, value in input_data.items() :\n",
    "    input_dict[feature] = tf.convert_to_tensor([value])"
   ]
  },
  {
   "cell_type": "code",
   "execution_count": 31,
   "metadata": {},
   "outputs": [
    {
     "data": {
      "text/plain": [
       "{'gender': <tf.Tensor: shape=(1,), dtype=int32, numpy=array([1])>,\n",
       " 'age': <tf.Tensor: shape=(1,), dtype=int32, numpy=array([21])>,\n",
       " 'workout_experience': <tf.Tensor: shape=(1,), dtype=int32, numpy=array([0])>,\n",
       " 'workout_time': <tf.Tensor: shape=(1,), dtype=int32, numpy=array([60])>,\n",
       " 'weight': <tf.Tensor: shape=(1,), dtype=int32, numpy=array([65])>,\n",
       " 'height': <tf.Tensor: shape=(1,), dtype=int32, numpy=array([170])>,\n",
       " 'bmi': <tf.Tensor: shape=(1,), dtype=int32, numpy=array([29])>}"
      ]
     },
     "execution_count": 31,
     "metadata": {},
     "output_type": "execute_result"
    }
   ],
   "source": [
    "input_dict"
   ]
  },
  {
   "cell_type": "code",
   "execution_count": 32,
   "metadata": {},
   "outputs": [
    {
     "name": "stdout",
     "output_type": "stream",
     "text": [
      "1/1 [==============================] - 1s 595ms/step\n"
     ]
    }
   ],
   "source": [
    "predictions = model.predict(input_dict)"
   ]
  },
  {
   "cell_type": "code",
   "execution_count": 33,
   "metadata": {},
   "outputs": [
    {
     "data": {
      "text/plain": [
       "array([[0.96186364]], dtype=float32)"
      ]
     },
     "execution_count": 33,
     "metadata": {},
     "output_type": "execute_result"
    }
   ],
   "source": [
    "predictions"
   ]
  },
  {
   "cell_type": "code",
   "execution_count": 34,
   "metadata": {},
   "outputs": [
    {
     "name": "stdout",
     "output_type": "stream",
     "text": [
      "You should do muscle up !\n"
     ]
    }
   ],
   "source": [
    "if predictions[0][0] >= 0.5 :\n",
    "    print(\"You should do muscle up !\")\n",
    "else :\n",
    "    print(\"You should do weight loss !\")"
   ]
  },
  {
   "cell_type": "code",
   "execution_count": 35,
   "metadata": {},
   "outputs": [
    {
     "ename": "KeyboardInterrupt",
     "evalue": "",
     "output_type": "error",
     "traceback": [
      "\u001b[1;31m---------------------------------------------------------------------------\u001b[0m",
      "\u001b[1;31mKeyboardInterrupt\u001b[0m                         Traceback (most recent call last)",
      "\u001b[1;32mC:\\Users\\FERIAN~1\\AppData\\Local\\Temp/ipykernel_2308/996062217.py\u001b[0m in \u001b[0;36m<module>\u001b[1;34m\u001b[0m\n\u001b[0;32m      2\u001b[0m \u001b[1;33m\u001b[0m\u001b[0m\n\u001b[0;32m      3\u001b[0m \u001b[1;31m# Save the trained model to a file\u001b[0m\u001b[1;33m\u001b[0m\u001b[1;33m\u001b[0m\u001b[1;33m\u001b[0m\u001b[0m\n\u001b[1;32m----> 4\u001b[1;33m \u001b[0mjoblib\u001b[0m\u001b[1;33m.\u001b[0m\u001b[0mdump\u001b[0m\u001b[1;33m(\u001b[0m\u001b[0mmodel\u001b[0m\u001b[1;33m,\u001b[0m \u001b[1;34m'model_1_v2.pkl'\u001b[0m\u001b[1;33m)\u001b[0m\u001b[1;33m\u001b[0m\u001b[1;33m\u001b[0m\u001b[0m\n\u001b[0m",
      "\u001b[1;32mc:\\users\\feri andika\\appdata\\local\\programs\\python\\python39\\lib\\site-packages\\joblib\\numpy_pickle.py\u001b[0m in \u001b[0;36mdump\u001b[1;34m(value, filename, compress, protocol, cache_size)\u001b[0m\n\u001b[0;32m    478\u001b[0m     \u001b[1;32melif\u001b[0m \u001b[0mis_filename\u001b[0m\u001b[1;33m:\u001b[0m\u001b[1;33m\u001b[0m\u001b[1;33m\u001b[0m\u001b[0m\n\u001b[0;32m    479\u001b[0m         \u001b[1;32mwith\u001b[0m \u001b[0mopen\u001b[0m\u001b[1;33m(\u001b[0m\u001b[0mfilename\u001b[0m\u001b[1;33m,\u001b[0m \u001b[1;34m'wb'\u001b[0m\u001b[1;33m)\u001b[0m \u001b[1;32mas\u001b[0m \u001b[0mf\u001b[0m\u001b[1;33m:\u001b[0m\u001b[1;33m\u001b[0m\u001b[1;33m\u001b[0m\u001b[0m\n\u001b[1;32m--> 480\u001b[1;33m             \u001b[0mNumpyPickler\u001b[0m\u001b[1;33m(\u001b[0m\u001b[0mf\u001b[0m\u001b[1;33m,\u001b[0m \u001b[0mprotocol\u001b[0m\u001b[1;33m=\u001b[0m\u001b[0mprotocol\u001b[0m\u001b[1;33m)\u001b[0m\u001b[1;33m.\u001b[0m\u001b[0mdump\u001b[0m\u001b[1;33m(\u001b[0m\u001b[0mvalue\u001b[0m\u001b[1;33m)\u001b[0m\u001b[1;33m\u001b[0m\u001b[1;33m\u001b[0m\u001b[0m\n\u001b[0m\u001b[0;32m    481\u001b[0m     \u001b[1;32melse\u001b[0m\u001b[1;33m:\u001b[0m\u001b[1;33m\u001b[0m\u001b[1;33m\u001b[0m\u001b[0m\n\u001b[0;32m    482\u001b[0m         \u001b[0mNumpyPickler\u001b[0m\u001b[1;33m(\u001b[0m\u001b[0mfilename\u001b[0m\u001b[1;33m,\u001b[0m \u001b[0mprotocol\u001b[0m\u001b[1;33m=\u001b[0m\u001b[0mprotocol\u001b[0m\u001b[1;33m)\u001b[0m\u001b[1;33m.\u001b[0m\u001b[0mdump\u001b[0m\u001b[1;33m(\u001b[0m\u001b[0mvalue\u001b[0m\u001b[1;33m)\u001b[0m\u001b[1;33m\u001b[0m\u001b[1;33m\u001b[0m\u001b[0m\n",
      "\u001b[1;32mc:\\users\\feri andika\\appdata\\local\\programs\\python\\python39\\lib\\pickle.py\u001b[0m in \u001b[0;36mdump\u001b[1;34m(self, obj)\u001b[0m\n\u001b[0;32m    485\u001b[0m         \u001b[1;32mif\u001b[0m \u001b[0mself\u001b[0m\u001b[1;33m.\u001b[0m\u001b[0mproto\u001b[0m \u001b[1;33m>=\u001b[0m \u001b[1;36m4\u001b[0m\u001b[1;33m:\u001b[0m\u001b[1;33m\u001b[0m\u001b[1;33m\u001b[0m\u001b[0m\n\u001b[0;32m    486\u001b[0m             \u001b[0mself\u001b[0m\u001b[1;33m.\u001b[0m\u001b[0mframer\u001b[0m\u001b[1;33m.\u001b[0m\u001b[0mstart_framing\u001b[0m\u001b[1;33m(\u001b[0m\u001b[1;33m)\u001b[0m\u001b[1;33m\u001b[0m\u001b[1;33m\u001b[0m\u001b[0m\n\u001b[1;32m--> 487\u001b[1;33m         \u001b[0mself\u001b[0m\u001b[1;33m.\u001b[0m\u001b[0msave\u001b[0m\u001b[1;33m(\u001b[0m\u001b[0mobj\u001b[0m\u001b[1;33m)\u001b[0m\u001b[1;33m\u001b[0m\u001b[1;33m\u001b[0m\u001b[0m\n\u001b[0m\u001b[0;32m    488\u001b[0m         \u001b[0mself\u001b[0m\u001b[1;33m.\u001b[0m\u001b[0mwrite\u001b[0m\u001b[1;33m(\u001b[0m\u001b[0mSTOP\u001b[0m\u001b[1;33m)\u001b[0m\u001b[1;33m\u001b[0m\u001b[1;33m\u001b[0m\u001b[0m\n\u001b[0;32m    489\u001b[0m         \u001b[0mself\u001b[0m\u001b[1;33m.\u001b[0m\u001b[0mframer\u001b[0m\u001b[1;33m.\u001b[0m\u001b[0mend_framing\u001b[0m\u001b[1;33m(\u001b[0m\u001b[1;33m)\u001b[0m\u001b[1;33m\u001b[0m\u001b[1;33m\u001b[0m\u001b[0m\n",
      "\u001b[1;32mc:\\users\\feri andika\\appdata\\local\\programs\\python\\python39\\lib\\site-packages\\joblib\\numpy_pickle.py\u001b[0m in \u001b[0;36msave\u001b[1;34m(self, obj)\u001b[0m\n\u001b[0;32m    280\u001b[0m             \u001b[1;32mreturn\u001b[0m\u001b[1;33m\u001b[0m\u001b[1;33m\u001b[0m\u001b[0m\n\u001b[0;32m    281\u001b[0m \u001b[1;33m\u001b[0m\u001b[0m\n\u001b[1;32m--> 282\u001b[1;33m         \u001b[1;32mreturn\u001b[0m \u001b[0mPickler\u001b[0m\u001b[1;33m.\u001b[0m\u001b[0msave\u001b[0m\u001b[1;33m(\u001b[0m\u001b[0mself\u001b[0m\u001b[1;33m,\u001b[0m \u001b[0mobj\u001b[0m\u001b[1;33m)\u001b[0m\u001b[1;33m\u001b[0m\u001b[1;33m\u001b[0m\u001b[0m\n\u001b[0m\u001b[0;32m    283\u001b[0m \u001b[1;33m\u001b[0m\u001b[0m\n\u001b[0;32m    284\u001b[0m \u001b[1;33m\u001b[0m\u001b[0m\n",
      "\u001b[1;32mc:\\users\\feri andika\\appdata\\local\\programs\\python\\python39\\lib\\pickle.py\u001b[0m in \u001b[0;36msave\u001b[1;34m(self, obj, save_persistent_id)\u001b[0m\n\u001b[0;32m    576\u001b[0m                 \u001b[0mreduce\u001b[0m \u001b[1;33m=\u001b[0m \u001b[0mgetattr\u001b[0m\u001b[1;33m(\u001b[0m\u001b[0mobj\u001b[0m\u001b[1;33m,\u001b[0m \u001b[1;34m\"__reduce_ex__\"\u001b[0m\u001b[1;33m,\u001b[0m \u001b[1;32mNone\u001b[0m\u001b[1;33m)\u001b[0m\u001b[1;33m\u001b[0m\u001b[1;33m\u001b[0m\u001b[0m\n\u001b[0;32m    577\u001b[0m                 \u001b[1;32mif\u001b[0m \u001b[0mreduce\u001b[0m \u001b[1;32mis\u001b[0m \u001b[1;32mnot\u001b[0m \u001b[1;32mNone\u001b[0m\u001b[1;33m:\u001b[0m\u001b[1;33m\u001b[0m\u001b[1;33m\u001b[0m\u001b[0m\n\u001b[1;32m--> 578\u001b[1;33m                     \u001b[0mrv\u001b[0m \u001b[1;33m=\u001b[0m \u001b[0mreduce\u001b[0m\u001b[1;33m(\u001b[0m\u001b[0mself\u001b[0m\u001b[1;33m.\u001b[0m\u001b[0mproto\u001b[0m\u001b[1;33m)\u001b[0m\u001b[1;33m\u001b[0m\u001b[1;33m\u001b[0m\u001b[0m\n\u001b[0m\u001b[0;32m    579\u001b[0m                 \u001b[1;32melse\u001b[0m\u001b[1;33m:\u001b[0m\u001b[1;33m\u001b[0m\u001b[1;33m\u001b[0m\u001b[0m\n\u001b[0;32m    580\u001b[0m                     \u001b[0mreduce\u001b[0m \u001b[1;33m=\u001b[0m \u001b[0mgetattr\u001b[0m\u001b[1;33m(\u001b[0m\u001b[0mobj\u001b[0m\u001b[1;33m,\u001b[0m \u001b[1;34m\"__reduce__\"\u001b[0m\u001b[1;33m,\u001b[0m \u001b[1;32mNone\u001b[0m\u001b[1;33m)\u001b[0m\u001b[1;33m\u001b[0m\u001b[1;33m\u001b[0m\u001b[0m\n",
      "\u001b[1;32mc:\\users\\feri andika\\appdata\\local\\programs\\python\\python39\\lib\\site-packages\\keras\\engine\\training.py\u001b[0m in \u001b[0;36m__reduce__\u001b[1;34m(self)\u001b[0m\n\u001b[0;32m    361\u001b[0m             return (\n\u001b[0;32m    362\u001b[0m                 \u001b[0mpickle_utils\u001b[0m\u001b[1;33m.\u001b[0m\u001b[0mdeserialize_model_from_bytecode\u001b[0m\u001b[1;33m,\u001b[0m\u001b[1;33m\u001b[0m\u001b[1;33m\u001b[0m\u001b[0m\n\u001b[1;32m--> 363\u001b[1;33m                 \u001b[0mpickle_utils\u001b[0m\u001b[1;33m.\u001b[0m\u001b[0mserialize_model_as_bytecode\u001b[0m\u001b[1;33m(\u001b[0m\u001b[0mself\u001b[0m\u001b[1;33m)\u001b[0m\u001b[1;33m,\u001b[0m\u001b[1;33m\u001b[0m\u001b[1;33m\u001b[0m\u001b[0m\n\u001b[0m\u001b[0;32m    364\u001b[0m             )\n\u001b[0;32m    365\u001b[0m         \u001b[1;32melse\u001b[0m\u001b[1;33m:\u001b[0m\u001b[1;33m\u001b[0m\u001b[1;33m\u001b[0m\u001b[0m\n",
      "\u001b[1;32mc:\\users\\feri andika\\appdata\\local\\programs\\python\\python39\\lib\\site-packages\\keras\\saving\\pickle_utils.py\u001b[0m in \u001b[0;36mserialize_model_as_bytecode\u001b[1;34m(model)\u001b[0m\n\u001b[0;32m     61\u001b[0m     \"\"\"\n\u001b[0;32m     62\u001b[0m     \u001b[0mtemp_dir\u001b[0m \u001b[1;33m=\u001b[0m \u001b[1;34mf\"ram://{uuid.uuid4()}\"\u001b[0m\u001b[1;33m\u001b[0m\u001b[1;33m\u001b[0m\u001b[0m\n\u001b[1;32m---> 63\u001b[1;33m     \u001b[0mmodel\u001b[0m\u001b[1;33m.\u001b[0m\u001b[0msave\u001b[0m\u001b[1;33m(\u001b[0m\u001b[0mtemp_dir\u001b[0m\u001b[1;33m)\u001b[0m\u001b[1;33m\u001b[0m\u001b[1;33m\u001b[0m\u001b[0m\n\u001b[0m\u001b[0;32m     64\u001b[0m     \u001b[0mb\u001b[0m \u001b[1;33m=\u001b[0m \u001b[0mio\u001b[0m\u001b[1;33m.\u001b[0m\u001b[0mBytesIO\u001b[0m\u001b[1;33m(\u001b[0m\u001b[1;33m)\u001b[0m\u001b[1;33m\u001b[0m\u001b[1;33m\u001b[0m\u001b[0m\n\u001b[0;32m     65\u001b[0m     \u001b[1;32mwith\u001b[0m \u001b[0mtarfile\u001b[0m\u001b[1;33m.\u001b[0m\u001b[0mopen\u001b[0m\u001b[1;33m(\u001b[0m\u001b[0mfileobj\u001b[0m\u001b[1;33m=\u001b[0m\u001b[0mb\u001b[0m\u001b[1;33m,\u001b[0m \u001b[0mmode\u001b[0m\u001b[1;33m=\u001b[0m\u001b[1;34m\"w\"\u001b[0m\u001b[1;33m)\u001b[0m \u001b[1;32mas\u001b[0m \u001b[0marchive\u001b[0m\u001b[1;33m:\u001b[0m\u001b[1;33m\u001b[0m\u001b[1;33m\u001b[0m\u001b[0m\n",
      "\u001b[1;32mc:\\users\\feri andika\\appdata\\local\\programs\\python\\python39\\lib\\site-packages\\keras\\utils\\traceback_utils.py\u001b[0m in \u001b[0;36merror_handler\u001b[1;34m(*args, **kwargs)\u001b[0m\n\u001b[0;32m     63\u001b[0m         \u001b[0mfiltered_tb\u001b[0m \u001b[1;33m=\u001b[0m \u001b[1;32mNone\u001b[0m\u001b[1;33m\u001b[0m\u001b[1;33m\u001b[0m\u001b[0m\n\u001b[0;32m     64\u001b[0m         \u001b[1;32mtry\u001b[0m\u001b[1;33m:\u001b[0m\u001b[1;33m\u001b[0m\u001b[1;33m\u001b[0m\u001b[0m\n\u001b[1;32m---> 65\u001b[1;33m             \u001b[1;32mreturn\u001b[0m \u001b[0mfn\u001b[0m\u001b[1;33m(\u001b[0m\u001b[1;33m*\u001b[0m\u001b[0margs\u001b[0m\u001b[1;33m,\u001b[0m \u001b[1;33m**\u001b[0m\u001b[0mkwargs\u001b[0m\u001b[1;33m)\u001b[0m\u001b[1;33m\u001b[0m\u001b[1;33m\u001b[0m\u001b[0m\n\u001b[0m\u001b[0;32m     66\u001b[0m         \u001b[1;32mexcept\u001b[0m \u001b[0mException\u001b[0m \u001b[1;32mas\u001b[0m \u001b[0me\u001b[0m\u001b[1;33m:\u001b[0m\u001b[1;33m\u001b[0m\u001b[1;33m\u001b[0m\u001b[0m\n\u001b[0;32m     67\u001b[0m             \u001b[0mfiltered_tb\u001b[0m \u001b[1;33m=\u001b[0m \u001b[0m_process_traceback_frames\u001b[0m\u001b[1;33m(\u001b[0m\u001b[0me\u001b[0m\u001b[1;33m.\u001b[0m\u001b[0m__traceback__\u001b[0m\u001b[1;33m)\u001b[0m\u001b[1;33m\u001b[0m\u001b[1;33m\u001b[0m\u001b[0m\n",
      "\u001b[1;32mc:\\users\\feri andika\\appdata\\local\\programs\\python\\python39\\lib\\site-packages\\keras\\engine\\training.py\u001b[0m in \u001b[0;36msave\u001b[1;34m(self, filepath, overwrite, include_optimizer, save_format, signatures, options, save_traces)\u001b[0m\n\u001b[0;32m   2696\u001b[0m         \"\"\"\n\u001b[0;32m   2697\u001b[0m \u001b[1;33m\u001b[0m\u001b[0m\n\u001b[1;32m-> 2698\u001b[1;33m         save.save_model(\n\u001b[0m\u001b[0;32m   2699\u001b[0m             \u001b[0mself\u001b[0m\u001b[1;33m,\u001b[0m\u001b[1;33m\u001b[0m\u001b[1;33m\u001b[0m\u001b[0m\n\u001b[0;32m   2700\u001b[0m             \u001b[0mfilepath\u001b[0m\u001b[1;33m,\u001b[0m\u001b[1;33m\u001b[0m\u001b[1;33m\u001b[0m\u001b[0m\n",
      "\u001b[1;32mc:\\users\\feri andika\\appdata\\local\\programs\\python\\python39\\lib\\site-packages\\keras\\utils\\traceback_utils.py\u001b[0m in \u001b[0;36merror_handler\u001b[1;34m(*args, **kwargs)\u001b[0m\n\u001b[0;32m     63\u001b[0m         \u001b[0mfiltered_tb\u001b[0m \u001b[1;33m=\u001b[0m \u001b[1;32mNone\u001b[0m\u001b[1;33m\u001b[0m\u001b[1;33m\u001b[0m\u001b[0m\n\u001b[0;32m     64\u001b[0m         \u001b[1;32mtry\u001b[0m\u001b[1;33m:\u001b[0m\u001b[1;33m\u001b[0m\u001b[1;33m\u001b[0m\u001b[0m\n\u001b[1;32m---> 65\u001b[1;33m             \u001b[1;32mreturn\u001b[0m \u001b[0mfn\u001b[0m\u001b[1;33m(\u001b[0m\u001b[1;33m*\u001b[0m\u001b[0margs\u001b[0m\u001b[1;33m,\u001b[0m \u001b[1;33m**\u001b[0m\u001b[0mkwargs\u001b[0m\u001b[1;33m)\u001b[0m\u001b[1;33m\u001b[0m\u001b[1;33m\u001b[0m\u001b[0m\n\u001b[0m\u001b[0;32m     66\u001b[0m         \u001b[1;32mexcept\u001b[0m \u001b[0mException\u001b[0m \u001b[1;32mas\u001b[0m \u001b[0me\u001b[0m\u001b[1;33m:\u001b[0m\u001b[1;33m\u001b[0m\u001b[1;33m\u001b[0m\u001b[0m\n\u001b[0;32m     67\u001b[0m             \u001b[0mfiltered_tb\u001b[0m \u001b[1;33m=\u001b[0m \u001b[0m_process_traceback_frames\u001b[0m\u001b[1;33m(\u001b[0m\u001b[0me\u001b[0m\u001b[1;33m.\u001b[0m\u001b[0m__traceback__\u001b[0m\u001b[1;33m)\u001b[0m\u001b[1;33m\u001b[0m\u001b[1;33m\u001b[0m\u001b[0m\n",
      "\u001b[1;32mc:\\users\\feri andika\\appdata\\local\\programs\\python\\python39\\lib\\site-packages\\keras\\saving\\save.py\u001b[0m in \u001b[0;36msave_model\u001b[1;34m(model, filepath, overwrite, include_optimizer, save_format, signatures, options, save_traces)\u001b[0m\n\u001b[0;32m    164\u001b[0m     \u001b[1;32melse\u001b[0m\u001b[1;33m:\u001b[0m\u001b[1;33m\u001b[0m\u001b[1;33m\u001b[0m\u001b[0m\n\u001b[0;32m    165\u001b[0m         \u001b[1;32mwith\u001b[0m \u001b[0mgeneric_utils\u001b[0m\u001b[1;33m.\u001b[0m\u001b[0mSharedObjectSavingScope\u001b[0m\u001b[1;33m(\u001b[0m\u001b[1;33m)\u001b[0m\u001b[1;33m:\u001b[0m\u001b[1;33m\u001b[0m\u001b[1;33m\u001b[0m\u001b[0m\n\u001b[1;32m--> 166\u001b[1;33m             saved_model_save.save(\n\u001b[0m\u001b[0;32m    167\u001b[0m                 \u001b[0mmodel\u001b[0m\u001b[1;33m,\u001b[0m\u001b[1;33m\u001b[0m\u001b[1;33m\u001b[0m\u001b[0m\n\u001b[0;32m    168\u001b[0m                 \u001b[0mfilepath\u001b[0m\u001b[1;33m,\u001b[0m\u001b[1;33m\u001b[0m\u001b[1;33m\u001b[0m\u001b[0m\n",
      "\u001b[1;32mc:\\users\\feri andika\\appdata\\local\\programs\\python\\python39\\lib\\site-packages\\keras\\saving\\saved_model\\save.py\u001b[0m in \u001b[0;36msave\u001b[1;34m(model, filepath, overwrite, include_optimizer, signatures, options, save_traces)\u001b[0m\n\u001b[0;32m     95\u001b[0m     \u001b[1;32mwith\u001b[0m \u001b[0mbackend\u001b[0m\u001b[1;33m.\u001b[0m\u001b[0mdeprecated_internal_learning_phase_scope\u001b[0m\u001b[1;33m(\u001b[0m\u001b[1;36m0\u001b[0m\u001b[1;33m)\u001b[0m\u001b[1;33m:\u001b[0m\u001b[1;33m\u001b[0m\u001b[1;33m\u001b[0m\u001b[0m\n\u001b[0;32m     96\u001b[0m         \u001b[1;32mwith\u001b[0m \u001b[0mutils\u001b[0m\u001b[1;33m.\u001b[0m\u001b[0mkeras_option_scope\u001b[0m\u001b[1;33m(\u001b[0m\u001b[0msave_traces\u001b[0m\u001b[1;33m)\u001b[0m\u001b[1;33m:\u001b[0m\u001b[1;33m\u001b[0m\u001b[1;33m\u001b[0m\u001b[0m\n\u001b[1;32m---> 97\u001b[1;33m             saved_nodes, node_paths = save_lib.save_and_return_nodes(\n\u001b[0m\u001b[0;32m     98\u001b[0m                 \u001b[0mmodel\u001b[0m\u001b[1;33m,\u001b[0m \u001b[0mfilepath\u001b[0m\u001b[1;33m,\u001b[0m \u001b[0msignatures\u001b[0m\u001b[1;33m,\u001b[0m \u001b[0moptions\u001b[0m\u001b[1;33m\u001b[0m\u001b[1;33m\u001b[0m\u001b[0m\n\u001b[0;32m     99\u001b[0m             )\n",
      "\u001b[1;32mc:\\users\\feri andika\\appdata\\local\\programs\\python\\python39\\lib\\site-packages\\tensorflow\\python\\saved_model\\save.py\u001b[0m in \u001b[0;36msave_and_return_nodes\u001b[1;34m(obj, export_dir, signatures, options, experimental_skip_checkpoint)\u001b[0m\n\u001b[0;32m   1266\u001b[0m \u001b[1;33m\u001b[0m\u001b[0m\n\u001b[0;32m   1267\u001b[0m   _, exported_graph, object_saver, asset_info, saved_nodes, node_paths = (\n\u001b[1;32m-> 1268\u001b[1;33m       _build_meta_graph(obj, signatures, options, meta_graph_def))\n\u001b[0m\u001b[0;32m   1269\u001b[0m   saved_model.saved_model_schema_version = (\n\u001b[0;32m   1270\u001b[0m       constants.SAVED_MODEL_SCHEMA_VERSION)\n",
      "\u001b[1;32mc:\\users\\feri andika\\appdata\\local\\programs\\python\\python39\\lib\\site-packages\\tensorflow\\python\\saved_model\\save.py\u001b[0m in \u001b[0;36m_build_meta_graph\u001b[1;34m(obj, signatures, options, meta_graph_def)\u001b[0m\n\u001b[0;32m   1439\u001b[0m \u001b[1;33m\u001b[0m\u001b[0m\n\u001b[0;32m   1440\u001b[0m   \u001b[1;32mwith\u001b[0m \u001b[0msave_context\u001b[0m\u001b[1;33m.\u001b[0m\u001b[0msave_context\u001b[0m\u001b[1;33m(\u001b[0m\u001b[0moptions\u001b[0m\u001b[1;33m)\u001b[0m\u001b[1;33m:\u001b[0m\u001b[1;33m\u001b[0m\u001b[1;33m\u001b[0m\u001b[0m\n\u001b[1;32m-> 1441\u001b[1;33m     \u001b[1;32mreturn\u001b[0m \u001b[0m_build_meta_graph_impl\u001b[0m\u001b[1;33m(\u001b[0m\u001b[0mobj\u001b[0m\u001b[1;33m,\u001b[0m \u001b[0msignatures\u001b[0m\u001b[1;33m,\u001b[0m \u001b[0moptions\u001b[0m\u001b[1;33m,\u001b[0m \u001b[0mmeta_graph_def\u001b[0m\u001b[1;33m)\u001b[0m\u001b[1;33m\u001b[0m\u001b[1;33m\u001b[0m\u001b[0m\n\u001b[0m",
      "\u001b[1;32mc:\\users\\feri andika\\appdata\\local\\programs\\python\\python39\\lib\\site-packages\\tensorflow\\python\\saved_model\\save.py\u001b[0m in \u001b[0;36m_build_meta_graph_impl\u001b[1;34m(obj, signatures, options, meta_graph_def)\u001b[0m\n\u001b[0;32m   1403\u001b[0m         \u001b[0mfunction_aliases\u001b[0m\u001b[1;33m[\u001b[0m\u001b[0mfdef\u001b[0m\u001b[1;33m.\u001b[0m\u001b[0mname\u001b[0m\u001b[1;33m]\u001b[0m \u001b[1;33m=\u001b[0m \u001b[0malias\u001b[0m\u001b[1;33m\u001b[0m\u001b[1;33m\u001b[0m\u001b[0m\n\u001b[0;32m   1404\u001b[0m \u001b[1;33m\u001b[0m\u001b[0m\n\u001b[1;32m-> 1405\u001b[1;33m   object_graph_proto = _serialize_object_graph(saveable_view,\n\u001b[0m\u001b[0;32m   1406\u001b[0m                                                asset_info.asset_index)\n\u001b[0;32m   1407\u001b[0m   \u001b[0mmeta_graph_def\u001b[0m\u001b[1;33m.\u001b[0m\u001b[0mobject_graph_def\u001b[0m\u001b[1;33m.\u001b[0m\u001b[0mCopyFrom\u001b[0m\u001b[1;33m(\u001b[0m\u001b[0mobject_graph_proto\u001b[0m\u001b[1;33m)\u001b[0m\u001b[1;33m\u001b[0m\u001b[1;33m\u001b[0m\u001b[0m\n",
      "\u001b[1;32mc:\\users\\feri andika\\appdata\\local\\programs\\python\\python39\\lib\\site-packages\\tensorflow\\python\\saved_model\\save.py\u001b[0m in \u001b[0;36m_serialize_object_graph\u001b[1;34m(saveable_view, asset_file_def_index)\u001b[0m\n\u001b[0;32m    965\u001b[0m   \u001b[1;32mfor\u001b[0m \u001b[0mconcrete_function\u001b[0m \u001b[1;32min\u001b[0m \u001b[0msaveable_view\u001b[0m\u001b[1;33m.\u001b[0m\u001b[0mconcrete_and_gradient_functions\u001b[0m\u001b[1;33m:\u001b[0m\u001b[1;33m\u001b[0m\u001b[1;33m\u001b[0m\u001b[0m\n\u001b[0;32m    966\u001b[0m     \u001b[0mname\u001b[0m \u001b[1;33m=\u001b[0m \u001b[0mcompat\u001b[0m\u001b[1;33m.\u001b[0m\u001b[0mas_text\u001b[0m\u001b[1;33m(\u001b[0m\u001b[0mconcrete_function\u001b[0m\u001b[1;33m.\u001b[0m\u001b[0mname\u001b[0m\u001b[1;33m)\u001b[0m\u001b[1;33m\u001b[0m\u001b[1;33m\u001b[0m\u001b[0m\n\u001b[1;32m--> 967\u001b[1;33m     serialized = function_serialization.serialize_concrete_function(\n\u001b[0m\u001b[0;32m    968\u001b[0m         concrete_function, saveable_view.captured_tensor_node_ids)\n\u001b[0;32m    969\u001b[0m     \u001b[1;32mif\u001b[0m \u001b[0mserialized\u001b[0m \u001b[1;32mis\u001b[0m \u001b[1;32mnot\u001b[0m \u001b[1;32mNone\u001b[0m\u001b[1;33m:\u001b[0m\u001b[1;33m\u001b[0m\u001b[1;33m\u001b[0m\u001b[0m\n",
      "\u001b[1;32mc:\\users\\feri andika\\appdata\\local\\programs\\python\\python39\\lib\\site-packages\\tensorflow\\python\\saved_model\\function_serialization.py\u001b[0m in \u001b[0;36mserialize_concrete_function\u001b[1;34m(concrete_function, node_ids)\u001b[0m\n\u001b[0;32m     71\u001b[0m       concrete_function.structured_outputs)\n\u001b[0;32m     72\u001b[0m   concrete_function_proto.canonicalized_input_signature.CopyFrom(\n\u001b[1;32m---> 73\u001b[1;33m       nested_structure_coder.encode_structure(\n\u001b[0m\u001b[0;32m     74\u001b[0m           concrete_function.structured_input_signature))\n\u001b[0;32m     75\u001b[0m   concrete_function_proto.output_signature.CopyFrom(\n",
      "\u001b[1;32mc:\\users\\feri andika\\appdata\\local\\programs\\python\\python39\\lib\\site-packages\\tensorflow\\python\\saved_model\\nested_structure_coder.py\u001b[0m in \u001b[0;36mencode_structure\u001b[1;34m(nested_structure)\u001b[0m\n\u001b[0;32m    101\u001b[0m     \u001b[0mNotEncodableError\u001b[0m\u001b[1;33m:\u001b[0m \u001b[0mFor\u001b[0m \u001b[0mvalues\u001b[0m \u001b[1;32mfor\u001b[0m \u001b[0mwhich\u001b[0m \u001b[0mthere\u001b[0m \u001b[0mare\u001b[0m \u001b[0mno\u001b[0m \u001b[0mencoders\u001b[0m\u001b[1;33m.\u001b[0m\u001b[1;33m\u001b[0m\u001b[1;33m\u001b[0m\u001b[0m\n\u001b[0;32m    102\u001b[0m   \"\"\"\n\u001b[1;32m--> 103\u001b[1;33m   \u001b[1;32mreturn\u001b[0m \u001b[0m_map_structure\u001b[0m\u001b[1;33m(\u001b[0m\u001b[0mnested_structure\u001b[0m\u001b[1;33m,\u001b[0m \u001b[0m_get_encoders\u001b[0m\u001b[1;33m(\u001b[0m\u001b[1;33m)\u001b[0m\u001b[1;33m)\u001b[0m\u001b[1;33m\u001b[0m\u001b[1;33m\u001b[0m\u001b[0m\n\u001b[0m\u001b[0;32m    104\u001b[0m \u001b[1;33m\u001b[0m\u001b[0m\n\u001b[0;32m    105\u001b[0m \u001b[1;33m\u001b[0m\u001b[0m\n",
      "\u001b[1;32mc:\\users\\feri andika\\appdata\\local\\programs\\python\\python39\\lib\\site-packages\\tensorflow\\python\\saved_model\\nested_structure_coder.py\u001b[0m in \u001b[0;36m_map_structure\u001b[1;34m(pyobj, coders)\u001b[0m\n\u001b[0;32m     83\u001b[0m     \u001b[1;32mif\u001b[0m \u001b[0mcan\u001b[0m\u001b[1;33m(\u001b[0m\u001b[0mpyobj\u001b[0m\u001b[1;33m)\u001b[0m\u001b[1;33m:\u001b[0m\u001b[1;33m\u001b[0m\u001b[1;33m\u001b[0m\u001b[0m\n\u001b[0;32m     84\u001b[0m       \u001b[0mrecursion_fn\u001b[0m \u001b[1;33m=\u001b[0m \u001b[0mfunctools\u001b[0m\u001b[1;33m.\u001b[0m\u001b[0mpartial\u001b[0m\u001b[1;33m(\u001b[0m\u001b[0m_map_structure\u001b[0m\u001b[1;33m,\u001b[0m \u001b[0mcoders\u001b[0m\u001b[1;33m=\u001b[0m\u001b[0mcoders\u001b[0m\u001b[1;33m)\u001b[0m\u001b[1;33m\u001b[0m\u001b[1;33m\u001b[0m\u001b[0m\n\u001b[1;32m---> 85\u001b[1;33m       \u001b[1;32mreturn\u001b[0m \u001b[0mdo\u001b[0m\u001b[1;33m(\u001b[0m\u001b[0mpyobj\u001b[0m\u001b[1;33m,\u001b[0m \u001b[0mrecursion_fn\u001b[0m\u001b[1;33m)\u001b[0m\u001b[1;33m\u001b[0m\u001b[1;33m\u001b[0m\u001b[0m\n\u001b[0m\u001b[0;32m     86\u001b[0m   raise NotEncodableError(\n\u001b[0;32m     87\u001b[0m       f\"No encoder for object {str(pyobj)} of type {type(pyobj)}.\")\n",
      "\u001b[1;32mc:\\users\\feri andika\\appdata\\local\\programs\\python\\python39\\lib\\site-packages\\tensorflow\\python\\saved_model\\nested_structure_coder.py\u001b[0m in \u001b[0;36mdo_encode\u001b[1;34m(self, tuple_value, encode_fn)\u001b[0m\n\u001b[0;32m    186\u001b[0m     \u001b[0mencoded_tuple\u001b[0m\u001b[1;33m.\u001b[0m\u001b[0mtuple_value\u001b[0m\u001b[1;33m.\u001b[0m\u001b[0mCopyFrom\u001b[0m\u001b[1;33m(\u001b[0m\u001b[0mstruct_pb2\u001b[0m\u001b[1;33m.\u001b[0m\u001b[0mTupleValue\u001b[0m\u001b[1;33m(\u001b[0m\u001b[1;33m)\u001b[0m\u001b[1;33m)\u001b[0m\u001b[1;33m\u001b[0m\u001b[1;33m\u001b[0m\u001b[0m\n\u001b[0;32m    187\u001b[0m     \u001b[1;32mfor\u001b[0m \u001b[0melement\u001b[0m \u001b[1;32min\u001b[0m \u001b[0mtuple_value\u001b[0m\u001b[1;33m:\u001b[0m\u001b[1;33m\u001b[0m\u001b[1;33m\u001b[0m\u001b[0m\n\u001b[1;32m--> 188\u001b[1;33m       \u001b[0mencoded_tuple\u001b[0m\u001b[1;33m.\u001b[0m\u001b[0mtuple_value\u001b[0m\u001b[1;33m.\u001b[0m\u001b[0mvalues\u001b[0m\u001b[1;33m.\u001b[0m\u001b[0madd\u001b[0m\u001b[1;33m(\u001b[0m\u001b[1;33m)\u001b[0m\u001b[1;33m.\u001b[0m\u001b[0mCopyFrom\u001b[0m\u001b[1;33m(\u001b[0m\u001b[0mencode_fn\u001b[0m\u001b[1;33m(\u001b[0m\u001b[0melement\u001b[0m\u001b[1;33m)\u001b[0m\u001b[1;33m)\u001b[0m\u001b[1;33m\u001b[0m\u001b[1;33m\u001b[0m\u001b[0m\n\u001b[0m\u001b[0;32m    189\u001b[0m     \u001b[1;32mreturn\u001b[0m \u001b[0mencoded_tuple\u001b[0m\u001b[1;33m\u001b[0m\u001b[1;33m\u001b[0m\u001b[0m\n\u001b[0;32m    190\u001b[0m \u001b[1;33m\u001b[0m\u001b[0m\n",
      "\u001b[1;32mc:\\users\\feri andika\\appdata\\local\\programs\\python\\python39\\lib\\site-packages\\tensorflow\\python\\saved_model\\nested_structure_coder.py\u001b[0m in \u001b[0;36m_map_structure\u001b[1;34m(pyobj, coders)\u001b[0m\n\u001b[0;32m     83\u001b[0m     \u001b[1;32mif\u001b[0m \u001b[0mcan\u001b[0m\u001b[1;33m(\u001b[0m\u001b[0mpyobj\u001b[0m\u001b[1;33m)\u001b[0m\u001b[1;33m:\u001b[0m\u001b[1;33m\u001b[0m\u001b[1;33m\u001b[0m\u001b[0m\n\u001b[0;32m     84\u001b[0m       \u001b[0mrecursion_fn\u001b[0m \u001b[1;33m=\u001b[0m \u001b[0mfunctools\u001b[0m\u001b[1;33m.\u001b[0m\u001b[0mpartial\u001b[0m\u001b[1;33m(\u001b[0m\u001b[0m_map_structure\u001b[0m\u001b[1;33m,\u001b[0m \u001b[0mcoders\u001b[0m\u001b[1;33m=\u001b[0m\u001b[0mcoders\u001b[0m\u001b[1;33m)\u001b[0m\u001b[1;33m\u001b[0m\u001b[1;33m\u001b[0m\u001b[0m\n\u001b[1;32m---> 85\u001b[1;33m       \u001b[1;32mreturn\u001b[0m \u001b[0mdo\u001b[0m\u001b[1;33m(\u001b[0m\u001b[0mpyobj\u001b[0m\u001b[1;33m,\u001b[0m \u001b[0mrecursion_fn\u001b[0m\u001b[1;33m)\u001b[0m\u001b[1;33m\u001b[0m\u001b[1;33m\u001b[0m\u001b[0m\n\u001b[0m\u001b[0;32m     86\u001b[0m   raise NotEncodableError(\n\u001b[0;32m     87\u001b[0m       f\"No encoder for object {str(pyobj)} of type {type(pyobj)}.\")\n",
      "\u001b[1;32mc:\\users\\feri andika\\appdata\\local\\programs\\python\\python39\\lib\\site-packages\\tensorflow\\python\\saved_model\\nested_structure_coder.py\u001b[0m in \u001b[0;36mdo_encode\u001b[1;34m(self, tuple_value, encode_fn)\u001b[0m\n\u001b[0;32m    186\u001b[0m     \u001b[0mencoded_tuple\u001b[0m\u001b[1;33m.\u001b[0m\u001b[0mtuple_value\u001b[0m\u001b[1;33m.\u001b[0m\u001b[0mCopyFrom\u001b[0m\u001b[1;33m(\u001b[0m\u001b[0mstruct_pb2\u001b[0m\u001b[1;33m.\u001b[0m\u001b[0mTupleValue\u001b[0m\u001b[1;33m(\u001b[0m\u001b[1;33m)\u001b[0m\u001b[1;33m)\u001b[0m\u001b[1;33m\u001b[0m\u001b[1;33m\u001b[0m\u001b[0m\n\u001b[0;32m    187\u001b[0m     \u001b[1;32mfor\u001b[0m \u001b[0melement\u001b[0m \u001b[1;32min\u001b[0m \u001b[0mtuple_value\u001b[0m\u001b[1;33m:\u001b[0m\u001b[1;33m\u001b[0m\u001b[1;33m\u001b[0m\u001b[0m\n\u001b[1;32m--> 188\u001b[1;33m       \u001b[0mencoded_tuple\u001b[0m\u001b[1;33m.\u001b[0m\u001b[0mtuple_value\u001b[0m\u001b[1;33m.\u001b[0m\u001b[0mvalues\u001b[0m\u001b[1;33m.\u001b[0m\u001b[0madd\u001b[0m\u001b[1;33m(\u001b[0m\u001b[1;33m)\u001b[0m\u001b[1;33m.\u001b[0m\u001b[0mCopyFrom\u001b[0m\u001b[1;33m(\u001b[0m\u001b[0mencode_fn\u001b[0m\u001b[1;33m(\u001b[0m\u001b[0melement\u001b[0m\u001b[1;33m)\u001b[0m\u001b[1;33m)\u001b[0m\u001b[1;33m\u001b[0m\u001b[1;33m\u001b[0m\u001b[0m\n\u001b[0m\u001b[0;32m    189\u001b[0m     \u001b[1;32mreturn\u001b[0m \u001b[0mencoded_tuple\u001b[0m\u001b[1;33m\u001b[0m\u001b[1;33m\u001b[0m\u001b[0m\n\u001b[0;32m    190\u001b[0m \u001b[1;33m\u001b[0m\u001b[0m\n",
      "\u001b[1;32mc:\\users\\feri andika\\appdata\\local\\programs\\python\\python39\\lib\\site-packages\\tensorflow\\python\\saved_model\\nested_structure_coder.py\u001b[0m in \u001b[0;36m_map_structure\u001b[1;34m(pyobj, coders)\u001b[0m\n\u001b[0;32m     83\u001b[0m     \u001b[1;32mif\u001b[0m \u001b[0mcan\u001b[0m\u001b[1;33m(\u001b[0m\u001b[0mpyobj\u001b[0m\u001b[1;33m)\u001b[0m\u001b[1;33m:\u001b[0m\u001b[1;33m\u001b[0m\u001b[1;33m\u001b[0m\u001b[0m\n\u001b[0;32m     84\u001b[0m       \u001b[0mrecursion_fn\u001b[0m \u001b[1;33m=\u001b[0m \u001b[0mfunctools\u001b[0m\u001b[1;33m.\u001b[0m\u001b[0mpartial\u001b[0m\u001b[1;33m(\u001b[0m\u001b[0m_map_structure\u001b[0m\u001b[1;33m,\u001b[0m \u001b[0mcoders\u001b[0m\u001b[1;33m=\u001b[0m\u001b[0mcoders\u001b[0m\u001b[1;33m)\u001b[0m\u001b[1;33m\u001b[0m\u001b[1;33m\u001b[0m\u001b[0m\n\u001b[1;32m---> 85\u001b[1;33m       \u001b[1;32mreturn\u001b[0m \u001b[0mdo\u001b[0m\u001b[1;33m(\u001b[0m\u001b[0mpyobj\u001b[0m\u001b[1;33m,\u001b[0m \u001b[0mrecursion_fn\u001b[0m\u001b[1;33m)\u001b[0m\u001b[1;33m\u001b[0m\u001b[1;33m\u001b[0m\u001b[0m\n\u001b[0m\u001b[0;32m     86\u001b[0m   raise NotEncodableError(\n\u001b[0;32m     87\u001b[0m       f\"No encoder for object {str(pyobj)} of type {type(pyobj)}.\")\n",
      "\u001b[1;32mc:\\users\\feri andika\\appdata\\local\\programs\\python\\python39\\lib\\site-packages\\tensorflow\\python\\saved_model\\nested_structure_coder.py\u001b[0m in \u001b[0;36mdo_encode\u001b[1;34m(self, list_value, encode_fn)\u001b[0m\n\u001b[0;32m    146\u001b[0m     \u001b[0mencoded_list\u001b[0m\u001b[1;33m.\u001b[0m\u001b[0mlist_value\u001b[0m\u001b[1;33m.\u001b[0m\u001b[0mCopyFrom\u001b[0m\u001b[1;33m(\u001b[0m\u001b[0mstruct_pb2\u001b[0m\u001b[1;33m.\u001b[0m\u001b[0mListValue\u001b[0m\u001b[1;33m(\u001b[0m\u001b[1;33m)\u001b[0m\u001b[1;33m)\u001b[0m\u001b[1;33m\u001b[0m\u001b[1;33m\u001b[0m\u001b[0m\n\u001b[0;32m    147\u001b[0m     \u001b[1;32mfor\u001b[0m \u001b[0melement\u001b[0m \u001b[1;32min\u001b[0m \u001b[0mlist_value\u001b[0m\u001b[1;33m:\u001b[0m\u001b[1;33m\u001b[0m\u001b[1;33m\u001b[0m\u001b[0m\n\u001b[1;32m--> 148\u001b[1;33m       \u001b[0mencoded_list\u001b[0m\u001b[1;33m.\u001b[0m\u001b[0mlist_value\u001b[0m\u001b[1;33m.\u001b[0m\u001b[0mvalues\u001b[0m\u001b[1;33m.\u001b[0m\u001b[0madd\u001b[0m\u001b[1;33m(\u001b[0m\u001b[1;33m)\u001b[0m\u001b[1;33m.\u001b[0m\u001b[0mCopyFrom\u001b[0m\u001b[1;33m(\u001b[0m\u001b[0mencode_fn\u001b[0m\u001b[1;33m(\u001b[0m\u001b[0melement\u001b[0m\u001b[1;33m)\u001b[0m\u001b[1;33m)\u001b[0m\u001b[1;33m\u001b[0m\u001b[1;33m\u001b[0m\u001b[0m\n\u001b[0m\u001b[0;32m    149\u001b[0m     \u001b[1;32mreturn\u001b[0m \u001b[0mencoded_list\u001b[0m\u001b[1;33m\u001b[0m\u001b[1;33m\u001b[0m\u001b[0m\n\u001b[0;32m    150\u001b[0m \u001b[1;33m\u001b[0m\u001b[0m\n",
      "\u001b[1;32mc:\\users\\feri andika\\appdata\\local\\programs\\python\\python39\\lib\\site-packages\\tensorflow\\python\\saved_model\\nested_structure_coder.py\u001b[0m in \u001b[0;36m_map_structure\u001b[1;34m(pyobj, coders)\u001b[0m\n\u001b[0;32m     83\u001b[0m     \u001b[1;32mif\u001b[0m \u001b[0mcan\u001b[0m\u001b[1;33m(\u001b[0m\u001b[0mpyobj\u001b[0m\u001b[1;33m)\u001b[0m\u001b[1;33m:\u001b[0m\u001b[1;33m\u001b[0m\u001b[1;33m\u001b[0m\u001b[0m\n\u001b[0;32m     84\u001b[0m       \u001b[0mrecursion_fn\u001b[0m \u001b[1;33m=\u001b[0m \u001b[0mfunctools\u001b[0m\u001b[1;33m.\u001b[0m\u001b[0mpartial\u001b[0m\u001b[1;33m(\u001b[0m\u001b[0m_map_structure\u001b[0m\u001b[1;33m,\u001b[0m \u001b[0mcoders\u001b[0m\u001b[1;33m=\u001b[0m\u001b[0mcoders\u001b[0m\u001b[1;33m)\u001b[0m\u001b[1;33m\u001b[0m\u001b[1;33m\u001b[0m\u001b[0m\n\u001b[1;32m---> 85\u001b[1;33m       \u001b[1;32mreturn\u001b[0m \u001b[0mdo\u001b[0m\u001b[1;33m(\u001b[0m\u001b[0mpyobj\u001b[0m\u001b[1;33m,\u001b[0m \u001b[0mrecursion_fn\u001b[0m\u001b[1;33m)\u001b[0m\u001b[1;33m\u001b[0m\u001b[1;33m\u001b[0m\u001b[0m\n\u001b[0m\u001b[0;32m     86\u001b[0m   raise NotEncodableError(\n\u001b[0;32m     87\u001b[0m       f\"No encoder for object {str(pyobj)} of type {type(pyobj)}.\")\n",
      "\u001b[1;32mc:\\users\\feri andika\\appdata\\local\\programs\\python\\python39\\lib\\site-packages\\tensorflow\\python\\saved_model\\nested_structure_coder.py\u001b[0m in \u001b[0;36mdo_encode\u001b[1;34m(self, tensor_spec_value, encode_fn)\u001b[0m\n\u001b[0;32m    405\u001b[0m     encoded_tensor_spec.tensor_spec_value.CopyFrom(\n\u001b[0;32m    406\u001b[0m         struct_pb2.TensorSpecProto(\n\u001b[1;32m--> 407\u001b[1;33m             \u001b[0mshape\u001b[0m\u001b[1;33m=\u001b[0m\u001b[0mencode_fn\u001b[0m\u001b[1;33m(\u001b[0m\u001b[0mtensor_spec_value\u001b[0m\u001b[1;33m.\u001b[0m\u001b[0mshape\u001b[0m\u001b[1;33m)\u001b[0m\u001b[1;33m.\u001b[0m\u001b[0mtensor_shape_value\u001b[0m\u001b[1;33m,\u001b[0m\u001b[1;33m\u001b[0m\u001b[1;33m\u001b[0m\u001b[0m\n\u001b[0m\u001b[0;32m    408\u001b[0m             \u001b[0mdtype\u001b[0m\u001b[1;33m=\u001b[0m\u001b[0mencode_fn\u001b[0m\u001b[1;33m(\u001b[0m\u001b[0mtensor_spec_value\u001b[0m\u001b[1;33m.\u001b[0m\u001b[0mdtype\u001b[0m\u001b[1;33m)\u001b[0m\u001b[1;33m.\u001b[0m\u001b[0mtensor_dtype_value\u001b[0m\u001b[1;33m,\u001b[0m\u001b[1;33m\u001b[0m\u001b[1;33m\u001b[0m\u001b[0m\n\u001b[0;32m    409\u001b[0m             name=tensor_spec_value.name))\n",
      "\u001b[1;32mc:\\users\\feri andika\\appdata\\local\\programs\\python\\python39\\lib\\site-packages\\tensorflow\\python\\saved_model\\nested_structure_coder.py\u001b[0m in \u001b[0;36m_map_structure\u001b[1;34m(pyobj, coders)\u001b[0m\n\u001b[0;32m     83\u001b[0m     \u001b[1;32mif\u001b[0m \u001b[0mcan\u001b[0m\u001b[1;33m(\u001b[0m\u001b[0mpyobj\u001b[0m\u001b[1;33m)\u001b[0m\u001b[1;33m:\u001b[0m\u001b[1;33m\u001b[0m\u001b[1;33m\u001b[0m\u001b[0m\n\u001b[0;32m     84\u001b[0m       \u001b[0mrecursion_fn\u001b[0m \u001b[1;33m=\u001b[0m \u001b[0mfunctools\u001b[0m\u001b[1;33m.\u001b[0m\u001b[0mpartial\u001b[0m\u001b[1;33m(\u001b[0m\u001b[0m_map_structure\u001b[0m\u001b[1;33m,\u001b[0m \u001b[0mcoders\u001b[0m\u001b[1;33m=\u001b[0m\u001b[0mcoders\u001b[0m\u001b[1;33m)\u001b[0m\u001b[1;33m\u001b[0m\u001b[1;33m\u001b[0m\u001b[0m\n\u001b[1;32m---> 85\u001b[1;33m       \u001b[1;32mreturn\u001b[0m \u001b[0mdo\u001b[0m\u001b[1;33m(\u001b[0m\u001b[0mpyobj\u001b[0m\u001b[1;33m,\u001b[0m \u001b[0mrecursion_fn\u001b[0m\u001b[1;33m)\u001b[0m\u001b[1;33m\u001b[0m\u001b[1;33m\u001b[0m\u001b[0m\n\u001b[0m\u001b[0;32m     86\u001b[0m   raise NotEncodableError(\n\u001b[0;32m     87\u001b[0m       f\"No encoder for object {str(pyobj)} of type {type(pyobj)}.\")\n",
      "\u001b[1;32mc:\\users\\feri andika\\appdata\\local\\programs\\python\\python39\\lib\\site-packages\\tensorflow\\python\\saved_model\\nested_structure_coder.py\u001b[0m in \u001b[0;36mdo_encode\u001b[1;34m(***failed resolving arguments***)\u001b[0m\n\u001b[0;32m    361\u001b[0m     \u001b[1;32mdel\u001b[0m \u001b[0mencode_fn\u001b[0m\u001b[1;33m\u001b[0m\u001b[1;33m\u001b[0m\u001b[0m\n\u001b[0;32m    362\u001b[0m     \u001b[0mencoded_tensor_shape\u001b[0m \u001b[1;33m=\u001b[0m \u001b[0mstruct_pb2\u001b[0m\u001b[1;33m.\u001b[0m\u001b[0mStructuredValue\u001b[0m\u001b[1;33m(\u001b[0m\u001b[1;33m)\u001b[0m\u001b[1;33m\u001b[0m\u001b[1;33m\u001b[0m\u001b[0m\n\u001b[1;32m--> 363\u001b[1;33m     encoded_tensor_shape.tensor_shape_value.CopyFrom(\n\u001b[0m\u001b[0;32m    364\u001b[0m         tensor_shape_value.as_proto())\n\u001b[0;32m    365\u001b[0m     \u001b[1;32mreturn\u001b[0m \u001b[0mencoded_tensor_shape\u001b[0m\u001b[1;33m\u001b[0m\u001b[1;33m\u001b[0m\u001b[0m\n",
      "\u001b[1;32mc:\\users\\feri andika\\appdata\\local\\programs\\python\\python39\\lib\\site-packages\\google\\protobuf\\message.py\u001b[0m in \u001b[0;36mCopyFrom\u001b[1;34m(self, other_msg)\u001b[0m\n\u001b[0;32m    126\u001b[0m     \u001b[1;32mif\u001b[0m \u001b[0mself\u001b[0m \u001b[1;32mis\u001b[0m \u001b[0mother_msg\u001b[0m\u001b[1;33m:\u001b[0m\u001b[1;33m\u001b[0m\u001b[1;33m\u001b[0m\u001b[0m\n\u001b[0;32m    127\u001b[0m       \u001b[1;32mreturn\u001b[0m\u001b[1;33m\u001b[0m\u001b[1;33m\u001b[0m\u001b[0m\n\u001b[1;32m--> 128\u001b[1;33m     \u001b[0mself\u001b[0m\u001b[1;33m.\u001b[0m\u001b[0mClear\u001b[0m\u001b[1;33m(\u001b[0m\u001b[1;33m)\u001b[0m\u001b[1;33m\u001b[0m\u001b[1;33m\u001b[0m\u001b[0m\n\u001b[0m\u001b[0;32m    129\u001b[0m     \u001b[0mself\u001b[0m\u001b[1;33m.\u001b[0m\u001b[0mMergeFrom\u001b[0m\u001b[1;33m(\u001b[0m\u001b[0mother_msg\u001b[0m\u001b[1;33m)\u001b[0m\u001b[1;33m\u001b[0m\u001b[1;33m\u001b[0m\u001b[0m\n\u001b[0;32m    130\u001b[0m \u001b[1;33m\u001b[0m\u001b[0m\n",
      "\u001b[1;32mc:\\users\\feri andika\\appdata\\local\\programs\\python\\python39\\lib\\site-packages\\google\\protobuf\\internal\\python_message.py\u001b[0m in \u001b[0;36m_Clear\u001b[1;34m(self)\u001b[0m\n\u001b[0;32m   1380\u001b[0m \u001b[1;33m\u001b[0m\u001b[0m\n\u001b[0;32m   1381\u001b[0m   \u001b[0mself\u001b[0m\u001b[1;33m.\u001b[0m\u001b[0m_oneofs\u001b[0m \u001b[1;33m=\u001b[0m \u001b[1;33m{\u001b[0m\u001b[1;33m}\u001b[0m\u001b[1;33m\u001b[0m\u001b[1;33m\u001b[0m\u001b[0m\n\u001b[1;32m-> 1382\u001b[1;33m   \u001b[0mself\u001b[0m\u001b[1;33m.\u001b[0m\u001b[0m_Modified\u001b[0m\u001b[1;33m(\u001b[0m\u001b[1;33m)\u001b[0m\u001b[1;33m\u001b[0m\u001b[1;33m\u001b[0m\u001b[0m\n\u001b[0m\u001b[0;32m   1383\u001b[0m \u001b[1;33m\u001b[0m\u001b[0m\n\u001b[0;32m   1384\u001b[0m \u001b[1;33m\u001b[0m\u001b[0m\n",
      "\u001b[1;32mc:\\users\\feri andika\\appdata\\local\\programs\\python\\python39\\lib\\site-packages\\google\\protobuf\\internal\\python_message.py\u001b[0m in \u001b[0;36mModified\u001b[1;34m(self)\u001b[0m\n\u001b[0;32m   1455\u001b[0m       \u001b[0mself\u001b[0m\u001b[1;33m.\u001b[0m\u001b[0m_listener_for_children\u001b[0m\u001b[1;33m.\u001b[0m\u001b[0mdirty\u001b[0m \u001b[1;33m=\u001b[0m \u001b[1;32mTrue\u001b[0m\u001b[1;33m\u001b[0m\u001b[1;33m\u001b[0m\u001b[0m\n\u001b[0;32m   1456\u001b[0m       \u001b[0mself\u001b[0m\u001b[1;33m.\u001b[0m\u001b[0m_is_present_in_parent\u001b[0m \u001b[1;33m=\u001b[0m \u001b[1;32mTrue\u001b[0m\u001b[1;33m\u001b[0m\u001b[1;33m\u001b[0m\u001b[0m\n\u001b[1;32m-> 1457\u001b[1;33m       \u001b[0mself\u001b[0m\u001b[1;33m.\u001b[0m\u001b[0m_listener\u001b[0m\u001b[1;33m.\u001b[0m\u001b[0mModified\u001b[0m\u001b[1;33m(\u001b[0m\u001b[1;33m)\u001b[0m\u001b[1;33m\u001b[0m\u001b[1;33m\u001b[0m\u001b[0m\n\u001b[0m\u001b[0;32m   1458\u001b[0m \u001b[1;33m\u001b[0m\u001b[0m\n\u001b[0;32m   1459\u001b[0m   \u001b[1;32mdef\u001b[0m \u001b[0m_UpdateOneofState\u001b[0m\u001b[1;33m(\u001b[0m\u001b[0mself\u001b[0m\u001b[1;33m,\u001b[0m \u001b[0mfield\u001b[0m\u001b[1;33m)\u001b[0m\u001b[1;33m:\u001b[0m\u001b[1;33m\u001b[0m\u001b[1;33m\u001b[0m\u001b[0m\n",
      "\u001b[1;32mc:\\users\\feri andika\\appdata\\local\\programs\\python\\python39\\lib\\site-packages\\google\\protobuf\\internal\\python_message.py\u001b[0m in \u001b[0;36mModified\u001b[1;34m(self)\u001b[0m\n\u001b[0;32m   1534\u001b[0m     \u001b[1;34m\"\"\"Also updates the state of the containing oneof in the parent message.\"\"\"\u001b[0m\u001b[1;33m\u001b[0m\u001b[1;33m\u001b[0m\u001b[0m\n\u001b[0;32m   1535\u001b[0m     \u001b[1;32mtry\u001b[0m\u001b[1;33m:\u001b[0m\u001b[1;33m\u001b[0m\u001b[1;33m\u001b[0m\u001b[0m\n\u001b[1;32m-> 1536\u001b[1;33m       \u001b[0mself\u001b[0m\u001b[1;33m.\u001b[0m\u001b[0m_parent_message_weakref\u001b[0m\u001b[1;33m.\u001b[0m\u001b[0m_UpdateOneofState\u001b[0m\u001b[1;33m(\u001b[0m\u001b[0mself\u001b[0m\u001b[1;33m.\u001b[0m\u001b[0m_field\u001b[0m\u001b[1;33m)\u001b[0m\u001b[1;33m\u001b[0m\u001b[1;33m\u001b[0m\u001b[0m\n\u001b[0m\u001b[0;32m   1537\u001b[0m       \u001b[0msuper\u001b[0m\u001b[1;33m(\u001b[0m\u001b[0m_OneofListener\u001b[0m\u001b[1;33m,\u001b[0m \u001b[0mself\u001b[0m\u001b[1;33m)\u001b[0m\u001b[1;33m.\u001b[0m\u001b[0mModified\u001b[0m\u001b[1;33m(\u001b[0m\u001b[1;33m)\u001b[0m\u001b[1;33m\u001b[0m\u001b[1;33m\u001b[0m\u001b[0m\n\u001b[0;32m   1538\u001b[0m     \u001b[1;32mexcept\u001b[0m \u001b[0mReferenceError\u001b[0m\u001b[1;33m:\u001b[0m\u001b[1;33m\u001b[0m\u001b[1;33m\u001b[0m\u001b[0m\n",
      "\u001b[1;31mKeyboardInterrupt\u001b[0m: "
     ]
    }
   ],
   "source": [
    "import joblib\n",
    "\n",
    "# Save the trained model to a file\n",
    "joblib.dump(model, 'model_1_v5.pkl')"
   ]
  },
  {
   "cell_type": "code",
   "execution_count": null,
   "metadata": {},
   "outputs": [],
   "source": []
  }
 ],
 "metadata": {
  "colab": {
   "authorship_tag": "ABX9TyOpKk+85qYG42HGf+43aaAb",
   "provenance": []
  },
  "kernelspec": {
   "display_name": "Python 3 (ipykernel)",
   "language": "python",
   "name": "python3"
  },
  "language_info": {
   "codemirror_mode": {
    "name": "ipython",
    "version": 3
   },
   "file_extension": ".py",
   "mimetype": "text/x-python",
   "name": "python",
   "nbconvert_exporter": "python",
   "pygments_lexer": "ipython3",
   "version": "3.9.4"
  }
 },
 "nbformat": 4,
 "nbformat_minor": 1
}
