{
 "cells": [
  {
   "cell_type": "markdown",
   "metadata": {},
   "source": [
    "# Model using Neural Network"
   ]
  },
  {
   "cell_type": "markdown",
   "metadata": {
    "id": "0MqdvFhq7OcX"
   },
   "source": [
    "## Import Libraries"
   ]
  },
  {
   "cell_type": "code",
   "execution_count": 1,
   "metadata": {
    "vscode": {
     "languageId": "plaintext"
    }
   },
   "outputs": [],
   "source": [
    "import tensorflow as tf\n",
    "import numpy as np\n",
    "import pandas as pd\n",
    "import seaborn as sns\n",
    "from tensorflow.keras.layers import IntegerLookup\n",
    "from tensorflow.keras.layers import Normalization\n",
    "from tensorflow.keras.layers import StringLookup\n",
    "import tensorflow.keras as keras"
   ]
  },
  {
   "cell_type": "markdown",
   "metadata": {},
   "source": [
    "## Load The Data to DataFrame"
   ]
  },
  {
   "cell_type": "code",
   "execution_count": 2,
   "metadata": {},
   "outputs": [],
   "source": [
    "df = pd.read_csv('cleaned_data.csv')"
   ]
  },
  {
   "cell_type": "markdown",
   "metadata": {},
   "source": [
    "## Check the Columns' Data Type"
   ]
  },
  {
   "cell_type": "code",
   "execution_count": 3,
   "metadata": {},
   "outputs": [
    {
     "data": {
      "text/plain": [
       "Index(['gender', 'age', 'workout_experience', 'workout_time', 'weight',\n",
       "       'height', 'fitness_goal'],\n",
       "      dtype='object')"
      ]
     },
     "execution_count": 3,
     "metadata": {},
     "output_type": "execute_result"
    }
   ],
   "source": [
    "df.columns"
   ]
  },
  {
   "cell_type": "code",
   "execution_count": 4,
   "metadata": {},
   "outputs": [],
   "source": [
    "from sklearn.utils import shuffle\n",
    "\n",
    "shuffled_df = shuffle(df, random_state = 42)"
   ]
  },
  {
   "cell_type": "markdown",
   "metadata": {},
   "source": [
    "## Split Data for Training and Validation\n"
   ]
  },
  {
   "cell_type": "code",
   "execution_count": 5,
   "metadata": {},
   "outputs": [],
   "source": [
    "from sklearn.model_selection import train_test_split\n",
    "\n",
    "train_df, val_df = train_test_split(shuffled_df, test_size = 0.2, random_state=42)"
   ]
  },
  {
   "cell_type": "markdown",
   "metadata": {},
   "source": [
    "## The training and validation set size"
   ]
  },
  {
   "cell_type": "code",
   "execution_count": 6,
   "metadata": {},
   "outputs": [
    {
     "name": "stdout",
     "output_type": "stream",
     "text": [
      "training :  723  | validation :  181\n"
     ]
    }
   ],
   "source": [
    "print('training : ',train_df.shape[0], \" | validation : \", val_df.shape[0])"
   ]
  },
  {
   "cell_type": "markdown",
   "metadata": {},
   "source": [
    "## Function Transform Dataframe into Tensor Dataset"
   ]
  },
  {
   "cell_type": "code",
   "execution_count": 7,
   "metadata": {},
   "outputs": [],
   "source": [
    "def dataframe_transform(df, label):\n",
    "\n",
    "    labels = df.pop(label)\n",
    "    ds = tf.data.Dataset.from_tensor_slices((dict(df), labels))\n",
    "    ds = ds.shuffle(buffer_size = len(df))\n",
    "\n",
    "    return ds"
   ]
  },
  {
   "cell_type": "markdown",
   "metadata": {},
   "source": [
    "## Transform Training and Validation Dataframe into Tensor Dataset"
   ]
  },
  {
   "cell_type": "code",
   "execution_count": 8,
   "metadata": {},
   "outputs": [],
   "source": [
    "train_ds = dataframe_transform(train_df, 'fitness_goal')\n",
    "val_ds   = dataframe_transform(val_df, 'fitness_goal')"
   ]
  },
  {
   "cell_type": "markdown",
   "metadata": {},
   "source": [
    "## Batching the Dataset"
   ]
  },
  {
   "cell_type": "code",
   "execution_count": 9,
   "metadata": {},
   "outputs": [],
   "source": [
    "train_ds = train_ds.batch(20)\n",
    "val_ds   = val_ds.batch(20)"
   ]
  },
  {
   "cell_type": "markdown",
   "metadata": {},
   "source": [
    "## Function to Encode Categorical Column"
   ]
  },
  {
   "cell_type": "code",
   "execution_count": 10,
   "metadata": {},
   "outputs": [],
   "source": [
    "def encode_categorical_feature(column, name, dataset):\n",
    "\n",
    "    lookup_class = IntegerLookup\n",
    "    lookup = lookup_class(output_mode = \"binary\")\n",
    "\n",
    "    column_ds = dataset.map(lambda x, y: x[name])\n",
    "    column_ds = column_ds.map(lambda x: tf.expand_dims(x, -1))\n",
    "\n",
    "    lookup.adapt(column_ds)\n",
    "    encoded_column = lookup(column)\n",
    "\n",
    "    return encoded_column"
   ]
  },
  {
   "cell_type": "markdown",
   "metadata": {},
   "source": [
    "## Function to Encode Numerical Column"
   ]
  },
  {
   "cell_type": "code",
   "execution_count": 11,
   "metadata": {},
   "outputs": [],
   "source": [
    "def encode_numerical_feature(column, name, dataset):\n",
    "\n",
    "    normalizer = Normalization()\n",
    "    column_ds = dataset.map(lambda x, y: x[name])\n",
    "    column_ds = column_ds.map(lambda x: tf.expand_dims(x, -1))\n",
    "\n",
    "    normalizer.adapt(column_ds)\n",
    "    encoded_column = normalizer(column)\n",
    "\n",
    "    return encoded_column"
   ]
  },
  {
   "cell_type": "markdown",
   "metadata": {},
   "source": [
    "## Creating Tensor object from the column"
   ]
  },
  {
   "cell_type": "code",
   "execution_count": 12,
   "metadata": {},
   "outputs": [],
   "source": [
    "gender = keras.Input(shape = (1,), name = 'gender', dtype = 'int64')\n",
    "age    = keras.Input(shape = (1,), name = 'age')\n",
    "workout_experience = keras.Input(shape = (1, ), name = 'workout_experience')\n",
    "workout_time = keras.Input(shape = (1,), name = 'workout_time')\n",
    "weight       = keras.Input(shape = (1,), name = 'weight')\n",
    "height       = keras.Input(shape = (1,), name = 'height')"
   ]
  },
  {
   "cell_type": "code",
   "execution_count": 13,
   "metadata": {},
   "outputs": [],
   "source": [
    "all_columns = [ gender, age, workout_experience, workout_time, height, weight ]"
   ]
  },
  {
   "cell_type": "markdown",
   "metadata": {},
   "source": [
    "## Encode columns based on their data type"
   ]
  },
  {
   "cell_type": "code",
   "execution_count": 14,
   "metadata": {},
   "outputs": [],
   "source": [
    "gender_encoded = encode_categorical_feature(gender, 'gender', train_ds)\n",
    "age_encoded = encode_numerical_feature(age, 'age', train_ds)\n",
    "workout_experience_encoded = encode_numerical_feature(workout_experience, 'workout_experience', train_ds)\n",
    "workout_time_encoded = encode_numerical_feature(workout_time, 'workout_time', train_ds)\n",
    "weight_encoded = encode_numerical_feature(weight, 'weight', train_ds)\n",
    "height_encoded = encode_numerical_feature(height, 'height', train_ds)\n"
   ]
  },
  {
   "cell_type": "code",
   "execution_count": 15,
   "metadata": {},
   "outputs": [],
   "source": [
    "all_features = keras.layers.concatenate([gender_encoded, age_encoded, workout_experience_encoded, workout_time_encoded, height_encoded, weight_encoded])"
   ]
  },
  {
   "cell_type": "markdown",
   "metadata": {},
   "source": [
    "## Build the model architecture"
   ]
  },
  {
   "cell_type": "code",
   "execution_count": 16,
   "metadata": {},
   "outputs": [],
   "source": [
    "x = keras.layers.Dense(64, activation = 'relu')(all_features)\n",
    "x = keras.layers.Dense(16, activation = 'relu')(x)\n",
    "x = keras.layers.Dropout(0.7)(x)\n",
    "\n",
    "output = keras.layers.Dense(1, activation = 'sigmoid')(x)"
   ]
  },
  {
   "cell_type": "code",
   "execution_count": 17,
   "metadata": {},
   "outputs": [],
   "source": [
    "model  = keras.Model(all_columns, output)\n",
    "model.compile(optimizer = 'rmsprop', loss = 'binary_crossentropy', metrics = ['accuracy'])"
   ]
  },
  {
   "cell_type": "markdown",
   "metadata": {},
   "source": [
    "## Train the model"
   ]
  },
  {
   "cell_type": "code",
   "execution_count": 83,
   "metadata": {
    "scrolled": false
   },
   "outputs": [
    {
     "data": {
      "text/html": [
       "<style>pre { white-space: pre !important; }</style>"
      ],
      "text/plain": [
       "<IPython.core.display.HTML object>"
      ]
     },
     "metadata": {},
     "output_type": "display_data"
    },
    {
     "name": "stdout",
     "output_type": "stream",
     "text": [
      "Epoch 1/300\n",
      "37/37 [==============================] - 0s 3ms/step - loss: 0.5571 - accuracy: 0.6625 - val_loss: 1.1864 - val_accuracy: 0.5028\n",
      "Epoch 2/300\n",
      "37/37 [==============================] - 0s 3ms/step - loss: 0.5681 - accuracy: 0.6611 - val_loss: 1.0949 - val_accuracy: 0.5414\n",
      "Epoch 3/300\n",
      "37/37 [==============================] - 0s 3ms/step - loss: 0.5543 - accuracy: 0.6473 - val_loss: 1.0702 - val_accuracy: 0.5580\n",
      "Epoch 4/300\n",
      "37/37 [==============================] - 0s 3ms/step - loss: 0.5573 - accuracy: 0.6667 - val_loss: 1.0419 - val_accuracy: 0.5580\n",
      "Epoch 5/300\n",
      "37/37 [==============================] - 0s 3ms/step - loss: 0.5497 - accuracy: 0.6722 - val_loss: 1.1935 - val_accuracy: 0.5193\n",
      "Epoch 6/300\n",
      "37/37 [==============================] - 0s 3ms/step - loss: 0.5685 - accuracy: 0.6598 - val_loss: 1.1166 - val_accuracy: 0.5525\n",
      "Epoch 7/300\n",
      "37/37 [==============================] - 0s 3ms/step - loss: 0.5676 - accuracy: 0.6515 - val_loss: 1.0631 - val_accuracy: 0.5414\n",
      "Epoch 8/300\n",
      "37/37 [==============================] - 0s 3ms/step - loss: 0.5550 - accuracy: 0.6528 - val_loss: 1.1546 - val_accuracy: 0.5580\n",
      "Epoch 9/300\n",
      "37/37 [==============================] - 0s 3ms/step - loss: 0.5582 - accuracy: 0.6708 - val_loss: 1.1476 - val_accuracy: 0.5304\n",
      "Epoch 10/300\n",
      "37/37 [==============================] - 0s 3ms/step - loss: 0.5590 - accuracy: 0.6833 - val_loss: 1.0456 - val_accuracy: 0.5525\n",
      "Epoch 11/300\n",
      "37/37 [==============================] - 0s 3ms/step - loss: 0.5578 - accuracy: 0.6515 - val_loss: 1.0485 - val_accuracy: 0.5580\n",
      "Epoch 12/300\n",
      "37/37 [==============================] - 0s 3ms/step - loss: 0.5684 - accuracy: 0.6349 - val_loss: 1.0897 - val_accuracy: 0.5525\n",
      "Epoch 13/300\n",
      "37/37 [==============================] - 0s 3ms/step - loss: 0.5648 - accuracy: 0.6418 - val_loss: 0.9927 - val_accuracy: 0.5414\n",
      "Epoch 14/300\n",
      "37/37 [==============================] - 0s 3ms/step - loss: 0.5492 - accuracy: 0.6611 - val_loss: 1.0445 - val_accuracy: 0.5359\n",
      "Epoch 15/300\n",
      "37/37 [==============================] - 0s 3ms/step - loss: 0.5439 - accuracy: 0.6791 - val_loss: 1.0362 - val_accuracy: 0.5525\n",
      "Epoch 16/300\n",
      "37/37 [==============================] - 0s 3ms/step - loss: 0.5637 - accuracy: 0.6598 - val_loss: 1.0545 - val_accuracy: 0.5414\n",
      "Epoch 17/300\n",
      "37/37 [==============================] - 0s 3ms/step - loss: 0.5735 - accuracy: 0.6611 - val_loss: 1.0697 - val_accuracy: 0.5414\n",
      "Epoch 18/300\n",
      "37/37 [==============================] - 0s 3ms/step - loss: 0.5521 - accuracy: 0.6432 - val_loss: 0.9685 - val_accuracy: 0.5414\n",
      "Epoch 19/300\n",
      "37/37 [==============================] - 0s 3ms/step - loss: 0.5490 - accuracy: 0.6708 - val_loss: 1.0496 - val_accuracy: 0.5635\n",
      "Epoch 20/300\n",
      "37/37 [==============================] - 0s 3ms/step - loss: 0.5594 - accuracy: 0.6667 - val_loss: 1.1182 - val_accuracy: 0.5414\n",
      "Epoch 21/300\n",
      "37/37 [==============================] - 0s 3ms/step - loss: 0.5316 - accuracy: 0.6542 - val_loss: 1.0703 - val_accuracy: 0.5304\n",
      "Epoch 22/300\n",
      "37/37 [==============================] - 0s 3ms/step - loss: 0.5563 - accuracy: 0.6694 - val_loss: 1.0523 - val_accuracy: 0.5414\n",
      "Epoch 23/300\n",
      "37/37 [==============================] - 0s 3ms/step - loss: 0.5753 - accuracy: 0.6722 - val_loss: 1.0941 - val_accuracy: 0.5580\n",
      "Epoch 24/300\n",
      "37/37 [==============================] - 0s 3ms/step - loss: 0.5430 - accuracy: 0.6639 - val_loss: 1.1244 - val_accuracy: 0.5359\n",
      "Epoch 25/300\n",
      "37/37 [==============================] - 0s 3ms/step - loss: 0.5577 - accuracy: 0.6570 - val_loss: 1.0123 - val_accuracy: 0.5635\n",
      "Epoch 26/300\n",
      "37/37 [==============================] - 0s 3ms/step - loss: 0.5484 - accuracy: 0.6667 - val_loss: 1.0935 - val_accuracy: 0.5580\n",
      "Epoch 27/300\n",
      "37/37 [==============================] - 0s 3ms/step - loss: 0.5688 - accuracy: 0.6376 - val_loss: 1.0789 - val_accuracy: 0.5525\n",
      "Epoch 28/300\n",
      "37/37 [==============================] - 0s 3ms/step - loss: 0.5495 - accuracy: 0.6570 - val_loss: 1.0607 - val_accuracy: 0.5525\n",
      "Epoch 29/300\n",
      "37/37 [==============================] - 0s 3ms/step - loss: 0.5532 - accuracy: 0.6584 - val_loss: 1.0612 - val_accuracy: 0.5525\n",
      "Epoch 30/300\n",
      "37/37 [==============================] - 0s 3ms/step - loss: 0.5732 - accuracy: 0.6515 - val_loss: 0.9706 - val_accuracy: 0.5691\n",
      "Epoch 31/300\n",
      "37/37 [==============================] - 0s 3ms/step - loss: 0.5560 - accuracy: 0.6542 - val_loss: 1.0003 - val_accuracy: 0.5414\n",
      "Epoch 32/300\n",
      "37/37 [==============================] - 0s 3ms/step - loss: 0.5617 - accuracy: 0.6694 - val_loss: 1.0373 - val_accuracy: 0.5635\n",
      "Epoch 33/300\n",
      "37/37 [==============================] - 0s 3ms/step - loss: 0.5488 - accuracy: 0.6584 - val_loss: 1.0604 - val_accuracy: 0.5414\n",
      "Epoch 34/300\n",
      "37/37 [==============================] - 0s 3ms/step - loss: 0.5533 - accuracy: 0.6805 - val_loss: 1.0435 - val_accuracy: 0.5635\n",
      "Epoch 35/300\n",
      "37/37 [==============================] - 0s 3ms/step - loss: 0.5458 - accuracy: 0.6750 - val_loss: 1.1120 - val_accuracy: 0.5249\n",
      "Epoch 36/300\n",
      "37/37 [==============================] - 0s 3ms/step - loss: 0.5556 - accuracy: 0.6501 - val_loss: 0.9796 - val_accuracy: 0.5801\n",
      "Epoch 37/300\n",
      "37/37 [==============================] - 0s 3ms/step - loss: 0.5536 - accuracy: 0.6667 - val_loss: 1.1159 - val_accuracy: 0.5304\n",
      "Epoch 38/300\n",
      "37/37 [==============================] - 0s 3ms/step - loss: 0.5661 - accuracy: 0.6501 - val_loss: 1.0551 - val_accuracy: 0.5414\n",
      "Epoch 39/300\n",
      "37/37 [==============================] - 0s 3ms/step - loss: 0.5721 - accuracy: 0.6487 - val_loss: 1.0995 - val_accuracy: 0.5525\n",
      "Epoch 40/300\n",
      "37/37 [==============================] - 0s 3ms/step - loss: 0.5867 - accuracy: 0.6362 - val_loss: 1.0062 - val_accuracy: 0.5580\n",
      "Epoch 41/300\n",
      "37/37 [==============================] - 0s 3ms/step - loss: 0.5447 - accuracy: 0.6625 - val_loss: 1.1442 - val_accuracy: 0.5525\n",
      "Epoch 42/300\n",
      "37/37 [==============================] - 0s 3ms/step - loss: 0.5616 - accuracy: 0.6667 - val_loss: 1.0045 - val_accuracy: 0.5414\n",
      "Epoch 43/300\n",
      "37/37 [==============================] - 0s 3ms/step - loss: 0.5638 - accuracy: 0.6515 - val_loss: 0.9406 - val_accuracy: 0.5359\n",
      "Epoch 44/300\n",
      "37/37 [==============================] - 0s 3ms/step - loss: 0.5572 - accuracy: 0.6598 - val_loss: 1.0143 - val_accuracy: 0.5470\n",
      "Epoch 45/300\n",
      "37/37 [==============================] - 0s 3ms/step - loss: 0.5520 - accuracy: 0.6542 - val_loss: 1.0497 - val_accuracy: 0.5359\n",
      "Epoch 46/300\n",
      "37/37 [==============================] - 0s 3ms/step - loss: 0.5627 - accuracy: 0.6598 - val_loss: 1.1209 - val_accuracy: 0.5580\n",
      "Epoch 47/300\n",
      "37/37 [==============================] - 0s 3ms/step - loss: 0.5647 - accuracy: 0.6625 - val_loss: 1.0834 - val_accuracy: 0.5359\n",
      "Epoch 48/300\n",
      "37/37 [==============================] - 0s 3ms/step - loss: 0.5564 - accuracy: 0.6708 - val_loss: 1.0741 - val_accuracy: 0.5635\n",
      "Epoch 49/300\n",
      "37/37 [==============================] - 0s 3ms/step - loss: 0.5863 - accuracy: 0.6376 - val_loss: 1.0822 - val_accuracy: 0.5414\n",
      "Epoch 50/300\n",
      "37/37 [==============================] - 0s 3ms/step - loss: 0.5432 - accuracy: 0.6625 - val_loss: 1.1408 - val_accuracy: 0.5470\n",
      "Epoch 51/300\n",
      "37/37 [==============================] - 0s 3ms/step - loss: 0.5715 - accuracy: 0.6570 - val_loss: 1.0388 - val_accuracy: 0.5414\n",
      "Epoch 52/300\n",
      "37/37 [==============================] - 0s 3ms/step - loss: 0.5563 - accuracy: 0.6418 - val_loss: 1.1124 - val_accuracy: 0.5525\n",
      "Epoch 53/300\n",
      "37/37 [==============================] - 0s 3ms/step - loss: 0.5807 - accuracy: 0.6335 - val_loss: 0.9308 - val_accuracy: 0.5801\n",
      "Epoch 54/300\n",
      "37/37 [==============================] - 0s 3ms/step - loss: 0.5657 - accuracy: 0.6598 - val_loss: 1.0284 - val_accuracy: 0.5580\n",
      "Epoch 55/300\n",
      "37/37 [==============================] - 0s 3ms/step - loss: 0.5543 - accuracy: 0.6611 - val_loss: 0.9892 - val_accuracy: 0.5414\n",
      "Epoch 56/300\n",
      "37/37 [==============================] - 0s 3ms/step - loss: 0.5736 - accuracy: 0.6418 - val_loss: 0.9784 - val_accuracy: 0.5414\n",
      "Epoch 57/300\n",
      "37/37 [==============================] - 0s 3ms/step - loss: 0.5695 - accuracy: 0.6473 - val_loss: 1.1219 - val_accuracy: 0.5470\n",
      "Epoch 58/300\n",
      "37/37 [==============================] - 0s 3ms/step - loss: 0.5569 - accuracy: 0.6625 - val_loss: 1.1754 - val_accuracy: 0.5635\n"
     ]
    },
    {
     "name": "stdout",
     "output_type": "stream",
     "text": [
      "Epoch 59/300\n",
      "37/37 [==============================] - 0s 3ms/step - loss: 0.5495 - accuracy: 0.6611 - val_loss: 1.0342 - val_accuracy: 0.5525\n",
      "Epoch 60/300\n",
      "37/37 [==============================] - 0s 3ms/step - loss: 0.5559 - accuracy: 0.6598 - val_loss: 1.0294 - val_accuracy: 0.5359\n",
      "Epoch 61/300\n",
      "37/37 [==============================] - 0s 3ms/step - loss: 0.5441 - accuracy: 0.6639 - val_loss: 1.1062 - val_accuracy: 0.5470\n",
      "Epoch 62/300\n",
      "37/37 [==============================] - 0s 3ms/step - loss: 0.5634 - accuracy: 0.6791 - val_loss: 1.1100 - val_accuracy: 0.5138\n",
      "Epoch 63/300\n",
      "37/37 [==============================] - 0s 3ms/step - loss: 0.5517 - accuracy: 0.6667 - val_loss: 1.0830 - val_accuracy: 0.5580\n",
      "Epoch 64/300\n",
      "37/37 [==============================] - 0s 3ms/step - loss: 0.5417 - accuracy: 0.6459 - val_loss: 1.0438 - val_accuracy: 0.5580\n",
      "Epoch 65/300\n",
      "37/37 [==============================] - 0s 3ms/step - loss: 0.5638 - accuracy: 0.6694 - val_loss: 0.9593 - val_accuracy: 0.5304\n",
      "Epoch 66/300\n",
      "37/37 [==============================] - 0s 3ms/step - loss: 0.5566 - accuracy: 0.6459 - val_loss: 1.0452 - val_accuracy: 0.5414\n",
      "Epoch 67/300\n",
      "37/37 [==============================] - 0s 3ms/step - loss: 0.5562 - accuracy: 0.6708 - val_loss: 1.0897 - val_accuracy: 0.5801\n",
      "Epoch 68/300\n",
      "37/37 [==============================] - 0s 3ms/step - loss: 0.5612 - accuracy: 0.6598 - val_loss: 1.0785 - val_accuracy: 0.5470\n",
      "Epoch 69/300\n",
      "37/37 [==============================] - 0s 3ms/step - loss: 0.5587 - accuracy: 0.6556 - val_loss: 1.1883 - val_accuracy: 0.5580\n",
      "Epoch 70/300\n",
      "37/37 [==============================] - 0s 3ms/step - loss: 0.5941 - accuracy: 0.6515 - val_loss: 0.9954 - val_accuracy: 0.5414\n",
      "Epoch 71/300\n",
      "37/37 [==============================] - 0s 3ms/step - loss: 0.5676 - accuracy: 0.6570 - val_loss: 1.1141 - val_accuracy: 0.5193\n",
      "Epoch 72/300\n",
      "37/37 [==============================] - 0s 3ms/step - loss: 0.5611 - accuracy: 0.6445 - val_loss: 1.0782 - val_accuracy: 0.5470\n",
      "Epoch 73/300\n",
      "37/37 [==============================] - 0s 3ms/step - loss: 0.5598 - accuracy: 0.6556 - val_loss: 1.0938 - val_accuracy: 0.5580\n",
      "Epoch 74/300\n",
      "37/37 [==============================] - 0s 3ms/step - loss: 0.5420 - accuracy: 0.6653 - val_loss: 1.1528 - val_accuracy: 0.5580\n",
      "Epoch 75/300\n",
      "37/37 [==============================] - 0s 3ms/step - loss: 0.5407 - accuracy: 0.6791 - val_loss: 1.0704 - val_accuracy: 0.5414\n",
      "Epoch 76/300\n",
      "37/37 [==============================] - 0s 3ms/step - loss: 0.5670 - accuracy: 0.6680 - val_loss: 1.0501 - val_accuracy: 0.5470\n",
      "Epoch 77/300\n",
      "37/37 [==============================] - 0s 3ms/step - loss: 0.5476 - accuracy: 0.6653 - val_loss: 0.9549 - val_accuracy: 0.5580\n",
      "Epoch 78/300\n",
      "37/37 [==============================] - 0s 3ms/step - loss: 0.5706 - accuracy: 0.6653 - val_loss: 0.9908 - val_accuracy: 0.5580\n",
      "Epoch 79/300\n",
      "37/37 [==============================] - 0s 3ms/step - loss: 0.5691 - accuracy: 0.6528 - val_loss: 1.0177 - val_accuracy: 0.5470\n",
      "Epoch 80/300\n",
      "37/37 [==============================] - 0s 3ms/step - loss: 0.5644 - accuracy: 0.6459 - val_loss: 1.0552 - val_accuracy: 0.5249\n",
      "Epoch 81/300\n",
      "37/37 [==============================] - 0s 3ms/step - loss: 0.5510 - accuracy: 0.6528 - val_loss: 1.1234 - val_accuracy: 0.5525\n",
      "Epoch 82/300\n",
      "37/37 [==============================] - 0s 3ms/step - loss: 0.5429 - accuracy: 0.6611 - val_loss: 1.0110 - val_accuracy: 0.5470\n",
      "Epoch 83/300\n",
      "37/37 [==============================] - 0s 3ms/step - loss: 0.5636 - accuracy: 0.6584 - val_loss: 1.0762 - val_accuracy: 0.5414\n",
      "Epoch 84/300\n",
      "37/37 [==============================] - 0s 3ms/step - loss: 0.5662 - accuracy: 0.6542 - val_loss: 1.1157 - val_accuracy: 0.5525\n",
      "Epoch 85/300\n",
      "37/37 [==============================] - 0s 3ms/step - loss: 0.5903 - accuracy: 0.6418 - val_loss: 1.0572 - val_accuracy: 0.5359\n",
      "Epoch 86/300\n",
      "37/37 [==============================] - 0s 3ms/step - loss: 0.5750 - accuracy: 0.6487 - val_loss: 1.1178 - val_accuracy: 0.5470\n",
      "Epoch 87/300\n",
      "37/37 [==============================] - 0s 3ms/step - loss: 0.5655 - accuracy: 0.6528 - val_loss: 1.0480 - val_accuracy: 0.5304\n",
      "Epoch 88/300\n",
      "37/37 [==============================] - 0s 3ms/step - loss: 0.5500 - accuracy: 0.6473 - val_loss: 1.1626 - val_accuracy: 0.5414\n",
      "Epoch 89/300\n",
      "37/37 [==============================] - 0s 3ms/step - loss: 0.5394 - accuracy: 0.6639 - val_loss: 1.1596 - val_accuracy: 0.5470\n",
      "Epoch 90/300\n",
      "37/37 [==============================] - 0s 3ms/step - loss: 0.5631 - accuracy: 0.6584 - val_loss: 1.0121 - val_accuracy: 0.5691\n",
      "Epoch 91/300\n",
      "37/37 [==============================] - 0s 3ms/step - loss: 0.5641 - accuracy: 0.6722 - val_loss: 1.1273 - val_accuracy: 0.5635\n",
      "Epoch 92/300\n",
      "37/37 [==============================] - 0s 3ms/step - loss: 0.5679 - accuracy: 0.6501 - val_loss: 1.2361 - val_accuracy: 0.5193\n",
      "Epoch 93/300\n",
      "37/37 [==============================] - 0s 3ms/step - loss: 0.5542 - accuracy: 0.6611 - val_loss: 1.1367 - val_accuracy: 0.5249\n",
      "Epoch 94/300\n",
      "37/37 [==============================] - 0s 3ms/step - loss: 0.5444 - accuracy: 0.6667 - val_loss: 1.1362 - val_accuracy: 0.5470\n",
      "Epoch 95/300\n",
      "37/37 [==============================] - 0s 3ms/step - loss: 0.5762 - accuracy: 0.6570 - val_loss: 1.1233 - val_accuracy: 0.5525\n",
      "Epoch 96/300\n",
      "37/37 [==============================] - 0s 3ms/step - loss: 0.5528 - accuracy: 0.6667 - val_loss: 1.2327 - val_accuracy: 0.5525\n",
      "Epoch 97/300\n",
      "37/37 [==============================] - 0s 3ms/step - loss: 0.5810 - accuracy: 0.6584 - val_loss: 1.0004 - val_accuracy: 0.5635\n",
      "Epoch 98/300\n",
      "37/37 [==============================] - 0s 3ms/step - loss: 0.5703 - accuracy: 0.6653 - val_loss: 1.0011 - val_accuracy: 0.5470\n",
      "Epoch 99/300\n",
      "37/37 [==============================] - 0s 3ms/step - loss: 0.5851 - accuracy: 0.6473 - val_loss: 0.9911 - val_accuracy: 0.5580\n",
      "Epoch 100/300\n",
      "37/37 [==============================] - 0s 3ms/step - loss: 0.5539 - accuracy: 0.6570 - val_loss: 1.0761 - val_accuracy: 0.5801\n",
      "Epoch 101/300\n",
      "37/37 [==============================] - 0s 3ms/step - loss: 0.5746 - accuracy: 0.6307 - val_loss: 1.0599 - val_accuracy: 0.5193\n",
      "Epoch 102/300\n",
      "37/37 [==============================] - 0s 3ms/step - loss: 0.5508 - accuracy: 0.6515 - val_loss: 1.3147 - val_accuracy: 0.5138\n",
      "Epoch 103/300\n",
      "37/37 [==============================] - 0s 3ms/step - loss: 0.5951 - accuracy: 0.6501 - val_loss: 1.1388 - val_accuracy: 0.5525\n",
      "Epoch 104/300\n",
      "37/37 [==============================] - 0s 3ms/step - loss: 0.5699 - accuracy: 0.6736 - val_loss: 1.1553 - val_accuracy: 0.5580\n",
      "Epoch 105/300\n",
      "37/37 [==============================] - 0s 3ms/step - loss: 0.5192 - accuracy: 0.6791 - val_loss: 1.2186 - val_accuracy: 0.5470\n",
      "Epoch 106/300\n",
      "37/37 [==============================] - 0s 3ms/step - loss: 0.5669 - accuracy: 0.6860 - val_loss: 1.1811 - val_accuracy: 0.5193\n",
      "Epoch 107/300\n",
      "37/37 [==============================] - 0s 3ms/step - loss: 0.5487 - accuracy: 0.6584 - val_loss: 1.0834 - val_accuracy: 0.5414\n",
      "Epoch 108/300\n",
      "37/37 [==============================] - 0s 3ms/step - loss: 0.5430 - accuracy: 0.6639 - val_loss: 1.1294 - val_accuracy: 0.5470\n",
      "Epoch 109/300\n",
      "37/37 [==============================] - 0s 3ms/step - loss: 0.5517 - accuracy: 0.6680 - val_loss: 1.2033 - val_accuracy: 0.5359\n",
      "Epoch 110/300\n",
      "37/37 [==============================] - 0s 3ms/step - loss: 0.5514 - accuracy: 0.6667 - val_loss: 1.0191 - val_accuracy: 0.5470\n",
      "Epoch 111/300\n",
      "37/37 [==============================] - 0s 3ms/step - loss: 0.5506 - accuracy: 0.6694 - val_loss: 1.0859 - val_accuracy: 0.5470\n",
      "Epoch 112/300\n",
      "37/37 [==============================] - 0s 3ms/step - loss: 0.5620 - accuracy: 0.6418 - val_loss: 1.1244 - val_accuracy: 0.5691\n",
      "Epoch 113/300\n",
      "37/37 [==============================] - 0s 3ms/step - loss: 0.5959 - accuracy: 0.6515 - val_loss: 1.0464 - val_accuracy: 0.5359\n",
      "Epoch 114/300\n",
      "37/37 [==============================] - 0s 3ms/step - loss: 0.5610 - accuracy: 0.6680 - val_loss: 1.0807 - val_accuracy: 0.5249\n",
      "Epoch 115/300\n",
      "37/37 [==============================] - 0s 3ms/step - loss: 0.5664 - accuracy: 0.6750 - val_loss: 1.0118 - val_accuracy: 0.5470\n",
      "Epoch 116/300\n"
     ]
    },
    {
     "name": "stdout",
     "output_type": "stream",
     "text": [
      "37/37 [==============================] - 0s 3ms/step - loss: 0.5478 - accuracy: 0.6736 - val_loss: 1.1623 - val_accuracy: 0.5414\n",
      "Epoch 117/300\n",
      "37/37 [==============================] - 0s 3ms/step - loss: 0.5773 - accuracy: 0.6501 - val_loss: 1.0912 - val_accuracy: 0.5359\n",
      "Epoch 118/300\n",
      "37/37 [==============================] - 0s 3ms/step - loss: 0.5499 - accuracy: 0.6611 - val_loss: 1.1342 - val_accuracy: 0.5304\n",
      "Epoch 119/300\n",
      "37/37 [==============================] - 0s 3ms/step - loss: 0.5680 - accuracy: 0.6528 - val_loss: 1.1495 - val_accuracy: 0.5470\n",
      "Epoch 120/300\n",
      "37/37 [==============================] - 0s 3ms/step - loss: 0.5453 - accuracy: 0.6556 - val_loss: 1.0540 - val_accuracy: 0.5414\n",
      "Epoch 121/300\n",
      "37/37 [==============================] - 0s 3ms/step - loss: 0.5474 - accuracy: 0.6542 - val_loss: 1.1170 - val_accuracy: 0.5580\n",
      "Epoch 122/300\n",
      "37/37 [==============================] - 0s 3ms/step - loss: 0.5604 - accuracy: 0.6598 - val_loss: 1.0744 - val_accuracy: 0.5359\n",
      "Epoch 123/300\n",
      "37/37 [==============================] - 0s 3ms/step - loss: 0.5557 - accuracy: 0.6515 - val_loss: 1.0789 - val_accuracy: 0.5304\n",
      "Epoch 124/300\n",
      "37/37 [==============================] - 0s 3ms/step - loss: 0.5380 - accuracy: 0.6708 - val_loss: 1.1898 - val_accuracy: 0.5635\n",
      "Epoch 125/300\n",
      "37/37 [==============================] - 0s 3ms/step - loss: 0.5762 - accuracy: 0.6598 - val_loss: 1.0894 - val_accuracy: 0.5304\n",
      "Epoch 126/300\n",
      "37/37 [==============================] - 0s 3ms/step - loss: 0.5538 - accuracy: 0.6680 - val_loss: 1.0611 - val_accuracy: 0.5414\n",
      "Epoch 127/300\n",
      "37/37 [==============================] - 0s 3ms/step - loss: 0.5607 - accuracy: 0.6404 - val_loss: 1.0000 - val_accuracy: 0.5359\n",
      "Epoch 128/300\n",
      "37/37 [==============================] - 0s 3ms/step - loss: 0.5661 - accuracy: 0.6625 - val_loss: 1.1471 - val_accuracy: 0.5193\n",
      "Epoch 129/300\n",
      "37/37 [==============================] - 0s 3ms/step - loss: 0.5709 - accuracy: 0.6556 - val_loss: 0.9631 - val_accuracy: 0.5249\n",
      "Epoch 130/300\n",
      "37/37 [==============================] - 0s 3ms/step - loss: 0.5526 - accuracy: 0.6611 - val_loss: 1.0930 - val_accuracy: 0.5635\n",
      "Epoch 131/300\n",
      "37/37 [==============================] - 0s 3ms/step - loss: 0.5609 - accuracy: 0.6625 - val_loss: 0.9553 - val_accuracy: 0.5470\n",
      "Epoch 132/300\n",
      "37/37 [==============================] - 0s 3ms/step - loss: 0.5422 - accuracy: 0.6667 - val_loss: 1.1448 - val_accuracy: 0.5414\n",
      "Epoch 133/300\n",
      "37/37 [==============================] - 0s 3ms/step - loss: 0.5545 - accuracy: 0.6653 - val_loss: 1.1511 - val_accuracy: 0.5249\n",
      "Epoch 134/300\n",
      "37/37 [==============================] - 0s 3ms/step - loss: 0.5915 - accuracy: 0.6362 - val_loss: 0.9876 - val_accuracy: 0.5249\n",
      "Epoch 135/300\n",
      "37/37 [==============================] - 0s 3ms/step - loss: 0.5533 - accuracy: 0.6570 - val_loss: 1.0486 - val_accuracy: 0.5691\n",
      "Epoch 136/300\n",
      "37/37 [==============================] - 0s 3ms/step - loss: 0.5426 - accuracy: 0.6611 - val_loss: 1.0686 - val_accuracy: 0.5525\n",
      "Epoch 137/300\n",
      "37/37 [==============================] - 0s 3ms/step - loss: 0.5676 - accuracy: 0.6432 - val_loss: 1.1283 - val_accuracy: 0.5414\n",
      "Epoch 138/300\n",
      "37/37 [==============================] - 0s 3ms/step - loss: 0.5828 - accuracy: 0.6667 - val_loss: 1.0514 - val_accuracy: 0.5304\n",
      "Epoch 139/300\n",
      "37/37 [==============================] - 0s 3ms/step - loss: 0.5671 - accuracy: 0.6404 - val_loss: 1.0724 - val_accuracy: 0.5304\n",
      "Epoch 140/300\n",
      "37/37 [==============================] - 0s 3ms/step - loss: 0.5490 - accuracy: 0.6680 - val_loss: 1.0916 - val_accuracy: 0.5359\n",
      "Epoch 141/300\n",
      "37/37 [==============================] - 0s 3ms/step - loss: 0.5667 - accuracy: 0.6653 - val_loss: 1.0867 - val_accuracy: 0.5525\n",
      "Epoch 142/300\n",
      "37/37 [==============================] - 0s 3ms/step - loss: 0.5268 - accuracy: 0.6763 - val_loss: 1.1878 - val_accuracy: 0.5801\n",
      "Epoch 143/300\n",
      "37/37 [==============================] - 0s 3ms/step - loss: 0.5702 - accuracy: 0.6570 - val_loss: 1.0594 - val_accuracy: 0.5414\n",
      "Epoch 144/300\n",
      "37/37 [==============================] - 0s 3ms/step - loss: 0.5565 - accuracy: 0.6584 - val_loss: 1.1197 - val_accuracy: 0.5193\n",
      "Epoch 145/300\n",
      "37/37 [==============================] - 0s 3ms/step - loss: 0.5509 - accuracy: 0.6473 - val_loss: 1.2159 - val_accuracy: 0.5414\n",
      "Epoch 146/300\n",
      "37/37 [==============================] - 0s 3ms/step - loss: 0.5565 - accuracy: 0.6750 - val_loss: 1.2385 - val_accuracy: 0.5525\n",
      "Epoch 147/300\n",
      "37/37 [==============================] - 0s 3ms/step - loss: 0.5753 - accuracy: 0.6611 - val_loss: 1.1539 - val_accuracy: 0.5414\n",
      "Epoch 148/300\n",
      "37/37 [==============================] - 0s 3ms/step - loss: 0.5703 - accuracy: 0.6598 - val_loss: 1.1800 - val_accuracy: 0.5470\n",
      "Epoch 149/300\n",
      "37/37 [==============================] - 0s 3ms/step - loss: 0.5624 - accuracy: 0.6362 - val_loss: 1.0758 - val_accuracy: 0.5414\n",
      "Epoch 150/300\n",
      "37/37 [==============================] - 0s 3ms/step - loss: 0.5560 - accuracy: 0.6694 - val_loss: 1.1110 - val_accuracy: 0.5359\n",
      "Epoch 151/300\n",
      "37/37 [==============================] - 0s 3ms/step - loss: 0.5798 - accuracy: 0.6542 - val_loss: 1.1048 - val_accuracy: 0.5359\n",
      "Epoch 152/300\n",
      "37/37 [==============================] - 0s 3ms/step - loss: 0.5649 - accuracy: 0.6556 - val_loss: 1.0783 - val_accuracy: 0.5414\n",
      "Epoch 153/300\n",
      "37/37 [==============================] - 0s 3ms/step - loss: 0.5727 - accuracy: 0.6404 - val_loss: 1.1475 - val_accuracy: 0.5249\n",
      "Epoch 154/300\n",
      "37/37 [==============================] - 0s 3ms/step - loss: 0.6003 - accuracy: 0.6376 - val_loss: 1.0841 - val_accuracy: 0.5414\n",
      "Epoch 155/300\n",
      "37/37 [==============================] - 0s 3ms/step - loss: 0.5611 - accuracy: 0.6515 - val_loss: 1.0975 - val_accuracy: 0.5525\n",
      "Epoch 156/300\n",
      "37/37 [==============================] - 0s 3ms/step - loss: 0.5450 - accuracy: 0.6542 - val_loss: 1.0721 - val_accuracy: 0.5414\n",
      "Epoch 157/300\n",
      "37/37 [==============================] - 0s 3ms/step - loss: 0.5752 - accuracy: 0.6432 - val_loss: 1.1720 - val_accuracy: 0.5304\n",
      "Epoch 158/300\n",
      "37/37 [==============================] - 0s 3ms/step - loss: 0.5897 - accuracy: 0.6570 - val_loss: 1.0203 - val_accuracy: 0.5304\n",
      "Epoch 159/300\n",
      "37/37 [==============================] - 0s 3ms/step - loss: 0.5820 - accuracy: 0.6404 - val_loss: 1.0984 - val_accuracy: 0.5470\n",
      "Epoch 160/300\n",
      "37/37 [==============================] - 0s 3ms/step - loss: 0.5672 - accuracy: 0.6528 - val_loss: 1.0796 - val_accuracy: 0.5525\n",
      "Epoch 161/300\n",
      "37/37 [==============================] - 0s 3ms/step - loss: 0.5852 - accuracy: 0.6404 - val_loss: 1.0063 - val_accuracy: 0.5525\n",
      "Epoch 162/300\n",
      "37/37 [==============================] - 0s 3ms/step - loss: 0.5559 - accuracy: 0.6598 - val_loss: 1.0679 - val_accuracy: 0.5359\n",
      "Epoch 163/300\n",
      "37/37 [==============================] - 0s 3ms/step - loss: 0.5701 - accuracy: 0.6515 - val_loss: 0.9822 - val_accuracy: 0.5580\n",
      "Epoch 164/300\n",
      "37/37 [==============================] - 0s 3ms/step - loss: 0.5790 - accuracy: 0.6556 - val_loss: 1.0292 - val_accuracy: 0.5470\n",
      "Epoch 165/300\n",
      "37/37 [==============================] - 0s 3ms/step - loss: 0.5488 - accuracy: 0.6611 - val_loss: 1.1403 - val_accuracy: 0.5304\n",
      "Epoch 166/300\n",
      "37/37 [==============================] - 0s 3ms/step - loss: 0.5772 - accuracy: 0.6445 - val_loss: 1.1041 - val_accuracy: 0.5414\n",
      "Epoch 167/300\n",
      "37/37 [==============================] - 0s 3ms/step - loss: 0.5745 - accuracy: 0.6501 - val_loss: 1.1206 - val_accuracy: 0.5359\n",
      "Epoch 168/300\n",
      "37/37 [==============================] - 0s 3ms/step - loss: 0.5629 - accuracy: 0.6653 - val_loss: 1.0678 - val_accuracy: 0.5304\n",
      "Epoch 169/300\n",
      "37/37 [==============================] - 0s 3ms/step - loss: 0.5602 - accuracy: 0.6528 - val_loss: 1.0898 - val_accuracy: 0.5470\n",
      "Epoch 170/300\n",
      "37/37 [==============================] - 0s 3ms/step - loss: 0.5575 - accuracy: 0.6598 - val_loss: 1.1677 - val_accuracy: 0.5525\n",
      "Epoch 171/300\n",
      "37/37 [==============================] - 0s 3ms/step - loss: 0.5633 - accuracy: 0.6639 - val_loss: 1.1984 - val_accuracy: 0.5525\n",
      "Epoch 172/300\n",
      "37/37 [==============================] - 0s 3ms/step - loss: 0.5957 - accuracy: 0.6335 - val_loss: 1.0237 - val_accuracy: 0.5470\n",
      "Epoch 173/300\n"
     ]
    },
    {
     "name": "stdout",
     "output_type": "stream",
     "text": [
      "37/37 [==============================] - 0s 3ms/step - loss: 0.5566 - accuracy: 0.6680 - val_loss: 1.1343 - val_accuracy: 0.5414\n",
      "Epoch 174/300\n",
      "37/37 [==============================] - 0s 3ms/step - loss: 0.5547 - accuracy: 0.6694 - val_loss: 1.1382 - val_accuracy: 0.5359\n",
      "Epoch 175/300\n",
      "37/37 [==============================] - 0s 3ms/step - loss: 0.5519 - accuracy: 0.6625 - val_loss: 1.1739 - val_accuracy: 0.5470\n",
      "Epoch 176/300\n",
      "37/37 [==============================] - 0s 3ms/step - loss: 0.5399 - accuracy: 0.6611 - val_loss: 1.1815 - val_accuracy: 0.5304\n",
      "Epoch 177/300\n",
      "37/37 [==============================] - 0s 3ms/step - loss: 0.5570 - accuracy: 0.6584 - val_loss: 1.1325 - val_accuracy: 0.5414\n",
      "Epoch 178/300\n",
      "37/37 [==============================] - 0s 3ms/step - loss: 0.5449 - accuracy: 0.6708 - val_loss: 1.1615 - val_accuracy: 0.5635\n",
      "Epoch 179/300\n",
      "37/37 [==============================] - 0s 3ms/step - loss: 0.5709 - accuracy: 0.6639 - val_loss: 1.0119 - val_accuracy: 0.5580\n",
      "Epoch 180/300\n",
      "37/37 [==============================] - 0s 3ms/step - loss: 0.5525 - accuracy: 0.6556 - val_loss: 1.0028 - val_accuracy: 0.5414\n",
      "Epoch 181/300\n",
      "37/37 [==============================] - 0s 3ms/step - loss: 0.5504 - accuracy: 0.6570 - val_loss: 1.1232 - val_accuracy: 0.5691\n",
      "Epoch 182/300\n",
      "37/37 [==============================] - 0s 3ms/step - loss: 0.5731 - accuracy: 0.6667 - val_loss: 1.1067 - val_accuracy: 0.5635\n",
      "Epoch 183/300\n",
      "37/37 [==============================] - 0s 3ms/step - loss: 0.5641 - accuracy: 0.6473 - val_loss: 0.9521 - val_accuracy: 0.5635\n",
      "Epoch 184/300\n",
      "37/37 [==============================] - 0s 3ms/step - loss: 0.5578 - accuracy: 0.6694 - val_loss: 1.0286 - val_accuracy: 0.5525\n",
      "Epoch 185/300\n",
      "37/37 [==============================] - 0s 3ms/step - loss: 0.5710 - accuracy: 0.6515 - val_loss: 0.9926 - val_accuracy: 0.5525\n",
      "Epoch 186/300\n",
      "37/37 [==============================] - 0s 3ms/step - loss: 0.5475 - accuracy: 0.6653 - val_loss: 1.0886 - val_accuracy: 0.5967\n",
      "Epoch 187/300\n",
      "37/37 [==============================] - 0s 3ms/step - loss: 0.5642 - accuracy: 0.6376 - val_loss: 1.1182 - val_accuracy: 0.5249\n",
      "Epoch 188/300\n",
      "37/37 [==============================] - 0s 3ms/step - loss: 0.5612 - accuracy: 0.6667 - val_loss: 1.1003 - val_accuracy: 0.5470\n",
      "Epoch 189/300\n",
      "37/37 [==============================] - 0s 3ms/step - loss: 0.5991 - accuracy: 0.6570 - val_loss: 1.0073 - val_accuracy: 0.5304\n",
      "Epoch 190/300\n",
      "37/37 [==============================] - 0s 3ms/step - loss: 0.5642 - accuracy: 0.6736 - val_loss: 1.0668 - val_accuracy: 0.5304\n",
      "Epoch 191/300\n",
      "37/37 [==============================] - 0s 3ms/step - loss: 0.5563 - accuracy: 0.6639 - val_loss: 1.0921 - val_accuracy: 0.5304\n",
      "Epoch 192/300\n",
      "37/37 [==============================] - 0s 3ms/step - loss: 0.5693 - accuracy: 0.6487 - val_loss: 1.2106 - val_accuracy: 0.5193\n",
      "Epoch 193/300\n",
      "37/37 [==============================] - 0s 3ms/step - loss: 0.5579 - accuracy: 0.6611 - val_loss: 1.1230 - val_accuracy: 0.5746\n",
      "Epoch 194/300\n",
      "37/37 [==============================] - 0s 3ms/step - loss: 0.5708 - accuracy: 0.6515 - val_loss: 1.2904 - val_accuracy: 0.5359\n",
      "Epoch 195/300\n",
      "37/37 [==============================] - 0s 3ms/step - loss: 0.5899 - accuracy: 0.6598 - val_loss: 1.2066 - val_accuracy: 0.5304\n",
      "Epoch 196/300\n",
      "37/37 [==============================] - 0s 3ms/step - loss: 0.5691 - accuracy: 0.6528 - val_loss: 1.2132 - val_accuracy: 0.5414\n",
      "Epoch 197/300\n",
      "37/37 [==============================] - 0s 3ms/step - loss: 0.5501 - accuracy: 0.6584 - val_loss: 1.2612 - val_accuracy: 0.5414\n",
      "Epoch 198/300\n",
      "37/37 [==============================] - 0s 3ms/step - loss: 0.5465 - accuracy: 0.6763 - val_loss: 1.2715 - val_accuracy: 0.5359\n",
      "Epoch 199/300\n",
      "37/37 [==============================] - 0s 3ms/step - loss: 0.5841 - accuracy: 0.6542 - val_loss: 1.0585 - val_accuracy: 0.5359\n",
      "Epoch 200/300\n",
      "37/37 [==============================] - 0s 3ms/step - loss: 0.5643 - accuracy: 0.6598 - val_loss: 1.0897 - val_accuracy: 0.5414\n",
      "Epoch 201/300\n",
      "37/37 [==============================] - 0s 3ms/step - loss: 0.5754 - accuracy: 0.6515 - val_loss: 1.1351 - val_accuracy: 0.5580\n",
      "Epoch 202/300\n",
      "37/37 [==============================] - 0s 3ms/step - loss: 0.5583 - accuracy: 0.6611 - val_loss: 0.9815 - val_accuracy: 0.5414\n",
      "Epoch 203/300\n",
      "37/37 [==============================] - 0s 3ms/step - loss: 0.5575 - accuracy: 0.6667 - val_loss: 1.0614 - val_accuracy: 0.5635\n",
      "Epoch 204/300\n",
      "37/37 [==============================] - 0s 3ms/step - loss: 0.5751 - accuracy: 0.6694 - val_loss: 1.1609 - val_accuracy: 0.5414\n",
      "Epoch 205/300\n",
      "37/37 [==============================] - 0s 3ms/step - loss: 0.5589 - accuracy: 0.6680 - val_loss: 1.0195 - val_accuracy: 0.5359\n",
      "Epoch 206/300\n",
      "37/37 [==============================] - 0s 3ms/step - loss: 0.5620 - accuracy: 0.6570 - val_loss: 1.0622 - val_accuracy: 0.5359\n",
      "Epoch 207/300\n",
      "37/37 [==============================] - 0s 3ms/step - loss: 0.5811 - accuracy: 0.6501 - val_loss: 1.1248 - val_accuracy: 0.5691\n",
      "Epoch 208/300\n",
      "37/37 [==============================] - 0s 3ms/step - loss: 0.5773 - accuracy: 0.6584 - val_loss: 1.0927 - val_accuracy: 0.5414\n",
      "Epoch 209/300\n",
      "37/37 [==============================] - 0s 3ms/step - loss: 0.5628 - accuracy: 0.6625 - val_loss: 1.0964 - val_accuracy: 0.5249\n",
      "Epoch 210/300\n",
      "37/37 [==============================] - 0s 3ms/step - loss: 0.5675 - accuracy: 0.6570 - val_loss: 1.1608 - val_accuracy: 0.5138\n",
      "Epoch 211/300\n",
      "37/37 [==============================] - 0s 3ms/step - loss: 0.5566 - accuracy: 0.6777 - val_loss: 1.2193 - val_accuracy: 0.5304\n",
      "Epoch 212/300\n",
      "37/37 [==============================] - 0s 3ms/step - loss: 0.5623 - accuracy: 0.6487 - val_loss: 1.1187 - val_accuracy: 0.5249\n",
      "Epoch 213/300\n",
      "37/37 [==============================] - 0s 3ms/step - loss: 0.5767 - accuracy: 0.6570 - val_loss: 1.1546 - val_accuracy: 0.5414\n",
      "Epoch 214/300\n",
      "37/37 [==============================] - 0s 3ms/step - loss: 0.5522 - accuracy: 0.6528 - val_loss: 1.0665 - val_accuracy: 0.5414\n",
      "Epoch 215/300\n",
      "37/37 [==============================] - 0s 3ms/step - loss: 0.5720 - accuracy: 0.6432 - val_loss: 1.1064 - val_accuracy: 0.5359\n",
      "Epoch 216/300\n",
      "37/37 [==============================] - 0s 3ms/step - loss: 0.5691 - accuracy: 0.6501 - val_loss: 1.2193 - val_accuracy: 0.5470\n",
      "Epoch 217/300\n",
      "37/37 [==============================] - 0s 3ms/step - loss: 0.5686 - accuracy: 0.6598 - val_loss: 1.1441 - val_accuracy: 0.5470\n",
      "Epoch 218/300\n",
      "37/37 [==============================] - 0s 3ms/step - loss: 0.5753 - accuracy: 0.6445 - val_loss: 1.0724 - val_accuracy: 0.5359\n",
      "Epoch 219/300\n",
      "37/37 [==============================] - 0s 3ms/step - loss: 0.5651 - accuracy: 0.6639 - val_loss: 1.0754 - val_accuracy: 0.5525\n",
      "Epoch 220/300\n",
      "37/37 [==============================] - 0s 3ms/step - loss: 0.5609 - accuracy: 0.6570 - val_loss: 1.0433 - val_accuracy: 0.5525\n",
      "Epoch 221/300\n",
      "37/37 [==============================] - 0s 3ms/step - loss: 0.5628 - accuracy: 0.6528 - val_loss: 1.0479 - val_accuracy: 0.5414\n",
      "Epoch 222/300\n",
      "37/37 [==============================] - 0s 3ms/step - loss: 0.5629 - accuracy: 0.6349 - val_loss: 1.1520 - val_accuracy: 0.5304\n",
      "Epoch 223/300\n",
      "37/37 [==============================] - 0s 3ms/step - loss: 0.5894 - accuracy: 0.6349 - val_loss: 1.0402 - val_accuracy: 0.5304\n",
      "Epoch 224/300\n",
      "37/37 [==============================] - 0s 3ms/step - loss: 0.5660 - accuracy: 0.6487 - val_loss: 1.2444 - val_accuracy: 0.5470\n",
      "Epoch 225/300\n",
      "37/37 [==============================] - 0s 3ms/step - loss: 0.5899 - accuracy: 0.6404 - val_loss: 1.1197 - val_accuracy: 0.5414\n",
      "Epoch 226/300\n",
      "37/37 [==============================] - 0s 3ms/step - loss: 0.5686 - accuracy: 0.6708 - val_loss: 1.1167 - val_accuracy: 0.5414\n",
      "Epoch 227/300\n",
      "37/37 [==============================] - 0s 3ms/step - loss: 0.5544 - accuracy: 0.6653 - val_loss: 1.1345 - val_accuracy: 0.5138\n",
      "Epoch 228/300\n",
      "37/37 [==============================] - 0s 3ms/step - loss: 0.5833 - accuracy: 0.6570 - val_loss: 1.0619 - val_accuracy: 0.5580\n",
      "Epoch 229/300\n",
      "37/37 [==============================] - 0s 3ms/step - loss: 0.5693 - accuracy: 0.6556 - val_loss: 1.0853 - val_accuracy: 0.5414\n",
      "Epoch 230/300\n"
     ]
    },
    {
     "name": "stdout",
     "output_type": "stream",
     "text": [
      "37/37 [==============================] - 0s 3ms/step - loss: 0.5591 - accuracy: 0.6625 - val_loss: 1.1220 - val_accuracy: 0.5580\n",
      "Epoch 231/300\n",
      "37/37 [==============================] - 0s 3ms/step - loss: 0.5604 - accuracy: 0.6598 - val_loss: 1.1605 - val_accuracy: 0.5470\n",
      "Epoch 232/300\n",
      "37/37 [==============================] - 0s 3ms/step - loss: 0.5809 - accuracy: 0.6390 - val_loss: 1.0882 - val_accuracy: 0.5249\n",
      "Epoch 233/300\n",
      "37/37 [==============================] - 0s 3ms/step - loss: 0.5685 - accuracy: 0.6570 - val_loss: 1.1646 - val_accuracy: 0.5691\n",
      "Epoch 234/300\n",
      "37/37 [==============================] - 0s 3ms/step - loss: 0.5715 - accuracy: 0.6542 - val_loss: 1.0350 - val_accuracy: 0.5470\n",
      "Epoch 235/300\n",
      "37/37 [==============================] - 0s 3ms/step - loss: 0.5858 - accuracy: 0.6639 - val_loss: 1.1721 - val_accuracy: 0.5470\n",
      "Epoch 236/300\n",
      "37/37 [==============================] - 0s 3ms/step - loss: 0.5747 - accuracy: 0.6639 - val_loss: 1.0699 - val_accuracy: 0.5470\n",
      "Epoch 237/300\n",
      "37/37 [==============================] - 0s 3ms/step - loss: 0.5572 - accuracy: 0.6639 - val_loss: 1.0922 - val_accuracy: 0.5249\n",
      "Epoch 238/300\n",
      "37/37 [==============================] - 0s 3ms/step - loss: 0.5658 - accuracy: 0.6528 - val_loss: 1.0447 - val_accuracy: 0.5580\n",
      "Epoch 239/300\n",
      "37/37 [==============================] - 0s 3ms/step - loss: 0.5943 - accuracy: 0.6362 - val_loss: 1.0468 - val_accuracy: 0.5470\n",
      "Epoch 240/300\n",
      "37/37 [==============================] - 0s 3ms/step - loss: 0.5616 - accuracy: 0.6432 - val_loss: 1.0365 - val_accuracy: 0.5470\n",
      "Epoch 241/300\n",
      "37/37 [==============================] - 0s 3ms/step - loss: 0.5523 - accuracy: 0.6680 - val_loss: 1.0227 - val_accuracy: 0.5580\n",
      "Epoch 242/300\n",
      "37/37 [==============================] - 0s 3ms/step - loss: 0.5735 - accuracy: 0.6418 - val_loss: 1.1999 - val_accuracy: 0.5304\n",
      "Epoch 243/300\n",
      "37/37 [==============================] - 0s 3ms/step - loss: 0.5704 - accuracy: 0.6362 - val_loss: 1.0492 - val_accuracy: 0.5580\n",
      "Epoch 244/300\n",
      "37/37 [==============================] - 0s 3ms/step - loss: 0.5835 - accuracy: 0.6459 - val_loss: 1.1573 - val_accuracy: 0.5635\n",
      "Epoch 245/300\n",
      "37/37 [==============================] - 0s 3ms/step - loss: 0.5531 - accuracy: 0.6708 - val_loss: 1.0520 - val_accuracy: 0.5414\n",
      "Epoch 246/300\n",
      "37/37 [==============================] - 0s 3ms/step - loss: 0.5799 - accuracy: 0.6570 - val_loss: 1.1144 - val_accuracy: 0.5414\n",
      "Epoch 247/300\n",
      "37/37 [==============================] - 0s 3ms/step - loss: 0.5558 - accuracy: 0.6445 - val_loss: 1.1033 - val_accuracy: 0.5525\n",
      "Epoch 248/300\n",
      "37/37 [==============================] - 0s 3ms/step - loss: 0.5569 - accuracy: 0.6791 - val_loss: 1.0992 - val_accuracy: 0.5691\n",
      "Epoch 249/300\n",
      "37/37 [==============================] - 0s 3ms/step - loss: 0.5736 - accuracy: 0.6542 - val_loss: 1.1531 - val_accuracy: 0.5525\n",
      "Epoch 250/300\n",
      "37/37 [==============================] - 0s 3ms/step - loss: 0.5690 - accuracy: 0.6515 - val_loss: 1.0890 - val_accuracy: 0.5359\n",
      "Epoch 251/300\n",
      "37/37 [==============================] - 0s 3ms/step - loss: 0.5662 - accuracy: 0.6625 - val_loss: 1.3321 - val_accuracy: 0.5249\n",
      "Epoch 252/300\n",
      "37/37 [==============================] - 0s 3ms/step - loss: 0.5676 - accuracy: 0.6694 - val_loss: 1.0739 - val_accuracy: 0.5359\n",
      "Epoch 253/300\n",
      "37/37 [==============================] - 0s 3ms/step - loss: 0.5471 - accuracy: 0.6722 - val_loss: 1.1243 - val_accuracy: 0.5359\n",
      "Epoch 254/300\n",
      "37/37 [==============================] - 0s 3ms/step - loss: 0.5684 - accuracy: 0.6708 - val_loss: 1.1011 - val_accuracy: 0.5249\n",
      "Epoch 255/300\n",
      "37/37 [==============================] - 0s 3ms/step - loss: 0.5917 - accuracy: 0.6445 - val_loss: 1.1401 - val_accuracy: 0.5470\n",
      "Epoch 256/300\n",
      "37/37 [==============================] - 0s 3ms/step - loss: 0.5581 - accuracy: 0.6515 - val_loss: 1.1264 - val_accuracy: 0.5414\n",
      "Epoch 257/300\n",
      "37/37 [==============================] - 0s 3ms/step - loss: 0.5748 - accuracy: 0.6542 - val_loss: 1.0982 - val_accuracy: 0.5470\n",
      "Epoch 258/300\n",
      "37/37 [==============================] - 0s 3ms/step - loss: 0.5392 - accuracy: 0.6791 - val_loss: 1.2039 - val_accuracy: 0.5470\n",
      "Epoch 259/300\n",
      "37/37 [==============================] - 0s 3ms/step - loss: 0.5740 - accuracy: 0.6473 - val_loss: 1.2034 - val_accuracy: 0.5249\n",
      "Epoch 260/300\n",
      "37/37 [==============================] - 0s 3ms/step - loss: 0.5726 - accuracy: 0.6653 - val_loss: 1.0702 - val_accuracy: 0.5304\n",
      "Epoch 261/300\n",
      "37/37 [==============================] - 0s 3ms/step - loss: 0.5877 - accuracy: 0.6680 - val_loss: 1.1580 - val_accuracy: 0.5249\n",
      "Epoch 262/300\n",
      "37/37 [==============================] - 0s 3ms/step - loss: 0.5462 - accuracy: 0.6708 - val_loss: 1.1129 - val_accuracy: 0.5525\n",
      "Epoch 263/300\n",
      "37/37 [==============================] - 0s 3ms/step - loss: 0.5683 - accuracy: 0.6349 - val_loss: 1.1445 - val_accuracy: 0.5359\n",
      "Epoch 264/300\n",
      "37/37 [==============================] - 0s 3ms/step - loss: 0.5889 - accuracy: 0.6598 - val_loss: 1.0466 - val_accuracy: 0.5359\n",
      "Epoch 265/300\n",
      "37/37 [==============================] - 0s 3ms/step - loss: 0.5789 - accuracy: 0.6252 - val_loss: 1.0278 - val_accuracy: 0.5414\n",
      "Epoch 266/300\n",
      "37/37 [==============================] - 0s 3ms/step - loss: 0.5458 - accuracy: 0.6708 - val_loss: 1.1052 - val_accuracy: 0.5304\n",
      "Epoch 267/300\n",
      "37/37 [==============================] - 0s 3ms/step - loss: 0.5694 - accuracy: 0.6680 - val_loss: 1.0833 - val_accuracy: 0.5580\n",
      "Epoch 268/300\n",
      "37/37 [==============================] - 0s 3ms/step - loss: 0.5820 - accuracy: 0.6390 - val_loss: 1.1588 - val_accuracy: 0.5470\n",
      "Epoch 269/300\n",
      "37/37 [==============================] - 0s 3ms/step - loss: 0.5815 - accuracy: 0.6266 - val_loss: 1.1208 - val_accuracy: 0.5249\n",
      "Epoch 270/300\n",
      "37/37 [==============================] - 0s 3ms/step - loss: 0.5667 - accuracy: 0.6390 - val_loss: 1.1724 - val_accuracy: 0.5470\n",
      "Epoch 271/300\n",
      "37/37 [==============================] - 0s 3ms/step - loss: 0.5743 - accuracy: 0.6528 - val_loss: 1.2508 - val_accuracy: 0.5359\n",
      "Epoch 272/300\n",
      "37/37 [==============================] - 0s 3ms/step - loss: 0.5624 - accuracy: 0.6653 - val_loss: 1.1485 - val_accuracy: 0.5249\n",
      "Epoch 273/300\n",
      "37/37 [==============================] - 0s 3ms/step - loss: 0.5697 - accuracy: 0.6584 - val_loss: 0.9993 - val_accuracy: 0.5635\n",
      "Epoch 274/300\n",
      "37/37 [==============================] - 0s 3ms/step - loss: 0.5736 - accuracy: 0.6473 - val_loss: 1.2166 - val_accuracy: 0.5249\n",
      "Epoch 275/300\n",
      "37/37 [==============================] - 0s 3ms/step - loss: 0.5559 - accuracy: 0.6625 - val_loss: 1.1373 - val_accuracy: 0.5525\n",
      "Epoch 276/300\n",
      "37/37 [==============================] - 0s 3ms/step - loss: 0.5685 - accuracy: 0.6598 - val_loss: 1.1317 - val_accuracy: 0.5359\n",
      "Epoch 277/300\n",
      "37/37 [==============================] - 0s 3ms/step - loss: 0.5791 - accuracy: 0.6418 - val_loss: 1.0812 - val_accuracy: 0.5525\n",
      "Epoch 278/300\n",
      "37/37 [==============================] - 0s 3ms/step - loss: 0.5665 - accuracy: 0.6432 - val_loss: 1.1349 - val_accuracy: 0.5635\n",
      "Epoch 279/300\n",
      "37/37 [==============================] - 0s 3ms/step - loss: 0.5875 - accuracy: 0.6335 - val_loss: 0.9797 - val_accuracy: 0.5525\n",
      "Epoch 280/300\n",
      "37/37 [==============================] - 0s 3ms/step - loss: 0.5835 - accuracy: 0.6432 - val_loss: 1.0310 - val_accuracy: 0.5414\n",
      "Epoch 281/300\n",
      "37/37 [==============================] - 0s 3ms/step - loss: 0.5649 - accuracy: 0.6528 - val_loss: 1.1622 - val_accuracy: 0.5635\n",
      "Epoch 282/300\n",
      "37/37 [==============================] - 0s 3ms/step - loss: 0.5659 - accuracy: 0.6542 - val_loss: 1.1466 - val_accuracy: 0.5525\n",
      "Epoch 283/300\n",
      "37/37 [==============================] - 0s 3ms/step - loss: 0.5656 - accuracy: 0.6432 - val_loss: 1.1707 - val_accuracy: 0.5470\n",
      "Epoch 284/300\n",
      "37/37 [==============================] - 0s 3ms/step - loss: 0.5562 - accuracy: 0.6598 - val_loss: 1.1126 - val_accuracy: 0.5470\n",
      "Epoch 285/300\n",
      "37/37 [==============================] - 0s 3ms/step - loss: 0.5581 - accuracy: 0.6487 - val_loss: 1.2035 - val_accuracy: 0.5414\n",
      "Epoch 286/300\n",
      "37/37 [==============================] - 0s 3ms/step - loss: 0.5688 - accuracy: 0.6680 - val_loss: 1.1443 - val_accuracy: 0.5304\n",
      "Epoch 287/300\n"
     ]
    },
    {
     "name": "stdout",
     "output_type": "stream",
     "text": [
      "37/37 [==============================] - 0s 3ms/step - loss: 0.5676 - accuracy: 0.6473 - val_loss: 1.1875 - val_accuracy: 0.5580\n",
      "Epoch 288/300\n",
      "37/37 [==============================] - 0s 3ms/step - loss: 0.5913 - accuracy: 0.6515 - val_loss: 1.0768 - val_accuracy: 0.5580\n",
      "Epoch 289/300\n",
      "37/37 [==============================] - 0s 3ms/step - loss: 0.5573 - accuracy: 0.6667 - val_loss: 1.0858 - val_accuracy: 0.5691\n",
      "Epoch 290/300\n",
      "37/37 [==============================] - 0s 3ms/step - loss: 0.5657 - accuracy: 0.6515 - val_loss: 1.1976 - val_accuracy: 0.5470\n",
      "Epoch 291/300\n",
      "37/37 [==============================] - 0s 3ms/step - loss: 0.5570 - accuracy: 0.6598 - val_loss: 1.2425 - val_accuracy: 0.5525\n",
      "Epoch 292/300\n",
      "37/37 [==============================] - 0s 3ms/step - loss: 0.5846 - accuracy: 0.6418 - val_loss: 1.1241 - val_accuracy: 0.5249\n",
      "Epoch 293/300\n",
      "37/37 [==============================] - 0s 3ms/step - loss: 0.5639 - accuracy: 0.6542 - val_loss: 1.1281 - val_accuracy: 0.5304\n",
      "Epoch 294/300\n",
      "37/37 [==============================] - 0s 3ms/step - loss: 0.5815 - accuracy: 0.6418 - val_loss: 1.1146 - val_accuracy: 0.5580\n",
      "Epoch 295/300\n",
      "37/37 [==============================] - 0s 3ms/step - loss: 0.5829 - accuracy: 0.6390 - val_loss: 1.0429 - val_accuracy: 0.5635\n",
      "Epoch 296/300\n",
      "37/37 [==============================] - 0s 3ms/step - loss: 0.5691 - accuracy: 0.6362 - val_loss: 1.1590 - val_accuracy: 0.5525\n",
      "Epoch 297/300\n",
      "37/37 [==============================] - 0s 3ms/step - loss: 0.5808 - accuracy: 0.6349 - val_loss: 1.0746 - val_accuracy: 0.5359\n",
      "Epoch 298/300\n",
      "37/37 [==============================] - 0s 3ms/step - loss: 0.5749 - accuracy: 0.6528 - val_loss: 1.2077 - val_accuracy: 0.5359\n",
      "Epoch 299/300\n",
      "37/37 [==============================] - 0s 3ms/step - loss: 0.5604 - accuracy: 0.6584 - val_loss: 1.1794 - val_accuracy: 0.5635\n",
      "Epoch 300/300\n",
      "37/37 [==============================] - 0s 3ms/step - loss: 0.5681 - accuracy: 0.6501 - val_loss: 1.2388 - val_accuracy: 0.5414\n"
     ]
    },
    {
     "data": {
      "text/plain": [
       "<keras.callbacks.History at 0x1fc1e359f10>"
      ]
     },
     "execution_count": 83,
     "metadata": {},
     "output_type": "execute_result"
    }
   ],
   "source": [
    "from IPython.core.display import display, HTML\n",
    "\n",
    "# Enable horizontal scrolling for output\n",
    "display(HTML(\"<style>pre { white-space: pre !important; }</style>\"))\n",
    "\n",
    "# Generate a long output\n",
    "long_output = \"A\" * 1000\n",
    "\n",
    "model.fit(train_ds, epochs=300, validation_data = val_ds)"
   ]
  },
  {
   "cell_type": "code",
   "execution_count": null,
   "metadata": {},
   "outputs": [],
   "source": [
    "df.info()"
   ]
  },
  {
   "cell_type": "code",
   "execution_count": 69,
   "metadata": {},
   "outputs": [],
   "source": [
    "input_data = {\n",
    "    'gender' : 1,\n",
    "    'age'    :21,\n",
    "    'workout_experience' : 0,\n",
    "    'workout_time' : 60,\n",
    "    'weight' : 65,\n",
    "    'height' : 170,\n",
    "}"
   ]
  },
  {
   "cell_type": "code",
   "execution_count": 70,
   "metadata": {},
   "outputs": [],
   "source": [
    "input_dict = {}"
   ]
  },
  {
   "cell_type": "code",
   "execution_count": 71,
   "metadata": {},
   "outputs": [],
   "source": [
    "for feature, value in input_data.items() :\n",
    "    input_dict[feature] = tf.convert_to_tensor([value])"
   ]
  },
  {
   "cell_type": "code",
   "execution_count": 72,
   "metadata": {},
   "outputs": [
    {
     "data": {
      "text/plain": [
       "{'gender': <tf.Tensor: shape=(1,), dtype=int32, numpy=array([1])>,\n",
       " 'age': <tf.Tensor: shape=(1,), dtype=int32, numpy=array([21])>,\n",
       " 'workout_experience': <tf.Tensor: shape=(1,), dtype=int32, numpy=array([0])>,\n",
       " 'workout_time': <tf.Tensor: shape=(1,), dtype=int32, numpy=array([60])>,\n",
       " 'weight': <tf.Tensor: shape=(1,), dtype=int32, numpy=array([65])>,\n",
       " 'height': <tf.Tensor: shape=(1,), dtype=int32, numpy=array([170])>}"
      ]
     },
     "execution_count": 72,
     "metadata": {},
     "output_type": "execute_result"
    }
   ],
   "source": [
    "input_dict"
   ]
  },
  {
   "cell_type": "code",
   "execution_count": 76,
   "metadata": {},
   "outputs": [
    {
     "name": "stdout",
     "output_type": "stream",
     "text": [
      "1/1 [==============================] - 0s 34ms/step\n"
     ]
    }
   ],
   "source": [
    "predictions = model.predict(input_dict)"
   ]
  },
  {
   "cell_type": "code",
   "execution_count": 77,
   "metadata": {},
   "outputs": [
    {
     "data": {
      "text/plain": [
       "array([[0.5033811]], dtype=float32)"
      ]
     },
     "execution_count": 77,
     "metadata": {},
     "output_type": "execute_result"
    }
   ],
   "source": [
    "predictions"
   ]
  },
  {
   "cell_type": "code",
   "execution_count": 78,
   "metadata": {},
   "outputs": [
    {
     "name": "stdout",
     "output_type": "stream",
     "text": [
      "You should do muscle up !\n"
     ]
    }
   ],
   "source": [
    "if predictions[0][0] >= 0.5 :\n",
    "    print(\"You should do muscle up !\")\n",
    "else :\n",
    "    print(\"You should do weight loss !\")"
   ]
  },
  {
   "cell_type": "code",
   "execution_count": 79,
   "metadata": {},
   "outputs": [
    {
     "name": "stdout",
     "output_type": "stream",
     "text": [
      "INFO:tensorflow:Assets written to: ram://5beea795-d635-421c-8e75-4da21a571b51/assets\n"
     ]
    },
    {
     "data": {
      "text/plain": [
       "['model_1_v1.pkl']"
      ]
     },
     "execution_count": 79,
     "metadata": {},
     "output_type": "execute_result"
    }
   ],
   "source": [
    "import joblib\n",
    "\n",
    "# Save the trained model to a file\n",
    "joblib.dump(model, 'model_1_v1.pkl')"
   ]
  },
  {
   "cell_type": "code",
   "execution_count": null,
   "metadata": {},
   "outputs": [],
   "source": []
  }
 ],
 "metadata": {
  "colab": {
   "authorship_tag": "ABX9TyOpKk+85qYG42HGf+43aaAb",
   "provenance": []
  },
  "kernelspec": {
   "display_name": "Python 3 (ipykernel)",
   "language": "python",
   "name": "python3"
  },
  "language_info": {
   "codemirror_mode": {
    "name": "ipython",
    "version": 3
   },
   "file_extension": ".py",
   "mimetype": "text/x-python",
   "name": "python",
   "nbconvert_exporter": "python",
   "pygments_lexer": "ipython3",
   "version": "3.9.4"
  }
 },
 "nbformat": 4,
 "nbformat_minor": 1
}
