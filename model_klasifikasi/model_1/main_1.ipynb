{
 "cells": [
  {
   "cell_type": "markdown",
   "metadata": {},
   "source": [
    "# Model using Neural Network"
   ]
  },
  {
   "cell_type": "markdown",
   "metadata": {
    "id": "0MqdvFhq7OcX"
   },
   "source": [
    "## Import Libraries"
   ]
  },
  {
   "cell_type": "code",
   "execution_count": 1,
   "metadata": {
    "vscode": {
     "languageId": "plaintext"
    }
   },
   "outputs": [],
   "source": [
    "import tensorflow as tf\n",
    "import numpy as np\n",
    "import pandas as pd\n",
    "import seaborn as sns\n",
    "from tensorflow.keras.layers import IntegerLookup\n",
    "from tensorflow.keras.layers import Normalization\n",
    "from tensorflow.keras.layers import StringLookup\n",
    "import tensorflow.keras as keras"
   ]
  },
  {
   "cell_type": "markdown",
   "metadata": {},
   "source": [
    "## Load The Data to DataFrame"
   ]
  },
  {
   "cell_type": "code",
   "execution_count": 2,
   "metadata": {},
   "outputs": [],
   "source": [
    "df = pd.read_csv('cleaned_data.csv')"
   ]
  },
  {
   "cell_type": "markdown",
   "metadata": {},
   "source": [
    "## Check the Columns' Data Type"
   ]
  },
  {
   "cell_type": "code",
   "execution_count": 3,
   "metadata": {},
   "outputs": [
    {
     "data": {
      "text/plain": [
       "Index(['gender', 'age', 'workout_experience', 'workout_time', 'weight',\n",
       "       'height', 'fitness_goal'],\n",
       "      dtype='object')"
      ]
     },
     "execution_count": 3,
     "metadata": {},
     "output_type": "execute_result"
    }
   ],
   "source": [
    "df.columns"
   ]
  },
  {
   "cell_type": "code",
   "execution_count": 4,
   "metadata": {},
   "outputs": [],
   "source": [
    "from sklearn.utils import shuffle\n",
    "\n",
    "shuffled_df = shuffle(df, random_state = 42)"
   ]
  },
  {
   "cell_type": "markdown",
   "metadata": {},
   "source": [
    "## Split Data for Training and Validation\n"
   ]
  },
  {
   "cell_type": "code",
   "execution_count": 5,
   "metadata": {},
   "outputs": [],
   "source": [
    "from sklearn.model_selection import train_test_split\n",
    "\n",
    "train_df, val_df = train_test_split(shuffled_df, test_size = 0.2, random_state=42)"
   ]
  },
  {
   "cell_type": "markdown",
   "metadata": {},
   "source": [
    "## The training and validation set size"
   ]
  },
  {
   "cell_type": "code",
   "execution_count": 6,
   "metadata": {},
   "outputs": [
    {
     "name": "stdout",
     "output_type": "stream",
     "text": [
      "training :  723  | validation :  181\n"
     ]
    }
   ],
   "source": [
    "print('training : ',train_df.shape[0], \" | validation : \", val_df.shape[0])"
   ]
  },
  {
   "cell_type": "markdown",
   "metadata": {},
   "source": [
    "## Function Transform Dataframe into Tensor Dataset"
   ]
  },
  {
   "cell_type": "code",
   "execution_count": 7,
   "metadata": {},
   "outputs": [],
   "source": [
    "def dataframe_transform(df, label):\n",
    "\n",
    "    labels = df.pop(label)\n",
    "    ds = tf.data.Dataset.from_tensor_slices((dict(df), labels))\n",
    "    ds = ds.shuffle(buffer_size = len(df))\n",
    "\n",
    "    return ds"
   ]
  },
  {
   "cell_type": "markdown",
   "metadata": {},
   "source": [
    "## Transform Training and Validation Dataframe into Tensor Dataset"
   ]
  },
  {
   "cell_type": "code",
   "execution_count": 8,
   "metadata": {},
   "outputs": [],
   "source": [
    "train_ds = dataframe_transform(train_df, 'fitness_goal')\n",
    "val_ds   = dataframe_transform(val_df, 'fitness_goal')"
   ]
  },
  {
   "cell_type": "markdown",
   "metadata": {},
   "source": [
    "## Batching the Dataset"
   ]
  },
  {
   "cell_type": "code",
   "execution_count": 9,
   "metadata": {},
   "outputs": [],
   "source": [
    "train_ds = train_ds.batch(20)\n",
    "val_ds   = val_ds.batch(20)"
   ]
  },
  {
   "cell_type": "markdown",
   "metadata": {},
   "source": [
    "## Function to Encode Categorical Column"
   ]
  },
  {
   "cell_type": "code",
   "execution_count": 10,
   "metadata": {},
   "outputs": [],
   "source": [
    "def encode_categorical_feature(column, name, dataset):\n",
    "\n",
    "    lookup_class = IntegerLookup\n",
    "    lookup = lookup_class(output_mode = \"binary\")\n",
    "\n",
    "    column_ds = dataset.map(lambda x, y: x[name])\n",
    "    column_ds = column_ds.map(lambda x: tf.expand_dims(x, -1))\n",
    "\n",
    "    lookup.adapt(column_ds)\n",
    "    encoded_column = lookup(column)\n",
    "\n",
    "    return encoded_column"
   ]
  },
  {
   "cell_type": "markdown",
   "metadata": {},
   "source": [
    "## Function to Encode Numerical Column"
   ]
  },
  {
   "cell_type": "code",
   "execution_count": 11,
   "metadata": {},
   "outputs": [],
   "source": [
    "def encode_numerical_feature(column, name, dataset):\n",
    "\n",
    "    normalizer = Normalization()\n",
    "    column_ds = dataset.map(lambda x, y: x[name])\n",
    "    column_ds = column_ds.map(lambda x: tf.expand_dims(x, -1))\n",
    "\n",
    "    normalizer.adapt(column_ds)\n",
    "    encoded_column = normalizer(column)\n",
    "\n",
    "    return encoded_column"
   ]
  },
  {
   "cell_type": "markdown",
   "metadata": {},
   "source": [
    "## Creating Tensor object from the column"
   ]
  },
  {
   "cell_type": "code",
   "execution_count": 12,
   "metadata": {},
   "outputs": [],
   "source": [
    "gender = keras.Input(shape = (1,), name = 'gender', dtype = 'int64')\n",
    "age    = keras.Input(shape = (1,), name = 'age')\n",
    "workout_experience = keras.Input(shape = (1, ), name = 'workout_experience')\n",
    "workout_time = keras.Input(shape = (1,), name = 'workout_time')\n",
    "weight       = keras.Input(shape = (1,), name = 'weight')\n",
    "height       = keras.Input(shape = (1,), name = 'height')"
   ]
  },
  {
   "cell_type": "code",
   "execution_count": 13,
   "metadata": {},
   "outputs": [],
   "source": [
    "all_columns = [ gender, age, workout_experience, workout_time, height, weight ]"
   ]
  },
  {
   "cell_type": "markdown",
   "metadata": {},
   "source": [
    "## Encode columns based on their data type"
   ]
  },
  {
   "cell_type": "code",
   "execution_count": 14,
   "metadata": {},
   "outputs": [],
   "source": [
    "gender_encoded = encode_categorical_feature(gender, 'gender', train_ds)\n",
    "age_encoded = encode_numerical_feature(age, 'age', train_ds)\n",
    "workout_experience_encoded = encode_numerical_feature(workout_experience, 'workout_experience', train_ds)\n",
    "workout_time_encoded = encode_numerical_feature(workout_time, 'workout_time', train_ds)\n",
    "weight_encoded = encode_numerical_feature(weight, 'weight', train_ds)\n",
    "height_encoded = encode_numerical_feature(height, 'height', train_ds)\n"
   ]
  },
  {
   "cell_type": "code",
   "execution_count": 15,
   "metadata": {},
   "outputs": [],
   "source": [
    "all_features = keras.layers.concatenate([gender_encoded, age_encoded, workout_experience_encoded, workout_time_encoded, height_encoded, weight_encoded])"
   ]
  },
  {
   "cell_type": "markdown",
   "metadata": {},
   "source": [
    "## Build the model architecture"
   ]
  },
  {
   "cell_type": "code",
   "execution_count": 18,
   "metadata": {},
   "outputs": [],
   "source": [
    "x = keras.layers.Dense(64, activation = 'relu')(all_features)\n",
    "x = keras.layers.Dense(32, activation = 'relu')(x)\n",
    "x = keras.layers.Dense(16, activation = 'relu')(x)\n",
    "x = keras.layers.Dropout(0.7)(x)\n",
    "\n",
    "output = keras.layers.Dense(1, activation = 'sigmoid')(x)"
   ]
  },
  {
   "cell_type": "code",
   "execution_count": 19,
   "metadata": {},
   "outputs": [],
   "source": [
    "model  = keras.Model(all_columns, output)\n",
    "model.compile(optimizer = 'rmsprop', loss = 'binary_crossentropy', metrics = ['accuracy'])"
   ]
  },
  {
   "cell_type": "markdown",
   "metadata": {},
   "source": [
    "## Train the model"
   ]
  },
  {
   "cell_type": "code",
   "execution_count": 20,
   "metadata": {
    "scrolled": false
   },
   "outputs": [
    {
     "data": {
      "text/html": [
       "<style>pre { white-space: pre !important; }</style>"
      ],
      "text/plain": [
       "<IPython.core.display.HTML object>"
      ]
     },
     "metadata": {},
     "output_type": "display_data"
    },
    {
     "name": "stdout",
     "output_type": "stream",
     "text": [
      "Epoch 1/300\n",
      "37/37 [==============================] - 6s 31ms/step - loss: 0.6995 - accuracy: 0.5284 - val_loss: 0.6912 - val_accuracy: 0.5249\n",
      "Epoch 2/300\n",
      "37/37 [==============================] - 0s 6ms/step - loss: 0.6998 - accuracy: 0.5118 - val_loss: 0.6915 - val_accuracy: 0.5470\n",
      "Epoch 3/300\n",
      "37/37 [==============================] - 0s 6ms/step - loss: 0.6897 - accuracy: 0.5256 - val_loss: 0.6907 - val_accuracy: 0.5414\n",
      "Epoch 4/300\n",
      "37/37 [==============================] - 0s 6ms/step - loss: 0.6867 - accuracy: 0.5422 - val_loss: 0.6916 - val_accuracy: 0.5028\n",
      "Epoch 5/300\n",
      "37/37 [==============================] - 0s 8ms/step - loss: 0.6875 - accuracy: 0.5450 - val_loss: 0.6913 - val_accuracy: 0.5138\n",
      "Epoch 6/300\n",
      "37/37 [==============================] - 0s 7ms/step - loss: 0.6913 - accuracy: 0.5408 - val_loss: 0.6928 - val_accuracy: 0.4530\n",
      "Epoch 7/300\n",
      "37/37 [==============================] - 0s 7ms/step - loss: 0.6830 - accuracy: 0.5588 - val_loss: 0.6927 - val_accuracy: 0.4862\n",
      "Epoch 8/300\n",
      "37/37 [==============================] - 0s 7ms/step - loss: 0.6827 - accuracy: 0.5450 - val_loss: 0.6947 - val_accuracy: 0.5138\n",
      "Epoch 9/300\n",
      "37/37 [==============================] - 0s 7ms/step - loss: 0.6829 - accuracy: 0.5463 - val_loss: 0.6933 - val_accuracy: 0.5249\n",
      "Epoch 10/300\n",
      "37/37 [==============================] - 0s 7ms/step - loss: 0.6834 - accuracy: 0.5505 - val_loss: 0.6924 - val_accuracy: 0.5083\n",
      "Epoch 11/300\n",
      "37/37 [==============================] - 0s 7ms/step - loss: 0.6822 - accuracy: 0.5491 - val_loss: 0.6924 - val_accuracy: 0.5028\n",
      "Epoch 12/300\n",
      "37/37 [==============================] - 0s 7ms/step - loss: 0.6796 - accuracy: 0.5671 - val_loss: 0.6905 - val_accuracy: 0.5359\n",
      "Epoch 13/300\n",
      "37/37 [==============================] - 0s 6ms/step - loss: 0.6805 - accuracy: 0.5477 - val_loss: 0.6916 - val_accuracy: 0.5193\n",
      "Epoch 14/300\n",
      "37/37 [==============================] - 0s 6ms/step - loss: 0.6723 - accuracy: 0.5671 - val_loss: 0.6907 - val_accuracy: 0.5083\n",
      "Epoch 15/300\n",
      "37/37 [==============================] - 0s 7ms/step - loss: 0.6714 - accuracy: 0.5685 - val_loss: 0.6913 - val_accuracy: 0.5193\n",
      "Epoch 16/300\n",
      "37/37 [==============================] - 0s 7ms/step - loss: 0.6779 - accuracy: 0.5574 - val_loss: 0.6909 - val_accuracy: 0.5249\n",
      "Epoch 17/300\n",
      "37/37 [==============================] - 0s 7ms/step - loss: 0.6703 - accuracy: 0.5657 - val_loss: 0.6926 - val_accuracy: 0.5193\n",
      "Epoch 18/300\n",
      "37/37 [==============================] - 0s 7ms/step - loss: 0.6710 - accuracy: 0.5726 - val_loss: 0.6919 - val_accuracy: 0.5304\n",
      "Epoch 19/300\n",
      "37/37 [==============================] - 0s 7ms/step - loss: 0.6737 - accuracy: 0.5961 - val_loss: 0.6895 - val_accuracy: 0.5304\n",
      "Epoch 20/300\n",
      "37/37 [==============================] - 0s 7ms/step - loss: 0.6632 - accuracy: 0.5906 - val_loss: 0.6909 - val_accuracy: 0.5414\n",
      "Epoch 21/300\n",
      "37/37 [==============================] - 0s 7ms/step - loss: 0.6757 - accuracy: 0.5781 - val_loss: 0.6898 - val_accuracy: 0.4972\n",
      "Epoch 22/300\n",
      "37/37 [==============================] - 0s 8ms/step - loss: 0.6685 - accuracy: 0.5975 - val_loss: 0.6877 - val_accuracy: 0.5470\n",
      "Epoch 23/300\n",
      "37/37 [==============================] - 0s 7ms/step - loss: 0.6650 - accuracy: 0.5712 - val_loss: 0.6890 - val_accuracy: 0.5249\n",
      "Epoch 24/300\n",
      "37/37 [==============================] - 0s 7ms/step - loss: 0.6593 - accuracy: 0.6030 - val_loss: 0.6920 - val_accuracy: 0.5083\n",
      "Epoch 25/300\n",
      "37/37 [==============================] - 0s 7ms/step - loss: 0.6573 - accuracy: 0.6086 - val_loss: 0.6956 - val_accuracy: 0.5138\n",
      "Epoch 26/300\n",
      "37/37 [==============================] - 0s 7ms/step - loss: 0.6548 - accuracy: 0.5975 - val_loss: 0.6915 - val_accuracy: 0.5304\n",
      "Epoch 27/300\n",
      "37/37 [==============================] - 0s 8ms/step - loss: 0.6567 - accuracy: 0.6127 - val_loss: 0.6954 - val_accuracy: 0.5138\n",
      "Epoch 28/300\n",
      "37/37 [==============================] - 0s 8ms/step - loss: 0.6602 - accuracy: 0.5989 - val_loss: 0.6950 - val_accuracy: 0.5138\n",
      "Epoch 29/300\n",
      "37/37 [==============================] - 0s 8ms/step - loss: 0.6619 - accuracy: 0.6224 - val_loss: 0.6949 - val_accuracy: 0.4917\n",
      "Epoch 30/300\n",
      "37/37 [==============================] - 0s 7ms/step - loss: 0.6573 - accuracy: 0.5878 - val_loss: 0.6942 - val_accuracy: 0.5249\n",
      "Epoch 31/300\n",
      "37/37 [==============================] - 0s 8ms/step - loss: 0.6582 - accuracy: 0.5975 - val_loss: 0.6938 - val_accuracy: 0.5138\n",
      "Epoch 32/300\n",
      "37/37 [==============================] - 0s 7ms/step - loss: 0.6567 - accuracy: 0.6252 - val_loss: 0.6984 - val_accuracy: 0.4972\n",
      "Epoch 33/300\n",
      "37/37 [==============================] - 0s 7ms/step - loss: 0.6558 - accuracy: 0.5878 - val_loss: 0.6953 - val_accuracy: 0.5083\n",
      "Epoch 34/300\n",
      "37/37 [==============================] - 0s 6ms/step - loss: 0.6606 - accuracy: 0.6127 - val_loss: 0.6992 - val_accuracy: 0.4917\n",
      "Epoch 35/300\n",
      "37/37 [==============================] - 0s 6ms/step - loss: 0.6405 - accuracy: 0.6252 - val_loss: 0.7001 - val_accuracy: 0.4972\n",
      "Epoch 36/300\n",
      "37/37 [==============================] - 0s 7ms/step - loss: 0.6521 - accuracy: 0.6017 - val_loss: 0.6991 - val_accuracy: 0.5083\n",
      "Epoch 37/300\n",
      "37/37 [==============================] - 0s 7ms/step - loss: 0.6547 - accuracy: 0.6349 - val_loss: 0.6947 - val_accuracy: 0.5138\n",
      "Epoch 38/300\n",
      "37/37 [==============================] - 0s 7ms/step - loss: 0.6471 - accuracy: 0.6030 - val_loss: 0.7014 - val_accuracy: 0.4972\n",
      "Epoch 39/300\n",
      "37/37 [==============================] - 0s 7ms/step - loss: 0.6367 - accuracy: 0.6321 - val_loss: 0.7041 - val_accuracy: 0.5138\n",
      "Epoch 40/300\n",
      "37/37 [==============================] - 0s 8ms/step - loss: 0.6474 - accuracy: 0.6196 - val_loss: 0.7056 - val_accuracy: 0.4972\n",
      "Epoch 41/300\n",
      "37/37 [==============================] - 0s 7ms/step - loss: 0.6431 - accuracy: 0.6017 - val_loss: 0.6984 - val_accuracy: 0.5249\n",
      "Epoch 42/300\n",
      "37/37 [==============================] - 0s 8ms/step - loss: 0.6510 - accuracy: 0.6100 - val_loss: 0.6933 - val_accuracy: 0.5304\n",
      "Epoch 43/300\n",
      "37/37 [==============================] - 0s 7ms/step - loss: 0.6467 - accuracy: 0.6238 - val_loss: 0.6993 - val_accuracy: 0.5083\n",
      "Epoch 44/300\n",
      "37/37 [==============================] - 0s 7ms/step - loss: 0.6448 - accuracy: 0.6224 - val_loss: 0.6985 - val_accuracy: 0.5193\n",
      "Epoch 45/300\n",
      "37/37 [==============================] - 0s 6ms/step - loss: 0.6333 - accuracy: 0.6266 - val_loss: 0.7007 - val_accuracy: 0.5028\n",
      "Epoch 46/300\n",
      "37/37 [==============================] - 0s 7ms/step - loss: 0.6426 - accuracy: 0.6127 - val_loss: 0.7055 - val_accuracy: 0.4917\n",
      "Epoch 47/300\n",
      "37/37 [==============================] - 0s 7ms/step - loss: 0.6292 - accuracy: 0.6501 - val_loss: 0.7028 - val_accuracy: 0.5193\n",
      "Epoch 48/300\n",
      "37/37 [==============================] - 0s 7ms/step - loss: 0.6385 - accuracy: 0.6127 - val_loss: 0.7109 - val_accuracy: 0.5193\n",
      "Epoch 49/300\n",
      "37/37 [==============================] - 0s 7ms/step - loss: 0.6456 - accuracy: 0.6404 - val_loss: 0.7040 - val_accuracy: 0.5138\n",
      "Epoch 50/300\n",
      "37/37 [==============================] - 0s 7ms/step - loss: 0.6412 - accuracy: 0.6113 - val_loss: 0.7009 - val_accuracy: 0.5249\n",
      "Epoch 51/300\n",
      "37/37 [==============================] - 0s 7ms/step - loss: 0.6325 - accuracy: 0.6459 - val_loss: 0.7104 - val_accuracy: 0.5304\n",
      "Epoch 52/300\n",
      "37/37 [==============================] - 0s 7ms/step - loss: 0.6450 - accuracy: 0.5851 - val_loss: 0.7054 - val_accuracy: 0.5193\n",
      "Epoch 53/300\n",
      "37/37 [==============================] - 0s 8ms/step - loss: 0.6205 - accuracy: 0.6515 - val_loss: 0.7101 - val_accuracy: 0.5249\n",
      "Epoch 54/300\n",
      "37/37 [==============================] - 0s 7ms/step - loss: 0.6304 - accuracy: 0.6487 - val_loss: 0.7103 - val_accuracy: 0.5028\n",
      "Epoch 55/300\n",
      "37/37 [==============================] - 0s 7ms/step - loss: 0.6189 - accuracy: 0.6459 - val_loss: 0.7250 - val_accuracy: 0.5138\n",
      "Epoch 56/300\n",
      "37/37 [==============================] - 0s 7ms/step - loss: 0.6364 - accuracy: 0.6335 - val_loss: 0.7133 - val_accuracy: 0.5138\n",
      "Epoch 57/300\n",
      "37/37 [==============================] - 0s 7ms/step - loss: 0.6188 - accuracy: 0.6459 - val_loss: 0.7161 - val_accuracy: 0.4917\n",
      "Epoch 58/300\n",
      "37/37 [==============================] - 0s 7ms/step - loss: 0.6278 - accuracy: 0.6238 - val_loss: 0.7166 - val_accuracy: 0.5193\n"
     ]
    },
    {
     "name": "stdout",
     "output_type": "stream",
     "text": [
      "Epoch 59/300\n",
      "37/37 [==============================] - 0s 8ms/step - loss: 0.6300 - accuracy: 0.6362 - val_loss: 0.7174 - val_accuracy: 0.5083\n",
      "Epoch 60/300\n",
      "37/37 [==============================] - 0s 8ms/step - loss: 0.6270 - accuracy: 0.6432 - val_loss: 0.7118 - val_accuracy: 0.5138\n",
      "Epoch 61/300\n",
      "37/37 [==============================] - 0s 7ms/step - loss: 0.6256 - accuracy: 0.6445 - val_loss: 0.7127 - val_accuracy: 0.5414\n",
      "Epoch 62/300\n",
      "37/37 [==============================] - 0s 6ms/step - loss: 0.6378 - accuracy: 0.6293 - val_loss: 0.7133 - val_accuracy: 0.5083\n",
      "Epoch 63/300\n",
      "37/37 [==============================] - 0s 6ms/step - loss: 0.6122 - accuracy: 0.6598 - val_loss: 0.7168 - val_accuracy: 0.5249\n",
      "Epoch 64/300\n",
      "37/37 [==============================] - 0s 7ms/step - loss: 0.6217 - accuracy: 0.6487 - val_loss: 0.7298 - val_accuracy: 0.5138\n",
      "Epoch 65/300\n",
      "37/37 [==============================] - 0s 8ms/step - loss: 0.6285 - accuracy: 0.6155 - val_loss: 0.7249 - val_accuracy: 0.5083\n",
      "Epoch 66/300\n",
      "37/37 [==============================] - 0s 8ms/step - loss: 0.6223 - accuracy: 0.6611 - val_loss: 0.7228 - val_accuracy: 0.5304\n",
      "Epoch 67/300\n",
      "37/37 [==============================] - 0s 8ms/step - loss: 0.6264 - accuracy: 0.6293 - val_loss: 0.7227 - val_accuracy: 0.4917\n",
      "Epoch 68/300\n",
      "37/37 [==============================] - 0s 9ms/step - loss: 0.6135 - accuracy: 0.6570 - val_loss: 0.7292 - val_accuracy: 0.4917\n",
      "Epoch 69/300\n",
      "37/37 [==============================] - 0s 6ms/step - loss: 0.6208 - accuracy: 0.6611 - val_loss: 0.7426 - val_accuracy: 0.4807\n",
      "Epoch 70/300\n",
      "37/37 [==============================] - 0s 7ms/step - loss: 0.6083 - accuracy: 0.6556 - val_loss: 0.7421 - val_accuracy: 0.4972\n",
      "Epoch 71/300\n",
      "37/37 [==============================] - 0s 6ms/step - loss: 0.5978 - accuracy: 0.6722 - val_loss: 0.7424 - val_accuracy: 0.5028\n",
      "Epoch 72/300\n",
      "37/37 [==============================] - 0s 7ms/step - loss: 0.6155 - accuracy: 0.6321 - val_loss: 0.7629 - val_accuracy: 0.5138\n",
      "Epoch 73/300\n",
      "37/37 [==============================] - 0s 7ms/step - loss: 0.6117 - accuracy: 0.6542 - val_loss: 0.7311 - val_accuracy: 0.5304\n",
      "Epoch 74/300\n",
      "37/37 [==============================] - 0s 7ms/step - loss: 0.6091 - accuracy: 0.6625 - val_loss: 0.7435 - val_accuracy: 0.4972\n",
      "Epoch 75/300\n",
      "37/37 [==============================] - 0s 6ms/step - loss: 0.6109 - accuracy: 0.6625 - val_loss: 0.7337 - val_accuracy: 0.4917\n",
      "Epoch 76/300\n",
      "37/37 [==============================] - 0s 7ms/step - loss: 0.6151 - accuracy: 0.6570 - val_loss: 0.7345 - val_accuracy: 0.4972\n",
      "Epoch 77/300\n",
      "37/37 [==============================] - 0s 8ms/step - loss: 0.6020 - accuracy: 0.6722 - val_loss: 0.7456 - val_accuracy: 0.4917\n",
      "Epoch 78/300\n",
      "37/37 [==============================] - 0s 7ms/step - loss: 0.6026 - accuracy: 0.6598 - val_loss: 0.7452 - val_accuracy: 0.5083\n",
      "Epoch 79/300\n",
      "37/37 [==============================] - 0s 7ms/step - loss: 0.5912 - accuracy: 0.6736 - val_loss: 0.7326 - val_accuracy: 0.5138\n",
      "Epoch 80/300\n",
      "37/37 [==============================] - 0s 7ms/step - loss: 0.6040 - accuracy: 0.6680 - val_loss: 0.7398 - val_accuracy: 0.4807\n",
      "Epoch 81/300\n",
      "37/37 [==============================] - 0s 8ms/step - loss: 0.6003 - accuracy: 0.6805 - val_loss: 0.7461 - val_accuracy: 0.4751\n",
      "Epoch 82/300\n",
      "37/37 [==============================] - 0s 9ms/step - loss: 0.5945 - accuracy: 0.6722 - val_loss: 0.7378 - val_accuracy: 0.5028\n",
      "Epoch 83/300\n",
      "37/37 [==============================] - 0s 8ms/step - loss: 0.5996 - accuracy: 0.6625 - val_loss: 0.7432 - val_accuracy: 0.4917\n",
      "Epoch 84/300\n",
      "37/37 [==============================] - 0s 9ms/step - loss: 0.5894 - accuracy: 0.6957 - val_loss: 0.7477 - val_accuracy: 0.5028\n",
      "Epoch 85/300\n",
      "37/37 [==============================] - 0s 7ms/step - loss: 0.5905 - accuracy: 0.6708 - val_loss: 0.7520 - val_accuracy: 0.4972\n",
      "Epoch 86/300\n",
      "37/37 [==============================] - 0s 8ms/step - loss: 0.5971 - accuracy: 0.6833 - val_loss: 0.7570 - val_accuracy: 0.4751\n",
      "Epoch 87/300\n",
      "37/37 [==============================] - 0s 7ms/step - loss: 0.5961 - accuracy: 0.6570 - val_loss: 0.7538 - val_accuracy: 0.4751\n",
      "Epoch 88/300\n",
      "37/37 [==============================] - 0s 9ms/step - loss: 0.5957 - accuracy: 0.6874 - val_loss: 0.7609 - val_accuracy: 0.4917\n",
      "Epoch 89/300\n",
      "37/37 [==============================] - 0s 8ms/step - loss: 0.6117 - accuracy: 0.6639 - val_loss: 0.7640 - val_accuracy: 0.4641\n",
      "Epoch 90/300\n",
      "37/37 [==============================] - 0s 10ms/step - loss: 0.5694 - accuracy: 0.6902 - val_loss: 0.7592 - val_accuracy: 0.4862\n",
      "Epoch 91/300\n",
      "37/37 [==============================] - 0s 9ms/step - loss: 0.5876 - accuracy: 0.6763 - val_loss: 0.7686 - val_accuracy: 0.4807\n",
      "Epoch 92/300\n",
      "37/37 [==============================] - 0s 7ms/step - loss: 0.5813 - accuracy: 0.6763 - val_loss: 0.7722 - val_accuracy: 0.4972\n",
      "Epoch 93/300\n",
      "37/37 [==============================] - 0s 7ms/step - loss: 0.5881 - accuracy: 0.6639 - val_loss: 0.7626 - val_accuracy: 0.4862\n",
      "Epoch 94/300\n",
      "37/37 [==============================] - 0s 7ms/step - loss: 0.5799 - accuracy: 0.6874 - val_loss: 0.7581 - val_accuracy: 0.5138\n",
      "Epoch 95/300\n",
      "37/37 [==============================] - 0s 8ms/step - loss: 0.5975 - accuracy: 0.6819 - val_loss: 0.7752 - val_accuracy: 0.4917\n",
      "Epoch 96/300\n",
      "37/37 [==============================] - 0s 9ms/step - loss: 0.5911 - accuracy: 0.6916 - val_loss: 0.7979 - val_accuracy: 0.4530\n",
      "Epoch 97/300\n",
      "37/37 [==============================] - 0s 9ms/step - loss: 0.5705 - accuracy: 0.7054 - val_loss: 0.7771 - val_accuracy: 0.4862\n",
      "Epoch 98/300\n",
      "37/37 [==============================] - 0s 8ms/step - loss: 0.5770 - accuracy: 0.6846 - val_loss: 0.7732 - val_accuracy: 0.5028\n",
      "Epoch 99/300\n",
      "37/37 [==============================] - 0s 9ms/step - loss: 0.5833 - accuracy: 0.6874 - val_loss: 0.7859 - val_accuracy: 0.5138\n",
      "Epoch 100/300\n",
      "37/37 [==============================] - 0s 7ms/step - loss: 0.5886 - accuracy: 0.6791 - val_loss: 0.7876 - val_accuracy: 0.5028\n",
      "Epoch 101/300\n",
      "37/37 [==============================] - 0s 7ms/step - loss: 0.5733 - accuracy: 0.6846 - val_loss: 0.7662 - val_accuracy: 0.4862\n",
      "Epoch 102/300\n",
      "37/37 [==============================] - 0s 8ms/step - loss: 0.5744 - accuracy: 0.6888 - val_loss: 0.7740 - val_accuracy: 0.4972\n",
      "Epoch 103/300\n",
      "37/37 [==============================] - 0s 9ms/step - loss: 0.5721 - accuracy: 0.6971 - val_loss: 0.7718 - val_accuracy: 0.5304\n",
      "Epoch 104/300\n",
      "37/37 [==============================] - 0s 7ms/step - loss: 0.5641 - accuracy: 0.6846 - val_loss: 0.7882 - val_accuracy: 0.4586\n",
      "Epoch 105/300\n",
      "37/37 [==============================] - 0s 7ms/step - loss: 0.5788 - accuracy: 0.6888 - val_loss: 0.7931 - val_accuracy: 0.4972\n",
      "Epoch 106/300\n",
      "37/37 [==============================] - 0s 9ms/step - loss: 0.5783 - accuracy: 0.6985 - val_loss: 0.7872 - val_accuracy: 0.4917\n",
      "Epoch 107/300\n",
      "37/37 [==============================] - 0s 9ms/step - loss: 0.5691 - accuracy: 0.6929 - val_loss: 0.7955 - val_accuracy: 0.5083\n",
      "Epoch 108/300\n",
      "37/37 [==============================] - 0s 8ms/step - loss: 0.5706 - accuracy: 0.6971 - val_loss: 0.7810 - val_accuracy: 0.5028\n",
      "Epoch 109/300\n",
      "37/37 [==============================] - 0s 9ms/step - loss: 0.5740 - accuracy: 0.6971 - val_loss: 0.7972 - val_accuracy: 0.4807\n",
      "Epoch 110/300\n",
      "37/37 [==============================] - 0s 9ms/step - loss: 0.5627 - accuracy: 0.6971 - val_loss: 0.7939 - val_accuracy: 0.4972\n",
      "Epoch 111/300\n",
      "37/37 [==============================] - 0s 8ms/step - loss: 0.5791 - accuracy: 0.7026 - val_loss: 0.7965 - val_accuracy: 0.4807\n",
      "Epoch 112/300\n",
      "37/37 [==============================] - 0s 8ms/step - loss: 0.5449 - accuracy: 0.7095 - val_loss: 0.8041 - val_accuracy: 0.4862\n",
      "Epoch 113/300\n",
      "37/37 [==============================] - 0s 7ms/step - loss: 0.5612 - accuracy: 0.7054 - val_loss: 0.7894 - val_accuracy: 0.4917\n",
      "Epoch 114/300\n",
      "37/37 [==============================] - 0s 7ms/step - loss: 0.5614 - accuracy: 0.6999 - val_loss: 0.8182 - val_accuracy: 0.5193\n",
      "Epoch 115/300\n",
      "37/37 [==============================] - 0s 7ms/step - loss: 0.5562 - accuracy: 0.7026 - val_loss: 0.7981 - val_accuracy: 0.4862\n",
      "Epoch 116/300\n"
     ]
    },
    {
     "name": "stdout",
     "output_type": "stream",
     "text": [
      "37/37 [==============================] - 0s 7ms/step - loss: 0.5431 - accuracy: 0.7178 - val_loss: 0.8264 - val_accuracy: 0.4972\n",
      "Epoch 117/300\n",
      "37/37 [==============================] - 0s 8ms/step - loss: 0.5717 - accuracy: 0.7234 - val_loss: 0.7861 - val_accuracy: 0.5083\n",
      "Epoch 118/300\n",
      "37/37 [==============================] - 0s 8ms/step - loss: 0.5598 - accuracy: 0.7109 - val_loss: 0.8013 - val_accuracy: 0.4972\n",
      "Epoch 119/300\n",
      "37/37 [==============================] - 0s 8ms/step - loss: 0.5613 - accuracy: 0.7192 - val_loss: 0.8460 - val_accuracy: 0.4917\n",
      "Epoch 120/300\n",
      "37/37 [==============================] - 0s 7ms/step - loss: 0.5553 - accuracy: 0.7068 - val_loss: 0.8071 - val_accuracy: 0.4807\n",
      "Epoch 121/300\n",
      "37/37 [==============================] - 0s 7ms/step - loss: 0.5515 - accuracy: 0.7220 - val_loss: 0.8053 - val_accuracy: 0.4972\n",
      "Epoch 122/300\n",
      "37/37 [==============================] - 0s 7ms/step - loss: 0.5441 - accuracy: 0.7068 - val_loss: 0.8082 - val_accuracy: 0.5249\n",
      "Epoch 123/300\n",
      "37/37 [==============================] - 0s 7ms/step - loss: 0.5565 - accuracy: 0.7151 - val_loss: 0.8230 - val_accuracy: 0.5414\n",
      "Epoch 124/300\n",
      "37/37 [==============================] - 0s 7ms/step - loss: 0.5568 - accuracy: 0.7248 - val_loss: 0.8140 - val_accuracy: 0.4972\n",
      "Epoch 125/300\n",
      "37/37 [==============================] - 0s 7ms/step - loss: 0.5521 - accuracy: 0.7220 - val_loss: 0.8178 - val_accuracy: 0.5138\n",
      "Epoch 126/300\n",
      "37/37 [==============================] - 0s 7ms/step - loss: 0.5554 - accuracy: 0.7109 - val_loss: 0.8174 - val_accuracy: 0.4972\n",
      "Epoch 127/300\n",
      "37/37 [==============================] - 0s 7ms/step - loss: 0.5619 - accuracy: 0.7040 - val_loss: 0.8317 - val_accuracy: 0.5138\n",
      "Epoch 128/300\n",
      "37/37 [==============================] - 0s 7ms/step - loss: 0.5506 - accuracy: 0.7054 - val_loss: 0.8392 - val_accuracy: 0.5138\n",
      "Epoch 129/300\n",
      "37/37 [==============================] - 0s 8ms/step - loss: 0.5562 - accuracy: 0.6902 - val_loss: 0.8516 - val_accuracy: 0.4917\n",
      "Epoch 130/300\n",
      "37/37 [==============================] - 0s 8ms/step - loss: 0.5529 - accuracy: 0.7331 - val_loss: 0.8100 - val_accuracy: 0.4972\n",
      "Epoch 131/300\n",
      "37/37 [==============================] - 0s 8ms/step - loss: 0.5424 - accuracy: 0.7178 - val_loss: 0.8279 - val_accuracy: 0.5138\n",
      "Epoch 132/300\n",
      "37/37 [==============================] - 0s 7ms/step - loss: 0.5185 - accuracy: 0.7344 - val_loss: 0.8396 - val_accuracy: 0.4917\n",
      "Epoch 133/300\n",
      "37/37 [==============================] - 0s 8ms/step - loss: 0.5589 - accuracy: 0.6957 - val_loss: 0.8183 - val_accuracy: 0.4807\n",
      "Epoch 134/300\n",
      "37/37 [==============================] - 0s 7ms/step - loss: 0.5356 - accuracy: 0.7165 - val_loss: 0.8442 - val_accuracy: 0.5193\n",
      "Epoch 135/300\n",
      "37/37 [==============================] - 0s 7ms/step - loss: 0.5465 - accuracy: 0.7234 - val_loss: 0.8335 - val_accuracy: 0.4972\n",
      "Epoch 136/300\n",
      "37/37 [==============================] - 0s 7ms/step - loss: 0.5367 - accuracy: 0.7192 - val_loss: 0.8369 - val_accuracy: 0.4972\n",
      "Epoch 137/300\n",
      "37/37 [==============================] - 0s 7ms/step - loss: 0.5393 - accuracy: 0.7206 - val_loss: 0.8457 - val_accuracy: 0.4862\n",
      "Epoch 138/300\n",
      "37/37 [==============================] - 0s 7ms/step - loss: 0.5518 - accuracy: 0.7261 - val_loss: 0.8656 - val_accuracy: 0.4972\n",
      "Epoch 139/300\n",
      "37/37 [==============================] - 0s 7ms/step - loss: 0.5389 - accuracy: 0.7248 - val_loss: 0.8622 - val_accuracy: 0.5138\n",
      "Epoch 140/300\n",
      "37/37 [==============================] - 0s 7ms/step - loss: 0.5423 - accuracy: 0.7137 - val_loss: 0.8612 - val_accuracy: 0.4972\n",
      "Epoch 141/300\n",
      "37/37 [==============================] - 0s 7ms/step - loss: 0.5541 - accuracy: 0.7109 - val_loss: 0.8417 - val_accuracy: 0.4862\n",
      "Epoch 142/300\n",
      "37/37 [==============================] - 0s 7ms/step - loss: 0.5244 - accuracy: 0.7344 - val_loss: 0.8716 - val_accuracy: 0.5249\n",
      "Epoch 143/300\n",
      "37/37 [==============================] - 0s 8ms/step - loss: 0.5456 - accuracy: 0.7372 - val_loss: 0.8545 - val_accuracy: 0.5083\n",
      "Epoch 144/300\n",
      "37/37 [==============================] - 0s 7ms/step - loss: 0.5346 - accuracy: 0.7095 - val_loss: 0.8670 - val_accuracy: 0.5304\n",
      "Epoch 145/300\n",
      "37/37 [==============================] - 0s 7ms/step - loss: 0.5393 - accuracy: 0.7178 - val_loss: 0.8325 - val_accuracy: 0.4807\n",
      "Epoch 146/300\n",
      "37/37 [==============================] - 0s 7ms/step - loss: 0.5328 - accuracy: 0.7344 - val_loss: 0.8347 - val_accuracy: 0.4862\n",
      "Epoch 147/300\n",
      "37/37 [==============================] - 0s 7ms/step - loss: 0.5274 - accuracy: 0.7206 - val_loss: 0.8430 - val_accuracy: 0.5249\n",
      "Epoch 148/300\n",
      "37/37 [==============================] - 0s 8ms/step - loss: 0.5115 - accuracy: 0.7455 - val_loss: 0.8550 - val_accuracy: 0.5193\n",
      "Epoch 149/300\n",
      "37/37 [==============================] - 0s 7ms/step - loss: 0.5482 - accuracy: 0.7261 - val_loss: 0.8584 - val_accuracy: 0.4917\n",
      "Epoch 150/300\n",
      "37/37 [==============================] - 0s 8ms/step - loss: 0.5134 - accuracy: 0.7386 - val_loss: 0.8836 - val_accuracy: 0.4972\n",
      "Epoch 151/300\n",
      "37/37 [==============================] - 0s 6ms/step - loss: 0.5166 - accuracy: 0.7372 - val_loss: 0.8771 - val_accuracy: 0.5193\n",
      "Epoch 152/300\n",
      "37/37 [==============================] - 0s 6ms/step - loss: 0.5351 - accuracy: 0.7317 - val_loss: 0.8631 - val_accuracy: 0.5083\n",
      "Epoch 153/300\n",
      "37/37 [==============================] - 0s 6ms/step - loss: 0.5224 - accuracy: 0.7497 - val_loss: 0.8927 - val_accuracy: 0.5414\n",
      "Epoch 154/300\n",
      "37/37 [==============================] - 0s 7ms/step - loss: 0.5116 - accuracy: 0.7497 - val_loss: 0.8556 - val_accuracy: 0.5193\n",
      "Epoch 155/300\n",
      "37/37 [==============================] - 0s 7ms/step - loss: 0.5102 - accuracy: 0.7386 - val_loss: 0.8700 - val_accuracy: 0.5138\n",
      "Epoch 156/300\n",
      "37/37 [==============================] - 0s 7ms/step - loss: 0.5234 - accuracy: 0.7427 - val_loss: 0.8795 - val_accuracy: 0.5304\n",
      "Epoch 157/300\n",
      "37/37 [==============================] - 0s 7ms/step - loss: 0.5221 - accuracy: 0.7400 - val_loss: 0.9537 - val_accuracy: 0.5138\n",
      "Epoch 158/300\n",
      "37/37 [==============================] - 0s 7ms/step - loss: 0.5163 - accuracy: 0.7261 - val_loss: 0.8517 - val_accuracy: 0.5304\n",
      "Epoch 159/300\n",
      "37/37 [==============================] - 0s 7ms/step - loss: 0.5203 - accuracy: 0.7414 - val_loss: 0.8567 - val_accuracy: 0.5083\n",
      "Epoch 160/300\n",
      "37/37 [==============================] - 0s 7ms/step - loss: 0.5134 - accuracy: 0.7455 - val_loss: 0.8996 - val_accuracy: 0.5028\n",
      "Epoch 161/300\n",
      "37/37 [==============================] - 0s 7ms/step - loss: 0.5170 - accuracy: 0.7607 - val_loss: 0.8821 - val_accuracy: 0.5525\n",
      "Epoch 162/300\n",
      "37/37 [==============================] - 0s 6ms/step - loss: 0.5185 - accuracy: 0.7317 - val_loss: 0.8739 - val_accuracy: 0.5580\n",
      "Epoch 163/300\n",
      "37/37 [==============================] - 0s 6ms/step - loss: 0.5041 - accuracy: 0.7427 - val_loss: 0.9184 - val_accuracy: 0.4972\n",
      "Epoch 164/300\n",
      "37/37 [==============================] - 0s 6ms/step - loss: 0.5117 - accuracy: 0.7552 - val_loss: 0.9279 - val_accuracy: 0.5304\n",
      "Epoch 165/300\n",
      "37/37 [==============================] - 0s 7ms/step - loss: 0.4960 - accuracy: 0.7552 - val_loss: 0.9102 - val_accuracy: 0.5359\n",
      "Epoch 166/300\n",
      "37/37 [==============================] - 0s 7ms/step - loss: 0.5244 - accuracy: 0.7289 - val_loss: 0.8935 - val_accuracy: 0.4972\n",
      "Epoch 167/300\n",
      "37/37 [==============================] - 0s 7ms/step - loss: 0.5245 - accuracy: 0.7455 - val_loss: 0.8987 - val_accuracy: 0.5359\n",
      "Epoch 168/300\n",
      "37/37 [==============================] - 0s 7ms/step - loss: 0.5229 - accuracy: 0.7358 - val_loss: 0.9058 - val_accuracy: 0.5083\n",
      "Epoch 169/300\n",
      "37/37 [==============================] - 0s 7ms/step - loss: 0.5107 - accuracy: 0.7206 - val_loss: 0.9551 - val_accuracy: 0.5304\n",
      "Epoch 170/300\n",
      "37/37 [==============================] - 0s 7ms/step - loss: 0.4904 - accuracy: 0.7497 - val_loss: 0.9302 - val_accuracy: 0.5028\n",
      "Epoch 171/300\n",
      "37/37 [==============================] - 0s 7ms/step - loss: 0.5178 - accuracy: 0.7524 - val_loss: 0.9301 - val_accuracy: 0.5193\n",
      "Epoch 172/300\n",
      "37/37 [==============================] - 0s 7ms/step - loss: 0.4949 - accuracy: 0.7414 - val_loss: 0.9225 - val_accuracy: 0.5083\n",
      "Epoch 173/300\n"
     ]
    },
    {
     "name": "stdout",
     "output_type": "stream",
     "text": [
      "37/37 [==============================] - 0s 7ms/step - loss: 0.4815 - accuracy: 0.7759 - val_loss: 0.9062 - val_accuracy: 0.5193\n",
      "Epoch 174/300\n",
      "37/37 [==============================] - 0s 6ms/step - loss: 0.5125 - accuracy: 0.7441 - val_loss: 0.9204 - val_accuracy: 0.5193\n",
      "Epoch 175/300\n",
      "37/37 [==============================] - 0s 8ms/step - loss: 0.4915 - accuracy: 0.7663 - val_loss: 0.9705 - val_accuracy: 0.5525\n",
      "Epoch 176/300\n",
      "37/37 [==============================] - 0s 7ms/step - loss: 0.5133 - accuracy: 0.7400 - val_loss: 0.9234 - val_accuracy: 0.5359\n",
      "Epoch 177/300\n",
      "37/37 [==============================] - 0s 7ms/step - loss: 0.4938 - accuracy: 0.7427 - val_loss: 0.9101 - val_accuracy: 0.5249\n",
      "Epoch 178/300\n",
      "37/37 [==============================] - 0s 7ms/step - loss: 0.5040 - accuracy: 0.7510 - val_loss: 0.9327 - val_accuracy: 0.5414\n",
      "Epoch 179/300\n",
      "37/37 [==============================] - 0s 7ms/step - loss: 0.4752 - accuracy: 0.7552 - val_loss: 0.9953 - val_accuracy: 0.5359\n",
      "Epoch 180/300\n",
      "37/37 [==============================] - 0s 7ms/step - loss: 0.4802 - accuracy: 0.7580 - val_loss: 0.9532 - val_accuracy: 0.5028\n",
      "Epoch 181/300\n",
      "37/37 [==============================] - 0s 7ms/step - loss: 0.4776 - accuracy: 0.7510 - val_loss: 0.9957 - val_accuracy: 0.5138\n",
      "Epoch 182/300\n",
      "37/37 [==============================] - 0s 7ms/step - loss: 0.4990 - accuracy: 0.7635 - val_loss: 0.9360 - val_accuracy: 0.5249\n",
      "Epoch 183/300\n",
      "37/37 [==============================] - 0s 7ms/step - loss: 0.4753 - accuracy: 0.7815 - val_loss: 0.9548 - val_accuracy: 0.5635\n",
      "Epoch 184/300\n",
      "37/37 [==============================] - 0s 6ms/step - loss: 0.4678 - accuracy: 0.7621 - val_loss: 0.9667 - val_accuracy: 0.5193\n",
      "Epoch 185/300\n",
      "37/37 [==============================] - 0s 6ms/step - loss: 0.5038 - accuracy: 0.7344 - val_loss: 0.9701 - val_accuracy: 0.4807\n",
      "Epoch 186/300\n",
      "37/37 [==============================] - 0s 6ms/step - loss: 0.4838 - accuracy: 0.7593 - val_loss: 1.0134 - val_accuracy: 0.4751\n",
      "Epoch 187/300\n",
      "37/37 [==============================] - 0s 7ms/step - loss: 0.4726 - accuracy: 0.7552 - val_loss: 1.0158 - val_accuracy: 0.5193\n",
      "Epoch 188/300\n",
      "37/37 [==============================] - 0s 7ms/step - loss: 0.4776 - accuracy: 0.7704 - val_loss: 0.9919 - val_accuracy: 0.5359\n",
      "Epoch 189/300\n",
      "37/37 [==============================] - 0s 7ms/step - loss: 0.4882 - accuracy: 0.7621 - val_loss: 0.9865 - val_accuracy: 0.5304\n",
      "Epoch 190/300\n",
      "37/37 [==============================] - 0s 7ms/step - loss: 0.4844 - accuracy: 0.7455 - val_loss: 1.0059 - val_accuracy: 0.5028\n",
      "Epoch 191/300\n",
      "37/37 [==============================] - 0s 7ms/step - loss: 0.4789 - accuracy: 0.7593 - val_loss: 0.9918 - val_accuracy: 0.5138\n",
      "Epoch 192/300\n",
      "37/37 [==============================] - 0s 7ms/step - loss: 0.4612 - accuracy: 0.7676 - val_loss: 0.9957 - val_accuracy: 0.5414\n",
      "Epoch 193/300\n",
      "37/37 [==============================] - 0s 7ms/step - loss: 0.4596 - accuracy: 0.7759 - val_loss: 1.0542 - val_accuracy: 0.5193\n",
      "Epoch 194/300\n",
      "37/37 [==============================] - 0s 7ms/step - loss: 0.4824 - accuracy: 0.7649 - val_loss: 1.0107 - val_accuracy: 0.5525\n",
      "Epoch 195/300\n",
      "37/37 [==============================] - 0s 6ms/step - loss: 0.4715 - accuracy: 0.7580 - val_loss: 1.0302 - val_accuracy: 0.5028\n",
      "Epoch 196/300\n",
      "37/37 [==============================] - 0s 6ms/step - loss: 0.4648 - accuracy: 0.7732 - val_loss: 1.0420 - val_accuracy: 0.5083\n",
      "Epoch 197/300\n",
      "37/37 [==============================] - 0s 7ms/step - loss: 0.4613 - accuracy: 0.7746 - val_loss: 1.0346 - val_accuracy: 0.5304\n",
      "Epoch 198/300\n",
      "37/37 [==============================] - 0s 7ms/step - loss: 0.4646 - accuracy: 0.7635 - val_loss: 1.0218 - val_accuracy: 0.5304\n",
      "Epoch 199/300\n",
      "37/37 [==============================] - 0s 7ms/step - loss: 0.4412 - accuracy: 0.8064 - val_loss: 1.0591 - val_accuracy: 0.5083\n",
      "Epoch 200/300\n",
      "37/37 [==============================] - 0s 7ms/step - loss: 0.4635 - accuracy: 0.7663 - val_loss: 1.1126 - val_accuracy: 0.5028\n",
      "Epoch 201/300\n",
      "37/37 [==============================] - 0s 7ms/step - loss: 0.4658 - accuracy: 0.7649 - val_loss: 1.0373 - val_accuracy: 0.5083\n",
      "Epoch 202/300\n",
      "37/37 [==============================] - 0s 7ms/step - loss: 0.4620 - accuracy: 0.7676 - val_loss: 1.0452 - val_accuracy: 0.4917\n",
      "Epoch 203/300\n",
      "37/37 [==============================] - 0s 7ms/step - loss: 0.4770 - accuracy: 0.7690 - val_loss: 1.0447 - val_accuracy: 0.5193\n",
      "Epoch 204/300\n",
      "37/37 [==============================] - 0s 7ms/step - loss: 0.4753 - accuracy: 0.7566 - val_loss: 1.0519 - val_accuracy: 0.5414\n",
      "Epoch 205/300\n",
      "37/37 [==============================] - 0s 7ms/step - loss: 0.4576 - accuracy: 0.7690 - val_loss: 1.0251 - val_accuracy: 0.5580\n",
      "Epoch 206/300\n",
      "37/37 [==============================] - 0s 7ms/step - loss: 0.4589 - accuracy: 0.7746 - val_loss: 1.0277 - val_accuracy: 0.5414\n",
      "Epoch 207/300\n",
      "37/37 [==============================] - 0s 6ms/step - loss: 0.4510 - accuracy: 0.7773 - val_loss: 1.0434 - val_accuracy: 0.5193\n",
      "Epoch 208/300\n",
      "37/37 [==============================] - 0s 6ms/step - loss: 0.4614 - accuracy: 0.7787 - val_loss: 1.0640 - val_accuracy: 0.5304\n",
      "Epoch 209/300\n",
      "37/37 [==============================] - 0s 6ms/step - loss: 0.4547 - accuracy: 0.7690 - val_loss: 1.1132 - val_accuracy: 0.5083\n",
      "Epoch 210/300\n",
      "37/37 [==============================] - 0s 6ms/step - loss: 0.4619 - accuracy: 0.7704 - val_loss: 1.0281 - val_accuracy: 0.5359\n",
      "Epoch 211/300\n",
      "37/37 [==============================] - 0s 6ms/step - loss: 0.4487 - accuracy: 0.7856 - val_loss: 1.1513 - val_accuracy: 0.5304\n",
      "Epoch 212/300\n",
      "37/37 [==============================] - 0s 6ms/step - loss: 0.4497 - accuracy: 0.7801 - val_loss: 1.1337 - val_accuracy: 0.5138\n",
      "Epoch 213/300\n",
      "37/37 [==============================] - 0s 6ms/step - loss: 0.4385 - accuracy: 0.7842 - val_loss: 1.0793 - val_accuracy: 0.5193\n",
      "Epoch 214/300\n",
      "37/37 [==============================] - 0s 6ms/step - loss: 0.4478 - accuracy: 0.7746 - val_loss: 1.1020 - val_accuracy: 0.5083\n",
      "Epoch 215/300\n",
      "37/37 [==============================] - 0s 6ms/step - loss: 0.4359 - accuracy: 0.7718 - val_loss: 1.0938 - val_accuracy: 0.5580\n",
      "Epoch 216/300\n",
      "37/37 [==============================] - 0s 6ms/step - loss: 0.4497 - accuracy: 0.7911 - val_loss: 1.0541 - val_accuracy: 0.5083\n",
      "Epoch 217/300\n",
      "37/37 [==============================] - 0s 6ms/step - loss: 0.4459 - accuracy: 0.7732 - val_loss: 1.0858 - val_accuracy: 0.5359\n",
      "Epoch 218/300\n",
      "37/37 [==============================] - 0s 6ms/step - loss: 0.4373 - accuracy: 0.7911 - val_loss: 1.1402 - val_accuracy: 0.5304\n",
      "Epoch 219/300\n",
      "37/37 [==============================] - 0s 7ms/step - loss: 0.4442 - accuracy: 0.7884 - val_loss: 1.1564 - val_accuracy: 0.5414\n",
      "Epoch 220/300\n",
      "37/37 [==============================] - 0s 6ms/step - loss: 0.4391 - accuracy: 0.7925 - val_loss: 1.1803 - val_accuracy: 0.5193\n",
      "Epoch 221/300\n",
      "37/37 [==============================] - 0s 6ms/step - loss: 0.4348 - accuracy: 0.7939 - val_loss: 1.0967 - val_accuracy: 0.5193\n",
      "Epoch 222/300\n",
      "37/37 [==============================] - 0s 6ms/step - loss: 0.4483 - accuracy: 0.7801 - val_loss: 1.1009 - val_accuracy: 0.5193\n",
      "Epoch 223/300\n",
      "37/37 [==============================] - 0s 6ms/step - loss: 0.4364 - accuracy: 0.7773 - val_loss: 1.1694 - val_accuracy: 0.5249\n",
      "Epoch 224/300\n",
      "37/37 [==============================] - 0s 6ms/step - loss: 0.4132 - accuracy: 0.7939 - val_loss: 1.1407 - val_accuracy: 0.5304\n",
      "Epoch 225/300\n",
      "37/37 [==============================] - 0s 6ms/step - loss: 0.4493 - accuracy: 0.7759 - val_loss: 1.1438 - val_accuracy: 0.5083\n",
      "Epoch 226/300\n",
      "37/37 [==============================] - 0s 6ms/step - loss: 0.4362 - accuracy: 0.7801 - val_loss: 1.1608 - val_accuracy: 0.5249\n",
      "Epoch 227/300\n",
      "37/37 [==============================] - 0s 7ms/step - loss: 0.4381 - accuracy: 0.7884 - val_loss: 1.1188 - val_accuracy: 0.5083\n",
      "Epoch 228/300\n",
      "37/37 [==============================] - 0s 7ms/step - loss: 0.4289 - accuracy: 0.7870 - val_loss: 1.1763 - val_accuracy: 0.5138\n",
      "Epoch 229/300\n",
      "37/37 [==============================] - 0s 7ms/step - loss: 0.4179 - accuracy: 0.7981 - val_loss: 1.1493 - val_accuracy: 0.4862\n",
      "Epoch 230/300\n"
     ]
    },
    {
     "name": "stdout",
     "output_type": "stream",
     "text": [
      "37/37 [==============================] - 0s 7ms/step - loss: 0.4297 - accuracy: 0.7898 - val_loss: 1.3647 - val_accuracy: 0.4917\n",
      "Epoch 231/300\n",
      "37/37 [==============================] - 0s 7ms/step - loss: 0.4359 - accuracy: 0.7856 - val_loss: 1.2191 - val_accuracy: 0.5083\n",
      "Epoch 232/300\n",
      "37/37 [==============================] - 0s 6ms/step - loss: 0.4073 - accuracy: 0.8022 - val_loss: 1.2863 - val_accuracy: 0.5138\n",
      "Epoch 233/300\n",
      "37/37 [==============================] - 0s 6ms/step - loss: 0.4284 - accuracy: 0.7911 - val_loss: 1.1968 - val_accuracy: 0.5193\n",
      "Epoch 234/300\n",
      "37/37 [==============================] - 0s 7ms/step - loss: 0.4025 - accuracy: 0.8133 - val_loss: 1.1804 - val_accuracy: 0.5083\n",
      "Epoch 235/300\n",
      "37/37 [==============================] - 0s 7ms/step - loss: 0.4255 - accuracy: 0.7870 - val_loss: 1.2565 - val_accuracy: 0.5359\n",
      "Epoch 236/300\n",
      "37/37 [==============================] - 0s 7ms/step - loss: 0.4333 - accuracy: 0.8050 - val_loss: 1.1538 - val_accuracy: 0.5304\n",
      "Epoch 237/300\n",
      "37/37 [==============================] - 0s 7ms/step - loss: 0.4174 - accuracy: 0.7994 - val_loss: 1.1712 - val_accuracy: 0.5304\n",
      "Epoch 238/300\n",
      "37/37 [==============================] - 0s 7ms/step - loss: 0.4303 - accuracy: 0.7911 - val_loss: 1.1839 - val_accuracy: 0.5028\n",
      "Epoch 239/300\n",
      "37/37 [==============================] - 0s 7ms/step - loss: 0.4353 - accuracy: 0.7828 - val_loss: 1.1223 - val_accuracy: 0.5304\n",
      "Epoch 240/300\n",
      "37/37 [==============================] - 0s 7ms/step - loss: 0.4074 - accuracy: 0.7967 - val_loss: 1.3301 - val_accuracy: 0.5028\n",
      "Epoch 241/300\n",
      "37/37 [==============================] - 0s 7ms/step - loss: 0.4149 - accuracy: 0.7994 - val_loss: 1.2638 - val_accuracy: 0.5414\n",
      "Epoch 242/300\n",
      "37/37 [==============================] - 0s 6ms/step - loss: 0.4111 - accuracy: 0.8077 - val_loss: 1.1885 - val_accuracy: 0.4917\n",
      "Epoch 243/300\n",
      "37/37 [==============================] - 0s 7ms/step - loss: 0.4067 - accuracy: 0.7967 - val_loss: 1.2541 - val_accuracy: 0.4917\n",
      "Epoch 244/300\n",
      "37/37 [==============================] - 0s 7ms/step - loss: 0.4192 - accuracy: 0.8091 - val_loss: 1.2254 - val_accuracy: 0.5414\n",
      "Epoch 245/300\n",
      "37/37 [==============================] - 0s 8ms/step - loss: 0.4168 - accuracy: 0.7898 - val_loss: 1.2574 - val_accuracy: 0.4972\n",
      "Epoch 246/300\n",
      "37/37 [==============================] - 0s 8ms/step - loss: 0.4151 - accuracy: 0.7981 - val_loss: 1.3326 - val_accuracy: 0.5580\n",
      "Epoch 247/300\n",
      "37/37 [==============================] - 0s 8ms/step - loss: 0.3997 - accuracy: 0.7801 - val_loss: 1.2714 - val_accuracy: 0.4862\n",
      "Epoch 248/300\n",
      "37/37 [==============================] - 0s 8ms/step - loss: 0.4083 - accuracy: 0.8036 - val_loss: 1.2311 - val_accuracy: 0.5028\n",
      "Epoch 249/300\n",
      "37/37 [==============================] - 0s 8ms/step - loss: 0.4060 - accuracy: 0.8022 - val_loss: 1.2351 - val_accuracy: 0.5249\n",
      "Epoch 250/300\n",
      "37/37 [==============================] - 0s 8ms/step - loss: 0.4115 - accuracy: 0.8008 - val_loss: 1.2780 - val_accuracy: 0.5470\n",
      "Epoch 251/300\n",
      "37/37 [==============================] - 0s 8ms/step - loss: 0.3879 - accuracy: 0.7828 - val_loss: 1.2474 - val_accuracy: 0.5249\n",
      "Epoch 252/300\n",
      "37/37 [==============================] - 0s 7ms/step - loss: 0.4052 - accuracy: 0.7981 - val_loss: 1.2977 - val_accuracy: 0.5249\n",
      "Epoch 253/300\n",
      "37/37 [==============================] - 0s 7ms/step - loss: 0.4032 - accuracy: 0.8050 - val_loss: 1.3197 - val_accuracy: 0.5193\n",
      "Epoch 254/300\n",
      "37/37 [==============================] - 0s 7ms/step - loss: 0.4148 - accuracy: 0.7925 - val_loss: 1.3221 - val_accuracy: 0.5138\n",
      "Epoch 255/300\n",
      "37/37 [==============================] - 0s 7ms/step - loss: 0.3890 - accuracy: 0.7898 - val_loss: 1.3084 - val_accuracy: 0.5304\n",
      "Epoch 256/300\n",
      "37/37 [==============================] - 0s 8ms/step - loss: 0.4212 - accuracy: 0.7953 - val_loss: 1.2188 - val_accuracy: 0.5414\n",
      "Epoch 257/300\n",
      "37/37 [==============================] - 0s 8ms/step - loss: 0.4128 - accuracy: 0.8008 - val_loss: 1.3063 - val_accuracy: 0.5414\n",
      "Epoch 258/300\n",
      "37/37 [==============================] - 0s 7ms/step - loss: 0.3897 - accuracy: 0.8147 - val_loss: 1.3704 - val_accuracy: 0.5414\n",
      "Epoch 259/300\n",
      "37/37 [==============================] - 0s 7ms/step - loss: 0.4015 - accuracy: 0.8036 - val_loss: 1.2957 - val_accuracy: 0.5028\n",
      "Epoch 260/300\n",
      "37/37 [==============================] - 0s 7ms/step - loss: 0.3920 - accuracy: 0.8133 - val_loss: 1.3795 - val_accuracy: 0.5249\n",
      "Epoch 261/300\n",
      "37/37 [==============================] - 0s 7ms/step - loss: 0.4073 - accuracy: 0.7994 - val_loss: 1.3404 - val_accuracy: 0.5193\n",
      "Epoch 262/300\n",
      "37/37 [==============================] - 0s 6ms/step - loss: 0.3761 - accuracy: 0.8160 - val_loss: 1.4067 - val_accuracy: 0.4862\n",
      "Epoch 263/300\n",
      "37/37 [==============================] - 0s 6ms/step - loss: 0.3841 - accuracy: 0.8036 - val_loss: 1.3429 - val_accuracy: 0.5304\n",
      "Epoch 264/300\n",
      "37/37 [==============================] - 0s 6ms/step - loss: 0.3792 - accuracy: 0.8147 - val_loss: 1.3641 - val_accuracy: 0.5249\n",
      "Epoch 265/300\n",
      "37/37 [==============================] - 0s 7ms/step - loss: 0.3744 - accuracy: 0.8188 - val_loss: 1.4069 - val_accuracy: 0.5249\n",
      "Epoch 266/300\n",
      "37/37 [==============================] - 0s 7ms/step - loss: 0.3957 - accuracy: 0.7898 - val_loss: 1.4373 - val_accuracy: 0.5249\n",
      "Epoch 267/300\n",
      "37/37 [==============================] - 0s 7ms/step - loss: 0.3649 - accuracy: 0.8160 - val_loss: 1.3354 - val_accuracy: 0.5304\n",
      "Epoch 268/300\n",
      "37/37 [==============================] - 0s 7ms/step - loss: 0.3730 - accuracy: 0.8216 - val_loss: 1.4395 - val_accuracy: 0.5138\n",
      "Epoch 269/300\n",
      "37/37 [==============================] - 0s 7ms/step - loss: 0.3821 - accuracy: 0.8077 - val_loss: 1.3572 - val_accuracy: 0.5249\n",
      "Epoch 270/300\n",
      "37/37 [==============================] - 0s 7ms/step - loss: 0.3755 - accuracy: 0.8147 - val_loss: 1.4917 - val_accuracy: 0.5193\n",
      "Epoch 271/300\n",
      "37/37 [==============================] - 0s 7ms/step - loss: 0.4228 - accuracy: 0.7870 - val_loss: 1.3516 - val_accuracy: 0.5304\n",
      "Epoch 272/300\n",
      "37/37 [==============================] - 0s 7ms/step - loss: 0.3849 - accuracy: 0.8133 - val_loss: 1.3966 - val_accuracy: 0.5249\n",
      "Epoch 273/300\n",
      "37/37 [==============================] - 0s 6ms/step - loss: 0.3503 - accuracy: 0.8313 - val_loss: 1.3992 - val_accuracy: 0.5414\n",
      "Epoch 274/300\n",
      "37/37 [==============================] - 0s 6ms/step - loss: 0.3524 - accuracy: 0.8285 - val_loss: 1.4697 - val_accuracy: 0.5028\n",
      "Epoch 275/300\n",
      "37/37 [==============================] - 0s 7ms/step - loss: 0.3881 - accuracy: 0.7911 - val_loss: 1.4971 - val_accuracy: 0.5138\n",
      "Epoch 276/300\n",
      "37/37 [==============================] - 0s 7ms/step - loss: 0.3822 - accuracy: 0.8064 - val_loss: 1.4500 - val_accuracy: 0.5249\n",
      "Epoch 277/300\n",
      "37/37 [==============================] - 0s 8ms/step - loss: 0.3660 - accuracy: 0.8230 - val_loss: 1.5316 - val_accuracy: 0.5028\n",
      "Epoch 278/300\n",
      "37/37 [==============================] - 0s 7ms/step - loss: 0.3720 - accuracy: 0.8188 - val_loss: 1.6161 - val_accuracy: 0.5249\n",
      "Epoch 279/300\n",
      "37/37 [==============================] - 0s 7ms/step - loss: 0.3696 - accuracy: 0.8160 - val_loss: 1.6090 - val_accuracy: 0.4917\n",
      "Epoch 280/300\n",
      "37/37 [==============================] - 0s 7ms/step - loss: 0.3929 - accuracy: 0.8174 - val_loss: 1.5116 - val_accuracy: 0.5193\n",
      "Epoch 281/300\n",
      "37/37 [==============================] - 0s 7ms/step - loss: 0.3743 - accuracy: 0.8160 - val_loss: 1.4191 - val_accuracy: 0.5359\n",
      "Epoch 282/300\n",
      "37/37 [==============================] - 0s 7ms/step - loss: 0.3683 - accuracy: 0.8160 - val_loss: 1.4714 - val_accuracy: 0.4972\n",
      "Epoch 283/300\n",
      "37/37 [==============================] - 0s 7ms/step - loss: 0.3589 - accuracy: 0.8174 - val_loss: 1.7015 - val_accuracy: 0.5193\n",
      "Epoch 284/300\n",
      "37/37 [==============================] - 0s 6ms/step - loss: 0.3513 - accuracy: 0.8133 - val_loss: 1.5614 - val_accuracy: 0.5138\n",
      "Epoch 285/300\n",
      "37/37 [==============================] - 0s 6ms/step - loss: 0.3688 - accuracy: 0.8216 - val_loss: 1.6914 - val_accuracy: 0.5028\n",
      "Epoch 286/300\n",
      "37/37 [==============================] - 0s 6ms/step - loss: 0.3799 - accuracy: 0.8008 - val_loss: 1.6377 - val_accuracy: 0.5470\n",
      "Epoch 287/300\n"
     ]
    },
    {
     "name": "stdout",
     "output_type": "stream",
     "text": [
      "37/37 [==============================] - 0s 8ms/step - loss: 0.3720 - accuracy: 0.8133 - val_loss: 1.4775 - val_accuracy: 0.5249\n",
      "Epoch 288/300\n",
      "37/37 [==============================] - 0s 7ms/step - loss: 0.3388 - accuracy: 0.8285 - val_loss: 1.6898 - val_accuracy: 0.5138\n",
      "Epoch 289/300\n",
      "37/37 [==============================] - 0s 7ms/step - loss: 0.3649 - accuracy: 0.8188 - val_loss: 1.5734 - val_accuracy: 0.5028\n",
      "Epoch 290/300\n",
      "37/37 [==============================] - 0s 7ms/step - loss: 0.3817 - accuracy: 0.8437 - val_loss: 1.6463 - val_accuracy: 0.5691\n",
      "Epoch 291/300\n",
      "37/37 [==============================] - 0s 7ms/step - loss: 0.3397 - accuracy: 0.8396 - val_loss: 1.6034 - val_accuracy: 0.5470\n",
      "Epoch 292/300\n",
      "37/37 [==============================] - 0s 7ms/step - loss: 0.3527 - accuracy: 0.8340 - val_loss: 1.5310 - val_accuracy: 0.5193\n",
      "Epoch 293/300\n",
      "37/37 [==============================] - 0s 7ms/step - loss: 0.3415 - accuracy: 0.8423 - val_loss: 1.6436 - val_accuracy: 0.5193\n",
      "Epoch 294/300\n",
      "37/37 [==============================] - 0s 6ms/step - loss: 0.3487 - accuracy: 0.8382 - val_loss: 1.6189 - val_accuracy: 0.5083\n",
      "Epoch 295/300\n",
      "37/37 [==============================] - 0s 6ms/step - loss: 0.3662 - accuracy: 0.8202 - val_loss: 1.6511 - val_accuracy: 0.5414\n",
      "Epoch 296/300\n",
      "37/37 [==============================] - 0s 6ms/step - loss: 0.3425 - accuracy: 0.8382 - val_loss: 1.7240 - val_accuracy: 0.4972\n",
      "Epoch 297/300\n",
      "37/37 [==============================] - 0s 6ms/step - loss: 0.3488 - accuracy: 0.8243 - val_loss: 1.7302 - val_accuracy: 0.5193\n",
      "Epoch 298/300\n",
      "37/37 [==============================] - 0s 6ms/step - loss: 0.3436 - accuracy: 0.8299 - val_loss: 1.5849 - val_accuracy: 0.5304\n",
      "Epoch 299/300\n",
      "37/37 [==============================] - 0s 6ms/step - loss: 0.3322 - accuracy: 0.8409 - val_loss: 1.7027 - val_accuracy: 0.4972\n",
      "Epoch 300/300\n",
      "37/37 [==============================] - 0s 6ms/step - loss: 0.3465 - accuracy: 0.8423 - val_loss: 1.6578 - val_accuracy: 0.5470\n"
     ]
    },
    {
     "data": {
      "text/plain": [
       "<keras.callbacks.History at 0x1eee86cb5e0>"
      ]
     },
     "execution_count": 20,
     "metadata": {},
     "output_type": "execute_result"
    }
   ],
   "source": [
    "from IPython.core.display import display, HTML\n",
    "\n",
    "# Enable horizontal scrolling for output\n",
    "display(HTML(\"<style>pre { white-space: pre !important; }</style>\"))\n",
    "\n",
    "# Generate a long output\n",
    "long_output = \"A\" * 1000\n",
    "\n",
    "model.fit(train_ds, epochs=300, validation_data = val_ds)"
   ]
  },
  {
   "cell_type": "code",
   "execution_count": null,
   "metadata": {},
   "outputs": [],
   "source": [
    "df.info()"
   ]
  },
  {
   "cell_type": "code",
   "execution_count": 69,
   "metadata": {},
   "outputs": [],
   "source": [
    "input_data = {\n",
    "    'gender' : 1,\n",
    "    'age'    :21,\n",
    "    'workout_experience' : 0,\n",
    "    'workout_time' : 60,\n",
    "    'weight' : 65,\n",
    "    'height' : 170,\n",
    "}"
   ]
  },
  {
   "cell_type": "code",
   "execution_count": 70,
   "metadata": {},
   "outputs": [],
   "source": [
    "input_dict = {}"
   ]
  },
  {
   "cell_type": "code",
   "execution_count": 71,
   "metadata": {},
   "outputs": [],
   "source": [
    "for feature, value in input_data.items() :\n",
    "    input_dict[feature] = tf.convert_to_tensor([value])"
   ]
  },
  {
   "cell_type": "code",
   "execution_count": 72,
   "metadata": {},
   "outputs": [
    {
     "data": {
      "text/plain": [
       "{'gender': <tf.Tensor: shape=(1,), dtype=int32, numpy=array([1])>,\n",
       " 'age': <tf.Tensor: shape=(1,), dtype=int32, numpy=array([21])>,\n",
       " 'workout_experience': <tf.Tensor: shape=(1,), dtype=int32, numpy=array([0])>,\n",
       " 'workout_time': <tf.Tensor: shape=(1,), dtype=int32, numpy=array([60])>,\n",
       " 'weight': <tf.Tensor: shape=(1,), dtype=int32, numpy=array([65])>,\n",
       " 'height': <tf.Tensor: shape=(1,), dtype=int32, numpy=array([170])>}"
      ]
     },
     "execution_count": 72,
     "metadata": {},
     "output_type": "execute_result"
    }
   ],
   "source": [
    "input_dict"
   ]
  },
  {
   "cell_type": "code",
   "execution_count": 76,
   "metadata": {},
   "outputs": [
    {
     "name": "stdout",
     "output_type": "stream",
     "text": [
      "1/1 [==============================] - 0s 34ms/step\n"
     ]
    }
   ],
   "source": [
    "predictions = model.predict(input_dict)"
   ]
  },
  {
   "cell_type": "code",
   "execution_count": 77,
   "metadata": {},
   "outputs": [
    {
     "data": {
      "text/plain": [
       "array([[0.5033811]], dtype=float32)"
      ]
     },
     "execution_count": 77,
     "metadata": {},
     "output_type": "execute_result"
    }
   ],
   "source": [
    "predictions"
   ]
  },
  {
   "cell_type": "code",
   "execution_count": 78,
   "metadata": {},
   "outputs": [
    {
     "name": "stdout",
     "output_type": "stream",
     "text": [
      "You should do muscle up !\n"
     ]
    }
   ],
   "source": [
    "if predictions[0][0] >= 0.5 :\n",
    "    print(\"You should do muscle up !\")\n",
    "else :\n",
    "    print(\"You should do weight loss !\")"
   ]
  },
  {
   "cell_type": "code",
   "execution_count": 21,
   "metadata": {},
   "outputs": [
    {
     "name": "stdout",
     "output_type": "stream",
     "text": [
      "INFO:tensorflow:Assets written to: ram://a02c0d99-312e-4275-b03e-2019695547c0/assets\n"
     ]
    },
    {
     "data": {
      "text/plain": [
       "['model_1_v2.pkl']"
      ]
     },
     "execution_count": 21,
     "metadata": {},
     "output_type": "execute_result"
    }
   ],
   "source": [
    "import joblib\n",
    "\n",
    "# Save the trained model to a file\n",
    "joblib.dump(model, 'model_1_v2.pkl')"
   ]
  },
  {
   "cell_type": "code",
   "execution_count": null,
   "metadata": {},
   "outputs": [],
   "source": []
  }
 ],
 "metadata": {
  "colab": {
   "authorship_tag": "ABX9TyOpKk+85qYG42HGf+43aaAb",
   "provenance": []
  },
  "kernelspec": {
   "display_name": "Python 3 (ipykernel)",
   "language": "python",
   "name": "python3"
  },
  "language_info": {
   "codemirror_mode": {
    "name": "ipython",
    "version": 3
   },
   "file_extension": ".py",
   "mimetype": "text/x-python",
   "name": "python",
   "nbconvert_exporter": "python",
   "pygments_lexer": "ipython3",
   "version": "3.9.4"
  }
 },
 "nbformat": 4,
 "nbformat_minor": 1
}
