{
 "cells": [
  {
   "cell_type": "markdown",
   "metadata": {},
   "source": [
    "# Model using Neural Network"
   ]
  },
  {
   "cell_type": "markdown",
   "metadata": {
    "id": "0MqdvFhq7OcX"
   },
   "source": [
    "## Import Libraries"
   ]
  },
  {
   "cell_type": "code",
   "execution_count": 20,
   "metadata": {
    "vscode": {
     "languageId": "plaintext"
    }
   },
   "outputs": [],
   "source": [
    "import tensorflow as tf\n",
    "import numpy as np\n",
    "import pandas as pd\n",
    "import seaborn as sns\n",
    "from tensorflow.keras.layers import IntegerLookup\n",
    "from tensorflow.keras.layers import Normalization\n",
    "from tensorflow.keras.layers import StringLookup\n",
    "import tensorflow.keras as keras"
   ]
  },
  {
   "cell_type": "markdown",
   "metadata": {},
   "source": [
    "## Load The Data to DataFrame"
   ]
  },
  {
   "cell_type": "code",
   "execution_count": 68,
   "metadata": {},
   "outputs": [],
   "source": [
    "df = pd.read_csv('cleaned_data.csv')"
   ]
  },
  {
   "cell_type": "markdown",
   "metadata": {},
   "source": [
    "## Check the Columns' Data Type"
   ]
  },
  {
   "cell_type": "code",
   "execution_count": 69,
   "metadata": {},
   "outputs": [
    {
     "data": {
      "text/plain": [
       "Index(['gender', 'age', 'workout_experience', 'workout_time', 'weight',\n",
       "       'height', 'fitness_goal'],\n",
       "      dtype='object')"
      ]
     },
     "execution_count": 69,
     "metadata": {},
     "output_type": "execute_result"
    }
   ],
   "source": [
    "df.columns"
   ]
  },
  {
   "cell_type": "code",
   "execution_count": 70,
   "metadata": {},
   "outputs": [],
   "source": [
    "# from sklearn.utils import shuffle\n",
    "\n",
    "\n",
    "# shuffled_df = shuffle(df, random_state = 60)"
   ]
  },
  {
   "cell_type": "markdown",
   "metadata": {},
   "source": [
    "## Split Data for Training and Validation\n"
   ]
  },
  {
   "cell_type": "code",
   "execution_count": 71,
   "metadata": {},
   "outputs": [],
   "source": [
    "from sklearn.model_selection import train_test_split\n",
    "\n",
    "train_df, val_df = train_test_split(shuffled_df, test_size = 0.2, random_state = 42)"
   ]
  },
  {
   "cell_type": "markdown",
   "metadata": {},
   "source": [
    "## The training and validation set size"
   ]
  },
  {
   "cell_type": "code",
   "execution_count": 72,
   "metadata": {},
   "outputs": [
    {
     "name": "stdout",
     "output_type": "stream",
     "text": [
      "training :  723  | validation :  181\n"
     ]
    }
   ],
   "source": [
    "print('training : ',train_df.shape[0], \" | validation : \", val_df.shape[0])"
   ]
  },
  {
   "cell_type": "markdown",
   "metadata": {},
   "source": [
    "\n",
    "## Function Transform Dataframe into Tensor Dataset"
   ]
  },
  {
   "cell_type": "code",
   "execution_count": 73,
   "metadata": {},
   "outputs": [],
   "source": [
    "def dataframe_transform(df, label):\n",
    "\n",
    "    labels = df.pop(label)\n",
    "    ds = tf.data.Dataset.from_tensor_slices((dict(df), labels))\n",
    "    ds = ds.shuffle(buffer_size = len(df))\n",
    "\n",
    "    return ds"
   ]
  },
  {
   "cell_type": "markdown",
   "metadata": {},
   "source": [
    "\n",
    "## Transform Training and Validation Dataframe into Tensor Dataset"
   ]
  },
  {
   "cell_type": "code",
   "execution_count": 74,
   "metadata": {},
   "outputs": [],
   "source": [
    "\n",
    "train_ds = dataframe_transform(train_df, 'fitness_goal')\n",
    "val_ds   = dataframe_transform(val_df, 'fitness_goal')"
   ]
  },
  {
   "cell_type": "markdown",
   "metadata": {},
   "source": [
    "## Batching the Dataset"
   ]
  },
  {
   "cell_type": "code",
   "execution_count": 75,
   "metadata": {},
   "outputs": [],
   "source": [
    "train_ds = train_ds.batch(20)\n",
    "val_ds   = val_ds.batch(20)"
   ]
  },
  {
   "cell_type": "markdown",
   "metadata": {},
   "source": [
    "## Function to Encode Categorical Column"
   ]
  },
  {
   "cell_type": "code",
   "execution_count": 76,
   "metadata": {},
   "outputs": [],
   "source": [
    "def encode_categorical_feature(column, name, dataset):\n",
    "\n",
    "    lookup_class = IntegerLookup\n",
    "    lookup = lookup_class(output_mode = \"binary\")\n",
    "\n",
    "    column_ds = dataset.map(lambda x, y: x[name])\n",
    "    column_ds = column_ds.map(lambda x: tf.expand_dims(x, -1))\n",
    "\n",
    "    lookup.adapt(column_ds)\n",
    "    encoded_column = lookup(column)\n",
    "\n",
    "    return encoded_column"
   ]
  },
  {
   "cell_type": "markdown",
   "metadata": {},
   "source": [
    "## Function to Encode Numerical Column"
   ]
  },
  {
   "cell_type": "code",
   "execution_count": 77,
   "metadata": {},
   "outputs": [],
   "source": [
    "def encode_numerical_feature(column, name, dataset):\n",
    "\n",
    "    normalizer = Normalization()\n",
    "    column_ds = dataset.map(lambda x, y: x[name])\n",
    "    column_ds = column_ds.map(lambda x: tf.expand_dims(x, -1))\n",
    "\n",
    "    normalizer.adapt(column_ds)\n",
    "    encoded_column = normalizer(column)\n",
    "\n",
    "    return encoded_column"
   ]
  },
  {
   "cell_type": "markdown",
   "metadata": {},
   "source": [
    "## Creating Tensor object from the column"
   ]
  },
  {
   "cell_type": "code",
   "execution_count": 78,
   "metadata": {},
   "outputs": [],
   "source": [
    "gender = keras.Input(shape = (1,), name = 'gender', dtype = 'int64')\n",
    "age    = keras.Input(shape = (1,), name = 'age')\n",
    "workout_experience = keras.Input(shape = (1, ), name = 'workout_experience')\n",
    "workout_time = keras.Input(shape = (1,), name = 'workout_time')\n",
    "weight       = keras.Input(shape = (1,), name = 'weight')\n",
    "height       = keras.Input(shape = (1,), name = 'height')"
   ]
  },
  {
   "cell_type": "code",
   "execution_count": 79,
   "metadata": {},
   "outputs": [],
   "source": [
    "all_columns = [ gender, age, workout_experience, workout_time, height, weight ]"
   ]
  },
  {
   "cell_type": "markdown",
   "metadata": {},
   "source": [
    "## Encode columns based on their data type"
   ]
  },
  {
   "cell_type": "code",
   "execution_count": 80,
   "metadata": {},
   "outputs": [],
   "source": [
    "gender_encoded = encode_categorical_feature(gender, 'gender', train_ds)\n",
    "age_encoded = encode_numerical_feature(age, 'age', train_ds)\n",
    "workout_experience_encoded = encode_numerical_feature(workout_experience, 'workout_experience', train_ds)\n",
    "workout_time_encoded = encode_numerical_feature(workout_time, 'workout_time', train_ds)\n",
    "weight_encoded = encode_numerical_feature(weight, 'weight', train_ds)\n",
    "height_encoded = encode_numerical_feature(height, 'height', train_ds)\n"
   ]
  },
  {
   "cell_type": "code",
   "execution_count": 81,
   "metadata": {},
   "outputs": [],
   "source": [
    "all_features = keras.layers.concatenate([gender_encoded, age_encoded, workout_experience_encoded, workout_time_encoded, height_encoded, weight_encoded])"
   ]
  },
  {
   "cell_type": "markdown",
   "metadata": {},
   "source": [
    "## Build the model architecture"
   ]
  },
  {
   "cell_type": "code",
   "execution_count": 94,
   "metadata": {},
   "outputs": [],
   "source": [
    "x = keras.layers.Dense(30, activation = 'relu')(all_features)\n",
    "x = keras.layers.Dense(20, activation = 'relu')(x)\n",
    "x = keras.layers.Dense(10, activation = 'relu')(x)\n",
    "x = keras.layers.Dropout(0.7)(x)\n",
    "\n",
    "output = keras.layers.Dense(1, activation = 'sigmoid')(x)"
   ]
  },
  {
   "cell_type": "code",
   "execution_count": 95,
   "metadata": {},
   "outputs": [],
   "source": [
    "model  = keras.Model(all_columns, output)\n",
    "model.compile(optimizer = 'rmsprop', loss = 'binary_crossentropy', metrics = ['accuracy'])"
   ]
  },
  {
   "cell_type": "markdown",
   "metadata": {},
   "source": [
    "## Train the model"
   ]
  },
  {
   "cell_type": "code",
   "execution_count": 96,
   "metadata": {
    "scrolled": false
   },
   "outputs": [
    {
     "data": {
      "text/html": [
       "<style>pre { white-space: pre !important; }</style>"
      ],
      "text/plain": [
       "<IPython.core.display.HTML object>"
      ]
     },
     "metadata": {},
     "output_type": "display_data"
    },
    {
     "name": "stdout",
     "output_type": "stream",
     "text": [
      "Epoch 1/300\n",
      "37/37 [==============================] - 2s 10ms/step - loss: 0.7019 - accuracy: 0.5048 - val_loss: 0.6968 - val_accuracy: 0.4972\n",
      "Epoch 2/300\n",
      "37/37 [==============================] - 0s 3ms/step - loss: 0.6975 - accuracy: 0.5311 - val_loss: 0.6933 - val_accuracy: 0.5249\n",
      "Epoch 3/300\n",
      "37/37 [==============================] - 0s 3ms/step - loss: 0.6942 - accuracy: 0.5256 - val_loss: 0.6930 - val_accuracy: 0.4807\n",
      "Epoch 4/300\n",
      "37/37 [==============================] - 0s 3ms/step - loss: 0.6929 - accuracy: 0.5367 - val_loss: 0.6913 - val_accuracy: 0.5414\n",
      "Epoch 5/300\n",
      "37/37 [==============================] - 0s 3ms/step - loss: 0.6885 - accuracy: 0.5422 - val_loss: 0.6917 - val_accuracy: 0.5470\n",
      "Epoch 6/300\n",
      "37/37 [==============================] - 0s 3ms/step - loss: 0.6893 - accuracy: 0.5436 - val_loss: 0.6929 - val_accuracy: 0.5138\n",
      "Epoch 7/300\n",
      "37/37 [==============================] - 0s 3ms/step - loss: 0.6884 - accuracy: 0.5491 - val_loss: 0.6925 - val_accuracy: 0.5304\n",
      "Epoch 8/300\n",
      "37/37 [==============================] - 0s 3ms/step - loss: 0.6873 - accuracy: 0.5533 - val_loss: 0.6918 - val_accuracy: 0.5249\n",
      "Epoch 9/300\n",
      "37/37 [==============================] - 0s 3ms/step - loss: 0.6831 - accuracy: 0.5629 - val_loss: 0.6913 - val_accuracy: 0.5414\n",
      "Epoch 10/300\n",
      "37/37 [==============================] - 0s 3ms/step - loss: 0.6873 - accuracy: 0.5519 - val_loss: 0.6915 - val_accuracy: 0.5359\n",
      "Epoch 11/300\n",
      "37/37 [==============================] - 0s 3ms/step - loss: 0.6847 - accuracy: 0.5519 - val_loss: 0.6924 - val_accuracy: 0.5359\n",
      "Epoch 12/300\n",
      "37/37 [==============================] - 0s 3ms/step - loss: 0.6844 - accuracy: 0.5505 - val_loss: 0.6930 - val_accuracy: 0.5359\n",
      "Epoch 13/300\n",
      "37/37 [==============================] - 0s 3ms/step - loss: 0.6797 - accuracy: 0.5602 - val_loss: 0.6939 - val_accuracy: 0.5193\n",
      "Epoch 14/300\n",
      "37/37 [==============================] - 0s 3ms/step - loss: 0.6836 - accuracy: 0.5671 - val_loss: 0.6943 - val_accuracy: 0.5414\n",
      "Epoch 15/300\n",
      "37/37 [==============================] - 0s 3ms/step - loss: 0.6864 - accuracy: 0.5754 - val_loss: 0.6953 - val_accuracy: 0.5635\n",
      "Epoch 16/300\n",
      "37/37 [==============================] - 0s 3ms/step - loss: 0.6791 - accuracy: 0.5726 - val_loss: 0.6960 - val_accuracy: 0.5193\n",
      "Epoch 17/300\n",
      "37/37 [==============================] - 0s 3ms/step - loss: 0.6751 - accuracy: 0.5726 - val_loss: 0.6966 - val_accuracy: 0.5304\n",
      "Epoch 18/300\n",
      "37/37 [==============================] - 0s 3ms/step - loss: 0.6860 - accuracy: 0.5367 - val_loss: 0.6956 - val_accuracy: 0.5304\n",
      "Epoch 19/300\n",
      "37/37 [==============================] - 0s 3ms/step - loss: 0.6795 - accuracy: 0.5574 - val_loss: 0.6950 - val_accuracy: 0.5304\n",
      "Epoch 20/300\n",
      "37/37 [==============================] - 0s 3ms/step - loss: 0.6822 - accuracy: 0.5588 - val_loss: 0.6960 - val_accuracy: 0.5249\n",
      "Epoch 21/300\n",
      "37/37 [==============================] - 0s 3ms/step - loss: 0.6748 - accuracy: 0.5768 - val_loss: 0.6979 - val_accuracy: 0.5249\n",
      "Epoch 22/300\n",
      "37/37 [==============================] - 0s 3ms/step - loss: 0.6816 - accuracy: 0.5602 - val_loss: 0.6973 - val_accuracy: 0.5138\n",
      "Epoch 23/300\n",
      "37/37 [==============================] - 0s 4ms/step - loss: 0.6843 - accuracy: 0.5685 - val_loss: 0.6977 - val_accuracy: 0.5414\n",
      "Epoch 24/300\n",
      "37/37 [==============================] - 0s 3ms/step - loss: 0.6795 - accuracy: 0.5450 - val_loss: 0.6984 - val_accuracy: 0.5470\n",
      "Epoch 25/300\n",
      "37/37 [==============================] - 0s 3ms/step - loss: 0.6721 - accuracy: 0.5947 - val_loss: 0.7014 - val_accuracy: 0.5193\n",
      "Epoch 26/300\n",
      "37/37 [==============================] - 0s 3ms/step - loss: 0.6751 - accuracy: 0.5671 - val_loss: 0.6994 - val_accuracy: 0.5249\n",
      "Epoch 27/300\n",
      "37/37 [==============================] - 0s 3ms/step - loss: 0.6760 - accuracy: 0.5588 - val_loss: 0.6986 - val_accuracy: 0.5470\n",
      "Epoch 28/300\n",
      "37/37 [==============================] - 0s 3ms/step - loss: 0.6751 - accuracy: 0.5768 - val_loss: 0.6996 - val_accuracy: 0.5414\n",
      "Epoch 29/300\n",
      "37/37 [==============================] - 0s 3ms/step - loss: 0.6767 - accuracy: 0.5671 - val_loss: 0.7021 - val_accuracy: 0.5083\n",
      "Epoch 30/300\n",
      "37/37 [==============================] - 0s 3ms/step - loss: 0.6754 - accuracy: 0.5740 - val_loss: 0.7011 - val_accuracy: 0.5304\n",
      "Epoch 31/300\n",
      "37/37 [==============================] - 0s 3ms/step - loss: 0.6674 - accuracy: 0.5989 - val_loss: 0.7015 - val_accuracy: 0.5525\n",
      "Epoch 32/300\n",
      "37/37 [==============================] - 0s 3ms/step - loss: 0.6745 - accuracy: 0.5781 - val_loss: 0.7004 - val_accuracy: 0.5304\n",
      "Epoch 33/300\n",
      "37/37 [==============================] - 0s 3ms/step - loss: 0.6725 - accuracy: 0.6030 - val_loss: 0.7023 - val_accuracy: 0.5249\n",
      "Epoch 34/300\n",
      "37/37 [==============================] - 0s 3ms/step - loss: 0.6771 - accuracy: 0.5602 - val_loss: 0.7001 - val_accuracy: 0.5359\n",
      "Epoch 35/300\n",
      "37/37 [==============================] - 0s 3ms/step - loss: 0.6739 - accuracy: 0.5685 - val_loss: 0.7002 - val_accuracy: 0.5414\n",
      "Epoch 36/300\n",
      "37/37 [==============================] - 0s 3ms/step - loss: 0.6706 - accuracy: 0.5740 - val_loss: 0.7045 - val_accuracy: 0.4917\n",
      "Epoch 37/300\n",
      "37/37 [==============================] - 0s 3ms/step - loss: 0.6687 - accuracy: 0.5864 - val_loss: 0.7038 - val_accuracy: 0.5304\n",
      "Epoch 38/300\n",
      "37/37 [==============================] - 0s 3ms/step - loss: 0.6794 - accuracy: 0.5726 - val_loss: 0.7001 - val_accuracy: 0.5193\n",
      "Epoch 39/300\n",
      "37/37 [==============================] - 0s 3ms/step - loss: 0.6658 - accuracy: 0.5781 - val_loss: 0.7016 - val_accuracy: 0.5083\n",
      "Epoch 40/300\n",
      "37/37 [==============================] - 0s 3ms/step - loss: 0.6686 - accuracy: 0.5809 - val_loss: 0.7030 - val_accuracy: 0.5249\n",
      "Epoch 41/300\n",
      "37/37 [==============================] - 0s 3ms/step - loss: 0.6755 - accuracy: 0.5781 - val_loss: 0.7031 - val_accuracy: 0.5138\n",
      "Epoch 42/300\n",
      "37/37 [==============================] - 0s 3ms/step - loss: 0.6736 - accuracy: 0.5989 - val_loss: 0.7022 - val_accuracy: 0.5028\n",
      "Epoch 43/300\n",
      "37/37 [==============================] - 0s 3ms/step - loss: 0.6612 - accuracy: 0.5934 - val_loss: 0.7045 - val_accuracy: 0.5470\n",
      "Epoch 44/300\n",
      "37/37 [==============================] - 0s 3ms/step - loss: 0.6768 - accuracy: 0.5629 - val_loss: 0.7027 - val_accuracy: 0.5138\n",
      "Epoch 45/300\n",
      "37/37 [==============================] - 0s 3ms/step - loss: 0.6728 - accuracy: 0.5837 - val_loss: 0.7031 - val_accuracy: 0.5138\n",
      "Epoch 46/300\n",
      "37/37 [==============================] - 0s 3ms/step - loss: 0.6692 - accuracy: 0.6017 - val_loss: 0.7039 - val_accuracy: 0.5249\n",
      "Epoch 47/300\n",
      "37/37 [==============================] - 0s 3ms/step - loss: 0.6673 - accuracy: 0.6127 - val_loss: 0.7021 - val_accuracy: 0.5028\n",
      "Epoch 48/300\n",
      "37/37 [==============================] - 0s 3ms/step - loss: 0.6689 - accuracy: 0.5878 - val_loss: 0.7043 - val_accuracy: 0.5138\n",
      "Epoch 49/300\n",
      "37/37 [==============================] - 0s 3ms/step - loss: 0.6666 - accuracy: 0.5851 - val_loss: 0.7047 - val_accuracy: 0.4917\n",
      "Epoch 50/300\n",
      "37/37 [==============================] - 0s 3ms/step - loss: 0.6674 - accuracy: 0.5934 - val_loss: 0.7058 - val_accuracy: 0.5028\n",
      "Epoch 51/300\n",
      "37/37 [==============================] - 0s 3ms/step - loss: 0.6644 - accuracy: 0.6183 - val_loss: 0.7045 - val_accuracy: 0.5083\n",
      "Epoch 52/300\n",
      "37/37 [==============================] - 0s 3ms/step - loss: 0.6583 - accuracy: 0.6030 - val_loss: 0.7079 - val_accuracy: 0.5193\n",
      "Epoch 53/300\n",
      "37/37 [==============================] - 0s 3ms/step - loss: 0.6606 - accuracy: 0.6058 - val_loss: 0.7086 - val_accuracy: 0.5138\n",
      "Epoch 54/300\n",
      "37/37 [==============================] - 0s 3ms/step - loss: 0.6602 - accuracy: 0.5934 - val_loss: 0.7083 - val_accuracy: 0.5138\n",
      "Epoch 55/300\n",
      "37/37 [==============================] - 0s 3ms/step - loss: 0.6649 - accuracy: 0.6003 - val_loss: 0.7105 - val_accuracy: 0.5138\n",
      "Epoch 56/300\n",
      "37/37 [==============================] - 0s 3ms/step - loss: 0.6637 - accuracy: 0.5851 - val_loss: 0.7095 - val_accuracy: 0.5138\n",
      "Epoch 57/300\n",
      "37/37 [==============================] - 0s 3ms/step - loss: 0.6615 - accuracy: 0.6141 - val_loss: 0.7085 - val_accuracy: 0.5193\n",
      "Epoch 58/300\n",
      "37/37 [==============================] - 0s 3ms/step - loss: 0.6648 - accuracy: 0.5892 - val_loss: 0.7077 - val_accuracy: 0.5083\n"
     ]
    },
    {
     "name": "stdout",
     "output_type": "stream",
     "text": [
      "Epoch 59/300\n",
      "37/37 [==============================] - 0s 3ms/step - loss: 0.6539 - accuracy: 0.6003 - val_loss: 0.7086 - val_accuracy: 0.5083\n",
      "Epoch 60/300\n",
      "37/37 [==============================] - 0s 3ms/step - loss: 0.6596 - accuracy: 0.6072 - val_loss: 0.7150 - val_accuracy: 0.4972\n",
      "Epoch 61/300\n",
      "37/37 [==============================] - 0s 3ms/step - loss: 0.6572 - accuracy: 0.6017 - val_loss: 0.7083 - val_accuracy: 0.4917\n",
      "Epoch 62/300\n",
      "37/37 [==============================] - 0s 3ms/step - loss: 0.6535 - accuracy: 0.6127 - val_loss: 0.7091 - val_accuracy: 0.4862\n",
      "Epoch 63/300\n",
      "37/37 [==============================] - 0s 3ms/step - loss: 0.6602 - accuracy: 0.6086 - val_loss: 0.7119 - val_accuracy: 0.4917\n",
      "Epoch 64/300\n",
      "37/37 [==============================] - 0s 3ms/step - loss: 0.6484 - accuracy: 0.6086 - val_loss: 0.7172 - val_accuracy: 0.4751\n",
      "Epoch 65/300\n",
      "37/37 [==============================] - 0s 3ms/step - loss: 0.6570 - accuracy: 0.5906 - val_loss: 0.7150 - val_accuracy: 0.5083\n",
      "Epoch 66/300\n",
      "37/37 [==============================] - 0s 3ms/step - loss: 0.6541 - accuracy: 0.6169 - val_loss: 0.7144 - val_accuracy: 0.5028\n",
      "Epoch 67/300\n",
      "37/37 [==============================] - 0s 3ms/step - loss: 0.6509 - accuracy: 0.6127 - val_loss: 0.7155 - val_accuracy: 0.5028\n",
      "Epoch 68/300\n",
      "37/37 [==============================] - 0s 3ms/step - loss: 0.6415 - accuracy: 0.6196 - val_loss: 0.7168 - val_accuracy: 0.5138\n",
      "Epoch 69/300\n",
      "37/37 [==============================] - 0s 3ms/step - loss: 0.6546 - accuracy: 0.5864 - val_loss: 0.7159 - val_accuracy: 0.4862\n",
      "Epoch 70/300\n",
      "37/37 [==============================] - 0s 3ms/step - loss: 0.6577 - accuracy: 0.6003 - val_loss: 0.7139 - val_accuracy: 0.4972\n",
      "Epoch 71/300\n",
      "37/37 [==============================] - 0s 3ms/step - loss: 0.6465 - accuracy: 0.6224 - val_loss: 0.7163 - val_accuracy: 0.4972\n",
      "Epoch 72/300\n",
      "37/37 [==============================] - 0s 3ms/step - loss: 0.6429 - accuracy: 0.6224 - val_loss: 0.7171 - val_accuracy: 0.5028\n",
      "Epoch 73/300\n",
      "37/37 [==============================] - 0s 3ms/step - loss: 0.6420 - accuracy: 0.6321 - val_loss: 0.7165 - val_accuracy: 0.4972\n",
      "Epoch 74/300\n",
      "37/37 [==============================] - 0s 3ms/step - loss: 0.6563 - accuracy: 0.6224 - val_loss: 0.7170 - val_accuracy: 0.5028\n",
      "Epoch 75/300\n",
      "37/37 [==============================] - 0s 3ms/step - loss: 0.6468 - accuracy: 0.6155 - val_loss: 0.7205 - val_accuracy: 0.4917\n",
      "Epoch 76/300\n",
      "37/37 [==============================] - 0s 3ms/step - loss: 0.6461 - accuracy: 0.6183 - val_loss: 0.7231 - val_accuracy: 0.4807\n",
      "Epoch 77/300\n",
      "37/37 [==============================] - 0s 3ms/step - loss: 0.6375 - accuracy: 0.6390 - val_loss: 0.7269 - val_accuracy: 0.4972\n",
      "Epoch 78/300\n",
      "37/37 [==============================] - 0s 3ms/step - loss: 0.6452 - accuracy: 0.6266 - val_loss: 0.7254 - val_accuracy: 0.4972\n",
      "Epoch 79/300\n",
      "37/37 [==============================] - 0s 3ms/step - loss: 0.6522 - accuracy: 0.6072 - val_loss: 0.7185 - val_accuracy: 0.4807\n",
      "Epoch 80/300\n",
      "37/37 [==============================] - 0s 3ms/step - loss: 0.6534 - accuracy: 0.6183 - val_loss: 0.7193 - val_accuracy: 0.4751\n",
      "Epoch 81/300\n",
      "37/37 [==============================] - 0s 3ms/step - loss: 0.6440 - accuracy: 0.6127 - val_loss: 0.7205 - val_accuracy: 0.4917\n",
      "Epoch 82/300\n",
      "37/37 [==============================] - 0s 3ms/step - loss: 0.6418 - accuracy: 0.6086 - val_loss: 0.7253 - val_accuracy: 0.4917\n",
      "Epoch 83/300\n",
      "37/37 [==============================] - 0s 3ms/step - loss: 0.6264 - accuracy: 0.6432 - val_loss: 0.7267 - val_accuracy: 0.5083\n",
      "Epoch 84/300\n",
      "37/37 [==============================] - 0s 3ms/step - loss: 0.6491 - accuracy: 0.6044 - val_loss: 0.7292 - val_accuracy: 0.5193\n",
      "Epoch 85/300\n",
      "37/37 [==============================] - 0s 3ms/step - loss: 0.6463 - accuracy: 0.6017 - val_loss: 0.7310 - val_accuracy: 0.4807\n",
      "Epoch 86/300\n",
      "37/37 [==============================] - 0s 3ms/step - loss: 0.6442 - accuracy: 0.6155 - val_loss: 0.7256 - val_accuracy: 0.4807\n",
      "Epoch 87/300\n",
      "37/37 [==============================] - 0s 3ms/step - loss: 0.6444 - accuracy: 0.6183 - val_loss: 0.7273 - val_accuracy: 0.5028\n",
      "Epoch 88/300\n",
      "37/37 [==============================] - 0s 3ms/step - loss: 0.6324 - accuracy: 0.6224 - val_loss: 0.7319 - val_accuracy: 0.4862\n",
      "Epoch 89/300\n",
      "37/37 [==============================] - 0s 3ms/step - loss: 0.6483 - accuracy: 0.6418 - val_loss: 0.7319 - val_accuracy: 0.4917\n",
      "Epoch 90/300\n",
      "37/37 [==============================] - 0s 3ms/step - loss: 0.6350 - accuracy: 0.6335 - val_loss: 0.7379 - val_accuracy: 0.4751\n",
      "Epoch 91/300\n",
      "37/37 [==============================] - 0s 3ms/step - loss: 0.6349 - accuracy: 0.6252 - val_loss: 0.7429 - val_accuracy: 0.4807\n",
      "Epoch 92/300\n",
      "37/37 [==============================] - 0s 3ms/step - loss: 0.6559 - accuracy: 0.6169 - val_loss: 0.7333 - val_accuracy: 0.4862\n",
      "Epoch 93/300\n",
      "37/37 [==============================] - 0s 3ms/step - loss: 0.6440 - accuracy: 0.6196 - val_loss: 0.7344 - val_accuracy: 0.4751\n",
      "Epoch 94/300\n",
      "37/37 [==============================] - 0s 3ms/step - loss: 0.6354 - accuracy: 0.6169 - val_loss: 0.7332 - val_accuracy: 0.4807\n",
      "Epoch 95/300\n",
      "37/37 [==============================] - 0s 3ms/step - loss: 0.6316 - accuracy: 0.6169 - val_loss: 0.7446 - val_accuracy: 0.4586\n",
      "Epoch 96/300\n",
      "37/37 [==============================] - 0s 3ms/step - loss: 0.6349 - accuracy: 0.6169 - val_loss: 0.7436 - val_accuracy: 0.4475\n",
      "Epoch 97/300\n",
      "37/37 [==============================] - 0s 3ms/step - loss: 0.6278 - accuracy: 0.6376 - val_loss: 0.7384 - val_accuracy: 0.4972\n",
      "Epoch 98/300\n",
      "37/37 [==============================] - 0s 3ms/step - loss: 0.6212 - accuracy: 0.6445 - val_loss: 0.7409 - val_accuracy: 0.5028\n",
      "Epoch 99/300\n",
      "37/37 [==============================] - 0s 3ms/step - loss: 0.6295 - accuracy: 0.6349 - val_loss: 0.7407 - val_accuracy: 0.4641\n",
      "Epoch 100/300\n",
      "37/37 [==============================] - 0s 3ms/step - loss: 0.6199 - accuracy: 0.6418 - val_loss: 0.7399 - val_accuracy: 0.4641\n",
      "Epoch 101/300\n",
      "37/37 [==============================] - 0s 3ms/step - loss: 0.6139 - accuracy: 0.6321 - val_loss: 0.7536 - val_accuracy: 0.5138\n",
      "Epoch 102/300\n",
      "37/37 [==============================] - 0s 3ms/step - loss: 0.6201 - accuracy: 0.6556 - val_loss: 0.7488 - val_accuracy: 0.4862\n",
      "Epoch 103/300\n",
      "37/37 [==============================] - 0s 3ms/step - loss: 0.6369 - accuracy: 0.6141 - val_loss: 0.7429 - val_accuracy: 0.4862\n",
      "Epoch 104/300\n",
      "37/37 [==============================] - 0s 3ms/step - loss: 0.6291 - accuracy: 0.6404 - val_loss: 0.7451 - val_accuracy: 0.4862\n",
      "Epoch 105/300\n",
      "37/37 [==============================] - 0s 3ms/step - loss: 0.6339 - accuracy: 0.6224 - val_loss: 0.7473 - val_accuracy: 0.4862\n",
      "Epoch 106/300\n",
      "37/37 [==============================] - 0s 3ms/step - loss: 0.6294 - accuracy: 0.6584 - val_loss: 0.7508 - val_accuracy: 0.4696\n",
      "Epoch 107/300\n",
      "37/37 [==============================] - 0s 3ms/step - loss: 0.6216 - accuracy: 0.6362 - val_loss: 0.7512 - val_accuracy: 0.4751\n",
      "Epoch 108/300\n",
      "37/37 [==============================] - 0s 3ms/step - loss: 0.6319 - accuracy: 0.6376 - val_loss: 0.7546 - val_accuracy: 0.4641\n",
      "Epoch 109/300\n",
      "37/37 [==============================] - 0s 3ms/step - loss: 0.6370 - accuracy: 0.6515 - val_loss: 0.7519 - val_accuracy: 0.4862\n",
      "Epoch 110/300\n",
      "37/37 [==============================] - 0s 3ms/step - loss: 0.6323 - accuracy: 0.6432 - val_loss: 0.7617 - val_accuracy: 0.4807\n",
      "Epoch 111/300\n",
      "37/37 [==============================] - 0s 3ms/step - loss: 0.6203 - accuracy: 0.6445 - val_loss: 0.7613 - val_accuracy: 0.4751\n",
      "Epoch 112/300\n",
      "37/37 [==============================] - 0s 3ms/step - loss: 0.6293 - accuracy: 0.6362 - val_loss: 0.7547 - val_accuracy: 0.4917\n",
      "Epoch 113/300\n",
      "37/37 [==============================] - 0s 3ms/step - loss: 0.6363 - accuracy: 0.6279 - val_loss: 0.7526 - val_accuracy: 0.4696\n",
      "Epoch 114/300\n",
      "37/37 [==============================] - 0s 3ms/step - loss: 0.6147 - accuracy: 0.6473 - val_loss: 0.7600 - val_accuracy: 0.4696\n",
      "Epoch 115/300\n",
      "37/37 [==============================] - 0s 3ms/step - loss: 0.6130 - accuracy: 0.6473 - val_loss: 0.7655 - val_accuracy: 0.4641\n",
      "Epoch 116/300\n"
     ]
    },
    {
     "name": "stdout",
     "output_type": "stream",
     "text": [
      "37/37 [==============================] - 0s 3ms/step - loss: 0.6253 - accuracy: 0.6307 - val_loss: 0.7597 - val_accuracy: 0.4641\n",
      "Epoch 117/300\n",
      "37/37 [==============================] - 0s 3ms/step - loss: 0.6336 - accuracy: 0.6224 - val_loss: 0.7572 - val_accuracy: 0.4641\n",
      "Epoch 118/300\n",
      "37/37 [==============================] - 0s 3ms/step - loss: 0.6234 - accuracy: 0.6321 - val_loss: 0.7608 - val_accuracy: 0.4751\n",
      "Epoch 119/300\n",
      "37/37 [==============================] - 0s 3ms/step - loss: 0.6229 - accuracy: 0.6515 - val_loss: 0.7578 - val_accuracy: 0.4751\n",
      "Epoch 120/300\n",
      "37/37 [==============================] - 0s 3ms/step - loss: 0.6319 - accuracy: 0.6321 - val_loss: 0.7488 - val_accuracy: 0.4807\n",
      "Epoch 121/300\n",
      "37/37 [==============================] - 0s 3ms/step - loss: 0.6227 - accuracy: 0.6293 - val_loss: 0.7504 - val_accuracy: 0.4917\n",
      "Epoch 122/300\n",
      "37/37 [==============================] - 0s 3ms/step - loss: 0.6070 - accuracy: 0.6653 - val_loss: 0.7678 - val_accuracy: 0.4586\n",
      "Epoch 123/300\n",
      "37/37 [==============================] - 0s 3ms/step - loss: 0.6289 - accuracy: 0.6321 - val_loss: 0.7792 - val_accuracy: 0.4696\n",
      "Epoch 124/300\n",
      "37/37 [==============================] - 0s 3ms/step - loss: 0.6150 - accuracy: 0.6432 - val_loss: 0.7666 - val_accuracy: 0.4696\n",
      "Epoch 125/300\n",
      "37/37 [==============================] - 0s 3ms/step - loss: 0.6260 - accuracy: 0.6501 - val_loss: 0.7582 - val_accuracy: 0.4917\n",
      "Epoch 126/300\n",
      "37/37 [==============================] - 0s 3ms/step - loss: 0.5950 - accuracy: 0.6653 - val_loss: 0.7698 - val_accuracy: 0.4751\n",
      "Epoch 127/300\n",
      "37/37 [==============================] - 0s 3ms/step - loss: 0.6299 - accuracy: 0.6224 - val_loss: 0.7666 - val_accuracy: 0.4751\n",
      "Epoch 128/300\n",
      "37/37 [==============================] - 0s 3ms/step - loss: 0.6130 - accuracy: 0.6515 - val_loss: 0.7790 - val_accuracy: 0.4696\n",
      "Epoch 129/300\n",
      "37/37 [==============================] - 0s 3ms/step - loss: 0.6033 - accuracy: 0.6418 - val_loss: 0.7762 - val_accuracy: 0.4696\n",
      "Epoch 130/300\n",
      "37/37 [==============================] - 0s 3ms/step - loss: 0.6125 - accuracy: 0.6584 - val_loss: 0.7859 - val_accuracy: 0.4751\n",
      "Epoch 131/300\n",
      "37/37 [==============================] - 0s 3ms/step - loss: 0.6075 - accuracy: 0.6390 - val_loss: 0.7769 - val_accuracy: 0.4641\n",
      "Epoch 132/300\n",
      "37/37 [==============================] - 0s 3ms/step - loss: 0.6276 - accuracy: 0.6293 - val_loss: 0.7871 - val_accuracy: 0.4696\n",
      "Epoch 133/300\n",
      "37/37 [==============================] - 0s 3ms/step - loss: 0.6224 - accuracy: 0.6445 - val_loss: 0.7770 - val_accuracy: 0.4807\n",
      "Epoch 134/300\n",
      "37/37 [==============================] - 0s 3ms/step - loss: 0.6276 - accuracy: 0.6390 - val_loss: 0.7778 - val_accuracy: 0.4641\n",
      "Epoch 135/300\n",
      "37/37 [==============================] - 0s 3ms/step - loss: 0.6074 - accuracy: 0.6611 - val_loss: 0.7824 - val_accuracy: 0.4696\n",
      "Epoch 136/300\n",
      "37/37 [==============================] - 0s 3ms/step - loss: 0.5991 - accuracy: 0.6570 - val_loss: 0.7785 - val_accuracy: 0.4641\n",
      "Epoch 137/300\n",
      "37/37 [==============================] - 0s 3ms/step - loss: 0.6059 - accuracy: 0.6584 - val_loss: 0.7918 - val_accuracy: 0.4530\n",
      "Epoch 138/300\n",
      "37/37 [==============================] - 0s 3ms/step - loss: 0.6054 - accuracy: 0.6611 - val_loss: 0.7924 - val_accuracy: 0.4696\n",
      "Epoch 139/300\n",
      "37/37 [==============================] - 0s 3ms/step - loss: 0.6053 - accuracy: 0.6418 - val_loss: 0.7887 - val_accuracy: 0.4641\n",
      "Epoch 140/300\n",
      "37/37 [==============================] - 0s 3ms/step - loss: 0.6130 - accuracy: 0.6349 - val_loss: 0.7849 - val_accuracy: 0.4641\n",
      "Epoch 141/300\n",
      "37/37 [==============================] - 0s 3ms/step - loss: 0.6167 - accuracy: 0.6418 - val_loss: 0.7902 - val_accuracy: 0.4475\n",
      "Epoch 142/300\n",
      "37/37 [==============================] - 0s 3ms/step - loss: 0.5996 - accuracy: 0.6639 - val_loss: 0.7946 - val_accuracy: 0.4475\n",
      "Epoch 143/300\n",
      "37/37 [==============================] - 0s 3ms/step - loss: 0.6028 - accuracy: 0.6459 - val_loss: 0.7914 - val_accuracy: 0.4309\n",
      "Epoch 144/300\n",
      "37/37 [==============================] - 0s 3ms/step - loss: 0.6091 - accuracy: 0.6459 - val_loss: 0.7862 - val_accuracy: 0.4586\n",
      "Epoch 145/300\n",
      "37/37 [==============================] - 0s 3ms/step - loss: 0.6028 - accuracy: 0.6515 - val_loss: 0.7990 - val_accuracy: 0.4751\n",
      "Epoch 146/300\n",
      "37/37 [==============================] - 0s 3ms/step - loss: 0.6232 - accuracy: 0.6432 - val_loss: 0.7995 - val_accuracy: 0.4586\n",
      "Epoch 147/300\n",
      "37/37 [==============================] - 0s 3ms/step - loss: 0.6062 - accuracy: 0.6473 - val_loss: 0.7984 - val_accuracy: 0.4641\n",
      "Epoch 148/300\n",
      "37/37 [==============================] - 0s 3ms/step - loss: 0.5964 - accuracy: 0.6750 - val_loss: 0.7913 - val_accuracy: 0.4586\n",
      "Epoch 149/300\n",
      "37/37 [==============================] - 0s 3ms/step - loss: 0.5925 - accuracy: 0.6611 - val_loss: 0.8083 - val_accuracy: 0.4696\n",
      "Epoch 150/300\n",
      "37/37 [==============================] - 0s 3ms/step - loss: 0.6058 - accuracy: 0.6487 - val_loss: 0.7957 - val_accuracy: 0.4751\n",
      "Epoch 151/300\n",
      "37/37 [==============================] - 0s 3ms/step - loss: 0.5924 - accuracy: 0.6445 - val_loss: 0.8067 - val_accuracy: 0.4751\n",
      "Epoch 152/300\n",
      "37/37 [==============================] - 0s 3ms/step - loss: 0.5965 - accuracy: 0.6528 - val_loss: 0.8141 - val_accuracy: 0.4807\n",
      "Epoch 153/300\n",
      "37/37 [==============================] - 0s 3ms/step - loss: 0.6106 - accuracy: 0.6570 - val_loss: 0.8115 - val_accuracy: 0.4641\n",
      "Epoch 154/300\n",
      "37/37 [==============================] - 0s 3ms/step - loss: 0.6082 - accuracy: 0.6349 - val_loss: 0.8090 - val_accuracy: 0.4807\n",
      "Epoch 155/300\n",
      "37/37 [==============================] - 0s 3ms/step - loss: 0.5993 - accuracy: 0.6708 - val_loss: 0.8048 - val_accuracy: 0.4751\n",
      "Epoch 156/300\n",
      "37/37 [==============================] - 0s 3ms/step - loss: 0.5969 - accuracy: 0.6680 - val_loss: 0.8068 - val_accuracy: 0.4641\n",
      "Epoch 157/300\n",
      "37/37 [==============================] - 0s 3ms/step - loss: 0.5879 - accuracy: 0.6639 - val_loss: 0.8155 - val_accuracy: 0.4420\n",
      "Epoch 158/300\n",
      "37/37 [==============================] - 0s 3ms/step - loss: 0.5914 - accuracy: 0.6556 - val_loss: 0.8072 - val_accuracy: 0.4751\n",
      "Epoch 159/300\n",
      "37/37 [==============================] - 0s 3ms/step - loss: 0.6003 - accuracy: 0.6694 - val_loss: 0.8085 - val_accuracy: 0.4696\n",
      "Epoch 160/300\n",
      "37/37 [==============================] - 0s 3ms/step - loss: 0.6066 - accuracy: 0.6432 - val_loss: 0.8045 - val_accuracy: 0.4807\n",
      "Epoch 161/300\n",
      "37/37 [==============================] - 0s 3ms/step - loss: 0.6039 - accuracy: 0.6653 - val_loss: 0.8074 - val_accuracy: 0.4641\n",
      "Epoch 162/300\n",
      "37/37 [==============================] - 0s 3ms/step - loss: 0.5981 - accuracy: 0.6556 - val_loss: 0.8237 - val_accuracy: 0.4586\n",
      "Epoch 163/300\n",
      "37/37 [==============================] - 0s 3ms/step - loss: 0.5878 - accuracy: 0.6708 - val_loss: 0.8173 - val_accuracy: 0.4641\n",
      "Epoch 164/300\n",
      "37/37 [==============================] - 0s 3ms/step - loss: 0.6007 - accuracy: 0.6528 - val_loss: 0.8185 - val_accuracy: 0.4530\n",
      "Epoch 165/300\n",
      "37/37 [==============================] - 0s 3ms/step - loss: 0.5799 - accuracy: 0.6570 - val_loss: 0.8280 - val_accuracy: 0.4696\n",
      "Epoch 166/300\n",
      "37/37 [==============================] - 0s 3ms/step - loss: 0.6108 - accuracy: 0.6390 - val_loss: 0.8298 - val_accuracy: 0.4586\n",
      "Epoch 167/300\n",
      "37/37 [==============================] - 0s 3ms/step - loss: 0.6157 - accuracy: 0.6390 - val_loss: 0.8172 - val_accuracy: 0.4751\n",
      "Epoch 168/300\n",
      "37/37 [==============================] - 0s 3ms/step - loss: 0.5934 - accuracy: 0.6805 - val_loss: 0.8194 - val_accuracy: 0.4751\n",
      "Epoch 169/300\n",
      "37/37 [==============================] - 0s 3ms/step - loss: 0.5908 - accuracy: 0.6556 - val_loss: 0.8210 - val_accuracy: 0.4641\n",
      "Epoch 170/300\n",
      "37/37 [==============================] - 0s 3ms/step - loss: 0.5944 - accuracy: 0.6542 - val_loss: 0.8305 - val_accuracy: 0.4586\n",
      "Epoch 171/300\n",
      "37/37 [==============================] - 0s 3ms/step - loss: 0.5760 - accuracy: 0.6639 - val_loss: 0.8259 - val_accuracy: 0.4641\n",
      "Epoch 172/300\n",
      "37/37 [==============================] - 0s 3ms/step - loss: 0.5792 - accuracy: 0.6708 - val_loss: 0.8262 - val_accuracy: 0.4586\n",
      "Epoch 173/300\n"
     ]
    },
    {
     "name": "stdout",
     "output_type": "stream",
     "text": [
      "37/37 [==============================] - 0s 3ms/step - loss: 0.6045 - accuracy: 0.6639 - val_loss: 0.8287 - val_accuracy: 0.4586\n",
      "Epoch 174/300\n",
      "37/37 [==============================] - 0s 3ms/step - loss: 0.5855 - accuracy: 0.6625 - val_loss: 0.8423 - val_accuracy: 0.4586\n",
      "Epoch 175/300\n",
      "37/37 [==============================] - 0s 3ms/step - loss: 0.5793 - accuracy: 0.6653 - val_loss: 0.8511 - val_accuracy: 0.4586\n",
      "Epoch 176/300\n",
      "37/37 [==============================] - 0s 3ms/step - loss: 0.5836 - accuracy: 0.6708 - val_loss: 0.8506 - val_accuracy: 0.4365\n",
      "Epoch 177/300\n",
      "37/37 [==============================] - 0s 3ms/step - loss: 0.5833 - accuracy: 0.6653 - val_loss: 0.8400 - val_accuracy: 0.4475\n",
      "Epoch 178/300\n",
      "37/37 [==============================] - 0s 3ms/step - loss: 0.5808 - accuracy: 0.6625 - val_loss: 0.8392 - val_accuracy: 0.4530\n",
      "Epoch 179/300\n",
      "37/37 [==============================] - 0s 3ms/step - loss: 0.5890 - accuracy: 0.6584 - val_loss: 0.8391 - val_accuracy: 0.4586\n",
      "Epoch 180/300\n",
      "37/37 [==============================] - 0s 3ms/step - loss: 0.5742 - accuracy: 0.6653 - val_loss: 0.8367 - val_accuracy: 0.4696\n",
      "Epoch 181/300\n",
      "37/37 [==============================] - 0s 3ms/step - loss: 0.5787 - accuracy: 0.6653 - val_loss: 0.8424 - val_accuracy: 0.4696\n",
      "Epoch 182/300\n",
      "37/37 [==============================] - 0s 3ms/step - loss: 0.5815 - accuracy: 0.6653 - val_loss: 0.8436 - val_accuracy: 0.4365\n",
      "Epoch 183/300\n",
      "37/37 [==============================] - 0s 3ms/step - loss: 0.5805 - accuracy: 0.6763 - val_loss: 0.8352 - val_accuracy: 0.4641\n",
      "Epoch 184/300\n",
      "37/37 [==============================] - 0s 3ms/step - loss: 0.5931 - accuracy: 0.6639 - val_loss: 0.8307 - val_accuracy: 0.4530\n",
      "Epoch 185/300\n",
      "37/37 [==============================] - 0s 3ms/step - loss: 0.5786 - accuracy: 0.6639 - val_loss: 0.8422 - val_accuracy: 0.4420\n",
      "Epoch 186/300\n",
      "37/37 [==============================] - 0s 3ms/step - loss: 0.5896 - accuracy: 0.6694 - val_loss: 0.8378 - val_accuracy: 0.4365\n",
      "Epoch 187/300\n",
      "37/37 [==============================] - 0s 3ms/step - loss: 0.5814 - accuracy: 0.6819 - val_loss: 0.8388 - val_accuracy: 0.4365\n",
      "Epoch 188/300\n",
      "37/37 [==============================] - 0s 3ms/step - loss: 0.5950 - accuracy: 0.6598 - val_loss: 0.8195 - val_accuracy: 0.4641\n",
      "Epoch 189/300\n",
      "37/37 [==============================] - 0s 3ms/step - loss: 0.5871 - accuracy: 0.6680 - val_loss: 0.8630 - val_accuracy: 0.4475\n",
      "Epoch 190/300\n",
      "37/37 [==============================] - 0s 3ms/step - loss: 0.5817 - accuracy: 0.6611 - val_loss: 0.8368 - val_accuracy: 0.4475\n",
      "Epoch 191/300\n",
      "37/37 [==============================] - 0s 3ms/step - loss: 0.5730 - accuracy: 0.6694 - val_loss: 0.8400 - val_accuracy: 0.4586\n",
      "Epoch 192/300\n",
      "37/37 [==============================] - 0s 3ms/step - loss: 0.5764 - accuracy: 0.6680 - val_loss: 0.8634 - val_accuracy: 0.4420\n",
      "Epoch 193/300\n",
      "37/37 [==============================] - 0s 3ms/step - loss: 0.5895 - accuracy: 0.6611 - val_loss: 0.8451 - val_accuracy: 0.4365\n",
      "Epoch 194/300\n",
      "37/37 [==============================] - 0s 3ms/step - loss: 0.5904 - accuracy: 0.6653 - val_loss: 0.8449 - val_accuracy: 0.4530\n",
      "Epoch 195/300\n",
      "37/37 [==============================] - 0s 3ms/step - loss: 0.5778 - accuracy: 0.6473 - val_loss: 0.8604 - val_accuracy: 0.4530\n",
      "Epoch 196/300\n",
      "37/37 [==============================] - 0s 3ms/step - loss: 0.5648 - accuracy: 0.6846 - val_loss: 0.8545 - val_accuracy: 0.4365\n",
      "Epoch 197/300\n",
      "37/37 [==============================] - 0s 3ms/step - loss: 0.5649 - accuracy: 0.6985 - val_loss: 0.8720 - val_accuracy: 0.4530\n",
      "Epoch 198/300\n",
      "37/37 [==============================] - 0s 3ms/step - loss: 0.5782 - accuracy: 0.6667 - val_loss: 0.8474 - val_accuracy: 0.4420\n",
      "Epoch 199/300\n",
      "37/37 [==============================] - 0s 3ms/step - loss: 0.5668 - accuracy: 0.6777 - val_loss: 0.8621 - val_accuracy: 0.4475\n",
      "Epoch 200/300\n",
      "37/37 [==============================] - 0s 3ms/step - loss: 0.5753 - accuracy: 0.6501 - val_loss: 0.8404 - val_accuracy: 0.4641\n",
      "Epoch 201/300\n",
      "37/37 [==============================] - 0s 3ms/step - loss: 0.5747 - accuracy: 0.6916 - val_loss: 0.8687 - val_accuracy: 0.4586\n",
      "Epoch 202/300\n",
      "37/37 [==============================] - 0s 3ms/step - loss: 0.5799 - accuracy: 0.6846 - val_loss: 0.8598 - val_accuracy: 0.4420\n",
      "Epoch 203/300\n",
      "37/37 [==============================] - 0s 3ms/step - loss: 0.5753 - accuracy: 0.6570 - val_loss: 0.8592 - val_accuracy: 0.4696\n",
      "Epoch 204/300\n",
      "37/37 [==============================] - 0s 3ms/step - loss: 0.5711 - accuracy: 0.6791 - val_loss: 0.8786 - val_accuracy: 0.4530\n",
      "Epoch 205/300\n",
      "37/37 [==============================] - 0s 3ms/step - loss: 0.5776 - accuracy: 0.6750 - val_loss: 0.8524 - val_accuracy: 0.4641\n",
      "Epoch 206/300\n",
      "37/37 [==============================] - 0s 3ms/step - loss: 0.5598 - accuracy: 0.6860 - val_loss: 0.8584 - val_accuracy: 0.4475\n",
      "Epoch 207/300\n",
      "37/37 [==============================] - 0s 3ms/step - loss: 0.5441 - accuracy: 0.7137 - val_loss: 0.8790 - val_accuracy: 0.4586\n",
      "Epoch 208/300\n",
      "37/37 [==============================] - 0s 3ms/step - loss: 0.5853 - accuracy: 0.6473 - val_loss: 0.8757 - val_accuracy: 0.4530\n",
      "Epoch 209/300\n",
      "37/37 [==============================] - 0s 3ms/step - loss: 0.5497 - accuracy: 0.6653 - val_loss: 0.8948 - val_accuracy: 0.4420\n",
      "Epoch 210/300\n",
      "37/37 [==============================] - 0s 3ms/step - loss: 0.5581 - accuracy: 0.6736 - val_loss: 0.8759 - val_accuracy: 0.4641\n",
      "Epoch 211/300\n",
      "37/37 [==============================] - 0s 3ms/step - loss: 0.5616 - accuracy: 0.6680 - val_loss: 0.8793 - val_accuracy: 0.4475\n",
      "Epoch 212/300\n",
      "37/37 [==============================] - 0s 3ms/step - loss: 0.5596 - accuracy: 0.6763 - val_loss: 0.8846 - val_accuracy: 0.4309\n",
      "Epoch 213/300\n",
      "37/37 [==============================] - 0s 3ms/step - loss: 0.5608 - accuracy: 0.6598 - val_loss: 0.9003 - val_accuracy: 0.4475\n",
      "Epoch 214/300\n",
      "37/37 [==============================] - 0s 3ms/step - loss: 0.5603 - accuracy: 0.6874 - val_loss: 0.8668 - val_accuracy: 0.4420\n",
      "Epoch 215/300\n",
      "37/37 [==============================] - 0s 3ms/step - loss: 0.5770 - accuracy: 0.6874 - val_loss: 0.8616 - val_accuracy: 0.4696\n",
      "Epoch 216/300\n",
      "37/37 [==============================] - 0s 3ms/step - loss: 0.5591 - accuracy: 0.6708 - val_loss: 0.8705 - val_accuracy: 0.4696\n",
      "Epoch 217/300\n",
      "37/37 [==============================] - 0s 3ms/step - loss: 0.5655 - accuracy: 0.6819 - val_loss: 0.8923 - val_accuracy: 0.4420\n",
      "Epoch 218/300\n",
      "37/37 [==============================] - 0s 3ms/step - loss: 0.5548 - accuracy: 0.6929 - val_loss: 0.9039 - val_accuracy: 0.4420\n",
      "Epoch 219/300\n",
      "37/37 [==============================] - 0s 3ms/step - loss: 0.5697 - accuracy: 0.6777 - val_loss: 0.8953 - val_accuracy: 0.4309\n",
      "Epoch 220/300\n",
      "37/37 [==============================] - 0s 3ms/step - loss: 0.5660 - accuracy: 0.6653 - val_loss: 0.8878 - val_accuracy: 0.4309\n",
      "Epoch 221/300\n",
      "37/37 [==============================] - 0s 3ms/step - loss: 0.5658 - accuracy: 0.6667 - val_loss: 0.8852 - val_accuracy: 0.4696\n",
      "Epoch 222/300\n",
      "37/37 [==============================] - 0s 3ms/step - loss: 0.5454 - accuracy: 0.6902 - val_loss: 0.9251 - val_accuracy: 0.4309\n",
      "Epoch 223/300\n",
      "37/37 [==============================] - 0s 3ms/step - loss: 0.5665 - accuracy: 0.6611 - val_loss: 0.8845 - val_accuracy: 0.4586\n",
      "Epoch 224/300\n",
      "37/37 [==============================] - 0s 3ms/step - loss: 0.5475 - accuracy: 0.6943 - val_loss: 0.9034 - val_accuracy: 0.4586\n",
      "Epoch 225/300\n",
      "37/37 [==============================] - 0s 3ms/step - loss: 0.5579 - accuracy: 0.6985 - val_loss: 0.9073 - val_accuracy: 0.4696\n",
      "Epoch 226/300\n",
      "37/37 [==============================] - 0s 3ms/step - loss: 0.5517 - accuracy: 0.6860 - val_loss: 0.9311 - val_accuracy: 0.4420\n",
      "Epoch 227/300\n",
      "37/37 [==============================] - 0s 3ms/step - loss: 0.5661 - accuracy: 0.6874 - val_loss: 0.9198 - val_accuracy: 0.4586\n",
      "Epoch 228/300\n",
      "37/37 [==============================] - 0s 3ms/step - loss: 0.5591 - accuracy: 0.6777 - val_loss: 0.9093 - val_accuracy: 0.4420\n",
      "Epoch 229/300\n",
      "37/37 [==============================] - 0s 3ms/step - loss: 0.5685 - accuracy: 0.6805 - val_loss: 0.8873 - val_accuracy: 0.4696\n",
      "Epoch 230/300\n"
     ]
    },
    {
     "name": "stdout",
     "output_type": "stream",
     "text": [
      "37/37 [==============================] - 0s 3ms/step - loss: 0.5828 - accuracy: 0.6598 - val_loss: 0.8840 - val_accuracy: 0.4696\n",
      "Epoch 231/300\n",
      "37/37 [==============================] - 0s 3ms/step - loss: 0.5307 - accuracy: 0.7082 - val_loss: 0.9238 - val_accuracy: 0.4530\n",
      "Epoch 232/300\n",
      "37/37 [==============================] - 0s 3ms/step - loss: 0.5489 - accuracy: 0.6943 - val_loss: 0.9260 - val_accuracy: 0.4475\n",
      "Epoch 233/300\n",
      "37/37 [==============================] - 0s 3ms/step - loss: 0.5628 - accuracy: 0.6528 - val_loss: 0.9253 - val_accuracy: 0.4365\n",
      "Epoch 234/300\n",
      "37/37 [==============================] - 0s 3ms/step - loss: 0.5585 - accuracy: 0.6916 - val_loss: 0.9104 - val_accuracy: 0.4586\n",
      "Epoch 235/300\n",
      "37/37 [==============================] - 0s 3ms/step - loss: 0.5621 - accuracy: 0.6888 - val_loss: 0.9141 - val_accuracy: 0.4586\n",
      "Epoch 236/300\n",
      "37/37 [==============================] - 0s 3ms/step - loss: 0.5406 - accuracy: 0.6846 - val_loss: 0.9377 - val_accuracy: 0.4475\n",
      "Epoch 237/300\n",
      "37/37 [==============================] - 0s 3ms/step - loss: 0.5707 - accuracy: 0.6639 - val_loss: 0.9014 - val_accuracy: 0.4365\n",
      "Epoch 238/300\n",
      "37/37 [==============================] - 0s 3ms/step - loss: 0.5451 - accuracy: 0.6736 - val_loss: 0.9159 - val_accuracy: 0.4420\n",
      "Epoch 239/300\n",
      "37/37 [==============================] - 0s 3ms/step - loss: 0.5553 - accuracy: 0.6943 - val_loss: 0.9189 - val_accuracy: 0.4420\n",
      "Epoch 240/300\n",
      "37/37 [==============================] - 0s 3ms/step - loss: 0.5565 - accuracy: 0.6860 - val_loss: 0.9100 - val_accuracy: 0.4365\n",
      "Epoch 241/300\n",
      "37/37 [==============================] - 0s 3ms/step - loss: 0.5455 - accuracy: 0.6943 - val_loss: 0.9465 - val_accuracy: 0.4254\n",
      "Epoch 242/300\n",
      "37/37 [==============================] - 0s 3ms/step - loss: 0.5603 - accuracy: 0.6805 - val_loss: 0.9490 - val_accuracy: 0.4475\n",
      "Epoch 243/300\n",
      "37/37 [==============================] - 0s 3ms/step - loss: 0.5484 - accuracy: 0.6694 - val_loss: 0.9385 - val_accuracy: 0.4751\n",
      "Epoch 244/300\n",
      "37/37 [==============================] - 0s 3ms/step - loss: 0.5506 - accuracy: 0.6570 - val_loss: 0.8968 - val_accuracy: 0.4641\n",
      "Epoch 245/300\n",
      "37/37 [==============================] - 0s 3ms/step - loss: 0.5645 - accuracy: 0.6708 - val_loss: 0.9158 - val_accuracy: 0.4309\n",
      "Epoch 246/300\n",
      "37/37 [==============================] - 0s 3ms/step - loss: 0.5456 - accuracy: 0.6874 - val_loss: 0.9443 - val_accuracy: 0.4309\n",
      "Epoch 247/300\n",
      "37/37 [==============================] - 0s 3ms/step - loss: 0.5507 - accuracy: 0.6556 - val_loss: 0.9127 - val_accuracy: 0.4751\n",
      "Epoch 248/300\n",
      "37/37 [==============================] - 0s 3ms/step - loss: 0.5510 - accuracy: 0.6694 - val_loss: 0.9439 - val_accuracy: 0.4530\n",
      "Epoch 249/300\n",
      "37/37 [==============================] - 0s 3ms/step - loss: 0.5383 - accuracy: 0.6874 - val_loss: 0.9394 - val_accuracy: 0.4365\n",
      "Epoch 250/300\n",
      "37/37 [==============================] - 0s 3ms/step - loss: 0.5334 - accuracy: 0.6971 - val_loss: 0.9523 - val_accuracy: 0.4475\n",
      "Epoch 251/300\n",
      "37/37 [==============================] - 0s 3ms/step - loss: 0.5530 - accuracy: 0.6929 - val_loss: 0.9493 - val_accuracy: 0.4420\n",
      "Epoch 252/300\n",
      "37/37 [==============================] - 0s 3ms/step - loss: 0.5388 - accuracy: 0.6763 - val_loss: 0.9439 - val_accuracy: 0.4475\n",
      "Epoch 253/300\n",
      "37/37 [==============================] - 0s 3ms/step - loss: 0.5380 - accuracy: 0.6805 - val_loss: 0.9581 - val_accuracy: 0.4641\n",
      "Epoch 254/300\n",
      "37/37 [==============================] - 0s 3ms/step - loss: 0.5560 - accuracy: 0.6833 - val_loss: 0.9585 - val_accuracy: 0.4475\n",
      "Epoch 255/300\n",
      "37/37 [==============================] - 0s 3ms/step - loss: 0.5472 - accuracy: 0.6791 - val_loss: 0.9355 - val_accuracy: 0.4475\n",
      "Epoch 256/300\n",
      "37/37 [==============================] - 0s 3ms/step - loss: 0.5253 - accuracy: 0.7040 - val_loss: 0.9590 - val_accuracy: 0.4365\n",
      "Epoch 257/300\n",
      "37/37 [==============================] - 0s 3ms/step - loss: 0.5450 - accuracy: 0.6805 - val_loss: 0.9510 - val_accuracy: 0.4365\n",
      "Epoch 258/300\n",
      "37/37 [==============================] - 0s 3ms/step - loss: 0.5462 - accuracy: 0.6916 - val_loss: 0.9536 - val_accuracy: 0.4475\n",
      "Epoch 259/300\n",
      "37/37 [==============================] - 0s 3ms/step - loss: 0.5426 - accuracy: 0.6916 - val_loss: 0.9328 - val_accuracy: 0.4309\n",
      "Epoch 260/300\n",
      "37/37 [==============================] - 0s 3ms/step - loss: 0.5632 - accuracy: 0.6902 - val_loss: 0.9371 - val_accuracy: 0.4475\n",
      "Epoch 261/300\n",
      "37/37 [==============================] - 0s 3ms/step - loss: 0.5502 - accuracy: 0.6819 - val_loss: 0.9550 - val_accuracy: 0.4365\n",
      "Epoch 262/300\n",
      "37/37 [==============================] - 0s 3ms/step - loss: 0.5345 - accuracy: 0.6819 - val_loss: 0.9803 - val_accuracy: 0.4365\n",
      "Epoch 263/300\n",
      "37/37 [==============================] - 0s 3ms/step - loss: 0.5320 - accuracy: 0.6929 - val_loss: 0.9378 - val_accuracy: 0.4530\n",
      "Epoch 264/300\n",
      "37/37 [==============================] - 0s 3ms/step - loss: 0.5317 - accuracy: 0.6846 - val_loss: 0.9661 - val_accuracy: 0.4475\n",
      "Epoch 265/300\n",
      "37/37 [==============================] - 0s 3ms/step - loss: 0.5609 - accuracy: 0.6833 - val_loss: 0.9577 - val_accuracy: 0.4309\n",
      "Epoch 266/300\n",
      "37/37 [==============================] - 0s 3ms/step - loss: 0.5462 - accuracy: 0.6833 - val_loss: 0.9717 - val_accuracy: 0.4420\n",
      "Epoch 267/300\n",
      "37/37 [==============================] - 0s 3ms/step - loss: 0.5382 - accuracy: 0.6985 - val_loss: 0.9584 - val_accuracy: 0.4420\n",
      "Epoch 268/300\n",
      "37/37 [==============================] - 0s 3ms/step - loss: 0.5297 - accuracy: 0.7095 - val_loss: 0.9764 - val_accuracy: 0.4530\n",
      "Epoch 269/300\n",
      "37/37 [==============================] - 0s 3ms/step - loss: 0.5434 - accuracy: 0.6736 - val_loss: 0.9751 - val_accuracy: 0.4586\n",
      "Epoch 270/300\n",
      "37/37 [==============================] - 0s 3ms/step - loss: 0.5554 - accuracy: 0.6763 - val_loss: 0.9431 - val_accuracy: 0.4365\n",
      "Epoch 271/300\n",
      "37/37 [==============================] - 0s 3ms/step - loss: 0.5302 - accuracy: 0.6736 - val_loss: 0.9784 - val_accuracy: 0.4420\n",
      "Epoch 272/300\n",
      "37/37 [==============================] - 0s 3ms/step - loss: 0.5121 - accuracy: 0.6971 - val_loss: 0.9955 - val_accuracy: 0.4420\n",
      "Epoch 273/300\n",
      "37/37 [==============================] - 0s 3ms/step - loss: 0.5431 - accuracy: 0.6680 - val_loss: 0.9583 - val_accuracy: 0.4420\n",
      "Epoch 274/300\n",
      "37/37 [==============================] - 0s 3ms/step - loss: 0.5334 - accuracy: 0.6860 - val_loss: 0.9747 - val_accuracy: 0.4365\n",
      "Epoch 275/300\n",
      "37/37 [==============================] - 0s 3ms/step - loss: 0.5348 - accuracy: 0.6763 - val_loss: 1.0093 - val_accuracy: 0.4254\n",
      "Epoch 276/300\n",
      "37/37 [==============================] - 0s 3ms/step - loss: 0.5295 - accuracy: 0.7068 - val_loss: 1.0293 - val_accuracy: 0.4199\n",
      "Epoch 277/300\n",
      "37/37 [==============================] - 0s 3ms/step - loss: 0.5366 - accuracy: 0.6777 - val_loss: 0.9750 - val_accuracy: 0.4530\n",
      "Epoch 278/300\n",
      "37/37 [==============================] - 0s 3ms/step - loss: 0.5236 - accuracy: 0.6916 - val_loss: 0.9974 - val_accuracy: 0.4309\n",
      "Epoch 279/300\n",
      "37/37 [==============================] - 0s 3ms/step - loss: 0.5225 - accuracy: 0.7040 - val_loss: 1.0238 - val_accuracy: 0.4365\n",
      "Epoch 280/300\n",
      "37/37 [==============================] - 0s 3ms/step - loss: 0.5242 - accuracy: 0.7123 - val_loss: 1.0057 - val_accuracy: 0.4309\n",
      "Epoch 281/300\n",
      "37/37 [==============================] - 0s 3ms/step - loss: 0.5276 - accuracy: 0.6833 - val_loss: 1.0034 - val_accuracy: 0.4475\n",
      "Epoch 282/300\n",
      "37/37 [==============================] - 0s 3ms/step - loss: 0.5266 - accuracy: 0.6888 - val_loss: 1.0013 - val_accuracy: 0.4365\n",
      "Epoch 283/300\n",
      "37/37 [==============================] - 0s 3ms/step - loss: 0.5142 - accuracy: 0.7012 - val_loss: 1.0230 - val_accuracy: 0.4365\n",
      "Epoch 284/300\n",
      "37/37 [==============================] - 0s 3ms/step - loss: 0.5419 - accuracy: 0.6625 - val_loss: 1.0474 - val_accuracy: 0.4365\n",
      "Epoch 285/300\n",
      "37/37 [==============================] - 0s 3ms/step - loss: 0.5306 - accuracy: 0.6846 - val_loss: 1.0199 - val_accuracy: 0.4530\n",
      "Epoch 286/300\n",
      "37/37 [==============================] - 0s 3ms/step - loss: 0.5323 - accuracy: 0.6971 - val_loss: 1.0005 - val_accuracy: 0.4586\n",
      "Epoch 287/300\n"
     ]
    },
    {
     "name": "stdout",
     "output_type": "stream",
     "text": [
      "37/37 [==============================] - 0s 3ms/step - loss: 0.5076 - accuracy: 0.7220 - val_loss: 1.0208 - val_accuracy: 0.4530\n",
      "Epoch 288/300\n",
      "37/37 [==============================] - 0s 3ms/step - loss: 0.5331 - accuracy: 0.6805 - val_loss: 1.0225 - val_accuracy: 0.4641\n",
      "Epoch 289/300\n",
      "37/37 [==============================] - 0s 3ms/step - loss: 0.5277 - accuracy: 0.7026 - val_loss: 1.0287 - val_accuracy: 0.4696\n",
      "Epoch 290/300\n",
      "37/37 [==============================] - 0s 3ms/step - loss: 0.5269 - accuracy: 0.6846 - val_loss: 1.0036 - val_accuracy: 0.4586\n",
      "Epoch 291/300\n",
      "37/37 [==============================] - 0s 3ms/step - loss: 0.5400 - accuracy: 0.6791 - val_loss: 1.0084 - val_accuracy: 0.4475\n",
      "Epoch 292/300\n",
      "37/37 [==============================] - 0s 3ms/step - loss: 0.5179 - accuracy: 0.7068 - val_loss: 1.0109 - val_accuracy: 0.4641\n",
      "Epoch 293/300\n",
      "37/37 [==============================] - 0s 3ms/step - loss: 0.5238 - accuracy: 0.6833 - val_loss: 1.0278 - val_accuracy: 0.4530\n",
      "Epoch 294/300\n",
      "37/37 [==============================] - 0s 3ms/step - loss: 0.5182 - accuracy: 0.6943 - val_loss: 1.0722 - val_accuracy: 0.4309\n",
      "Epoch 295/300\n",
      "37/37 [==============================] - 0s 3ms/step - loss: 0.5282 - accuracy: 0.6833 - val_loss: 1.0333 - val_accuracy: 0.4475\n",
      "Epoch 296/300\n",
      "37/37 [==============================] - 0s 3ms/step - loss: 0.5293 - accuracy: 0.6722 - val_loss: 1.0331 - val_accuracy: 0.4365\n",
      "Epoch 297/300\n",
      "37/37 [==============================] - 0s 3ms/step - loss: 0.5215 - accuracy: 0.6888 - val_loss: 1.0328 - val_accuracy: 0.4420\n",
      "Epoch 298/300\n",
      "37/37 [==============================] - 0s 3ms/step - loss: 0.5384 - accuracy: 0.6902 - val_loss: 0.9891 - val_accuracy: 0.4475\n",
      "Epoch 299/300\n",
      "37/37 [==============================] - 0s 3ms/step - loss: 0.5323 - accuracy: 0.6846 - val_loss: 0.9857 - val_accuracy: 0.4641\n",
      "Epoch 300/300\n",
      "37/37 [==============================] - 0s 3ms/step - loss: 0.5177 - accuracy: 0.7012 - val_loss: 0.9876 - val_accuracy: 0.4420\n"
     ]
    },
    {
     "data": {
      "text/plain": [
       "<keras.callbacks.History at 0x218ffd83dc0>"
      ]
     },
     "execution_count": 96,
     "metadata": {},
     "output_type": "execute_result"
    }
   ],
   "source": [
    "from IPython.core.display import display, HTML\n",
    "\n",
    "# Enable horizontal scrolling for output\n",
    "display(HTML(\"<style>pre { white-space: pre !important; }</style>\"))\n",
    "\n",
    "# Generate a long output\n",
    "long_output = \"A\" * 1000\n",
    "\n",
    "model.fit(train_ds, epochs=300, validation_data = val_ds)"
   ]
  },
  {
   "cell_type": "code",
   "execution_count": null,
   "metadata": {},
   "outputs": [],
   "source": [
    "df.info()"
   ]
  },
  {
   "cell_type": "code",
   "execution_count": 69,
   "metadata": {},
   "outputs": [],
   "source": [
    "input_data = {\n",
    "    'gender' : 1,\n",
    "    'age'    :21,\n",
    "    'workout_experience' : 0,\n",
    "    'workout_time' : 60,\n",
    "    'weight' : 65,\n",
    "    'height' : 170,\n",
    "}"
   ]
  },
  {
   "cell_type": "code",
   "execution_count": 70,
   "metadata": {},
   "outputs": [],
   "source": [
    "input_dict = {}"
   ]
  },
  {
   "cell_type": "code",
   "execution_count": 71,
   "metadata": {},
   "outputs": [],
   "source": [
    "for feature, value in input_data.items() :\n",
    "    input_dict[feature] = tf.convert_to_tensor([value])"
   ]
  },
  {
   "cell_type": "code",
   "execution_count": 72,
   "metadata": {},
   "outputs": [
    {
     "data": {
      "text/plain": [
       "{'gender': <tf.Tensor: shape=(1,), dtype=int32, numpy=array([1])>,\n",
       " 'age': <tf.Tensor: shape=(1,), dtype=int32, numpy=array([21])>,\n",
       " 'workout_experience': <tf.Tensor: shape=(1,), dtype=int32, numpy=array([0])>,\n",
       " 'workout_time': <tf.Tensor: shape=(1,), dtype=int32, numpy=array([60])>,\n",
       " 'weight': <tf.Tensor: shape=(1,), dtype=int32, numpy=array([65])>,\n",
       " 'height': <tf.Tensor: shape=(1,), dtype=int32, numpy=array([170])>}"
      ]
     },
     "execution_count": 72,
     "metadata": {},
     "output_type": "execute_result"
    }
   ],
   "source": [
    "input_dict"
   ]
  },
  {
   "cell_type": "code",
   "execution_count": 76,
   "metadata": {},
   "outputs": [
    {
     "name": "stdout",
     "output_type": "stream",
     "text": [
      "1/1 [==============================] - 0s 34ms/step\n"
     ]
    }
   ],
   "source": [
    "predictions = model.predict(input_dict)"
   ]
  },
  {
   "cell_type": "code",
   "execution_count": 77,
   "metadata": {},
   "outputs": [
    {
     "data": {
      "text/plain": [
       "array([[0.5033811]], dtype=float32)"
      ]
     },
     "execution_count": 77,
     "metadata": {},
     "output_type": "execute_result"
    }
   ],
   "source": [
    "predictions"
   ]
  },
  {
   "cell_type": "code",
   "execution_count": 78,
   "metadata": {},
   "outputs": [
    {
     "name": "stdout",
     "output_type": "stream",
     "text": [
      "You should do muscle up !\n"
     ]
    }
   ],
   "source": [
    "if predictions[0][0] >= 0.5 :\n",
    "    print(\"You should do muscle up !\")\n",
    "else :\n",
    "    print(\"You should do weight loss !\")"
   ]
  },
  {
   "cell_type": "code",
   "execution_count": 21,
   "metadata": {},
   "outputs": [
    {
     "name": "stdout",
     "output_type": "stream",
     "text": [
      "INFO:tensorflow:Assets written to: ram://a02c0d99-312e-4275-b03e-2019695547c0/assets\n"
     ]
    },
    {
     "data": {
      "text/plain": [
       "['model_1_v2.pkl']"
      ]
     },
     "execution_count": 21,
     "metadata": {},
     "output_type": "execute_result"
    }
   ],
   "source": [
    "import joblib\n",
    "\n",
    "# Save the trained model to a file\n",
    "joblib.dump(model, 'model_1_v2.pkl')"
   ]
  },
  {
   "cell_type": "code",
   "execution_count": null,
   "metadata": {},
   "outputs": [],
   "source": []
  }
 ],
 "metadata": {
  "colab": {
   "authorship_tag": "ABX9TyOpKk+85qYG42HGf+43aaAb",
   "provenance": []
  },
  "kernelspec": {
   "display_name": "Python 3 (ipykernel)",
   "language": "python",
   "name": "python3"
  },
  "language_info": {
   "codemirror_mode": {
    "name": "ipython",
    "version": 3
   },
   "file_extension": ".py",
   "mimetype": "text/x-python",
   "name": "python",
   "nbconvert_exporter": "python",
   "pygments_lexer": "ipython3",
   "version": "3.9.4"
  }
 },
 "nbformat": 4,
 "nbformat_minor": 1
}
