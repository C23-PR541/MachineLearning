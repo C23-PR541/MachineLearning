{
 "cells": [
  {
   "cell_type": "markdown",
   "metadata": {},
   "source": [
    "# Model using Neural Network"
   ]
  },
  {
   "cell_type": "markdown",
   "metadata": {
    "id": "0MqdvFhq7OcX"
   },
   "source": [
    "## Import Libraries"
   ]
  },
  {
   "cell_type": "code",
   "execution_count": 1,
   "metadata": {
    "vscode": {
     "languageId": "plaintext"
    }
   },
   "outputs": [],
   "source": [
    "import tensorflow as tf\n",
    "import numpy as np\n",
    "import pandas as pd\n",
    "import seaborn as sns\n",
    "from tensorflow.keras.layers import IntegerLookup\n",
    "from tensorflow.keras.layers import Normalization\n",
    "from tensorflow.keras.layers import StringLookup\n",
    "import tensorflow.keras as keras"
   ]
  },
  {
   "cell_type": "markdown",
   "metadata": {},
   "source": [
    "## Load The Data to DataFrame"
   ]
  },
  {
   "cell_type": "code",
   "execution_count": 2,
   "metadata": {},
   "outputs": [],
   "source": [
    "df = pd.read_csv('cleaned_data.csv')"
   ]
  },
  {
   "cell_type": "markdown",
   "metadata": {},
   "source": [
    "## Check the Columns' Data Type"
   ]
  },
  {
   "cell_type": "code",
   "execution_count": 3,
   "metadata": {},
   "outputs": [
    {
     "data": {
      "text/plain": [
       "Index(['gender', 'age', 'workout_experience', 'workout_time', 'weight',\n",
       "       'height', 'fitness_goal'],\n",
       "      dtype='object')"
      ]
     },
     "execution_count": 3,
     "metadata": {},
     "output_type": "execute_result"
    }
   ],
   "source": [
    "df.columns"
   ]
  },
  {
   "cell_type": "code",
   "execution_count": 4,
   "metadata": {},
   "outputs": [],
   "source": [
    "from sklearn.utils import shuffle\n",
    "\n",
    "shuffled_df = shuffle(df, random_state = 42)"
   ]
  },
  {
   "cell_type": "markdown",
   "metadata": {},
   "source": [
    "## Split Data for Training and Validation\n"
   ]
  },
  {
   "cell_type": "code",
   "execution_count": 5,
   "metadata": {},
   "outputs": [],
   "source": [
    "from sklearn.model_selection import train_test_split\n",
    "\n",
    "train_df, val_df = train_test_split(shuffled_df, test_size = 0.2, random_state=42)"
   ]
  },
  {
   "cell_type": "markdown",
   "metadata": {},
   "source": [
    "## The training and validation set size"
   ]
  },
  {
   "cell_type": "code",
   "execution_count": 6,
   "metadata": {},
   "outputs": [
    {
     "name": "stdout",
     "output_type": "stream",
     "text": [
      "training :  723  | validation :  181\n"
     ]
    }
   ],
   "source": [
    "print('training : ',train_df.shape[0], \" | validation : \", val_df.shape[0])"
   ]
  },
  {
   "cell_type": "markdown",
   "metadata": {},
   "source": [
    "## Function Transform Dataframe into Tensor Dataset"
   ]
  },
  {
   "cell_type": "code",
   "execution_count": 7,
   "metadata": {},
   "outputs": [],
   "source": [
    "def dataframe_transform(df, label):\n",
    "\n",
    "    labels = df.pop(label)\n",
    "    ds = tf.data.Dataset.from_tensor_slices((dict(df), labels))\n",
    "    ds = ds.shuffle(buffer_size = len(df))\n",
    "\n",
    "    return ds"
   ]
  },
  {
   "cell_type": "markdown",
   "metadata": {},
   "source": [
    "## Transform Training and Validation Dataframe into Tensor Dataset"
   ]
  },
  {
   "cell_type": "code",
   "execution_count": 8,
   "metadata": {},
   "outputs": [],
   "source": [
    "train_ds = dataframe_transform(train_df, 'fitness_goal')\n",
    "val_ds   = dataframe_transform(val_df, 'fitness_goal')"
   ]
  },
  {
   "cell_type": "markdown",
   "metadata": {},
   "source": [
    "## Batching the Dataset"
   ]
  },
  {
   "cell_type": "code",
   "execution_count": 9,
   "metadata": {},
   "outputs": [],
   "source": [
    "train_ds = train_ds.batch(20)\n",
    "val_ds   = val_ds.batch(20)"
   ]
  },
  {
   "cell_type": "markdown",
   "metadata": {},
   "source": [
    "## Function to Encode Categorical Column"
   ]
  },
  {
   "cell_type": "code",
   "execution_count": 10,
   "metadata": {},
   "outputs": [],
   "source": [
    "def encode_categorical_feature(column, name, dataset):\n",
    "\n",
    "    lookup_class = IntegerLookup\n",
    "    lookup = lookup_class(output_mode = \"binary\")\n",
    "\n",
    "    column_ds = dataset.map(lambda x, y: x[name])\n",
    "    column_ds = column_ds.map(lambda x: tf.expand_dims(x, -1))\n",
    "\n",
    "    lookup.adapt(column_ds)\n",
    "    encoded_column = lookup(column)\n",
    "\n",
    "    return encoded_column"
   ]
  },
  {
   "cell_type": "markdown",
   "metadata": {},
   "source": [
    "## Function to Encode Numerical Column"
   ]
  },
  {
   "cell_type": "code",
   "execution_count": 11,
   "metadata": {},
   "outputs": [],
   "source": [
    "def encode_numerical_feature(column, name, dataset):\n",
    "\n",
    "    normalizer = Normalization()\n",
    "    column_ds = dataset.map(lambda x, y: x[name])\n",
    "    column_ds = column_ds.map(lambda x: tf.expand_dims(x, -1))\n",
    "\n",
    "    normalizer.adapt(column_ds)\n",
    "    encoded_column = normalizer(column)\n",
    "\n",
    "    return encoded_column"
   ]
  },
  {
   "cell_type": "markdown",
   "metadata": {},
   "source": [
    "## Creating Tensor object from the column"
   ]
  },
  {
   "cell_type": "code",
   "execution_count": 12,
   "metadata": {},
   "outputs": [],
   "source": [
    "gender = keras.Input(shape = (1,), name = 'gender', dtype = 'int64')\n",
    "age    = keras.Input(shape = (1,), name = 'age')\n",
    "workout_experience = keras.Input(shape = (1, ), name = 'workout_experience')\n",
    "workout_time = keras.Input(shape = (1,), name = 'workout_time')\n",
    "weight       = keras.Input(shape = (1,), name = 'weight')\n",
    "height       = keras.Input(shape = (1,), name = 'height')"
   ]
  },
  {
   "cell_type": "code",
   "execution_count": 13,
   "metadata": {},
   "outputs": [],
   "source": [
    "all_columns = [ gender, age, workout_experience, workout_time, height, weight ]"
   ]
  },
  {
   "cell_type": "markdown",
   "metadata": {},
   "source": [
    "## Encode columns based on their data type"
   ]
  },
  {
   "cell_type": "code",
   "execution_count": 14,
   "metadata": {},
   "outputs": [],
   "source": [
    "gender_encoded = encode_categorical_feature(gender, 'gender', train_ds)\n",
    "age_encoded = encode_numerical_feature(age, 'age', train_ds)\n",
    "workout_experience_encoded = encode_numerical_feature(workout_experience, 'workout_experience', train_ds)\n",
    "workout_time_encoded = encode_numerical_feature(workout_time, 'workout_time', train_ds)\n",
    "weight_encoded = encode_numerical_feature(weight, 'weight', train_ds)\n",
    "height_encoded = encode_numerical_feature(height, 'height', train_ds)\n"
   ]
  },
  {
   "cell_type": "code",
   "execution_count": 15,
   "metadata": {},
   "outputs": [],
   "source": [
    "all_features = keras.layers.concatenate([gender_encoded, age_encoded, workout_experience_encoded, workout_time_encoded, height_encoded, weight_encoded])"
   ]
  },
  {
   "cell_type": "markdown",
   "metadata": {},
   "source": [
    "## Build the model architecture"
   ]
  },
  {
   "cell_type": "code",
   "execution_count": 22,
   "metadata": {},
   "outputs": [],
   "source": [
    "x = keras.layers.Dense(32, activation = 'relu')(all_features)\n",
    "x = keras.layers.Dense(16, activation = 'relu')(x)\n",
    "x = keras.layers.Dropout(0.7)(x)\n",
    "\n",
    "output = keras.layers.Dense(1, activation = 'sigmoid')(x)"
   ]
  },
  {
   "cell_type": "code",
   "execution_count": 23,
   "metadata": {},
   "outputs": [],
   "source": [
    "model  = keras.Model(all_columns, output)\n",
    "model.compile(optimizer = 'rmsprop', loss = 'binary_crossentropy', metrics = ['accuracy'])"
   ]
  },
  {
   "cell_type": "markdown",
   "metadata": {},
   "source": [
    "## Train the model"
   ]
  },
  {
   "cell_type": "code",
   "execution_count": null,
   "metadata": {
    "scrolled": false
   },
   "outputs": [
    {
     "data": {
      "text/html": [
       "<style>pre { white-space: pre !important; }</style>"
      ],
      "text/plain": [
       "<IPython.core.display.HTML object>"
      ]
     },
     "metadata": {},
     "output_type": "display_data"
    },
    {
     "name": "stdout",
     "output_type": "stream",
     "text": [
      "Epoch 1/300\n",
      "37/37 [==============================] - 3s 24ms/step - loss: 0.7376 - accuracy: 0.5367 - val_loss: 0.7091 - val_accuracy: 0.4917\n",
      "Epoch 2/300\n",
      "37/37 [==============================] - 0s 7ms/step - loss: 0.7217 - accuracy: 0.4938 - val_loss: 0.7044 - val_accuracy: 0.5083\n",
      "Epoch 3/300\n",
      "37/37 [==============================] - 0s 7ms/step - loss: 0.7184 - accuracy: 0.4606 - val_loss: 0.7012 - val_accuracy: 0.5028\n",
      "Epoch 4/300\n",
      "37/37 [==============================] - 0s 7ms/step - loss: 0.6938 - accuracy: 0.5311 - val_loss: 0.6979 - val_accuracy: 0.5028\n",
      "Epoch 5/300\n",
      "37/37 [==============================] - 0s 7ms/step - loss: 0.7032 - accuracy: 0.5104 - val_loss: 0.6944 - val_accuracy: 0.5414\n",
      "Epoch 6/300\n",
      "37/37 [==============================] - 0s 7ms/step - loss: 0.6895 - accuracy: 0.5214 - val_loss: 0.6939 - val_accuracy: 0.5359\n",
      "Epoch 7/300\n",
      "37/37 [==============================] - 0s 7ms/step - loss: 0.6954 - accuracy: 0.5021 - val_loss: 0.6922 - val_accuracy: 0.5525\n",
      "Epoch 8/300\n",
      "37/37 [==============================] - 0s 6ms/step - loss: 0.6933 - accuracy: 0.5339 - val_loss: 0.6907 - val_accuracy: 0.5746\n",
      "Epoch 9/300\n",
      "37/37 [==============================] - 0s 6ms/step - loss: 0.6959 - accuracy: 0.5270 - val_loss: 0.6921 - val_accuracy: 0.5525\n",
      "Epoch 10/300\n",
      "37/37 [==============================] - 0s 7ms/step - loss: 0.6887 - accuracy: 0.5090 - val_loss: 0.6907 - val_accuracy: 0.5691\n",
      "Epoch 11/300\n",
      "37/37 [==============================] - 0s 7ms/step - loss: 0.6848 - accuracy: 0.5519 - val_loss: 0.6907 - val_accuracy: 0.5967\n",
      "Epoch 12/300\n",
      "37/37 [==============================] - 0s 7ms/step - loss: 0.6826 - accuracy: 0.5602 - val_loss: 0.6895 - val_accuracy: 0.5746\n",
      "Epoch 13/300\n",
      "37/37 [==============================] - 0s 7ms/step - loss: 0.6830 - accuracy: 0.5394 - val_loss: 0.6895 - val_accuracy: 0.5580\n",
      "Epoch 14/300\n",
      "37/37 [==============================] - 0s 8ms/step - loss: 0.6810 - accuracy: 0.5491 - val_loss: 0.6901 - val_accuracy: 0.5635\n",
      "Epoch 15/300\n",
      "37/37 [==============================] - 0s 7ms/step - loss: 0.6842 - accuracy: 0.5533 - val_loss: 0.6903 - val_accuracy: 0.5525\n",
      "Epoch 16/300\n",
      "37/37 [==============================] - 0s 7ms/step - loss: 0.6850 - accuracy: 0.5436 - val_loss: 0.6905 - val_accuracy: 0.5580\n",
      "Epoch 17/300\n",
      "37/37 [==============================] - 0s 7ms/step - loss: 0.6784 - accuracy: 0.5394 - val_loss: 0.6901 - val_accuracy: 0.5580\n",
      "Epoch 18/300\n",
      "37/37 [==============================] - 0s 6ms/step - loss: 0.6863 - accuracy: 0.5311 - val_loss: 0.6898 - val_accuracy: 0.5635\n",
      "Epoch 19/300\n",
      "37/37 [==============================] - 0s 6ms/step - loss: 0.6855 - accuracy: 0.5242 - val_loss: 0.6881 - val_accuracy: 0.5414\n",
      "Epoch 20/300\n",
      "37/37 [==============================] - 0s 6ms/step - loss: 0.6789 - accuracy: 0.5325 - val_loss: 0.6899 - val_accuracy: 0.5691\n",
      "Epoch 21/300\n",
      "37/37 [==============================] - 0s 7ms/step - loss: 0.6825 - accuracy: 0.5450 - val_loss: 0.6902 - val_accuracy: 0.5525\n",
      "Epoch 22/300\n",
      "37/37 [==============================] - 0s 7ms/step - loss: 0.6854 - accuracy: 0.5380 - val_loss: 0.6907 - val_accuracy: 0.5746\n",
      "Epoch 23/300\n",
      "37/37 [==============================] - 0s 7ms/step - loss: 0.6827 - accuracy: 0.5339 - val_loss: 0.6908 - val_accuracy: 0.5525\n",
      "Epoch 24/300\n",
      "37/37 [==============================] - 0s 7ms/step - loss: 0.6816 - accuracy: 0.5436 - val_loss: 0.6916 - val_accuracy: 0.5635\n",
      "Epoch 25/300\n",
      "37/37 [==============================] - 0s 7ms/step - loss: 0.6745 - accuracy: 0.5533 - val_loss: 0.6896 - val_accuracy: 0.5525\n",
      "Epoch 26/300\n",
      "37/37 [==============================] - 0s 7ms/step - loss: 0.6811 - accuracy: 0.5491 - val_loss: 0.6891 - val_accuracy: 0.5580\n",
      "Epoch 27/300\n",
      "37/37 [==============================] - 0s 6ms/step - loss: 0.6862 - accuracy: 0.5546 - val_loss: 0.6901 - val_accuracy: 0.5414\n",
      "Epoch 28/300\n",
      "37/37 [==============================] - 0s 7ms/step - loss: 0.6750 - accuracy: 0.5685 - val_loss: 0.6909 - val_accuracy: 0.5470\n",
      "Epoch 29/300\n",
      "37/37 [==============================] - 0s 6ms/step - loss: 0.6780 - accuracy: 0.5643 - val_loss: 0.6907 - val_accuracy: 0.5580\n",
      "Epoch 30/300\n",
      "37/37 [==============================] - 0s 6ms/step - loss: 0.6771 - accuracy: 0.5463 - val_loss: 0.6902 - val_accuracy: 0.5414\n",
      "Epoch 31/300\n",
      "37/37 [==============================] - 0s 6ms/step - loss: 0.6769 - accuracy: 0.5519 - val_loss: 0.6910 - val_accuracy: 0.5470\n",
      "Epoch 32/300\n",
      "37/37 [==============================] - 0s 7ms/step - loss: 0.6756 - accuracy: 0.5325 - val_loss: 0.6902 - val_accuracy: 0.5414\n",
      "Epoch 33/300\n",
      "37/37 [==============================] - 0s 7ms/step - loss: 0.6697 - accuracy: 0.5685 - val_loss: 0.6915 - val_accuracy: 0.5470\n",
      "Epoch 34/300\n",
      "37/37 [==============================] - 0s 7ms/step - loss: 0.6763 - accuracy: 0.5851 - val_loss: 0.6931 - val_accuracy: 0.5525\n",
      "Epoch 35/300\n",
      "37/37 [==============================] - 0s 7ms/step - loss: 0.6742 - accuracy: 0.5809 - val_loss: 0.6920 - val_accuracy: 0.5580\n",
      "Epoch 36/300\n",
      "37/37 [==============================] - 0s 7ms/step - loss: 0.6706 - accuracy: 0.5657 - val_loss: 0.6924 - val_accuracy: 0.5635\n",
      "Epoch 37/300\n",
      "37/37 [==============================] - 0s 7ms/step - loss: 0.6783 - accuracy: 0.5560 - val_loss: 0.6928 - val_accuracy: 0.5691\n",
      "Epoch 38/300\n",
      "37/37 [==============================] - 0s 7ms/step - loss: 0.6719 - accuracy: 0.5671 - val_loss: 0.6941 - val_accuracy: 0.5525\n",
      "Epoch 39/300\n",
      "37/37 [==============================] - 0s 7ms/step - loss: 0.6663 - accuracy: 0.5892 - val_loss: 0.6957 - val_accuracy: 0.5525\n",
      "Epoch 40/300\n",
      "37/37 [==============================] - 0s 6ms/step - loss: 0.6673 - accuracy: 0.5712 - val_loss: 0.6963 - val_accuracy: 0.5525\n",
      "Epoch 41/300\n",
      "37/37 [==============================] - 0s 7ms/step - loss: 0.6751 - accuracy: 0.5463 - val_loss: 0.6967 - val_accuracy: 0.5359\n",
      "Epoch 42/300\n",
      "37/37 [==============================] - 0s 7ms/step - loss: 0.6755 - accuracy: 0.5615 - val_loss: 0.6956 - val_accuracy: 0.5304\n",
      "Epoch 43/300\n",
      "37/37 [==============================] - 0s 7ms/step - loss: 0.6773 - accuracy: 0.5602 - val_loss: 0.6952 - val_accuracy: 0.5304\n",
      "Epoch 44/300\n",
      "37/37 [==============================] - 0s 6ms/step - loss: 0.6679 - accuracy: 0.5726 - val_loss: 0.6963 - val_accuracy: 0.5304\n",
      "Epoch 45/300\n",
      "37/37 [==============================] - 0s 6ms/step - loss: 0.6718 - accuracy: 0.5643 - val_loss: 0.6965 - val_accuracy: 0.5359\n",
      "Epoch 46/300\n",
      "37/37 [==============================] - 0s 6ms/step - loss: 0.6680 - accuracy: 0.5947 - val_loss: 0.6987 - val_accuracy: 0.5470\n",
      "Epoch 47/300\n",
      "37/37 [==============================] - 0s 6ms/step - loss: 0.6702 - accuracy: 0.5920 - val_loss: 0.6977 - val_accuracy: 0.5359\n",
      "Epoch 48/300\n",
      "37/37 [==============================] - 0s 6ms/step - loss: 0.6679 - accuracy: 0.5698 - val_loss: 0.6963 - val_accuracy: 0.5359\n",
      "Epoch 49/300\n",
      "37/37 [==============================] - 0s 6ms/step - loss: 0.6713 - accuracy: 0.5864 - val_loss: 0.6956 - val_accuracy: 0.5304\n",
      "Epoch 50/300\n",
      "37/37 [==============================] - 0s 6ms/step - loss: 0.6702 - accuracy: 0.5975 - val_loss: 0.6990 - val_accuracy: 0.5414\n",
      "Epoch 51/300\n",
      "37/37 [==============================] - 0s 6ms/step - loss: 0.6671 - accuracy: 0.5712 - val_loss: 0.6979 - val_accuracy: 0.5359\n",
      "Epoch 52/300\n",
      "37/37 [==============================] - 0s 7ms/step - loss: 0.6824 - accuracy: 0.5588 - val_loss: 0.6956 - val_accuracy: 0.5359\n",
      "Epoch 53/300\n",
      "37/37 [==============================] - 0s 6ms/step - loss: 0.6676 - accuracy: 0.5989 - val_loss: 0.6965 - val_accuracy: 0.5359\n",
      "Epoch 54/300\n",
      "37/37 [==============================] - 0s 6ms/step - loss: 0.6604 - accuracy: 0.5754 - val_loss: 0.6996 - val_accuracy: 0.5304\n",
      "Epoch 55/300\n",
      "37/37 [==============================] - 0s 6ms/step - loss: 0.6659 - accuracy: 0.5643 - val_loss: 0.6999 - val_accuracy: 0.5304\n",
      "Epoch 56/300\n",
      "37/37 [==============================] - 0s 6ms/step - loss: 0.6674 - accuracy: 0.5740 - val_loss: 0.6989 - val_accuracy: 0.5414\n",
      "Epoch 57/300\n",
      "37/37 [==============================] - 0s 6ms/step - loss: 0.6644 - accuracy: 0.5823 - val_loss: 0.7009 - val_accuracy: 0.5635\n",
      "Epoch 58/300\n",
      "37/37 [==============================] - 0s 6ms/step - loss: 0.6619 - accuracy: 0.5823 - val_loss: 0.6974 - val_accuracy: 0.5414\n"
     ]
    },
    {
     "name": "stdout",
     "output_type": "stream",
     "text": [
      "Epoch 59/300\n",
      "37/37 [==============================] - 0s 6ms/step - loss: 0.6656 - accuracy: 0.5934 - val_loss: 0.6947 - val_accuracy: 0.5525\n",
      "Epoch 60/300\n",
      "37/37 [==============================] - 0s 7ms/step - loss: 0.6633 - accuracy: 0.5795 - val_loss: 0.6964 - val_accuracy: 0.5359\n",
      "Epoch 61/300\n",
      "37/37 [==============================] - 0s 6ms/step - loss: 0.6637 - accuracy: 0.5685 - val_loss: 0.6993 - val_accuracy: 0.5359\n",
      "Epoch 62/300\n",
      "37/37 [==============================] - 0s 6ms/step - loss: 0.6683 - accuracy: 0.5906 - val_loss: 0.6958 - val_accuracy: 0.5304\n",
      "Epoch 63/300\n",
      "37/37 [==============================] - 0s 6ms/step - loss: 0.6661 - accuracy: 0.5851 - val_loss: 0.6971 - val_accuracy: 0.5414\n",
      "Epoch 64/300\n",
      "37/37 [==============================] - 0s 6ms/step - loss: 0.6650 - accuracy: 0.5920 - val_loss: 0.6950 - val_accuracy: 0.5359\n",
      "Epoch 65/300\n",
      "37/37 [==============================] - 0s 6ms/step - loss: 0.6592 - accuracy: 0.5864 - val_loss: 0.6970 - val_accuracy: 0.5304\n",
      "Epoch 66/300\n",
      "37/37 [==============================] - 0s 6ms/step - loss: 0.6632 - accuracy: 0.5615 - val_loss: 0.6964 - val_accuracy: 0.5304\n",
      "Epoch 67/300\n",
      "37/37 [==============================] - 0s 6ms/step - loss: 0.6725 - accuracy: 0.5615 - val_loss: 0.6941 - val_accuracy: 0.5470\n",
      "Epoch 68/300\n",
      "37/37 [==============================] - 0s 6ms/step - loss: 0.6655 - accuracy: 0.5712 - val_loss: 0.6963 - val_accuracy: 0.5691\n",
      "Epoch 69/300\n",
      "37/37 [==============================] - 0s 6ms/step - loss: 0.6629 - accuracy: 0.5906 - val_loss: 0.6983 - val_accuracy: 0.5470\n",
      "Epoch 70/300\n",
      "37/37 [==============================] - 0s 6ms/step - loss: 0.6735 - accuracy: 0.5947 - val_loss: 0.6960 - val_accuracy: 0.5249\n",
      "Epoch 71/300\n",
      "37/37 [==============================] - 0s 6ms/step - loss: 0.6625 - accuracy: 0.5878 - val_loss: 0.6976 - val_accuracy: 0.5470\n",
      "Epoch 72/300\n",
      "37/37 [==============================] - 0s 7ms/step - loss: 0.6595 - accuracy: 0.6030 - val_loss: 0.6976 - val_accuracy: 0.5304\n",
      "Epoch 73/300\n",
      "37/37 [==============================] - 0s 6ms/step - loss: 0.6733 - accuracy: 0.5671 - val_loss: 0.6956 - val_accuracy: 0.5138\n",
      "Epoch 74/300\n",
      "37/37 [==============================] - 0s 6ms/step - loss: 0.6700 - accuracy: 0.5685 - val_loss: 0.6981 - val_accuracy: 0.5193\n",
      "Epoch 75/300\n",
      "37/37 [==============================] - 0s 7ms/step - loss: 0.6653 - accuracy: 0.5823 - val_loss: 0.7001 - val_accuracy: 0.5249\n",
      "Epoch 76/300\n",
      "37/37 [==============================] - 0s 7ms/step - loss: 0.6573 - accuracy: 0.6155 - val_loss: 0.6979 - val_accuracy: 0.5359\n",
      "Epoch 77/300\n",
      "37/37 [==============================] - 0s 8ms/step - loss: 0.6621 - accuracy: 0.5989 - val_loss: 0.6971 - val_accuracy: 0.5304\n",
      "Epoch 78/300\n",
      "37/37 [==============================] - 0s 7ms/step - loss: 0.6700 - accuracy: 0.5878 - val_loss: 0.7000 - val_accuracy: 0.5138\n",
      "Epoch 79/300\n",
      "37/37 [==============================] - 0s 7ms/step - loss: 0.6699 - accuracy: 0.5920 - val_loss: 0.6978 - val_accuracy: 0.5083\n",
      "Epoch 80/300\n",
      "37/37 [==============================] - 0s 7ms/step - loss: 0.6682 - accuracy: 0.5781 - val_loss: 0.6972 - val_accuracy: 0.5083\n",
      "Epoch 81/300\n",
      "37/37 [==============================] - 0s 8ms/step - loss: 0.6574 - accuracy: 0.6017 - val_loss: 0.6968 - val_accuracy: 0.5138\n",
      "Epoch 82/300\n",
      "37/37 [==============================] - 0s 7ms/step - loss: 0.6648 - accuracy: 0.5878 - val_loss: 0.6979 - val_accuracy: 0.5083\n",
      "Epoch 83/300\n",
      "37/37 [==============================] - 0s 7ms/step - loss: 0.6578 - accuracy: 0.5823 - val_loss: 0.6983 - val_accuracy: 0.5083\n",
      "Epoch 84/300\n",
      "37/37 [==============================] - 0s 7ms/step - loss: 0.6655 - accuracy: 0.6086 - val_loss: 0.6993 - val_accuracy: 0.5193\n",
      "Epoch 85/300\n",
      "37/37 [==============================] - 0s 7ms/step - loss: 0.6606 - accuracy: 0.5809 - val_loss: 0.7000 - val_accuracy: 0.5359\n",
      "Epoch 86/300\n",
      "37/37 [==============================] - 0s 7ms/step - loss: 0.6678 - accuracy: 0.5961 - val_loss: 0.7010 - val_accuracy: 0.5359\n",
      "Epoch 87/300\n",
      "37/37 [==============================] - 0s 6ms/step - loss: 0.6480 - accuracy: 0.6127 - val_loss: 0.7021 - val_accuracy: 0.5359\n",
      "Epoch 88/300\n",
      "37/37 [==============================] - 0s 6ms/step - loss: 0.6631 - accuracy: 0.5768 - val_loss: 0.7023 - val_accuracy: 0.5304\n",
      "Epoch 89/300\n",
      "37/37 [==============================] - 0s 6ms/step - loss: 0.6601 - accuracy: 0.6030 - val_loss: 0.7003 - val_accuracy: 0.5359\n",
      "Epoch 90/300\n",
      "37/37 [==============================] - 0s 7ms/step - loss: 0.6686 - accuracy: 0.5961 - val_loss: 0.7006 - val_accuracy: 0.5138\n",
      "Epoch 91/300\n",
      "37/37 [==============================] - 0s 6ms/step - loss: 0.6687 - accuracy: 0.5837 - val_loss: 0.7011 - val_accuracy: 0.4972\n",
      "Epoch 92/300\n",
      "37/37 [==============================] - 0s 7ms/step - loss: 0.6565 - accuracy: 0.6141 - val_loss: 0.7036 - val_accuracy: 0.5138\n",
      "Epoch 93/300\n",
      "37/37 [==============================] - 0s 9ms/step - loss: 0.6567 - accuracy: 0.6030 - val_loss: 0.7019 - val_accuracy: 0.5138\n",
      "Epoch 94/300\n",
      "37/37 [==============================] - 0s 8ms/step - loss: 0.6627 - accuracy: 0.5989 - val_loss: 0.6998 - val_accuracy: 0.5083\n",
      "Epoch 95/300\n",
      "37/37 [==============================] - 0s 9ms/step - loss: 0.6572 - accuracy: 0.5837 - val_loss: 0.7028 - val_accuracy: 0.5138\n",
      "Epoch 96/300\n",
      "37/37 [==============================] - 0s 9ms/step - loss: 0.6550 - accuracy: 0.6100 - val_loss: 0.6996 - val_accuracy: 0.5193\n",
      "Epoch 97/300\n",
      "37/37 [==============================] - 0s 10ms/step - loss: 0.6617 - accuracy: 0.5947 - val_loss: 0.6969 - val_accuracy: 0.4972\n",
      "Epoch 98/300\n",
      "37/37 [==============================] - 0s 8ms/step - loss: 0.6616 - accuracy: 0.6100 - val_loss: 0.7005 - val_accuracy: 0.5249\n",
      "Epoch 99/300\n",
      "37/37 [==============================] - 0s 8ms/step - loss: 0.6697 - accuracy: 0.5947 - val_loss: 0.6948 - val_accuracy: 0.5138\n",
      "Epoch 100/300\n",
      "37/37 [==============================] - 0s 6ms/step - loss: 0.6706 - accuracy: 0.5837 - val_loss: 0.7009 - val_accuracy: 0.5028\n",
      "Epoch 101/300\n",
      "37/37 [==============================] - 0s 7ms/step - loss: 0.6537 - accuracy: 0.6086 - val_loss: 0.6991 - val_accuracy: 0.5028\n",
      "Epoch 102/300\n",
      "37/37 [==============================] - 0s 7ms/step - loss: 0.6588 - accuracy: 0.5947 - val_loss: 0.7047 - val_accuracy: 0.5028\n",
      "Epoch 103/300\n",
      "37/37 [==============================] - 0s 7ms/step - loss: 0.6510 - accuracy: 0.6017 - val_loss: 0.7029 - val_accuracy: 0.4972\n",
      "Epoch 104/300\n",
      "37/37 [==============================] - 0s 7ms/step - loss: 0.6557 - accuracy: 0.6017 - val_loss: 0.7020 - val_accuracy: 0.5028\n",
      "Epoch 105/300\n",
      "37/37 [==============================] - 0s 7ms/step - loss: 0.6553 - accuracy: 0.5864 - val_loss: 0.7068 - val_accuracy: 0.5028\n",
      "Epoch 106/300\n",
      "37/37 [==============================] - 0s 7ms/step - loss: 0.6556 - accuracy: 0.6058 - val_loss: 0.7053 - val_accuracy: 0.5083\n",
      "Epoch 107/300\n",
      "37/37 [==============================] - 0s 8ms/step - loss: 0.6519 - accuracy: 0.6044 - val_loss: 0.7051 - val_accuracy: 0.5028\n",
      "Epoch 108/300\n",
      "37/37 [==============================] - 0s 8ms/step - loss: 0.6645 - accuracy: 0.6030 - val_loss: 0.7005 - val_accuracy: 0.5138\n",
      "Epoch 109/300\n",
      "37/37 [==============================] - 0s 7ms/step - loss: 0.6614 - accuracy: 0.5975 - val_loss: 0.6997 - val_accuracy: 0.5083\n",
      "Epoch 110/300\n",
      "37/37 [==============================] - 0s 7ms/step - loss: 0.6641 - accuracy: 0.5864 - val_loss: 0.7019 - val_accuracy: 0.5083\n",
      "Epoch 111/300\n",
      "37/37 [==============================] - 0s 7ms/step - loss: 0.6540 - accuracy: 0.5837 - val_loss: 0.7028 - val_accuracy: 0.5083\n",
      "Epoch 112/300\n",
      "37/37 [==============================] - 0s 7ms/step - loss: 0.6599 - accuracy: 0.5892 - val_loss: 0.7009 - val_accuracy: 0.5083\n",
      "Epoch 113/300\n",
      "37/37 [==============================] - 0s 7ms/step - loss: 0.6596 - accuracy: 0.5878 - val_loss: 0.7008 - val_accuracy: 0.5028\n",
      "Epoch 114/300\n",
      "37/37 [==============================] - 0s 7ms/step - loss: 0.6569 - accuracy: 0.6238 - val_loss: 0.7043 - val_accuracy: 0.5249\n",
      "Epoch 115/300\n",
      "37/37 [==============================] - 0s 9ms/step - loss: 0.6594 - accuracy: 0.5906 - val_loss: 0.7014 - val_accuracy: 0.5193\n",
      "Epoch 116/300\n"
     ]
    },
    {
     "name": "stdout",
     "output_type": "stream",
     "text": [
      "37/37 [==============================] - 0s 7ms/step - loss: 0.6573 - accuracy: 0.5920 - val_loss: 0.6999 - val_accuracy: 0.5193\n",
      "Epoch 117/300\n",
      "37/37 [==============================] - 0s 8ms/step - loss: 0.6550 - accuracy: 0.6266 - val_loss: 0.7064 - val_accuracy: 0.5083\n",
      "Epoch 118/300\n",
      "37/37 [==============================] - 0s 8ms/step - loss: 0.6576 - accuracy: 0.6252 - val_loss: 0.7015 - val_accuracy: 0.5028\n",
      "Epoch 119/300\n",
      "37/37 [==============================] - 0s 7ms/step - loss: 0.6511 - accuracy: 0.6058 - val_loss: 0.7033 - val_accuracy: 0.4972\n",
      "Epoch 120/300\n",
      "37/37 [==============================] - 0s 8ms/step - loss: 0.6586 - accuracy: 0.5768 - val_loss: 0.6976 - val_accuracy: 0.5028\n",
      "Epoch 121/300\n",
      "37/37 [==============================] - 0s 7ms/step - loss: 0.6599 - accuracy: 0.5906 - val_loss: 0.6984 - val_accuracy: 0.5028\n",
      "Epoch 122/300\n",
      "37/37 [==============================] - 0s 7ms/step - loss: 0.6593 - accuracy: 0.5892 - val_loss: 0.7005 - val_accuracy: 0.5083\n",
      "Epoch 123/300\n",
      "37/37 [==============================] - 0s 9ms/step - loss: 0.6604 - accuracy: 0.6003 - val_loss: 0.7007 - val_accuracy: 0.4972\n",
      "Epoch 124/300\n",
      "37/37 [==============================] - 0s 9ms/step - loss: 0.6470 - accuracy: 0.6086 - val_loss: 0.7032 - val_accuracy: 0.5083\n",
      "Epoch 125/300\n",
      "37/37 [==============================] - 0s 9ms/step - loss: 0.6535 - accuracy: 0.6155 - val_loss: 0.7020 - val_accuracy: 0.5083\n",
      "Epoch 126/300\n",
      "37/37 [==============================] - 0s 9ms/step - loss: 0.6569 - accuracy: 0.5989 - val_loss: 0.6998 - val_accuracy: 0.5083\n",
      "Epoch 127/300\n",
      "37/37 [==============================] - 0s 9ms/step - loss: 0.6553 - accuracy: 0.5989 - val_loss: 0.7010 - val_accuracy: 0.4862\n",
      "Epoch 128/300\n",
      "37/37 [==============================] - 0s 8ms/step - loss: 0.6597 - accuracy: 0.6238 - val_loss: 0.7013 - val_accuracy: 0.4917\n",
      "Epoch 129/300\n",
      "37/37 [==============================] - 0s 7ms/step - loss: 0.6539 - accuracy: 0.6183 - val_loss: 0.7026 - val_accuracy: 0.5083\n",
      "Epoch 130/300\n",
      "37/37 [==============================] - 0s 8ms/step - loss: 0.6536 - accuracy: 0.6224 - val_loss: 0.7002 - val_accuracy: 0.5249\n",
      "Epoch 131/300\n",
      "37/37 [==============================] - 0s 9ms/step - loss: 0.6553 - accuracy: 0.6017 - val_loss: 0.7062 - val_accuracy: 0.5304\n",
      "Epoch 132/300\n",
      "37/37 [==============================] - 0s 7ms/step - loss: 0.6608 - accuracy: 0.5837 - val_loss: 0.7051 - val_accuracy: 0.5193\n",
      "Epoch 133/300\n",
      "37/37 [==============================] - 0s 7ms/step - loss: 0.6518 - accuracy: 0.5961 - val_loss: 0.7055 - val_accuracy: 0.5028\n",
      "Epoch 134/300\n",
      "37/37 [==============================] - 0s 7ms/step - loss: 0.6475 - accuracy: 0.6058 - val_loss: 0.7027 - val_accuracy: 0.5138\n",
      "Epoch 135/300\n",
      "37/37 [==============================] - 0s 8ms/step - loss: 0.6516 - accuracy: 0.6017 - val_loss: 0.7076 - val_accuracy: 0.5304\n",
      "Epoch 136/300\n",
      "37/37 [==============================] - 0s 7ms/step - loss: 0.6475 - accuracy: 0.6307 - val_loss: 0.7062 - val_accuracy: 0.5249\n",
      "Epoch 137/300\n",
      "37/37 [==============================] - 0s 7ms/step - loss: 0.6608 - accuracy: 0.5989 - val_loss: 0.7038 - val_accuracy: 0.5138\n",
      "Epoch 138/300\n",
      "37/37 [==============================] - 0s 8ms/step - loss: 0.6545 - accuracy: 0.6030 - val_loss: 0.7046 - val_accuracy: 0.5138\n",
      "Epoch 139/300\n",
      "37/37 [==============================] - 0s 9ms/step - loss: 0.6500 - accuracy: 0.5989 - val_loss: 0.7068 - val_accuracy: 0.5138\n",
      "Epoch 140/300\n",
      "37/37 [==============================] - 0s 8ms/step - loss: 0.6508 - accuracy: 0.5878 - val_loss: 0.7077 - val_accuracy: 0.4862\n",
      "Epoch 141/300\n",
      "37/37 [==============================] - 0s 8ms/step - loss: 0.6554 - accuracy: 0.6183 - val_loss: 0.7073 - val_accuracy: 0.5028\n",
      "Epoch 142/300\n",
      "37/37 [==============================] - 0s 8ms/step - loss: 0.6532 - accuracy: 0.6335 - val_loss: 0.7096 - val_accuracy: 0.4972\n",
      "Epoch 143/300\n",
      "37/37 [==============================] - 0s 7ms/step - loss: 0.6457 - accuracy: 0.6279 - val_loss: 0.7066 - val_accuracy: 0.4917\n",
      "Epoch 144/300\n",
      "37/37 [==============================] - 0s 7ms/step - loss: 0.6452 - accuracy: 0.6072 - val_loss: 0.7129 - val_accuracy: 0.4972\n",
      "Epoch 145/300\n",
      "37/37 [==============================] - 0s 7ms/step - loss: 0.6514 - accuracy: 0.6044 - val_loss: 0.7126 - val_accuracy: 0.5028\n",
      "Epoch 146/300\n",
      "37/37 [==============================] - 0s 10ms/step - loss: 0.6461 - accuracy: 0.6224 - val_loss: 0.7155 - val_accuracy: 0.5083\n",
      "Epoch 147/300\n",
      "37/37 [==============================] - 0s 7ms/step - loss: 0.6376 - accuracy: 0.6224 - val_loss: 0.7171 - val_accuracy: 0.5083\n",
      "Epoch 148/300\n",
      "37/37 [==============================] - 0s 8ms/step - loss: 0.6499 - accuracy: 0.5961 - val_loss: 0.7137 - val_accuracy: 0.5193\n",
      "Epoch 149/300\n",
      "37/37 [==============================] - 0s 7ms/step - loss: 0.6529 - accuracy: 0.6127 - val_loss: 0.7098 - val_accuracy: 0.5138\n",
      "Epoch 150/300\n",
      "37/37 [==============================] - 0s 8ms/step - loss: 0.6370 - accuracy: 0.6196 - val_loss: 0.7091 - val_accuracy: 0.5083\n",
      "Epoch 151/300\n",
      "37/37 [==============================] - 0s 8ms/step - loss: 0.6360 - accuracy: 0.5947 - val_loss: 0.7086 - val_accuracy: 0.5193\n",
      "Epoch 152/300\n",
      "37/37 [==============================] - 0s 8ms/step - loss: 0.6559 - accuracy: 0.5864 - val_loss: 0.7043 - val_accuracy: 0.4972\n",
      "Epoch 153/300\n",
      "37/37 [==============================] - 0s 8ms/step - loss: 0.6520 - accuracy: 0.6210 - val_loss: 0.7061 - val_accuracy: 0.5193\n",
      "Epoch 154/300\n",
      "37/37 [==============================] - 0s 9ms/step - loss: 0.6730 - accuracy: 0.5961 - val_loss: 0.7049 - val_accuracy: 0.5193\n",
      "Epoch 155/300\n",
      "37/37 [==============================] - 0s 8ms/step - loss: 0.6515 - accuracy: 0.6196 - val_loss: 0.7113 - val_accuracy: 0.5138\n",
      "Epoch 156/300\n",
      "37/37 [==============================] - 0s 7ms/step - loss: 0.6479 - accuracy: 0.5961 - val_loss: 0.7064 - val_accuracy: 0.5083\n",
      "Epoch 157/300\n",
      "37/37 [==============================] - 0s 9ms/step - loss: 0.6432 - accuracy: 0.6003 - val_loss: 0.7109 - val_accuracy: 0.5249\n",
      "Epoch 158/300\n",
      "37/37 [==============================] - 0s 8ms/step - loss: 0.6467 - accuracy: 0.6307 - val_loss: 0.7082 - val_accuracy: 0.5193\n",
      "Epoch 159/300\n",
      "37/37 [==============================] - 0s 9ms/step - loss: 0.6428 - accuracy: 0.6113 - val_loss: 0.7082 - val_accuracy: 0.5028\n",
      "Epoch 160/300\n",
      "37/37 [==============================] - 0s 13ms/step - loss: 0.6477 - accuracy: 0.6155 - val_loss: 0.7061 - val_accuracy: 0.5028\n",
      "Epoch 161/300\n",
      "37/37 [==============================] - 0s 8ms/step - loss: 0.6378 - accuracy: 0.6238 - val_loss: 0.7156 - val_accuracy: 0.5083\n",
      "Epoch 162/300\n",
      "37/37 [==============================] - 0s 8ms/step - loss: 0.6523 - accuracy: 0.5989 - val_loss: 0.7091 - val_accuracy: 0.5083\n",
      "Epoch 163/300\n",
      "37/37 [==============================] - 0s 7ms/step - loss: 0.6491 - accuracy: 0.6044 - val_loss: 0.7084 - val_accuracy: 0.5028\n",
      "Epoch 164/300\n",
      "37/37 [==============================] - 0s 8ms/step - loss: 0.6531 - accuracy: 0.6100 - val_loss: 0.7058 - val_accuracy: 0.5138\n",
      "Epoch 165/300\n",
      "37/37 [==============================] - 0s 11ms/step - loss: 0.6397 - accuracy: 0.6183 - val_loss: 0.7096 - val_accuracy: 0.5138\n",
      "Epoch 166/300\n",
      "37/37 [==============================] - 0s 8ms/step - loss: 0.6424 - accuracy: 0.6238 - val_loss: 0.7087 - val_accuracy: 0.5193\n",
      "Epoch 167/300\n",
      "37/37 [==============================] - 0s 7ms/step - loss: 0.6385 - accuracy: 0.6224 - val_loss: 0.7111 - val_accuracy: 0.5028\n",
      "Epoch 168/300\n",
      "37/37 [==============================] - 0s 7ms/step - loss: 0.6535 - accuracy: 0.6072 - val_loss: 0.7111 - val_accuracy: 0.5193\n",
      "Epoch 169/300\n",
      "37/37 [==============================] - 0s 7ms/step - loss: 0.6406 - accuracy: 0.6017 - val_loss: 0.7064 - val_accuracy: 0.5249\n",
      "Epoch 170/300\n",
      "37/37 [==============================] - 0s 7ms/step - loss: 0.6475 - accuracy: 0.5975 - val_loss: 0.7104 - val_accuracy: 0.5193\n",
      "Epoch 171/300\n",
      "37/37 [==============================] - 0s 8ms/step - loss: 0.6413 - accuracy: 0.6003 - val_loss: 0.7054 - val_accuracy: 0.4972\n",
      "Epoch 172/300\n",
      "37/37 [==============================] - 0s 8ms/step - loss: 0.6557 - accuracy: 0.5906 - val_loss: 0.7090 - val_accuracy: 0.5193\n",
      "Epoch 173/300\n"
     ]
    },
    {
     "name": "stdout",
     "output_type": "stream",
     "text": [
      "37/37 [==============================] - 0s 7ms/step - loss: 0.6372 - accuracy: 0.6100 - val_loss: 0.7108 - val_accuracy: 0.5249\n",
      "Epoch 174/300\n",
      "37/37 [==============================] - 0s 7ms/step - loss: 0.6420 - accuracy: 0.6086 - val_loss: 0.7093 - val_accuracy: 0.5083\n",
      "Epoch 175/300\n",
      "37/37 [==============================] - 0s 6ms/step - loss: 0.6465 - accuracy: 0.6100 - val_loss: 0.7091 - val_accuracy: 0.5083\n",
      "Epoch 176/300\n",
      "37/37 [==============================] - 0s 7ms/step - loss: 0.6507 - accuracy: 0.5947 - val_loss: 0.7134 - val_accuracy: 0.5083\n",
      "Epoch 177/300\n",
      "37/37 [==============================] - 0s 6ms/step - loss: 0.6469 - accuracy: 0.6169 - val_loss: 0.7133 - val_accuracy: 0.5304\n",
      "Epoch 178/300\n",
      "37/37 [==============================] - 0s 6ms/step - loss: 0.6417 - accuracy: 0.6086 - val_loss: 0.7157 - val_accuracy: 0.5193\n",
      "Epoch 179/300\n",
      "37/37 [==============================] - 0s 6ms/step - loss: 0.6430 - accuracy: 0.6058 - val_loss: 0.7148 - val_accuracy: 0.5083\n",
      "Epoch 180/300\n",
      "37/37 [==============================] - 0s 7ms/step - loss: 0.6472 - accuracy: 0.6252 - val_loss: 0.7164 - val_accuracy: 0.5138\n",
      "Epoch 181/300\n",
      "37/37 [==============================] - 0s 7ms/step - loss: 0.6506 - accuracy: 0.6183 - val_loss: 0.7134 - val_accuracy: 0.5249\n",
      "Epoch 182/300\n",
      "37/37 [==============================] - 0s 8ms/step - loss: 0.6482 - accuracy: 0.6030 - val_loss: 0.7091 - val_accuracy: 0.5304\n",
      "Epoch 183/300\n",
      "37/37 [==============================] - 0s 8ms/step - loss: 0.6495 - accuracy: 0.6030 - val_loss: 0.7164 - val_accuracy: 0.5249\n",
      "Epoch 184/300\n",
      "37/37 [==============================] - 0s 6ms/step - loss: 0.6484 - accuracy: 0.6349 - val_loss: 0.7156 - val_accuracy: 0.5414\n",
      "Epoch 185/300\n",
      "37/37 [==============================] - 0s 7ms/step - loss: 0.6413 - accuracy: 0.6335 - val_loss: 0.7126 - val_accuracy: 0.5359\n",
      "Epoch 186/300\n",
      "37/37 [==============================] - 0s 7ms/step - loss: 0.6355 - accuracy: 0.6293 - val_loss: 0.7144 - val_accuracy: 0.5193\n",
      "Epoch 187/300\n",
      "37/37 [==============================] - 0s 7ms/step - loss: 0.6510 - accuracy: 0.5851 - val_loss: 0.7142 - val_accuracy: 0.5193\n",
      "Epoch 188/300\n",
      "37/37 [==============================] - 0s 6ms/step - loss: 0.6276 - accuracy: 0.6445 - val_loss: 0.7202 - val_accuracy: 0.5028\n",
      "Epoch 189/300\n",
      "37/37 [==============================] - 0s 6ms/step - loss: 0.6331 - accuracy: 0.6127 - val_loss: 0.7177 - val_accuracy: 0.4972\n",
      "Epoch 190/300\n",
      "37/37 [==============================] - 0s 6ms/step - loss: 0.6466 - accuracy: 0.6113 - val_loss: 0.7229 - val_accuracy: 0.5028\n",
      "Epoch 191/300\n",
      "37/37 [==============================] - 0s 7ms/step - loss: 0.6538 - accuracy: 0.5961 - val_loss: 0.7169 - val_accuracy: 0.5193\n",
      "Epoch 192/300\n",
      "37/37 [==============================] - 0s 7ms/step - loss: 0.6496 - accuracy: 0.6127 - val_loss: 0.7182 - val_accuracy: 0.5138\n",
      "Epoch 193/300\n",
      "37/37 [==============================] - 0s 7ms/step - loss: 0.6563 - accuracy: 0.6044 - val_loss: 0.7103 - val_accuracy: 0.5138\n",
      "Epoch 194/300\n",
      "37/37 [==============================] - 0s 7ms/step - loss: 0.6343 - accuracy: 0.6307 - val_loss: 0.7137 - val_accuracy: 0.5083\n",
      "Epoch 195/300\n",
      "37/37 [==============================] - 0s 7ms/step - loss: 0.6405 - accuracy: 0.6266 - val_loss: 0.7181 - val_accuracy: 0.5083\n",
      "Epoch 196/300\n",
      "37/37 [==============================] - 0s 7ms/step - loss: 0.6320 - accuracy: 0.6362 - val_loss: 0.7209 - val_accuracy: 0.5028\n",
      "Epoch 197/300\n",
      "37/37 [==============================] - 0s 6ms/step - loss: 0.6372 - accuracy: 0.6100 - val_loss: 0.7244 - val_accuracy: 0.4972\n",
      "Epoch 198/300\n",
      "37/37 [==============================] - 0s 7ms/step - loss: 0.6371 - accuracy: 0.6362 - val_loss: 0.7208 - val_accuracy: 0.4917\n",
      "Epoch 199/300\n",
      "37/37 [==============================] - 0s 6ms/step - loss: 0.6471 - accuracy: 0.6072 - val_loss: 0.7196 - val_accuracy: 0.5138\n",
      "Epoch 200/300\n",
      "37/37 [==============================] - 0s 6ms/step - loss: 0.6433 - accuracy: 0.6100 - val_loss: 0.7208 - val_accuracy: 0.4917\n",
      "Epoch 201/300\n",
      "37/37 [==============================] - 0s 6ms/step - loss: 0.6549 - accuracy: 0.6030 - val_loss: 0.7240 - val_accuracy: 0.4972\n",
      "Epoch 202/300\n",
      "37/37 [==============================] - 0s 6ms/step - loss: 0.6313 - accuracy: 0.6238 - val_loss: 0.7216 - val_accuracy: 0.4972\n",
      "Epoch 203/300\n",
      "37/37 [==============================] - 0s 6ms/step - loss: 0.6521 - accuracy: 0.6155 - val_loss: 0.7180 - val_accuracy: 0.5028\n",
      "Epoch 204/300\n",
      "37/37 [==============================] - 0s 6ms/step - loss: 0.6403 - accuracy: 0.6183 - val_loss: 0.7227 - val_accuracy: 0.5028\n",
      "Epoch 205/300\n",
      "37/37 [==============================] - 0s 6ms/step - loss: 0.6345 - accuracy: 0.6349 - val_loss: 0.7213 - val_accuracy: 0.4972\n",
      "Epoch 206/300\n",
      "37/37 [==============================] - 0s 6ms/step - loss: 0.6323 - accuracy: 0.6266 - val_loss: 0.7193 - val_accuracy: 0.5028\n",
      "Epoch 207/300\n",
      "37/37 [==============================] - 0s 6ms/step - loss: 0.6292 - accuracy: 0.6127 - val_loss: 0.7232 - val_accuracy: 0.4972\n",
      "Epoch 208/300\n",
      "37/37 [==============================] - 0s 6ms/step - loss: 0.6312 - accuracy: 0.6404 - val_loss: 0.7299 - val_accuracy: 0.5028\n",
      "Epoch 209/300\n",
      "37/37 [==============================] - 0s 6ms/step - loss: 0.6341 - accuracy: 0.6100 - val_loss: 0.7266 - val_accuracy: 0.4972\n",
      "Epoch 210/300\n",
      "37/37 [==============================] - 0s 6ms/step - loss: 0.6366 - accuracy: 0.6266 - val_loss: 0.7189 - val_accuracy: 0.5083\n",
      "Epoch 211/300\n",
      "37/37 [==============================] - 0s 6ms/step - loss: 0.6301 - accuracy: 0.6266 - val_loss: 0.7216 - val_accuracy: 0.5193\n",
      "Epoch 212/300\n",
      "37/37 [==============================] - 0s 6ms/step - loss: 0.6503 - accuracy: 0.5864 - val_loss: 0.7164 - val_accuracy: 0.4972\n",
      "Epoch 213/300\n",
      "37/37 [==============================] - 0s 6ms/step - loss: 0.6467 - accuracy: 0.6127 - val_loss: 0.7188 - val_accuracy: 0.5028\n",
      "Epoch 214/300\n",
      "37/37 [==============================] - 0s 6ms/step - loss: 0.6457 - accuracy: 0.6169 - val_loss: 0.7200 - val_accuracy: 0.4972\n",
      "Epoch 215/300\n",
      "37/37 [==============================] - 0s 6ms/step - loss: 0.6549 - accuracy: 0.6030 - val_loss: 0.7190 - val_accuracy: 0.5083\n",
      "Epoch 216/300\n",
      "37/37 [==============================] - 0s 6ms/step - loss: 0.6558 - accuracy: 0.6017 - val_loss: 0.7149 - val_accuracy: 0.5138\n",
      "Epoch 217/300\n",
      "37/37 [==============================] - 0s 6ms/step - loss: 0.6509 - accuracy: 0.6224 - val_loss: 0.7186 - val_accuracy: 0.5028\n",
      "Epoch 218/300\n",
      "37/37 [==============================] - 0s 7ms/step - loss: 0.6341 - accuracy: 0.6266 - val_loss: 0.7161 - val_accuracy: 0.5083\n",
      "Epoch 219/300\n",
      "37/37 [==============================] - 0s 7ms/step - loss: 0.6355 - accuracy: 0.6100 - val_loss: 0.7239 - val_accuracy: 0.4917\n",
      "Epoch 220/300\n",
      "37/37 [==============================] - 0s 6ms/step - loss: 0.6482 - accuracy: 0.6058 - val_loss: 0.7254 - val_accuracy: 0.5138\n",
      "Epoch 221/300\n",
      "37/37 [==============================] - 0s 7ms/step - loss: 0.6471 - accuracy: 0.6072 - val_loss: 0.7215 - val_accuracy: 0.4972\n",
      "Epoch 222/300\n",
      "37/37 [==============================] - 0s 9ms/step - loss: 0.6476 - accuracy: 0.6113 - val_loss: 0.7294 - val_accuracy: 0.5028\n",
      "Epoch 223/300\n",
      "37/37 [==============================] - 0s 7ms/step - loss: 0.6378 - accuracy: 0.6196 - val_loss: 0.7208 - val_accuracy: 0.4972\n",
      "Epoch 224/300\n",
      "37/37 [==============================] - 0s 7ms/step - loss: 0.6426 - accuracy: 0.5892 - val_loss: 0.7189 - val_accuracy: 0.5083\n",
      "Epoch 225/300\n",
      "37/37 [==============================] - 0s 7ms/step - loss: 0.6354 - accuracy: 0.6210 - val_loss: 0.7256 - val_accuracy: 0.4917\n",
      "Epoch 226/300\n",
      "37/37 [==============================] - 0s 7ms/step - loss: 0.6170 - accuracy: 0.6196 - val_loss: 0.7239 - val_accuracy: 0.4972\n",
      "Epoch 227/300\n",
      "37/37 [==============================] - 0s 6ms/step - loss: 0.6541 - accuracy: 0.6030 - val_loss: 0.7245 - val_accuracy: 0.5083\n",
      "Epoch 228/300\n",
      "37/37 [==============================] - 0s 7ms/step - loss: 0.6405 - accuracy: 0.6030 - val_loss: 0.7264 - val_accuracy: 0.5083\n",
      "Epoch 229/300\n",
      "37/37 [==============================] - 0s 8ms/step - loss: 0.6460 - accuracy: 0.6100 - val_loss: 0.7272 - val_accuracy: 0.5083\n",
      "Epoch 230/300\n"
     ]
    },
    {
     "name": "stdout",
     "output_type": "stream",
     "text": [
      "37/37 [==============================] - 0s 8ms/step - loss: 0.6284 - accuracy: 0.6515 - val_loss: 0.7212 - val_accuracy: 0.4972\n",
      "Epoch 231/300\n",
      "37/37 [==============================] - 0s 7ms/step - loss: 0.6331 - accuracy: 0.6584 - val_loss: 0.7239 - val_accuracy: 0.5083\n",
      "Epoch 232/300\n",
      "37/37 [==============================] - 0s 7ms/step - loss: 0.6378 - accuracy: 0.6155 - val_loss: 0.7276 - val_accuracy: 0.5249\n",
      "Epoch 233/300\n",
      "37/37 [==============================] - 0s 7ms/step - loss: 0.6304 - accuracy: 0.6279 - val_loss: 0.7267 - val_accuracy: 0.5083\n",
      "Epoch 234/300\n",
      "37/37 [==============================] - 0s 7ms/step - loss: 0.6294 - accuracy: 0.6183 - val_loss: 0.7292 - val_accuracy: 0.5083\n",
      "Epoch 235/300\n",
      "37/37 [==============================] - 0s 7ms/step - loss: 0.6338 - accuracy: 0.6183 - val_loss: 0.7310 - val_accuracy: 0.5083\n",
      "Epoch 236/300\n",
      "37/37 [==============================] - 0s 7ms/step - loss: 0.6368 - accuracy: 0.6141 - val_loss: 0.7219 - val_accuracy: 0.5359\n",
      "Epoch 237/300\n",
      "37/37 [==============================] - 0s 8ms/step - loss: 0.6417 - accuracy: 0.6252 - val_loss: 0.7248 - val_accuracy: 0.5414\n",
      "Epoch 238/300\n",
      "37/37 [==============================] - 0s 7ms/step - loss: 0.6396 - accuracy: 0.6127 - val_loss: 0.7239 - val_accuracy: 0.5304\n",
      "Epoch 239/300\n",
      "37/37 [==============================] - 0s 8ms/step - loss: 0.6420 - accuracy: 0.6196 - val_loss: 0.7240 - val_accuracy: 0.4972\n",
      "Epoch 240/300\n",
      "37/37 [==============================] - 0s 8ms/step - loss: 0.6250 - accuracy: 0.6362 - val_loss: 0.7278 - val_accuracy: 0.5138\n",
      "Epoch 241/300\n",
      "37/37 [==============================] - 0s 7ms/step - loss: 0.6377 - accuracy: 0.6127 - val_loss: 0.7308 - val_accuracy: 0.5028\n",
      "Epoch 242/300\n",
      "37/37 [==============================] - 0s 7ms/step - loss: 0.6449 - accuracy: 0.6183 - val_loss: 0.7223 - val_accuracy: 0.5249\n",
      "Epoch 243/300\n",
      "37/37 [==============================] - 0s 7ms/step - loss: 0.6322 - accuracy: 0.6266 - val_loss: 0.7342 - val_accuracy: 0.5304\n",
      "Epoch 244/300\n",
      "37/37 [==============================] - 0s 6ms/step - loss: 0.6340 - accuracy: 0.6335 - val_loss: 0.7308 - val_accuracy: 0.5359\n",
      "Epoch 245/300\n",
      "37/37 [==============================] - 0s 7ms/step - loss: 0.6283 - accuracy: 0.6169 - val_loss: 0.7259 - val_accuracy: 0.5138\n",
      "Epoch 246/300\n",
      "37/37 [==============================] - 0s 6ms/step - loss: 0.6328 - accuracy: 0.5947 - val_loss: 0.7331 - val_accuracy: 0.4972\n",
      "Epoch 247/300\n",
      "37/37 [==============================] - 0s 6ms/step - loss: 0.6274 - accuracy: 0.6362 - val_loss: 0.7303 - val_accuracy: 0.5359\n",
      "Epoch 248/300\n",
      "37/37 [==============================] - 0s 6ms/step - loss: 0.6385 - accuracy: 0.6183 - val_loss: 0.7251 - val_accuracy: 0.5470\n",
      "Epoch 249/300\n",
      "37/37 [==============================] - 0s 6ms/step - loss: 0.6232 - accuracy: 0.6349 - val_loss: 0.7283 - val_accuracy: 0.5304\n",
      "Epoch 250/300\n",
      "37/37 [==============================] - 0s 6ms/step - loss: 0.6453 - accuracy: 0.6017 - val_loss: 0.7257 - val_accuracy: 0.5138\n",
      "Epoch 251/300\n",
      "37/37 [==============================] - 0s 6ms/step - loss: 0.6241 - accuracy: 0.6224 - val_loss: 0.7356 - val_accuracy: 0.5304\n",
      "Epoch 252/300\n",
      "37/37 [==============================] - 0s 6ms/step - loss: 0.6419 - accuracy: 0.6003 - val_loss: 0.7268 - val_accuracy: 0.5249\n",
      "Epoch 253/300\n",
      "37/37 [==============================] - 0s 7ms/step - loss: 0.6332 - accuracy: 0.6376 - val_loss: 0.7293 - val_accuracy: 0.5304\n",
      "Epoch 254/300\n",
      "37/37 [==============================] - 0s 7ms/step - loss: 0.6243 - accuracy: 0.6404 - val_loss: 0.7325 - val_accuracy: 0.5249\n",
      "Epoch 255/300\n",
      "37/37 [==============================] - 0s 6ms/step - loss: 0.6495 - accuracy: 0.6224 - val_loss: 0.7320 - val_accuracy: 0.4972\n",
      "Epoch 256/300\n",
      "37/37 [==============================] - 0s 6ms/step - loss: 0.6341 - accuracy: 0.6127 - val_loss: 0.7331 - val_accuracy: 0.5304\n",
      "Epoch 257/300\n",
      "37/37 [==============================] - 0s 6ms/step - loss: 0.6445 - accuracy: 0.5892 - val_loss: 0.7280 - val_accuracy: 0.5028\n",
      "Epoch 258/300\n",
      "37/37 [==============================] - 0s 6ms/step - loss: 0.6134 - accuracy: 0.6349 - val_loss: 0.7384 - val_accuracy: 0.5470\n",
      "Epoch 259/300\n",
      "37/37 [==============================] - 0s 6ms/step - loss: 0.6276 - accuracy: 0.6238 - val_loss: 0.7332 - val_accuracy: 0.5083\n",
      "Epoch 260/300\n",
      "37/37 [==============================] - 0s 6ms/step - loss: 0.6106 - accuracy: 0.6542 - val_loss: 0.7377 - val_accuracy: 0.5193\n",
      "Epoch 261/300\n",
      "37/37 [==============================] - 0s 6ms/step - loss: 0.6419 - accuracy: 0.5851 - val_loss: 0.7388 - val_accuracy: 0.5193\n",
      "Epoch 262/300\n",
      "37/37 [==============================] - 0s 6ms/step - loss: 0.6246 - accuracy: 0.6501 - val_loss: 0.7382 - val_accuracy: 0.5138\n",
      "Epoch 263/300\n",
      "11/37 [=======>......................] - ETA: 0s - loss: 0.6033 - accuracy: 0.6455"
     ]
    }
   ],
   "source": [
    "from IPython.core.display import display, HTML\n",
    "\n",
    "# Enable horizontal scrolling for output\n",
    "display(HTML(\"<style>pre { white-space: pre !important; }</style>\"))\n",
    "\n",
    "# Generate a long output\n",
    "long_output = \"A\" * 1000\n",
    "\n",
    "model.fit(train_ds, epochs=300, validation_data = val_ds)"
   ]
  },
  {
   "cell_type": "code",
   "execution_count": null,
   "metadata": {},
   "outputs": [],
   "source": [
    "df.info()"
   ]
  },
  {
   "cell_type": "code",
   "execution_count": 69,
   "metadata": {},
   "outputs": [],
   "source": [
    "input_data = {\n",
    "    'gender' : 1,\n",
    "    'age'    :21,\n",
    "    'workout_experience' : 0,\n",
    "    'workout_time' : 60,\n",
    "    'weight' : 65,\n",
    "    'height' : 170,\n",
    "}"
   ]
  },
  {
   "cell_type": "code",
   "execution_count": 70,
   "metadata": {},
   "outputs": [],
   "source": [
    "input_dict = {}"
   ]
  },
  {
   "cell_type": "code",
   "execution_count": 71,
   "metadata": {},
   "outputs": [],
   "source": [
    "for feature, value in input_data.items() :\n",
    "    input_dict[feature] = tf.convert_to_tensor([value])"
   ]
  },
  {
   "cell_type": "code",
   "execution_count": 72,
   "metadata": {},
   "outputs": [
    {
     "data": {
      "text/plain": [
       "{'gender': <tf.Tensor: shape=(1,), dtype=int32, numpy=array([1])>,\n",
       " 'age': <tf.Tensor: shape=(1,), dtype=int32, numpy=array([21])>,\n",
       " 'workout_experience': <tf.Tensor: shape=(1,), dtype=int32, numpy=array([0])>,\n",
       " 'workout_time': <tf.Tensor: shape=(1,), dtype=int32, numpy=array([60])>,\n",
       " 'weight': <tf.Tensor: shape=(1,), dtype=int32, numpy=array([65])>,\n",
       " 'height': <tf.Tensor: shape=(1,), dtype=int32, numpy=array([170])>}"
      ]
     },
     "execution_count": 72,
     "metadata": {},
     "output_type": "execute_result"
    }
   ],
   "source": [
    "input_dict"
   ]
  },
  {
   "cell_type": "code",
   "execution_count": 76,
   "metadata": {},
   "outputs": [
    {
     "name": "stdout",
     "output_type": "stream",
     "text": [
      "1/1 [==============================] - 0s 34ms/step\n"
     ]
    }
   ],
   "source": [
    "predictions = model.predict(input_dict)"
   ]
  },
  {
   "cell_type": "code",
   "execution_count": 77,
   "metadata": {},
   "outputs": [
    {
     "data": {
      "text/plain": [
       "array([[0.5033811]], dtype=float32)"
      ]
     },
     "execution_count": 77,
     "metadata": {},
     "output_type": "execute_result"
    }
   ],
   "source": [
    "predictions"
   ]
  },
  {
   "cell_type": "code",
   "execution_count": 78,
   "metadata": {},
   "outputs": [
    {
     "name": "stdout",
     "output_type": "stream",
     "text": [
      "You should do muscle up !\n"
     ]
    }
   ],
   "source": [
    "if predictions[0][0] >= 0.5 :\n",
    "    print(\"You should do muscle up !\")\n",
    "else :\n",
    "    print(\"You should do weight loss !\")"
   ]
  },
  {
   "cell_type": "code",
   "execution_count": 21,
   "metadata": {},
   "outputs": [
    {
     "name": "stdout",
     "output_type": "stream",
     "text": [
      "INFO:tensorflow:Assets written to: ram://a02c0d99-312e-4275-b03e-2019695547c0/assets\n"
     ]
    },
    {
     "data": {
      "text/plain": [
       "['model_1_v2.pkl']"
      ]
     },
     "execution_count": 21,
     "metadata": {},
     "output_type": "execute_result"
    }
   ],
   "source": [
    "import joblib\n",
    "\n",
    "# Save the trained model to a file\n",
    "joblib.dump(model, 'model_1_v2.pkl')"
   ]
  },
  {
   "cell_type": "code",
   "execution_count": null,
   "metadata": {},
   "outputs": [],
   "source": []
  }
 ],
 "metadata": {
  "colab": {
   "authorship_tag": "ABX9TyOpKk+85qYG42HGf+43aaAb",
   "provenance": []
  },
  "kernelspec": {
   "display_name": "Python 3 (ipykernel)",
   "language": "python",
   "name": "python3"
  },
  "language_info": {
   "codemirror_mode": {
    "name": "ipython",
    "version": 3
   },
   "file_extension": ".py",
   "mimetype": "text/x-python",
   "name": "python",
   "nbconvert_exporter": "python",
   "pygments_lexer": "ipython3",
   "version": "3.9.4"
  }
 },
 "nbformat": 4,
 "nbformat_minor": 1
}
