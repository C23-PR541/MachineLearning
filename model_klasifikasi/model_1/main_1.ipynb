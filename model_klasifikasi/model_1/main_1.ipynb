{
 "cells": [
  {
   "cell_type": "markdown",
   "metadata": {},
   "source": [
    "# Model using Neural Network"
   ]
  },
  {
   "cell_type": "markdown",
   "metadata": {
    "id": "0MqdvFhq7OcX"
   },
   "source": [
    "## Import Libraries"
   ]
  },
  {
   "cell_type": "code",
   "execution_count": 1,
   "metadata": {
    "vscode": {
     "languageId": "plaintext"
    }
   },
   "outputs": [],
   "source": [
    "import tensorflow as tf\n",
    "import numpy as np\n",
    "import pandas as pd\n",
    "import seaborn as sns\n",
    "from tensorflow.keras.layers import IntegerLookup\n",
    "from tensorflow.keras.layers import Normalization\n",
    "from tensorflow.keras.layers import StringLookup\n",
    "import tensorflow.keras as keras"
   ]
  },
  {
   "cell_type": "markdown",
   "metadata": {},
   "source": [
    "## Load The Data to DataFrame"
   ]
  },
  {
   "cell_type": "code",
   "execution_count": 2,
   "metadata": {},
   "outputs": [],
   "source": [
    "df = pd.read_csv('cleaned_data.csv')"
   ]
  },
  {
   "cell_type": "markdown",
   "metadata": {},
   "source": [
    "## Check the Columns' Data Type"
   ]
  },
  {
   "cell_type": "code",
   "execution_count": 3,
   "metadata": {},
   "outputs": [
    {
     "data": {
      "text/plain": [
       "Index(['gender', 'age', 'workout_experience', 'workout_time', 'weight',\n",
       "       'height', 'fitness_goal'],\n",
       "      dtype='object')"
      ]
     },
     "execution_count": 3,
     "metadata": {},
     "output_type": "execute_result"
    }
   ],
   "source": [
    "df.columns"
   ]
  },
  {
   "cell_type": "code",
   "execution_count": 4,
   "metadata": {},
   "outputs": [],
   "source": [
    "from sklearn.utils import shuffle\n",
    "\n",
    "shuffled_df = shuffle(df, random_state = 42)"
   ]
  },
  {
   "cell_type": "markdown",
   "metadata": {},
   "source": [
    "## Split Data for Training and Validation\n"
   ]
  },
  {
   "cell_type": "code",
   "execution_count": 5,
   "metadata": {},
   "outputs": [],
   "source": [
    "from sklearn.model_selection import train_test_split\n",
    "\n",
    "train_df, val_df = train_test_split(shuffled_df, test_size = 0.2, random_state=42)"
   ]
  },
  {
   "cell_type": "markdown",
   "metadata": {},
   "source": [
    "## The training and validation set size"
   ]
  },
  {
   "cell_type": "code",
   "execution_count": 6,
   "metadata": {},
   "outputs": [
    {
     "name": "stdout",
     "output_type": "stream",
     "text": [
      "training :  723  | validation :  181\n"
     ]
    }
   ],
   "source": [
    "print('training : ',train_df.shape[0], \" | validation : \", val_df.shape[0])"
   ]
  },
  {
   "cell_type": "markdown",
   "metadata": {},
   "source": [
    "## Function Transform Dataframe into Tensor Dataset"
   ]
  },
  {
   "cell_type": "code",
   "execution_count": 7,
   "metadata": {},
   "outputs": [],
   "source": [
    "def dataframe_transform(df, label):\n",
    "\n",
    "    labels = df.pop(label)\n",
    "    ds = tf.data.Dataset.from_tensor_slices((dict(df), labels))\n",
    "    ds = ds.shuffle(buffer_size = len(df))\n",
    "\n",
    "    return ds"
   ]
  },
  {
   "cell_type": "markdown",
   "metadata": {},
   "source": [
    "## Transform Training and Validation Dataframe into Tensor Dataset"
   ]
  },
  {
   "cell_type": "code",
   "execution_count": 8,
   "metadata": {},
   "outputs": [],
   "source": [
    "train_ds = dataframe_transform(train_df, 'fitness_goal')\n",
    "val_ds   = dataframe_transform(val_df, 'fitness_goal')"
   ]
  },
  {
   "cell_type": "markdown",
   "metadata": {},
   "source": [
    "## Batching the Dataset"
   ]
  },
  {
   "cell_type": "code",
   "execution_count": 9,
   "metadata": {},
   "outputs": [],
   "source": [
    "train_ds = train_ds.batch(20)\n",
    "val_ds   = val_ds.batch(20)"
   ]
  },
  {
   "cell_type": "markdown",
   "metadata": {},
   "source": [
    "## Function to Encode Categorical Column"
   ]
  },
  {
   "cell_type": "code",
   "execution_count": 10,
   "metadata": {},
   "outputs": [],
   "source": [
    "def encode_categorical_feature(column, name, dataset):\n",
    "\n",
    "    lookup_class = IntegerLookup\n",
    "    lookup = lookup_class(output_mode = \"binary\")\n",
    "\n",
    "    column_ds = dataset.map(lambda x, y: x[name])\n",
    "    column_ds = column_ds.map(lambda x: tf.expand_dims(x, -1))\n",
    "\n",
    "    lookup.adapt(column_ds)\n",
    "    encoded_column = lookup(column)\n",
    "\n",
    "    return encoded_column"
   ]
  },
  {
   "cell_type": "markdown",
   "metadata": {},
   "source": [
    "## Function to Encode Numerical Column"
   ]
  },
  {
   "cell_type": "code",
   "execution_count": 11,
   "metadata": {},
   "outputs": [],
   "source": [
    "def encode_numerical_feature(column, name, dataset):\n",
    "\n",
    "    normalizer = Normalization()\n",
    "    column_ds = dataset.map(lambda x, y: x[name])\n",
    "    column_ds = column_ds.map(lambda x: tf.expand_dims(x, -1))\n",
    "\n",
    "    normalizer.adapt(column_ds)\n",
    "    encoded_column = normalizer(column)\n",
    "\n",
    "    return encoded_column"
   ]
  },
  {
   "cell_type": "markdown",
   "metadata": {},
   "source": [
    "## Creating Tensor object from the column"
   ]
  },
  {
   "cell_type": "code",
   "execution_count": 12,
   "metadata": {},
   "outputs": [],
   "source": [
    "gender = keras.Input(shape = (1,), name = 'gender', dtype = 'int64')\n",
    "age    = keras.Input(shape = (1,), name = 'age')\n",
    "workout_experience = keras.Input(shape = (1, ), name = 'workout_experience')\n",
    "workout_time = keras.Input(shape = (1,), name = 'workout_time')\n",
    "weight       = keras.Input(shape = (1,), name = 'weight')\n",
    "height       = keras.Input(shape = (1,), name = 'height')"
   ]
  },
  {
   "cell_type": "code",
   "execution_count": 13,
   "metadata": {},
   "outputs": [],
   "source": [
    "all_columns = [ gender, age, workout_experience, workout_time, height, weight ]"
   ]
  },
  {
   "cell_type": "markdown",
   "metadata": {},
   "source": [
    "## Encode columns based on their data type"
   ]
  },
  {
   "cell_type": "code",
   "execution_count": 14,
   "metadata": {},
   "outputs": [],
   "source": [
    "gender_encoded = encode_categorical_feature(gender, 'gender', train_ds)\n",
    "age_encoded = encode_numerical_feature(age, 'age', train_ds)\n",
    "workout_experience_encoded = encode_numerical_feature(workout_experience, 'workout_experience', train_ds)\n",
    "workout_time_encoded = encode_numerical_feature(workout_time, 'workout_time', train_ds)\n",
    "weight_encoded = encode_numerical_feature(weight, 'weight', train_ds)\n",
    "height_encoded = encode_numerical_feature(height, 'height', train_ds)\n"
   ]
  },
  {
   "cell_type": "code",
   "execution_count": 15,
   "metadata": {},
   "outputs": [],
   "source": [
    "all_features = keras.layers.concatenate([gender_encoded, age_encoded, workout_experience_encoded, workout_time_encoded, height_encoded, weight_encoded])"
   ]
  },
  {
   "cell_type": "markdown",
   "metadata": {},
   "source": [
    "## Build the model architecture"
   ]
  },
  {
   "cell_type": "code",
   "execution_count": 16,
   "metadata": {},
   "outputs": [],
   "source": [
    "x = keras.layers.Dense(64, activation = 'relu')(all_features)\n",
    "x = keras.layers.Dense(16, activation = 'relu')(x)\n",
    "x = keras.layers.Dropout(0.7)(x)\n",
    "\n",
    "output = keras.layers.Dense(1, activation = 'sigmoid')(x)"
   ]
  },
  {
   "cell_type": "code",
   "execution_count": 17,
   "metadata": {},
   "outputs": [],
   "source": [
    "model  = keras.Model(all_columns, output)\n",
    "model.compile(optimizer = 'rmsprop', loss = 'binary_crossentropy', metrics = ['accuracy'])"
   ]
  },
  {
   "cell_type": "markdown",
   "metadata": {},
   "source": [
    "## Train the model"
   ]
  },
  {
   "cell_type": "code",
   "execution_count": 18,
   "metadata": {},
   "outputs": [
    {
     "name": "stdout",
     "output_type": "stream",
     "text": [
      "Epoch 1/300\n",
      "37/37 [==============================] - 3s 14ms/step - loss: 0.7278 - accuracy: 0.5159 - val_loss: 0.7012 - val_accuracy: 0.4751\n",
      "Epoch 2/300\n",
      "37/37 [==============================] - 0s 3ms/step - loss: 0.7062 - accuracy: 0.5159 - val_loss: 0.7007 - val_accuracy: 0.4972\n",
      "Epoch 3/300\n",
      "37/37 [==============================] - 0s 3ms/step - loss: 0.7079 - accuracy: 0.5007 - val_loss: 0.6999 - val_accuracy: 0.5138\n",
      "Epoch 4/300\n",
      "37/37 [==============================] - 0s 3ms/step - loss: 0.6997 - accuracy: 0.5408 - val_loss: 0.6974 - val_accuracy: 0.5138\n",
      "Epoch 5/300\n",
      "37/37 [==============================] - 0s 3ms/step - loss: 0.6897 - accuracy: 0.5256 - val_loss: 0.7006 - val_accuracy: 0.4862\n",
      "Epoch 6/300\n",
      "37/37 [==============================] - 0s 3ms/step - loss: 0.6911 - accuracy: 0.5256 - val_loss: 0.7007 - val_accuracy: 0.4917\n",
      "Epoch 7/300\n",
      "37/37 [==============================] - 0s 3ms/step - loss: 0.6875 - accuracy: 0.5726 - val_loss: 0.6972 - val_accuracy: 0.5138\n",
      "Epoch 8/300\n",
      "37/37 [==============================] - 0s 3ms/step - loss: 0.6889 - accuracy: 0.5629 - val_loss: 0.6978 - val_accuracy: 0.4972\n",
      "Epoch 9/300\n",
      "37/37 [==============================] - 0s 3ms/step - loss: 0.6801 - accuracy: 0.5588 - val_loss: 0.6976 - val_accuracy: 0.5193\n",
      "Epoch 10/300\n",
      "37/37 [==============================] - 0s 3ms/step - loss: 0.6800 - accuracy: 0.5643 - val_loss: 0.6962 - val_accuracy: 0.4862\n",
      "Epoch 11/300\n",
      "37/37 [==============================] - 0s 3ms/step - loss: 0.6837 - accuracy: 0.5629 - val_loss: 0.6944 - val_accuracy: 0.5138\n",
      "Epoch 12/300\n",
      "37/37 [==============================] - 0s 3ms/step - loss: 0.6792 - accuracy: 0.5602 - val_loss: 0.6946 - val_accuracy: 0.5083\n",
      "Epoch 13/300\n",
      "37/37 [==============================] - 0s 3ms/step - loss: 0.6812 - accuracy: 0.5477 - val_loss: 0.6948 - val_accuracy: 0.4917\n",
      "Epoch 14/300\n",
      "37/37 [==============================] - 0s 3ms/step - loss: 0.6850 - accuracy: 0.5533 - val_loss: 0.6939 - val_accuracy: 0.4917\n",
      "Epoch 15/300\n",
      "37/37 [==============================] - 0s 3ms/step - loss: 0.6851 - accuracy: 0.5436 - val_loss: 0.6913 - val_accuracy: 0.5249\n",
      "Epoch 16/300\n",
      "37/37 [==============================] - 0s 3ms/step - loss: 0.6799 - accuracy: 0.5519 - val_loss: 0.6902 - val_accuracy: 0.5359\n",
      "Epoch 17/300\n",
      "37/37 [==============================] - 0s 3ms/step - loss: 0.6881 - accuracy: 0.5463 - val_loss: 0.6909 - val_accuracy: 0.5470\n",
      "Epoch 18/300\n",
      "37/37 [==============================] - 0s 3ms/step - loss: 0.6844 - accuracy: 0.5602 - val_loss: 0.6907 - val_accuracy: 0.5249\n",
      "Epoch 19/300\n",
      "37/37 [==============================] - 0s 4ms/step - loss: 0.6783 - accuracy: 0.5629 - val_loss: 0.6892 - val_accuracy: 0.5359\n",
      "Epoch 20/300\n",
      "37/37 [==============================] - 0s 3ms/step - loss: 0.6805 - accuracy: 0.5685 - val_loss: 0.6905 - val_accuracy: 0.5083\n",
      "Epoch 21/300\n",
      "37/37 [==============================] - 0s 3ms/step - loss: 0.6750 - accuracy: 0.5685 - val_loss: 0.6910 - val_accuracy: 0.5304\n",
      "Epoch 22/300\n",
      "37/37 [==============================] - 0s 3ms/step - loss: 0.6781 - accuracy: 0.5740 - val_loss: 0.6906 - val_accuracy: 0.5249\n",
      "Epoch 23/300\n",
      "37/37 [==============================] - 0s 3ms/step - loss: 0.6716 - accuracy: 0.5864 - val_loss: 0.6915 - val_accuracy: 0.5635\n",
      "Epoch 24/300\n",
      "37/37 [==============================] - 0s 3ms/step - loss: 0.6758 - accuracy: 0.5602 - val_loss: 0.6927 - val_accuracy: 0.5359\n",
      "Epoch 25/300\n",
      "37/37 [==============================] - 0s 3ms/step - loss: 0.6799 - accuracy: 0.5726 - val_loss: 0.6919 - val_accuracy: 0.5193\n",
      "Epoch 26/300\n",
      "37/37 [==============================] - 0s 3ms/step - loss: 0.6749 - accuracy: 0.5643 - val_loss: 0.6919 - val_accuracy: 0.5249\n",
      "Epoch 27/300\n",
      "37/37 [==============================] - 0s 3ms/step - loss: 0.6721 - accuracy: 0.5615 - val_loss: 0.6917 - val_accuracy: 0.5304\n",
      "Epoch 28/300\n",
      "37/37 [==============================] - 0s 3ms/step - loss: 0.6745 - accuracy: 0.5809 - val_loss: 0.6919 - val_accuracy: 0.5414\n",
      "Epoch 29/300\n",
      "37/37 [==============================] - 0s 3ms/step - loss: 0.6787 - accuracy: 0.5809 - val_loss: 0.6915 - val_accuracy: 0.5359\n",
      "Epoch 30/300\n",
      "37/37 [==============================] - 0s 3ms/step - loss: 0.6845 - accuracy: 0.5629 - val_loss: 0.6920 - val_accuracy: 0.5359\n",
      "Epoch 31/300\n",
      "37/37 [==============================] - 0s 3ms/step - loss: 0.6763 - accuracy: 0.5934 - val_loss: 0.6926 - val_accuracy: 0.5414\n",
      "Epoch 32/300\n",
      "37/37 [==============================] - 0s 3ms/step - loss: 0.6761 - accuracy: 0.5823 - val_loss: 0.6932 - val_accuracy: 0.5359\n",
      "Epoch 33/300\n",
      "37/37 [==============================] - 0s 3ms/step - loss: 0.6767 - accuracy: 0.5685 - val_loss: 0.6924 - val_accuracy: 0.5414\n",
      "Epoch 34/300\n",
      "37/37 [==============================] - 0s 3ms/step - loss: 0.6714 - accuracy: 0.5947 - val_loss: 0.6944 - val_accuracy: 0.5414\n",
      "Epoch 35/300\n",
      "37/37 [==============================] - 0s 3ms/step - loss: 0.6685 - accuracy: 0.5712 - val_loss: 0.6945 - val_accuracy: 0.5580\n",
      "Epoch 36/300\n",
      "37/37 [==============================] - 0s 3ms/step - loss: 0.6842 - accuracy: 0.5768 - val_loss: 0.6932 - val_accuracy: 0.5470\n",
      "Epoch 37/300\n",
      "37/37 [==============================] - 0s 3ms/step - loss: 0.6797 - accuracy: 0.5629 - val_loss: 0.6938 - val_accuracy: 0.5359\n",
      "Epoch 38/300\n",
      "37/37 [==============================] - 0s 3ms/step - loss: 0.6763 - accuracy: 0.5892 - val_loss: 0.6923 - val_accuracy: 0.5359\n",
      "Epoch 39/300\n",
      "37/37 [==============================] - 0s 3ms/step - loss: 0.6746 - accuracy: 0.5920 - val_loss: 0.6919 - val_accuracy: 0.5359\n",
      "Epoch 40/300\n",
      "37/37 [==============================] - 0s 3ms/step - loss: 0.6684 - accuracy: 0.6072 - val_loss: 0.6948 - val_accuracy: 0.5359\n",
      "Epoch 41/300\n",
      "37/37 [==============================] - 0s 3ms/step - loss: 0.6746 - accuracy: 0.5892 - val_loss: 0.6978 - val_accuracy: 0.5249\n",
      "Epoch 42/300\n",
      "37/37 [==============================] - 0s 3ms/step - loss: 0.6717 - accuracy: 0.5712 - val_loss: 0.6968 - val_accuracy: 0.5249\n",
      "Epoch 43/300\n",
      "37/37 [==============================] - 0s 3ms/step - loss: 0.6679 - accuracy: 0.5726 - val_loss: 0.6974 - val_accuracy: 0.5083\n",
      "Epoch 44/300\n",
      "37/37 [==============================] - 0s 3ms/step - loss: 0.6707 - accuracy: 0.5837 - val_loss: 0.7003 - val_accuracy: 0.5359\n",
      "Epoch 45/300\n",
      "37/37 [==============================] - 0s 3ms/step - loss: 0.6598 - accuracy: 0.5823 - val_loss: 0.6995 - val_accuracy: 0.5138\n",
      "Epoch 46/300\n",
      "37/37 [==============================] - 0s 3ms/step - loss: 0.6662 - accuracy: 0.5837 - val_loss: 0.6991 - val_accuracy: 0.5193\n",
      "Epoch 47/300\n",
      "37/37 [==============================] - 0s 3ms/step - loss: 0.6707 - accuracy: 0.5754 - val_loss: 0.6978 - val_accuracy: 0.5193\n",
      "Epoch 48/300\n",
      "37/37 [==============================] - 0s 3ms/step - loss: 0.6675 - accuracy: 0.5768 - val_loss: 0.6955 - val_accuracy: 0.5249\n",
      "Epoch 49/300\n",
      "37/37 [==============================] - 0s 3ms/step - loss: 0.6737 - accuracy: 0.5768 - val_loss: 0.6987 - val_accuracy: 0.5083\n",
      "Epoch 50/300\n",
      "37/37 [==============================] - 0s 3ms/step - loss: 0.6695 - accuracy: 0.5809 - val_loss: 0.6946 - val_accuracy: 0.5414\n",
      "Epoch 51/300\n",
      "37/37 [==============================] - 0s 3ms/step - loss: 0.6711 - accuracy: 0.5837 - val_loss: 0.6944 - val_accuracy: 0.5525\n",
      "Epoch 52/300\n",
      "37/37 [==============================] - 0s 3ms/step - loss: 0.6660 - accuracy: 0.5851 - val_loss: 0.6934 - val_accuracy: 0.5359\n",
      "Epoch 53/300\n",
      "37/37 [==============================] - 0s 3ms/step - loss: 0.6604 - accuracy: 0.5961 - val_loss: 0.6918 - val_accuracy: 0.5470\n",
      "Epoch 54/300\n",
      "37/37 [==============================] - 0s 3ms/step - loss: 0.6598 - accuracy: 0.5947 - val_loss: 0.6928 - val_accuracy: 0.5635\n",
      "Epoch 55/300\n",
      "37/37 [==============================] - 0s 3ms/step - loss: 0.6612 - accuracy: 0.5947 - val_loss: 0.6973 - val_accuracy: 0.5414\n",
      "Epoch 56/300\n",
      "37/37 [==============================] - 0s 3ms/step - loss: 0.6696 - accuracy: 0.5892 - val_loss: 0.6955 - val_accuracy: 0.5304\n",
      "Epoch 57/300\n",
      "37/37 [==============================] - 0s 3ms/step - loss: 0.6629 - accuracy: 0.5961 - val_loss: 0.6945 - val_accuracy: 0.5359\n",
      "Epoch 58/300\n",
      "37/37 [==============================] - 0s 3ms/step - loss: 0.6609 - accuracy: 0.5781 - val_loss: 0.6942 - val_accuracy: 0.5470\n"
     ]
    },
    {
     "name": "stdout",
     "output_type": "stream",
     "text": [
      "Epoch 59/300\n",
      "37/37 [==============================] - 0s 3ms/step - loss: 0.6616 - accuracy: 0.5989 - val_loss: 0.6936 - val_accuracy: 0.5414\n",
      "Epoch 60/300\n",
      "37/37 [==============================] - 0s 3ms/step - loss: 0.6521 - accuracy: 0.5934 - val_loss: 0.6939 - val_accuracy: 0.5691\n",
      "Epoch 61/300\n",
      "37/37 [==============================] - 0s 3ms/step - loss: 0.6524 - accuracy: 0.6238 - val_loss: 0.6937 - val_accuracy: 0.5359\n",
      "Epoch 62/300\n",
      "37/37 [==============================] - 0s 3ms/step - loss: 0.6566 - accuracy: 0.5934 - val_loss: 0.6961 - val_accuracy: 0.5470\n",
      "Epoch 63/300\n",
      "37/37 [==============================] - 0s 3ms/step - loss: 0.6554 - accuracy: 0.6100 - val_loss: 0.6950 - val_accuracy: 0.5414\n",
      "Epoch 64/300\n",
      "37/37 [==============================] - 0s 3ms/step - loss: 0.6654 - accuracy: 0.5809 - val_loss: 0.6938 - val_accuracy: 0.5193\n",
      "Epoch 65/300\n",
      "37/37 [==============================] - 0s 3ms/step - loss: 0.6582 - accuracy: 0.6100 - val_loss: 0.6958 - val_accuracy: 0.5414\n",
      "Epoch 66/300\n",
      "37/37 [==============================] - 0s 3ms/step - loss: 0.6641 - accuracy: 0.5961 - val_loss: 0.6984 - val_accuracy: 0.5525\n",
      "Epoch 67/300\n",
      "37/37 [==============================] - 0s 3ms/step - loss: 0.6651 - accuracy: 0.5837 - val_loss: 0.6978 - val_accuracy: 0.5193\n",
      "Epoch 68/300\n",
      "37/37 [==============================] - 0s 3ms/step - loss: 0.6655 - accuracy: 0.6072 - val_loss: 0.7010 - val_accuracy: 0.5138\n",
      "Epoch 69/300\n",
      "37/37 [==============================] - 0s 3ms/step - loss: 0.6718 - accuracy: 0.5934 - val_loss: 0.6969 - val_accuracy: 0.5359\n",
      "Epoch 70/300\n",
      "37/37 [==============================] - 0s 3ms/step - loss: 0.6601 - accuracy: 0.6044 - val_loss: 0.6955 - val_accuracy: 0.5249\n",
      "Epoch 71/300\n",
      "37/37 [==============================] - 0s 3ms/step - loss: 0.6512 - accuracy: 0.5989 - val_loss: 0.6980 - val_accuracy: 0.5304\n",
      "Epoch 72/300\n",
      "37/37 [==============================] - 0s 3ms/step - loss: 0.6686 - accuracy: 0.5947 - val_loss: 0.6959 - val_accuracy: 0.5249\n",
      "Epoch 73/300\n",
      "37/37 [==============================] - 0s 3ms/step - loss: 0.6594 - accuracy: 0.6127 - val_loss: 0.7009 - val_accuracy: 0.5414\n",
      "Epoch 74/300\n",
      "37/37 [==============================] - 0s 3ms/step - loss: 0.6680 - accuracy: 0.6017 - val_loss: 0.6963 - val_accuracy: 0.5193\n",
      "Epoch 75/300\n",
      "37/37 [==============================] - 0s 3ms/step - loss: 0.6542 - accuracy: 0.6030 - val_loss: 0.6999 - val_accuracy: 0.5304\n",
      "Epoch 76/300\n",
      "37/37 [==============================] - 0s 3ms/step - loss: 0.6558 - accuracy: 0.6003 - val_loss: 0.7019 - val_accuracy: 0.5304\n",
      "Epoch 77/300\n",
      "37/37 [==============================] - 0s 3ms/step - loss: 0.6581 - accuracy: 0.6058 - val_loss: 0.6993 - val_accuracy: 0.5304\n",
      "Epoch 78/300\n",
      "37/37 [==============================] - 0s 3ms/step - loss: 0.6481 - accuracy: 0.6086 - val_loss: 0.6990 - val_accuracy: 0.5414\n",
      "Epoch 79/300\n",
      "37/37 [==============================] - 0s 3ms/step - loss: 0.6587 - accuracy: 0.6017 - val_loss: 0.6994 - val_accuracy: 0.5193\n",
      "Epoch 80/300\n",
      "37/37 [==============================] - 0s 3ms/step - loss: 0.6556 - accuracy: 0.6003 - val_loss: 0.7069 - val_accuracy: 0.5028\n",
      "Epoch 81/300\n",
      "37/37 [==============================] - 0s 3ms/step - loss: 0.6625 - accuracy: 0.5906 - val_loss: 0.7041 - val_accuracy: 0.5138\n",
      "Epoch 82/300\n",
      "37/37 [==============================] - 0s 3ms/step - loss: 0.6584 - accuracy: 0.6058 - val_loss: 0.6988 - val_accuracy: 0.5249\n",
      "Epoch 83/300\n",
      "37/37 [==============================] - 0s 3ms/step - loss: 0.6609 - accuracy: 0.6127 - val_loss: 0.6961 - val_accuracy: 0.5193\n",
      "Epoch 84/300\n",
      "37/37 [==============================] - 0s 3ms/step - loss: 0.6530 - accuracy: 0.6044 - val_loss: 0.7023 - val_accuracy: 0.5028\n",
      "Epoch 85/300\n",
      "37/37 [==============================] - 0s 3ms/step - loss: 0.6553 - accuracy: 0.6017 - val_loss: 0.6961 - val_accuracy: 0.5249\n",
      "Epoch 86/300\n",
      "37/37 [==============================] - 0s 3ms/step - loss: 0.6607 - accuracy: 0.6100 - val_loss: 0.6985 - val_accuracy: 0.5304\n",
      "Epoch 87/300\n",
      "37/37 [==============================] - 0s 3ms/step - loss: 0.6527 - accuracy: 0.6113 - val_loss: 0.7018 - val_accuracy: 0.5304\n",
      "Epoch 88/300\n",
      "37/37 [==============================] - 0s 3ms/step - loss: 0.6523 - accuracy: 0.6003 - val_loss: 0.6973 - val_accuracy: 0.5304\n",
      "Epoch 89/300\n",
      "37/37 [==============================] - 0s 3ms/step - loss: 0.6433 - accuracy: 0.6183 - val_loss: 0.7013 - val_accuracy: 0.5304\n",
      "Epoch 90/300\n",
      "37/37 [==============================] - 0s 3ms/step - loss: 0.6673 - accuracy: 0.5947 - val_loss: 0.6981 - val_accuracy: 0.5359\n",
      "Epoch 91/300\n",
      "37/37 [==============================] - 0s 3ms/step - loss: 0.6559 - accuracy: 0.6003 - val_loss: 0.7004 - val_accuracy: 0.5193\n",
      "Epoch 92/300\n",
      "37/37 [==============================] - 0s 3ms/step - loss: 0.6475 - accuracy: 0.6030 - val_loss: 0.7033 - val_accuracy: 0.5193\n",
      "Epoch 93/300\n",
      "37/37 [==============================] - 0s 3ms/step - loss: 0.6556 - accuracy: 0.5892 - val_loss: 0.7071 - val_accuracy: 0.5083\n",
      "Epoch 94/300\n",
      "37/37 [==============================] - 0s 3ms/step - loss: 0.6517 - accuracy: 0.6183 - val_loss: 0.7044 - val_accuracy: 0.5083\n",
      "Epoch 95/300\n",
      "37/37 [==============================] - 0s 3ms/step - loss: 0.6501 - accuracy: 0.6030 - val_loss: 0.7032 - val_accuracy: 0.5138\n",
      "Epoch 96/300\n",
      "37/37 [==============================] - 0s 3ms/step - loss: 0.6506 - accuracy: 0.6086 - val_loss: 0.7023 - val_accuracy: 0.5359\n",
      "Epoch 97/300\n",
      "37/37 [==============================] - 0s 3ms/step - loss: 0.6553 - accuracy: 0.5961 - val_loss: 0.7035 - val_accuracy: 0.5359\n",
      "Epoch 98/300\n",
      "37/37 [==============================] - 0s 3ms/step - loss: 0.6486 - accuracy: 0.6072 - val_loss: 0.7084 - val_accuracy: 0.5359\n",
      "Epoch 99/300\n",
      "37/37 [==============================] - 0s 3ms/step - loss: 0.6598 - accuracy: 0.6086 - val_loss: 0.7020 - val_accuracy: 0.5414\n",
      "Epoch 100/300\n",
      "37/37 [==============================] - 0s 3ms/step - loss: 0.6613 - accuracy: 0.5989 - val_loss: 0.6998 - val_accuracy: 0.5249\n",
      "Epoch 101/300\n",
      "37/37 [==============================] - 0s 3ms/step - loss: 0.6403 - accuracy: 0.6141 - val_loss: 0.6991 - val_accuracy: 0.5249\n",
      "Epoch 102/300\n",
      "37/37 [==============================] - 0s 3ms/step - loss: 0.6485 - accuracy: 0.6210 - val_loss: 0.7021 - val_accuracy: 0.5304\n",
      "Epoch 103/300\n",
      "37/37 [==============================] - 0s 3ms/step - loss: 0.6410 - accuracy: 0.6210 - val_loss: 0.7067 - val_accuracy: 0.5304\n",
      "Epoch 104/300\n",
      "37/37 [==============================] - 0s 3ms/step - loss: 0.6390 - accuracy: 0.6238 - val_loss: 0.7049 - val_accuracy: 0.5304\n",
      "Epoch 105/300\n",
      "37/37 [==============================] - 0s 3ms/step - loss: 0.6547 - accuracy: 0.6058 - val_loss: 0.7081 - val_accuracy: 0.5249\n",
      "Epoch 106/300\n",
      "37/37 [==============================] - 0s 3ms/step - loss: 0.6425 - accuracy: 0.6155 - val_loss: 0.7046 - val_accuracy: 0.5249\n",
      "Epoch 107/300\n",
      "37/37 [==============================] - 0s 3ms/step - loss: 0.6394 - accuracy: 0.6307 - val_loss: 0.7063 - val_accuracy: 0.5138\n",
      "Epoch 108/300\n",
      "37/37 [==============================] - 0s 3ms/step - loss: 0.6502 - accuracy: 0.6086 - val_loss: 0.7074 - val_accuracy: 0.5193\n",
      "Epoch 109/300\n",
      "37/37 [==============================] - 0s 3ms/step - loss: 0.6535 - accuracy: 0.6017 - val_loss: 0.7067 - val_accuracy: 0.5138\n",
      "Epoch 110/300\n",
      "37/37 [==============================] - 0s 3ms/step - loss: 0.6552 - accuracy: 0.6030 - val_loss: 0.7056 - val_accuracy: 0.5193\n",
      "Epoch 111/300\n",
      "37/37 [==============================] - 0s 3ms/step - loss: 0.6521 - accuracy: 0.6169 - val_loss: 0.7062 - val_accuracy: 0.5249\n",
      "Epoch 112/300\n",
      "37/37 [==============================] - 0s 3ms/step - loss: 0.6415 - accuracy: 0.6252 - val_loss: 0.7118 - val_accuracy: 0.5193\n",
      "Epoch 113/300\n",
      "37/37 [==============================] - 0s 3ms/step - loss: 0.6532 - accuracy: 0.6113 - val_loss: 0.7147 - val_accuracy: 0.5304\n",
      "Epoch 114/300\n",
      "37/37 [==============================] - 0s 3ms/step - loss: 0.6511 - accuracy: 0.6293 - val_loss: 0.7079 - val_accuracy: 0.5304\n",
      "Epoch 115/300\n",
      "37/37 [==============================] - 0s 3ms/step - loss: 0.6380 - accuracy: 0.6141 - val_loss: 0.7092 - val_accuracy: 0.5249\n",
      "Epoch 116/300\n"
     ]
    },
    {
     "name": "stdout",
     "output_type": "stream",
     "text": [
      "37/37 [==============================] - 0s 3ms/step - loss: 0.6409 - accuracy: 0.6086 - val_loss: 0.7061 - val_accuracy: 0.5193\n",
      "Epoch 117/300\n",
      "37/37 [==============================] - 0s 3ms/step - loss: 0.6486 - accuracy: 0.6127 - val_loss: 0.7051 - val_accuracy: 0.5249\n",
      "Epoch 118/300\n",
      "37/37 [==============================] - 0s 3ms/step - loss: 0.6451 - accuracy: 0.6169 - val_loss: 0.7108 - val_accuracy: 0.5359\n",
      "Epoch 119/300\n",
      "37/37 [==============================] - 0s 3ms/step - loss: 0.6374 - accuracy: 0.6196 - val_loss: 0.7112 - val_accuracy: 0.5193\n",
      "Epoch 120/300\n",
      "37/37 [==============================] - 0s 3ms/step - loss: 0.6593 - accuracy: 0.6017 - val_loss: 0.7091 - val_accuracy: 0.5138\n",
      "Epoch 121/300\n",
      "37/37 [==============================] - 0s 3ms/step - loss: 0.6440 - accuracy: 0.6183 - val_loss: 0.7112 - val_accuracy: 0.5193\n",
      "Epoch 122/300\n",
      "37/37 [==============================] - 0s 3ms/step - loss: 0.6283 - accuracy: 0.6584 - val_loss: 0.7083 - val_accuracy: 0.5083\n",
      "Epoch 123/300\n",
      "37/37 [==============================] - 0s 3ms/step - loss: 0.6491 - accuracy: 0.6030 - val_loss: 0.7074 - val_accuracy: 0.5304\n",
      "Epoch 124/300\n",
      "37/37 [==============================] - 0s 3ms/step - loss: 0.6393 - accuracy: 0.6086 - val_loss: 0.7101 - val_accuracy: 0.5249\n",
      "Epoch 125/300\n",
      "37/37 [==============================] - 0s 3ms/step - loss: 0.6464 - accuracy: 0.6086 - val_loss: 0.7075 - val_accuracy: 0.5249\n",
      "Epoch 126/300\n",
      "37/37 [==============================] - 0s 3ms/step - loss: 0.6511 - accuracy: 0.5906 - val_loss: 0.7082 - val_accuracy: 0.5193\n",
      "Epoch 127/300\n",
      "37/37 [==============================] - 0s 3ms/step - loss: 0.6402 - accuracy: 0.6183 - val_loss: 0.7132 - val_accuracy: 0.5138\n",
      "Epoch 128/300\n",
      "37/37 [==============================] - 0s 3ms/step - loss: 0.6338 - accuracy: 0.6238 - val_loss: 0.7143 - val_accuracy: 0.5083\n",
      "Epoch 129/300\n",
      "37/37 [==============================] - 0s 3ms/step - loss: 0.6473 - accuracy: 0.5906 - val_loss: 0.7127 - val_accuracy: 0.4917\n",
      "Epoch 130/300\n",
      "37/37 [==============================] - 0s 3ms/step - loss: 0.6391 - accuracy: 0.6183 - val_loss: 0.7109 - val_accuracy: 0.5193\n",
      "Epoch 131/300\n",
      "37/37 [==============================] - 0s 3ms/step - loss: 0.6321 - accuracy: 0.6238 - val_loss: 0.7087 - val_accuracy: 0.5249\n",
      "Epoch 132/300\n",
      "37/37 [==============================] - 0s 3ms/step - loss: 0.6435 - accuracy: 0.6086 - val_loss: 0.7112 - val_accuracy: 0.5138\n",
      "Epoch 133/300\n",
      "37/37 [==============================] - 0s 3ms/step - loss: 0.6288 - accuracy: 0.6224 - val_loss: 0.7134 - val_accuracy: 0.5138\n",
      "Epoch 134/300\n",
      "37/37 [==============================] - 0s 3ms/step - loss: 0.6556 - accuracy: 0.6044 - val_loss: 0.7060 - val_accuracy: 0.5249\n",
      "Epoch 135/300\n",
      "37/37 [==============================] - 0s 3ms/step - loss: 0.6332 - accuracy: 0.6252 - val_loss: 0.7089 - val_accuracy: 0.5304\n",
      "Epoch 136/300\n",
      "37/37 [==============================] - 0s 3ms/step - loss: 0.6435 - accuracy: 0.6072 - val_loss: 0.7107 - val_accuracy: 0.5359\n",
      "Epoch 137/300\n",
      "37/37 [==============================] - 0s 3ms/step - loss: 0.6289 - accuracy: 0.6266 - val_loss: 0.7134 - val_accuracy: 0.5193\n",
      "Epoch 138/300\n",
      "37/37 [==============================] - 0s 3ms/step - loss: 0.6377 - accuracy: 0.6100 - val_loss: 0.7206 - val_accuracy: 0.5193\n",
      "Epoch 139/300\n",
      "37/37 [==============================] - 0s 3ms/step - loss: 0.6434 - accuracy: 0.5975 - val_loss: 0.7166 - val_accuracy: 0.5193\n",
      "Epoch 140/300\n",
      "37/37 [==============================] - 0s 3ms/step - loss: 0.6462 - accuracy: 0.6307 - val_loss: 0.7128 - val_accuracy: 0.5359\n",
      "Epoch 141/300\n",
      "37/37 [==============================] - 0s 3ms/step - loss: 0.6279 - accuracy: 0.6100 - val_loss: 0.7085 - val_accuracy: 0.5359\n",
      "Epoch 142/300\n",
      "37/37 [==============================] - 0s 3ms/step - loss: 0.6299 - accuracy: 0.6390 - val_loss: 0.7162 - val_accuracy: 0.5304\n",
      "Epoch 143/300\n",
      "37/37 [==============================] - 0s 3ms/step - loss: 0.6221 - accuracy: 0.6459 - val_loss: 0.7177 - val_accuracy: 0.5083\n",
      "Epoch 144/300\n",
      "37/37 [==============================] - 0s 3ms/step - loss: 0.6381 - accuracy: 0.6169 - val_loss: 0.7106 - val_accuracy: 0.5249\n",
      "Epoch 145/300\n",
      "37/37 [==============================] - 0s 3ms/step - loss: 0.6320 - accuracy: 0.6196 - val_loss: 0.7171 - val_accuracy: 0.5359\n",
      "Epoch 146/300\n",
      "37/37 [==============================] - 0s 3ms/step - loss: 0.6333 - accuracy: 0.6432 - val_loss: 0.7168 - val_accuracy: 0.5359\n",
      "Epoch 147/300\n",
      "37/37 [==============================] - 0s 3ms/step - loss: 0.6400 - accuracy: 0.6017 - val_loss: 0.7119 - val_accuracy: 0.5304\n",
      "Epoch 148/300\n",
      "37/37 [==============================] - 0s 3ms/step - loss: 0.6247 - accuracy: 0.6266 - val_loss: 0.7120 - val_accuracy: 0.5249\n",
      "Epoch 149/300\n",
      "37/37 [==============================] - 0s 3ms/step - loss: 0.6453 - accuracy: 0.6127 - val_loss: 0.7110 - val_accuracy: 0.5138\n",
      "Epoch 150/300\n",
      "37/37 [==============================] - 0s 3ms/step - loss: 0.6315 - accuracy: 0.6321 - val_loss: 0.7115 - val_accuracy: 0.5083\n",
      "Epoch 151/300\n",
      "37/37 [==============================] - 0s 3ms/step - loss: 0.6166 - accuracy: 0.6459 - val_loss: 0.7192 - val_accuracy: 0.5138\n",
      "Epoch 152/300\n",
      "37/37 [==============================] - 0s 3ms/step - loss: 0.6328 - accuracy: 0.6376 - val_loss: 0.7114 - val_accuracy: 0.5138\n",
      "Epoch 153/300\n",
      "37/37 [==============================] - 0s 3ms/step - loss: 0.6328 - accuracy: 0.6473 - val_loss: 0.7155 - val_accuracy: 0.4917\n",
      "Epoch 154/300\n",
      "37/37 [==============================] - 0s 3ms/step - loss: 0.6469 - accuracy: 0.6321 - val_loss: 0.7074 - val_accuracy: 0.5138\n",
      "Epoch 155/300\n",
      "37/37 [==============================] - 0s 3ms/step - loss: 0.6333 - accuracy: 0.6183 - val_loss: 0.7132 - val_accuracy: 0.4862\n",
      "Epoch 156/300\n",
      "37/37 [==============================] - 0s 3ms/step - loss: 0.6204 - accuracy: 0.6279 - val_loss: 0.7098 - val_accuracy: 0.5138\n",
      "Epoch 157/300\n",
      "37/37 [==============================] - 0s 3ms/step - loss: 0.6306 - accuracy: 0.6279 - val_loss: 0.7143 - val_accuracy: 0.5193\n",
      "Epoch 158/300\n",
      "37/37 [==============================] - 0s 3ms/step - loss: 0.6216 - accuracy: 0.6432 - val_loss: 0.7171 - val_accuracy: 0.5138\n",
      "Epoch 159/300\n",
      "37/37 [==============================] - 0s 3ms/step - loss: 0.6321 - accuracy: 0.6210 - val_loss: 0.7174 - val_accuracy: 0.5083\n",
      "Epoch 160/300\n",
      "37/37 [==============================] - 0s 3ms/step - loss: 0.6342 - accuracy: 0.6362 - val_loss: 0.7105 - val_accuracy: 0.5083\n",
      "Epoch 161/300\n",
      "37/37 [==============================] - 0s 3ms/step - loss: 0.6418 - accuracy: 0.6169 - val_loss: 0.7107 - val_accuracy: 0.5083\n",
      "Epoch 162/300\n",
      "37/37 [==============================] - 0s 3ms/step - loss: 0.6327 - accuracy: 0.6279 - val_loss: 0.7074 - val_accuracy: 0.5138\n",
      "Epoch 163/300\n",
      "37/37 [==============================] - 0s 3ms/step - loss: 0.6316 - accuracy: 0.6279 - val_loss: 0.7081 - val_accuracy: 0.5138\n",
      "Epoch 164/300\n",
      "37/37 [==============================] - 0s 3ms/step - loss: 0.6301 - accuracy: 0.6390 - val_loss: 0.7056 - val_accuracy: 0.4972\n",
      "Epoch 165/300\n",
      "37/37 [==============================] - 0s 3ms/step - loss: 0.6317 - accuracy: 0.6293 - val_loss: 0.7154 - val_accuracy: 0.5028\n",
      "Epoch 166/300\n",
      "37/37 [==============================] - 0s 3ms/step - loss: 0.6353 - accuracy: 0.6169 - val_loss: 0.7027 - val_accuracy: 0.5193\n",
      "Epoch 167/300\n",
      "37/37 [==============================] - 0s 3ms/step - loss: 0.6310 - accuracy: 0.6086 - val_loss: 0.7144 - val_accuracy: 0.4972\n",
      "Epoch 168/300\n",
      "37/37 [==============================] - 0s 3ms/step - loss: 0.6352 - accuracy: 0.6390 - val_loss: 0.7195 - val_accuracy: 0.5193\n",
      "Epoch 169/300\n",
      "37/37 [==============================] - 0s 3ms/step - loss: 0.6251 - accuracy: 0.6418 - val_loss: 0.7217 - val_accuracy: 0.5359\n",
      "Epoch 170/300\n",
      "37/37 [==============================] - 0s 3ms/step - loss: 0.6361 - accuracy: 0.6224 - val_loss: 0.7079 - val_accuracy: 0.5083\n",
      "Epoch 171/300\n",
      "37/37 [==============================] - 0s 3ms/step - loss: 0.6273 - accuracy: 0.6335 - val_loss: 0.7070 - val_accuracy: 0.5193\n",
      "Epoch 172/300\n",
      "37/37 [==============================] - 0s 3ms/step - loss: 0.6336 - accuracy: 0.6266 - val_loss: 0.7076 - val_accuracy: 0.5028\n",
      "Epoch 173/300\n"
     ]
    },
    {
     "name": "stdout",
     "output_type": "stream",
     "text": [
      "37/37 [==============================] - 0s 3ms/step - loss: 0.6273 - accuracy: 0.6252 - val_loss: 0.7075 - val_accuracy: 0.5470\n",
      "Epoch 174/300\n",
      "37/37 [==============================] - 0s 3ms/step - loss: 0.6308 - accuracy: 0.6155 - val_loss: 0.7125 - val_accuracy: 0.5359\n",
      "Epoch 175/300\n",
      "37/37 [==============================] - 0s 3ms/step - loss: 0.6238 - accuracy: 0.6279 - val_loss: 0.7215 - val_accuracy: 0.5028\n",
      "Epoch 176/300\n",
      "37/37 [==============================] - 0s 3ms/step - loss: 0.6377 - accuracy: 0.6432 - val_loss: 0.7079 - val_accuracy: 0.5083\n",
      "Epoch 177/300\n",
      "37/37 [==============================] - 0s 3ms/step - loss: 0.6183 - accuracy: 0.6667 - val_loss: 0.7147 - val_accuracy: 0.4972\n",
      "Epoch 178/300\n",
      "37/37 [==============================] - 0s 3ms/step - loss: 0.6335 - accuracy: 0.6141 - val_loss: 0.7150 - val_accuracy: 0.4972\n",
      "Epoch 179/300\n",
      "37/37 [==============================] - 0s 3ms/step - loss: 0.6371 - accuracy: 0.6196 - val_loss: 0.7184 - val_accuracy: 0.5138\n",
      "Epoch 180/300\n",
      "37/37 [==============================] - 0s 3ms/step - loss: 0.6237 - accuracy: 0.6279 - val_loss: 0.7190 - val_accuracy: 0.5083\n",
      "Epoch 181/300\n",
      "37/37 [==============================] - 0s 3ms/step - loss: 0.6069 - accuracy: 0.6542 - val_loss: 0.7210 - val_accuracy: 0.5083\n",
      "Epoch 182/300\n",
      "37/37 [==============================] - 0s 3ms/step - loss: 0.6166 - accuracy: 0.6266 - val_loss: 0.7200 - val_accuracy: 0.5083\n",
      "Epoch 183/300\n",
      "37/37 [==============================] - 0s 3ms/step - loss: 0.6313 - accuracy: 0.6183 - val_loss: 0.7187 - val_accuracy: 0.5249\n",
      "Epoch 184/300\n",
      "37/37 [==============================] - 0s 3ms/step - loss: 0.6207 - accuracy: 0.6528 - val_loss: 0.7153 - val_accuracy: 0.5028\n",
      "Epoch 185/300\n",
      "37/37 [==============================] - 0s 3ms/step - loss: 0.6255 - accuracy: 0.6349 - val_loss: 0.7149 - val_accuracy: 0.5138\n",
      "Epoch 186/300\n",
      "37/37 [==============================] - 0s 3ms/step - loss: 0.6425 - accuracy: 0.6155 - val_loss: 0.7082 - val_accuracy: 0.5193\n",
      "Epoch 187/300\n",
      "37/37 [==============================] - 0s 3ms/step - loss: 0.6292 - accuracy: 0.6376 - val_loss: 0.7176 - val_accuracy: 0.5138\n",
      "Epoch 188/300\n",
      "37/37 [==============================] - 0s 3ms/step - loss: 0.6236 - accuracy: 0.6307 - val_loss: 0.7221 - val_accuracy: 0.5193\n",
      "Epoch 189/300\n",
      "37/37 [==============================] - 0s 3ms/step - loss: 0.6275 - accuracy: 0.6432 - val_loss: 0.7208 - val_accuracy: 0.5304\n",
      "Epoch 190/300\n",
      "37/37 [==============================] - 0s 3ms/step - loss: 0.6179 - accuracy: 0.6307 - val_loss: 0.7248 - val_accuracy: 0.5193\n",
      "Epoch 191/300\n",
      "37/37 [==============================] - 0s 3ms/step - loss: 0.6242 - accuracy: 0.6418 - val_loss: 0.7126 - val_accuracy: 0.5138\n",
      "Epoch 192/300\n",
      "37/37 [==============================] - 0s 3ms/step - loss: 0.6285 - accuracy: 0.6266 - val_loss: 0.7197 - val_accuracy: 0.5249\n",
      "Epoch 193/300\n",
      "37/37 [==============================] - 0s 3ms/step - loss: 0.6209 - accuracy: 0.6224 - val_loss: 0.7194 - val_accuracy: 0.5193\n",
      "Epoch 194/300\n",
      "37/37 [==============================] - 0s 3ms/step - loss: 0.6251 - accuracy: 0.6459 - val_loss: 0.7199 - val_accuracy: 0.5138\n",
      "Epoch 195/300\n",
      "37/37 [==============================] - 0s 3ms/step - loss: 0.6192 - accuracy: 0.6279 - val_loss: 0.7282 - val_accuracy: 0.5138\n",
      "Epoch 196/300\n",
      "37/37 [==============================] - 0s 3ms/step - loss: 0.6270 - accuracy: 0.6349 - val_loss: 0.7257 - val_accuracy: 0.5304\n",
      "Epoch 197/300\n",
      "37/37 [==============================] - 0s 3ms/step - loss: 0.6180 - accuracy: 0.6432 - val_loss: 0.7240 - val_accuracy: 0.4917\n",
      "Epoch 198/300\n",
      "37/37 [==============================] - 0s 3ms/step - loss: 0.6236 - accuracy: 0.6473 - val_loss: 0.7197 - val_accuracy: 0.4862\n",
      "Epoch 199/300\n",
      "37/37 [==============================] - 0s 3ms/step - loss: 0.6192 - accuracy: 0.6390 - val_loss: 0.7213 - val_accuracy: 0.5249\n",
      "Epoch 200/300\n",
      "37/37 [==============================] - 0s 3ms/step - loss: 0.6210 - accuracy: 0.6418 - val_loss: 0.7253 - val_accuracy: 0.5249\n",
      "Epoch 201/300\n",
      "37/37 [==============================] - 0s 3ms/step - loss: 0.6108 - accuracy: 0.6653 - val_loss: 0.7218 - val_accuracy: 0.5193\n",
      "Epoch 202/300\n",
      "37/37 [==============================] - 0s 3ms/step - loss: 0.6275 - accuracy: 0.6321 - val_loss: 0.7152 - val_accuracy: 0.5249\n",
      "Epoch 203/300\n",
      "37/37 [==============================] - 0s 3ms/step - loss: 0.6232 - accuracy: 0.6349 - val_loss: 0.7174 - val_accuracy: 0.5359\n",
      "Epoch 204/300\n",
      "37/37 [==============================] - 0s 3ms/step - loss: 0.6171 - accuracy: 0.6362 - val_loss: 0.7181 - val_accuracy: 0.5304\n",
      "Epoch 205/300\n",
      "37/37 [==============================] - 0s 3ms/step - loss: 0.6248 - accuracy: 0.6155 - val_loss: 0.7181 - val_accuracy: 0.5249\n",
      "Epoch 206/300\n",
      "37/37 [==============================] - 0s 3ms/step - loss: 0.6297 - accuracy: 0.6335 - val_loss: 0.7167 - val_accuracy: 0.5414\n",
      "Epoch 207/300\n",
      "37/37 [==============================] - 0s 3ms/step - loss: 0.6134 - accuracy: 0.6404 - val_loss: 0.7159 - val_accuracy: 0.5304\n",
      "Epoch 208/300\n",
      "37/37 [==============================] - 0s 3ms/step - loss: 0.6177 - accuracy: 0.6335 - val_loss: 0.7185 - val_accuracy: 0.5304\n",
      "Epoch 209/300\n",
      "37/37 [==============================] - 0s 3ms/step - loss: 0.6293 - accuracy: 0.6528 - val_loss: 0.7216 - val_accuracy: 0.5249\n",
      "Epoch 210/300\n",
      "37/37 [==============================] - 0s 3ms/step - loss: 0.6122 - accuracy: 0.6625 - val_loss: 0.7251 - val_accuracy: 0.5138\n",
      "Epoch 211/300\n",
      "37/37 [==============================] - 0s 3ms/step - loss: 0.6129 - accuracy: 0.6279 - val_loss: 0.7241 - val_accuracy: 0.5414\n",
      "Epoch 212/300\n",
      "37/37 [==============================] - 0s 3ms/step - loss: 0.6375 - accuracy: 0.6100 - val_loss: 0.7321 - val_accuracy: 0.4917\n",
      "Epoch 213/300\n",
      "37/37 [==============================] - 0s 3ms/step - loss: 0.6240 - accuracy: 0.6349 - val_loss: 0.7194 - val_accuracy: 0.5138\n",
      "Epoch 214/300\n",
      "37/37 [==============================] - 0s 3ms/step - loss: 0.6336 - accuracy: 0.6473 - val_loss: 0.7207 - val_accuracy: 0.5193\n",
      "Epoch 215/300\n",
      "37/37 [==============================] - 0s 3ms/step - loss: 0.6178 - accuracy: 0.6155 - val_loss: 0.7222 - val_accuracy: 0.5249\n",
      "Epoch 216/300\n",
      "37/37 [==============================] - 0s 3ms/step - loss: 0.6236 - accuracy: 0.6293 - val_loss: 0.7303 - val_accuracy: 0.5138\n",
      "Epoch 217/300\n",
      "37/37 [==============================] - 0s 3ms/step - loss: 0.6081 - accuracy: 0.6307 - val_loss: 0.7280 - val_accuracy: 0.5138\n",
      "Epoch 218/300\n",
      "37/37 [==============================] - 0s 3ms/step - loss: 0.6293 - accuracy: 0.6321 - val_loss: 0.7253 - val_accuracy: 0.5249\n",
      "Epoch 219/300\n",
      "37/37 [==============================] - 0s 3ms/step - loss: 0.6027 - accuracy: 0.6390 - val_loss: 0.7276 - val_accuracy: 0.5249\n",
      "Epoch 220/300\n",
      "37/37 [==============================] - 0s 3ms/step - loss: 0.6070 - accuracy: 0.6584 - val_loss: 0.7199 - val_accuracy: 0.5414\n",
      "Epoch 221/300\n",
      "37/37 [==============================] - 0s 3ms/step - loss: 0.6177 - accuracy: 0.6321 - val_loss: 0.7167 - val_accuracy: 0.5304\n",
      "Epoch 222/300\n",
      "37/37 [==============================] - 0s 3ms/step - loss: 0.6245 - accuracy: 0.6307 - val_loss: 0.7244 - val_accuracy: 0.5193\n",
      "Epoch 223/300\n",
      "37/37 [==============================] - 0s 3ms/step - loss: 0.6197 - accuracy: 0.6362 - val_loss: 0.7223 - val_accuracy: 0.5304\n",
      "Epoch 224/300\n",
      "37/37 [==============================] - 0s 3ms/step - loss: 0.6110 - accuracy: 0.6349 - val_loss: 0.7177 - val_accuracy: 0.5193\n",
      "Epoch 225/300\n",
      "37/37 [==============================] - 0s 3ms/step - loss: 0.6236 - accuracy: 0.6293 - val_loss: 0.7217 - val_accuracy: 0.5249\n",
      "Epoch 226/300\n",
      "37/37 [==============================] - 0s 3ms/step - loss: 0.6196 - accuracy: 0.6349 - val_loss: 0.7161 - val_accuracy: 0.5193\n",
      "Epoch 227/300\n",
      "37/37 [==============================] - 0s 3ms/step - loss: 0.6109 - accuracy: 0.6542 - val_loss: 0.7275 - val_accuracy: 0.5580\n",
      "Epoch 228/300\n",
      "37/37 [==============================] - 0s 3ms/step - loss: 0.6079 - accuracy: 0.6611 - val_loss: 0.7157 - val_accuracy: 0.5138\n",
      "Epoch 229/300\n",
      "37/37 [==============================] - 0s 3ms/step - loss: 0.6114 - accuracy: 0.6376 - val_loss: 0.7210 - val_accuracy: 0.5304\n",
      "Epoch 230/300\n"
     ]
    },
    {
     "name": "stdout",
     "output_type": "stream",
     "text": [
      "37/37 [==============================] - 0s 3ms/step - loss: 0.6176 - accuracy: 0.6224 - val_loss: 0.7250 - val_accuracy: 0.5414\n",
      "Epoch 231/300\n",
      "37/37 [==============================] - 0s 3ms/step - loss: 0.6236 - accuracy: 0.6362 - val_loss: 0.7223 - val_accuracy: 0.5249\n",
      "Epoch 232/300\n",
      "37/37 [==============================] - 0s 3ms/step - loss: 0.6137 - accuracy: 0.6501 - val_loss: 0.7268 - val_accuracy: 0.5028\n",
      "Epoch 233/300\n",
      "37/37 [==============================] - 0s 3ms/step - loss: 0.6275 - accuracy: 0.6100 - val_loss: 0.7284 - val_accuracy: 0.5028\n",
      "Epoch 234/300\n",
      "37/37 [==============================] - 0s 3ms/step - loss: 0.6127 - accuracy: 0.6501 - val_loss: 0.7300 - val_accuracy: 0.5304\n",
      "Epoch 235/300\n",
      "37/37 [==============================] - 0s 3ms/step - loss: 0.6257 - accuracy: 0.6252 - val_loss: 0.7268 - val_accuracy: 0.5249\n",
      "Epoch 236/300\n",
      "37/37 [==============================] - 0s 3ms/step - loss: 0.6272 - accuracy: 0.6418 - val_loss: 0.7210 - val_accuracy: 0.5414\n",
      "Epoch 237/300\n",
      "37/37 [==============================] - 0s 3ms/step - loss: 0.6169 - accuracy: 0.6459 - val_loss: 0.7230 - val_accuracy: 0.5304\n",
      "Epoch 238/300\n",
      "37/37 [==============================] - 0s 3ms/step - loss: 0.6222 - accuracy: 0.6473 - val_loss: 0.7220 - val_accuracy: 0.5193\n",
      "Epoch 239/300\n",
      "37/37 [==============================] - 0s 3ms/step - loss: 0.6115 - accuracy: 0.6556 - val_loss: 0.7222 - val_accuracy: 0.5249\n",
      "Epoch 240/300\n",
      "37/37 [==============================] - 0s 3ms/step - loss: 0.6008 - accuracy: 0.6473 - val_loss: 0.7347 - val_accuracy: 0.5083\n",
      "Epoch 241/300\n",
      "37/37 [==============================] - 0s 3ms/step - loss: 0.6130 - accuracy: 0.6556 - val_loss: 0.7212 - val_accuracy: 0.5249\n",
      "Epoch 242/300\n",
      "37/37 [==============================] - 0s 3ms/step - loss: 0.6142 - accuracy: 0.6321 - val_loss: 0.7204 - val_accuracy: 0.5138\n",
      "Epoch 243/300\n",
      "37/37 [==============================] - 0s 3ms/step - loss: 0.6113 - accuracy: 0.6210 - val_loss: 0.7319 - val_accuracy: 0.5193\n",
      "Epoch 244/300\n",
      "37/37 [==============================] - 0s 3ms/step - loss: 0.6121 - accuracy: 0.6349 - val_loss: 0.7275 - val_accuracy: 0.5138\n",
      "Epoch 245/300\n",
      "37/37 [==============================] - 0s 3ms/step - loss: 0.6183 - accuracy: 0.6266 - val_loss: 0.7221 - val_accuracy: 0.4972\n",
      "Epoch 246/300\n",
      "37/37 [==============================] - 0s 3ms/step - loss: 0.6054 - accuracy: 0.6445 - val_loss: 0.7303 - val_accuracy: 0.5083\n",
      "Epoch 247/300\n",
      "37/37 [==============================] - 0s 3ms/step - loss: 0.6131 - accuracy: 0.6376 - val_loss: 0.7261 - val_accuracy: 0.5138\n",
      "Epoch 248/300\n",
      "37/37 [==============================] - 0s 3ms/step - loss: 0.6102 - accuracy: 0.6390 - val_loss: 0.7337 - val_accuracy: 0.4972\n",
      "Epoch 249/300\n",
      "37/37 [==============================] - 0s 3ms/step - loss: 0.6247 - accuracy: 0.6432 - val_loss: 0.7209 - val_accuracy: 0.5138\n",
      "Epoch 250/300\n",
      "37/37 [==============================] - 0s 3ms/step - loss: 0.6128 - accuracy: 0.6293 - val_loss: 0.7261 - val_accuracy: 0.5028\n",
      "Epoch 251/300\n",
      "37/37 [==============================] - 0s 3ms/step - loss: 0.6190 - accuracy: 0.6238 - val_loss: 0.7214 - val_accuracy: 0.5083\n",
      "Epoch 252/300\n",
      "37/37 [==============================] - 0s 3ms/step - loss: 0.6027 - accuracy: 0.6542 - val_loss: 0.7315 - val_accuracy: 0.5083\n",
      "Epoch 253/300\n",
      "37/37 [==============================] - 0s 3ms/step - loss: 0.6087 - accuracy: 0.6515 - val_loss: 0.7240 - val_accuracy: 0.5304\n",
      "Epoch 254/300\n",
      "37/37 [==============================] - 0s 3ms/step - loss: 0.6042 - accuracy: 0.6349 - val_loss: 0.7300 - val_accuracy: 0.5249\n",
      "Epoch 255/300\n",
      "37/37 [==============================] - 0s 3ms/step - loss: 0.6195 - accuracy: 0.6349 - val_loss: 0.7322 - val_accuracy: 0.4917\n",
      "Epoch 256/300\n",
      "37/37 [==============================] - 0s 3ms/step - loss: 0.6053 - accuracy: 0.6404 - val_loss: 0.7322 - val_accuracy: 0.5249\n",
      "Epoch 257/300\n",
      "37/37 [==============================] - 0s 3ms/step - loss: 0.6072 - accuracy: 0.6376 - val_loss: 0.7379 - val_accuracy: 0.5138\n",
      "Epoch 258/300\n",
      "37/37 [==============================] - 0s 3ms/step - loss: 0.5903 - accuracy: 0.6667 - val_loss: 0.7405 - val_accuracy: 0.5138\n",
      "Epoch 259/300\n",
      "37/37 [==============================] - 0s 3ms/step - loss: 0.6018 - accuracy: 0.6390 - val_loss: 0.7357 - val_accuracy: 0.5249\n",
      "Epoch 260/300\n",
      "37/37 [==============================] - 0s 3ms/step - loss: 0.6020 - accuracy: 0.6556 - val_loss: 0.7472 - val_accuracy: 0.4972\n",
      "Epoch 261/300\n",
      "37/37 [==============================] - 0s 3ms/step - loss: 0.6064 - accuracy: 0.6335 - val_loss: 0.7297 - val_accuracy: 0.5138\n",
      "Epoch 262/300\n",
      "37/37 [==============================] - 0s 3ms/step - loss: 0.6033 - accuracy: 0.6390 - val_loss: 0.7343 - val_accuracy: 0.5193\n",
      "Epoch 263/300\n",
      "37/37 [==============================] - 0s 3ms/step - loss: 0.6009 - accuracy: 0.6625 - val_loss: 0.7433 - val_accuracy: 0.5083\n",
      "Epoch 264/300\n",
      "37/37 [==============================] - 0s 3ms/step - loss: 0.6074 - accuracy: 0.6584 - val_loss: 0.7326 - val_accuracy: 0.5249\n",
      "Epoch 265/300\n",
      "37/37 [==============================] - 0s 3ms/step - loss: 0.6161 - accuracy: 0.6349 - val_loss: 0.7193 - val_accuracy: 0.5359\n",
      "Epoch 266/300\n",
      "37/37 [==============================] - 0s 3ms/step - loss: 0.6037 - accuracy: 0.6487 - val_loss: 0.7398 - val_accuracy: 0.5359\n",
      "Epoch 267/300\n",
      "37/37 [==============================] - 0s 3ms/step - loss: 0.5886 - accuracy: 0.6680 - val_loss: 0.7396 - val_accuracy: 0.5028\n",
      "Epoch 268/300\n",
      "37/37 [==============================] - 0s 3ms/step - loss: 0.5988 - accuracy: 0.6459 - val_loss: 0.7542 - val_accuracy: 0.4972\n",
      "Epoch 269/300\n",
      "37/37 [==============================] - 0s 3ms/step - loss: 0.6046 - accuracy: 0.6639 - val_loss: 0.7356 - val_accuracy: 0.4972\n",
      "Epoch 270/300\n",
      "37/37 [==============================] - 0s 3ms/step - loss: 0.6096 - accuracy: 0.6321 - val_loss: 0.7366 - val_accuracy: 0.5138\n",
      "Epoch 271/300\n",
      "37/37 [==============================] - 0s 3ms/step - loss: 0.6087 - accuracy: 0.6694 - val_loss: 0.7416 - val_accuracy: 0.5414\n",
      "Epoch 272/300\n",
      "37/37 [==============================] - 0s 3ms/step - loss: 0.6074 - accuracy: 0.6266 - val_loss: 0.7222 - val_accuracy: 0.5138\n",
      "Epoch 273/300\n",
      "37/37 [==============================] - 0s 3ms/step - loss: 0.5864 - accuracy: 0.6694 - val_loss: 0.7268 - val_accuracy: 0.4807\n",
      "Epoch 274/300\n",
      "37/37 [==============================] - 0s 3ms/step - loss: 0.6000 - accuracy: 0.6418 - val_loss: 0.7407 - val_accuracy: 0.4972\n",
      "Epoch 275/300\n",
      "37/37 [==============================] - 0s 3ms/step - loss: 0.6107 - accuracy: 0.6570 - val_loss: 0.7218 - val_accuracy: 0.5138\n",
      "Epoch 276/300\n",
      "37/37 [==============================] - 0s 3ms/step - loss: 0.6075 - accuracy: 0.6307 - val_loss: 0.7294 - val_accuracy: 0.5028\n",
      "Epoch 277/300\n",
      "37/37 [==============================] - 0s 3ms/step - loss: 0.5984 - accuracy: 0.6293 - val_loss: 0.7403 - val_accuracy: 0.5193\n",
      "Epoch 278/300\n",
      "37/37 [==============================] - 0s 3ms/step - loss: 0.5987 - accuracy: 0.6542 - val_loss: 0.7365 - val_accuracy: 0.5138\n",
      "Epoch 279/300\n",
      "37/37 [==============================] - 0s 3ms/step - loss: 0.6157 - accuracy: 0.6321 - val_loss: 0.7273 - val_accuracy: 0.5028\n",
      "Epoch 280/300\n",
      "37/37 [==============================] - 0s 3ms/step - loss: 0.6054 - accuracy: 0.6556 - val_loss: 0.7413 - val_accuracy: 0.5414\n",
      "Epoch 281/300\n",
      "37/37 [==============================] - 0s 3ms/step - loss: 0.6038 - accuracy: 0.6307 - val_loss: 0.7441 - val_accuracy: 0.5083\n",
      "Epoch 282/300\n",
      "37/37 [==============================] - 0s 3ms/step - loss: 0.5997 - accuracy: 0.6445 - val_loss: 0.7337 - val_accuracy: 0.5138\n",
      "Epoch 283/300\n",
      "37/37 [==============================] - 0s 3ms/step - loss: 0.5922 - accuracy: 0.6515 - val_loss: 0.7528 - val_accuracy: 0.5193\n",
      "Epoch 284/300\n",
      "37/37 [==============================] - 0s 3ms/step - loss: 0.6016 - accuracy: 0.6404 - val_loss: 0.7472 - val_accuracy: 0.5249\n",
      "Epoch 285/300\n",
      "37/37 [==============================] - 0s 3ms/step - loss: 0.5959 - accuracy: 0.6639 - val_loss: 0.7415 - val_accuracy: 0.4972\n",
      "Epoch 286/300\n",
      "37/37 [==============================] - 0s 3ms/step - loss: 0.6139 - accuracy: 0.6362 - val_loss: 0.7388 - val_accuracy: 0.5359\n",
      "Epoch 287/300\n"
     ]
    },
    {
     "name": "stdout",
     "output_type": "stream",
     "text": [
      "37/37 [==============================] - 0s 3ms/step - loss: 0.5953 - accuracy: 0.6584 - val_loss: 0.7435 - val_accuracy: 0.5138\n",
      "Epoch 288/300\n",
      "37/37 [==============================] - 0s 3ms/step - loss: 0.5889 - accuracy: 0.6501 - val_loss: 0.7494 - val_accuracy: 0.5249\n",
      "Epoch 289/300\n",
      "37/37 [==============================] - 0s 3ms/step - loss: 0.5963 - accuracy: 0.6667 - val_loss: 0.7415 - val_accuracy: 0.5249\n",
      "Epoch 290/300\n",
      "37/37 [==============================] - 0s 3ms/step - loss: 0.5926 - accuracy: 0.6445 - val_loss: 0.7574 - val_accuracy: 0.5083\n",
      "Epoch 291/300\n",
      "37/37 [==============================] - 0s 3ms/step - loss: 0.6089 - accuracy: 0.6528 - val_loss: 0.7610 - val_accuracy: 0.5083\n",
      "Epoch 292/300\n",
      "37/37 [==============================] - 0s 3ms/step - loss: 0.5902 - accuracy: 0.6694 - val_loss: 0.7354 - val_accuracy: 0.4972\n",
      "Epoch 293/300\n",
      "37/37 [==============================] - 0s 3ms/step - loss: 0.6068 - accuracy: 0.6445 - val_loss: 0.7404 - val_accuracy: 0.5193\n",
      "Epoch 294/300\n",
      "37/37 [==============================] - 0s 3ms/step - loss: 0.6045 - accuracy: 0.6501 - val_loss: 0.7337 - val_accuracy: 0.5028\n",
      "Epoch 295/300\n",
      "37/37 [==============================] - 0s 3ms/step - loss: 0.5964 - accuracy: 0.6653 - val_loss: 0.7304 - val_accuracy: 0.5028\n",
      "Epoch 296/300\n",
      "37/37 [==============================] - 0s 3ms/step - loss: 0.6059 - accuracy: 0.6404 - val_loss: 0.7363 - val_accuracy: 0.5304\n",
      "Epoch 297/300\n",
      "37/37 [==============================] - 0s 3ms/step - loss: 0.6038 - accuracy: 0.6404 - val_loss: 0.7329 - val_accuracy: 0.5470\n",
      "Epoch 298/300\n",
      "37/37 [==============================] - 0s 3ms/step - loss: 0.6115 - accuracy: 0.6418 - val_loss: 0.7297 - val_accuracy: 0.5138\n",
      "Epoch 299/300\n",
      "37/37 [==============================] - 0s 3ms/step - loss: 0.6000 - accuracy: 0.6708 - val_loss: 0.7396 - val_accuracy: 0.5359\n",
      "Epoch 300/300\n",
      "37/37 [==============================] - 0s 3ms/step - loss: 0.6078 - accuracy: 0.6528 - val_loss: 0.7362 - val_accuracy: 0.5359\n"
     ]
    },
    {
     "data": {
      "text/plain": [
       "<keras.callbacks.History at 0x1fc1a7895b0>"
      ]
     },
     "execution_count": 18,
     "metadata": {},
     "output_type": "execute_result"
    }
   ],
   "source": [
    "model.fit(train_ds, epochs=300, validation_data = val_ds)"
   ]
  },
  {
   "cell_type": "code",
   "execution_count": 19,
   "metadata": {},
   "outputs": [
    {
     "name": "stdout",
     "output_type": "stream",
     "text": [
      "<class 'pandas.core.frame.DataFrame'>\n",
      "RangeIndex: 904 entries, 0 to 903\n",
      "Data columns (total 7 columns):\n",
      " #   Column              Non-Null Count  Dtype\n",
      "---  ------              --------------  -----\n",
      " 0   gender              904 non-null    int64\n",
      " 1   age                 904 non-null    int64\n",
      " 2   workout_experience  904 non-null    int64\n",
      " 3   workout_time        904 non-null    int64\n",
      " 4   weight              904 non-null    int64\n",
      " 5   height              904 non-null    int64\n",
      " 6   fitness_goal        904 non-null    int64\n",
      "dtypes: int64(7)\n",
      "memory usage: 49.6 KB\n"
     ]
    }
   ],
   "source": [
    "df.info()"
   ]
  },
  {
   "cell_type": "code",
   "execution_count": 62,
   "metadata": {},
   "outputs": [],
   "source": [
    "input_data = {\n",
    "    'gender' : 1,\n",
    "    'age'    :35,\n",
    "    'workout_experience' : 3,\n",
    "    'workout_time' : 60,\n",
    "    'weight' : 80,\n",
    "    'height' : 170,\n",
    "}"
   ]
  },
  {
   "cell_type": "code",
   "execution_count": 63,
   "metadata": {},
   "outputs": [],
   "source": [
    "input_dict = {}"
   ]
  },
  {
   "cell_type": "code",
   "execution_count": 64,
   "metadata": {},
   "outputs": [],
   "source": [
    "for feature, value in input_data.items() :\n",
    "    input_dict[feature] = tf.convert_to_tensor([value])"
   ]
  },
  {
   "cell_type": "code",
   "execution_count": 65,
   "metadata": {},
   "outputs": [
    {
     "data": {
      "text/plain": [
       "{'gender': <tf.Tensor: shape=(1,), dtype=int32, numpy=array([1])>,\n",
       " 'age': <tf.Tensor: shape=(1,), dtype=int32, numpy=array([35])>,\n",
       " 'workout_experience': <tf.Tensor: shape=(1,), dtype=int32, numpy=array([3])>,\n",
       " 'workout_time': <tf.Tensor: shape=(1,), dtype=int32, numpy=array([60])>,\n",
       " 'weight': <tf.Tensor: shape=(1,), dtype=int32, numpy=array([80])>,\n",
       " 'height': <tf.Tensor: shape=(1,), dtype=int32, numpy=array([170])>}"
      ]
     },
     "execution_count": 65,
     "metadata": {},
     "output_type": "execute_result"
    }
   ],
   "source": [
    "input_dict"
   ]
  },
  {
   "cell_type": "code",
   "execution_count": 66,
   "metadata": {},
   "outputs": [
    {
     "name": "stdout",
     "output_type": "stream",
     "text": [
      "1/1 [==============================] - 0s 33ms/step\n"
     ]
    }
   ],
   "source": [
    "predictions = model.predict(input_dict)"
   ]
  },
  {
   "cell_type": "code",
   "execution_count": 67,
   "metadata": {},
   "outputs": [
    {
     "data": {
      "text/plain": [
       "array([[0.51008093]], dtype=float32)"
      ]
     },
     "execution_count": 67,
     "metadata": {},
     "output_type": "execute_result"
    }
   ],
   "source": [
    "predictions"
   ]
  },
  {
   "cell_type": "code",
   "execution_count": 68,
   "metadata": {},
   "outputs": [
    {
     "name": "stdout",
     "output_type": "stream",
     "text": [
      "You should do muscle up !\n"
     ]
    }
   ],
   "source": [
    "if predictions[0][0] >= 0.5 :\n",
    "    print(\"You should do muscle up !\")\n",
    "else :\n",
    "    print(\"You should do weight loss !\")"
   ]
  },
  {
   "cell_type": "code",
   "execution_count": null,
   "metadata": {},
   "outputs": [],
   "source": []
  }
 ],
 "metadata": {
  "colab": {
   "authorship_tag": "ABX9TyOpKk+85qYG42HGf+43aaAb",
   "provenance": []
  },
  "kernelspec": {
   "display_name": "Python 3 (ipykernel)",
   "language": "python",
   "name": "python3"
  },
  "language_info": {
   "codemirror_mode": {
    "name": "ipython",
    "version": 3
   },
   "file_extension": ".py",
   "mimetype": "text/x-python",
   "name": "python",
   "nbconvert_exporter": "python",
   "pygments_lexer": "ipython3",
   "version": "3.9.4"
  }
 },
 "nbformat": 4,
 "nbformat_minor": 1
}
